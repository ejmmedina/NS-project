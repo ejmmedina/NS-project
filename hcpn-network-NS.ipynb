{
 "cells": [
  {
   "cell_type": "markdown",
   "metadata": {},
   "source": [
    "# Network Analysis of the Primary Healthcare Facility Referral System in the Philippines\n",
    "##### By: Elijah Justin Medina and Jomilynn Rebanal\n",
    "\n",
    "This project aims to analyze to referral system among health units in the Philippines in order to identify the characteristics and consequently, the robustness of this system. The main data used in this analysis are geospatial coordinates of different health units in the network &mdash; barangay health stations (BHS), rural health units (RHU), and hospitals. The network is supplemented with bed capacity information of the different health units. The aforementioned data was obtained from the DOH Data Collect app v2.1 and the National Health Facility Registry."
   ]
  },
  {
   "cell_type": "markdown",
   "metadata": {},
   "source": [
    "##### Preliminaries"
   ]
  },
  {
   "cell_type": "code",
   "execution_count": 4,
   "metadata": {
    "ExecuteTime": {
     "end_time": "2020-08-03T13:52:37.860311Z",
     "start_time": "2020-08-03T13:52:37.855324Z"
    }
   },
   "outputs": [],
   "source": [
    "import pandas as pd \n",
    "import numpy as np \n",
    "from glob import glob \n",
    "import sys\n",
    "import locale\n",
    "from geopy.distance import vincenty\n",
    "import warnings\n",
    "\n",
    "warnings.filterwarnings(\"ignore\")\n",
    "np.set_printoptions(threshold=sys.maxsize, precision=2) \n",
    "pd.set_option('float_format', '{:,.2f}'.format)\n",
    "pd.set_option('display.max_rows', 1000)"
   ]
  },
  {
   "cell_type": "markdown",
   "metadata": {},
   "source": [
    "## Data Processing and Exploratory Data Analysis\n",
    "Before performing the analysis, the data must be cleaned to standardize text and minimize effect of errors (e.g. typographical, encoding, outliers). The goal of this processing is to prepare the data for network analysis."
   ]
  },
  {
   "cell_type": "markdown",
   "metadata": {},
   "source": [
    "### Merging of multiple, separated files"
   ]
  },
  {
   "cell_type": "markdown",
   "metadata": {},
   "source": [
    "##### Geographic Coordinates (Health Facility names and coordinates)"
   ]
  },
  {
   "cell_type": "code",
   "execution_count": 122,
   "metadata": {
    "ExecuteTime": {
     "end_time": "2020-03-10T12:49:05.277261Z",
     "start_time": "2020-03-10T12:49:05.269308Z"
    }
   },
   "outputs": [],
   "source": [
    "files = glob('Geographic Coordinates/*.xlsx')\n",
    "cols = ['Health Facility Code Short', 'Facility Name', 'Health Facility Type',\n",
    "        'Region Name                                             ', \n",
    "        'Province Name ', 'City/Municipality Name', 'Barangay Name', \n",
    "        'Latitude', 'Longitude', 'Service Capability', 'Licensing Status', \n",
    "        'Bed Capacity']\n",
    "\n",
    "HF_list = pd.DataFrame()\n",
    "        \n",
    "for f in files:\n",
    "    data = pd.read_excel(f, usecols=cols)\n",
    "    HF_list = HF_list.append(data)"
   ]
  },
  {
   "cell_type": "code",
   "execution_count": 123,
   "metadata": {
    "ExecuteTime": {
     "end_time": "2020-03-10T12:49:05.776642Z",
     "start_time": "2020-03-10T12:49:05.768638Z"
    }
   },
   "outputs": [],
   "source": [
    "HF_list.isnull().sum() # Verify mismatched fields across different excel files"
   ]
  },
  {
   "cell_type": "code",
   "execution_count": 124,
   "metadata": {
    "ExecuteTime": {
     "end_time": "2020-03-10T12:49:06.268012Z",
     "start_time": "2020-03-10T12:49:06.259985Z"
    }
   },
   "outputs": [],
   "source": [
    "HF_list.columns = ['SHORT_HFCODE', 'HF_NAME', 'HF_TYPE', 'REGION', 'PROVINCE', \n",
    "                  'MUNI_CITY', 'BRGY', 'LAT', 'LONG', 'SERVICE_CAP', \n",
    "                  'LICENSING', 'BED_CAP']\n",
    "\n",
    "str_cols = ['HF_NAME', 'HF_TYPE', 'REGION', 'PROVINCE', 'MUNI_CITY', 'BRGY', \n",
    "            'SERVICE_CAP', 'LICENSING', 'BED_CAP']\n",
    "\n",
    "HF_list[str_cols] = HF_list[str_cols].fillna('UNKNOWN').apply(lambda x: x.str.upper().str.strip())\n",
    "HF_list['SHORT_HFCODE'] = HF_list['SHORT_HFCODE'].astype(int)\n",
    "\n",
    "HF_list.to_excel('cleaned/HFList_cleaned.xlsx') #Store the combined dataframe"
   ]
  },
  {
   "cell_type": "markdown",
   "metadata": {},
   "source": [
    "##### Rural Health Unit"
   ]
  },
  {
   "cell_type": "code",
   "execution_count": 127,
   "metadata": {
    "ExecuteTime": {
     "end_time": "2020-03-10T12:49:07.746989Z",
     "start_time": "2020-03-10T12:49:07.742995Z"
    }
   },
   "outputs": [],
   "source": [
    "rhu = pd.read_excel('rhu2018.xlsx', sheet_name='MAIN', na_values='None')"
   ]
  },
  {
   "cell_type": "code",
   "execution_count": 128,
   "metadata": {
    "ExecuteTime": {
     "end_time": "2020-03-10T12:49:08.242363Z",
     "start_time": "2020-03-10T12:49:08.234372Z"
    }
   },
   "outputs": [],
   "source": [
    "str_cols = ['HF_NAME', 'REGION', 'PROVINCE', 'MUNI_CITY', 'BRGY',\n",
    "            'STREET_NAME', 'BUILDING', 'FACILITY_HEAD', 'DETACHED', 'BRGYS', \n",
    "            'SDN', 'SDN_NAME', 'REF1_NAME', 'REF1_SAMEPROV', \n",
    "            'REF1_REF1A', 'REF1A_SAMEPROV', 'REF2_NAME', 'REF3_NAME',  \n",
    "            'AMB_ACCESS', 'AMB_OWN', 'PHIC_ACC', 'PHIC_PACKAGES', 'PHIC_MCP', \n",
    "            'PHIC_PCB1', 'PHIC_MALARIA', 'PHIC_TBDOTS', 'PHIC_ABTC', \n",
    "            'PHIC_NCP', 'PHIC_OTH']\n",
    "code_cols = ['id', 'REF1_CODE', 'REF2_CODE', 'REF3_CODE']\n",
    "float_cols = ['REF1_DIST', 'REF1_TRAVEL', 'REF2_DIST', 'REF2_TRAVEL',\n",
    "             'REF3_DIST', 'REF3_TRAVEL']\n",
    "# int_cols = ['id', 'BHS_COUNT','CATCHMENT', 'REF1_CODE', 'REF2_CODE', \n",
    "#             'REF3_CODE',  'MD_NO', 'MD_AUG', 'MD_TOTAL','MD_FT', 'MD_PT', \n",
    "#             'MD_VISIT', 'RN_NO', 'RN_AUG', 'RN_TOTAL', 'RN_FT', 'RN_PT', \n",
    "#             'RN_VISIT', 'MW_NO', 'MW_AUG', 'MW_TOTAL', 'MW_FT', 'MW_PT', \n",
    "#             'MW_VISIT']\n",
    "\n",
    "rhu[str_cols] = rhu[str_cols].apply(lambda x: x.str.upper().str.strip())\n",
    "rhu[code_cols] = rhu[code_cols].fillna(0).astype(int)\n",
    "rhu[float_cols] = rhu[float_cols].astype(float)\n",
    "\n",
    "rhu[str_cols] = rhu[str_cols].fillna('UNKNOWN')\n",
    "\n",
    "# Extract short code for merging with the Geographic Coordinates files\n",
    "rhu['SHORT_HFCODE'] = rhu['HF_CODE'].apply(lambda x: int(x[-6:]))\n",
    "\n",
    "rhu.to_excel('cleaned/rhu_cleaned.xlsx')"
   ]
  },
  {
   "cell_type": "markdown",
   "metadata": {
    "ExecuteTime": {
     "end_time": "2020-03-10T12:49:09.235805Z",
     "start_time": "2020-03-10T12:49:09.227809Z"
    }
   },
   "source": [
    "### Impute missing information from other tables\n",
    "As the data is being processed from different tables, the other tables can be used to fill some missing information. Aside from imputing missing information, coordinates outside the Philippines are identified."
   ]
  },
  {
   "cell_type": "code",
   "execution_count": 7,
   "metadata": {
    "ExecuteTime": {
     "end_time": "2020-08-10T18:34:40.043551Z",
     "start_time": "2020-08-10T18:34:40.039563Z"
    }
   },
   "outputs": [],
   "source": [
    "# Bounding box for the Philippines (manually extracted from Google).\n",
    "long_min, lat_min, long_max, lat_max = (117.17427453, 5.58100332277, 126.537423944, 18.5052273625)"
   ]
  },
  {
   "cell_type": "code",
   "execution_count": 8,
   "metadata": {
    "ExecuteTime": {
     "end_time": "2020-08-10T18:34:47.943427Z",
     "start_time": "2020-08-10T18:34:40.593814Z"
    }
   },
   "outputs": [],
   "source": [
    "HF_list = pd.read_excel('cleaned/HFList_cleaned.xlsx')\n",
    "\n",
    "# Groupby the data to account for duplicate names for different codes\n",
    "HF_dict = HF_list[['HF_NAME', 'SHORT_HFCODE']].groupby('HF_NAME')['SHORT_HFCODE'].apply(set).to_dict()\n",
    "latlong_dict = HF_list[['SHORT_HFCODE', 'LAT', 'LONG']].set_index('SHORT_HFCODE').to_dict()\n"
   ]
  },
  {
   "cell_type": "markdown",
   "metadata": {},
   "source": [
    "#### RHU"
   ]
  },
  {
   "cell_type": "code",
   "execution_count": 9,
   "metadata": {
    "ExecuteTime": {
     "end_time": "2020-08-10T18:34:53.260437Z",
     "start_time": "2020-08-10T18:34:52.040575Z"
    }
   },
   "outputs": [],
   "source": [
    "rhu = pd.read_excel('cleaned/rhu_cleaned.xlsx')\n",
    "\n",
    "# Create copies of the dataframe for later use\n",
    "rhu2 = rhu.copy()\n",
    "rhu3 = rhu.copy()"
   ]
  },
  {
   "cell_type": "markdown",
   "metadata": {},
   "source": [
    "##### Fill missing REF1 Codes"
   ]
  },
  {
   "cell_type": "code",
   "execution_count": 10,
   "metadata": {
    "ExecuteTime": {
     "end_time": "2020-08-10T18:34:54.770202Z",
     "start_time": "2020-08-10T18:34:54.708368Z"
    }
   },
   "outputs": [],
   "source": [
    "cols = ['id', 'HF_CODE', 'SHORT_HFCODE', 'HF_NAME', 'REGION', 'PROVINCE', 'MUNI_CITY', 'BRGY',\n",
    "            'STREET_NAME', 'BUILDING', 'FACILITY_HEAD', 'DETACHED', 'BRGYS', \n",
    "            'SDN', 'SDN_NAME', 'REF1_NAME', 'REF1_SAMEPROV', \n",
    "            'REF1_REF1A', 'REF1A_SAMEPROV', 'REF2_NAME', 'REF3_NAME',  \n",
    "            'AMB_ACCESS', 'AMB_OWN', 'PHIC_ACC', 'PHIC_PACKAGES', 'PHIC_MCP', \n",
    "            'PHIC_PCB1', 'PHIC_MALARIA', 'PHIC_TBDOTS', 'PHIC_ABTC', \n",
    "            'PHIC_NCP', 'PHIC_OTH', 'REF1_CODE', 'REF1_DIST', 'REF1_TRAVEL',\n",
    "            'REF2_CODE', 'REF2_DIST', 'REF2_TRAVEL',\n",
    "            'REF3_CODE', 'REF3_DIST', 'REF3_TRAVEL']\n",
    "\n",
    "rhu = rhu[cols]\n",
    "\n",
    "# Using the health facility list, complete the RHU data\n",
    "rhu.loc[rhu['REF1_CODE']==0, 'REF_CODE'] = rhu[rhu['REF1_CODE']==0]['REF1_NAME'].map(HF_dict)"
   ]
  },
  {
   "cell_type": "code",
   "execution_count": 11,
   "metadata": {
    "ExecuteTime": {
     "end_time": "2020-08-10T18:34:55.095296Z",
     "start_time": "2020-08-10T18:34:55.084326Z"
    }
   },
   "outputs": [
    {
     "data": {
      "text/html": [
       "<div>\n",
       "<style scoped>\n",
       "    .dataframe tbody tr th:only-of-type {\n",
       "        vertical-align: middle;\n",
       "    }\n",
       "\n",
       "    .dataframe tbody tr th {\n",
       "        vertical-align: top;\n",
       "    }\n",
       "\n",
       "    .dataframe thead th {\n",
       "        text-align: right;\n",
       "    }\n",
       "</style>\n",
       "<table border=\"1\" class=\"dataframe\">\n",
       "  <thead>\n",
       "    <tr style=\"text-align: right;\">\n",
       "      <th></th>\n",
       "      <th>SHORT_HFCODE</th>\n",
       "      <th>REF_CODE</th>\n",
       "    </tr>\n",
       "  </thead>\n",
       "  <tbody>\n",
       "    <tr>\n",
       "      <th>8</th>\n",
       "      <td>2228</td>\n",
       "      <td>{3313}</td>\n",
       "    </tr>\n",
       "    <tr>\n",
       "      <th>20</th>\n",
       "      <td>6698</td>\n",
       "      <td>{3313}</td>\n",
       "    </tr>\n",
       "    <tr>\n",
       "      <th>29</th>\n",
       "      <td>147</td>\n",
       "      <td>{2703}</td>\n",
       "    </tr>\n",
       "    <tr>\n",
       "      <th>36</th>\n",
       "      <td>2033</td>\n",
       "      <td>{3667}</td>\n",
       "    </tr>\n",
       "    <tr>\n",
       "      <th>37</th>\n",
       "      <td>2184</td>\n",
       "      <td>{2703}</td>\n",
       "    </tr>\n",
       "  </tbody>\n",
       "</table>\n",
       "</div>"
      ],
      "text/plain": [
       "    SHORT_HFCODE REF_CODE\n",
       "8           2228   {3313}\n",
       "20          6698   {3313}\n",
       "29           147   {2703}\n",
       "36          2033   {3667}\n",
       "37          2184   {2703}"
      ]
     },
     "execution_count": 11,
     "metadata": {},
     "output_type": "execute_result"
    }
   ],
   "source": [
    "temp = rhu[['SHORT_HFCODE', 'REF_CODE']].dropna().copy()\n",
    "\n",
    "# This dataframe contains the HF codes of one health facility to other facilities.\n",
    "temp.head()"
   ]
  },
  {
   "cell_type": "code",
   "execution_count": 12,
   "metadata": {
    "ExecuteTime": {
     "end_time": "2020-08-10T18:34:55.542570Z",
     "start_time": "2020-08-10T18:34:55.504672Z"
    }
   },
   "outputs": [],
   "source": [
    "# Out of all the mapped referred facilities, the closest facility is used as the actual referred facility\n",
    "# Slight pre-processing: \"place\" the health facilities without coordinates to southwest of southwest Philippine boundary (lat_min - 10, long_min - 20) or northeast of northeast Philippine boundary\n",
    "temp_dict = pd.DataFrame(temp.apply(lambda x: min([(vincenty((latlong_dict['LAT'][x['SHORT_HFCODE']] if latlong_dict['LAT'][x['SHORT_HFCODE']]==latlong_dict['LAT'][x['SHORT_HFCODE']] else lat_min-10,\n",
    "                                                  latlong_dict['LONG'][x['SHORT_HFCODE']] if latlong_dict['LONG'][x['SHORT_HFCODE']]==latlong_dict['LONG'][x['SHORT_HFCODE']] else long_min-20), \n",
    "                                                 (latlong_dict['LAT'][i] if latlong_dict['LAT'][i]==latlong_dict['LAT'][i] else lat_max+10,\n",
    "                                                  latlong_dict['LONG'][i] if latlong_dict['LONG'][i]==latlong_dict['LONG'][i] else long_max+20)).km, i, x['SHORT_HFCODE']) for i in x['REF_CODE']], key=lambda x: x[0]), axis=1).tolist()).set_index(2).to_dict()\n",
    "\n",
    "rhu['REF_CODE'] = rhu['SHORT_HFCODE'].map(temp_dict[1])\n",
    "rhu.loc[rhu['REF1_CODE']!=0, 'REF_CODE'] = rhu.loc[rhu['REF1_CODE']!=0, 'REF1_CODE']"
   ]
  },
  {
   "cell_type": "markdown",
   "metadata": {},
   "source": [
    "##### Fill missing REF2 Codes\n",
    "\n",
    "The data contains up to three referred facilities so the same processing is performed for the second and third HF code."
   ]
  },
  {
   "cell_type": "code",
   "execution_count": 13,
   "metadata": {
    "ExecuteTime": {
     "end_time": "2020-08-10T18:34:56.768895Z",
     "start_time": "2020-08-10T18:34:56.716037Z"
    }
   },
   "outputs": [],
   "source": [
    "rhu2.loc[rhu2['REF2_CODE']==0, 'REF_CODE'] = rhu2[rhu2['REF2_CODE']==0]['REF2_NAME'].map(HF_dict)\n",
    "\n",
    "temp = rhu2[['SHORT_HFCODE', 'REF_CODE']].dropna().copy()\n",
    "temp_dict = pd.DataFrame(temp.apply(lambda x: min([(vincenty((latlong_dict['LAT'][x['SHORT_HFCODE']] if latlong_dict['LAT'][x['SHORT_HFCODE']]==latlong_dict['LAT'][x['SHORT_HFCODE']] else lat_min-10,\n",
    "                                                  latlong_dict['LONG'][x['SHORT_HFCODE']] if latlong_dict['LONG'][x['SHORT_HFCODE']]==latlong_dict['LONG'][x['SHORT_HFCODE']] else long_min-20), \n",
    "                                                 (latlong_dict['LAT'][i] if latlong_dict['LAT'][i]==latlong_dict['LAT'][i] else lat_max+10,\n",
    "                                                  latlong_dict['LONG'][i] if latlong_dict['LONG'][i]==latlong_dict['LONG'][i] else long_max+20)).km, i, x['SHORT_HFCODE']) for i in x['REF_CODE']], key=lambda x: x[0]), axis=1).tolist()).set_index(2).to_dict()\n",
    "\n",
    "rhu2['REF_CODE'] = rhu2['SHORT_HFCODE'].map(temp_dict[1])\n",
    "rhu2.loc[rhu2['REF2_CODE']!=0, 'REF_CODE'] = rhu2.loc[rhu2['REF2_CODE']!=0, 'REF2_CODE']"
   ]
  },
  {
   "cell_type": "markdown",
   "metadata": {},
   "source": [
    "##### Fill missing REF3 Codes"
   ]
  },
  {
   "cell_type": "code",
   "execution_count": 14,
   "metadata": {
    "ExecuteTime": {
     "end_time": "2020-08-10T18:34:58.843245Z",
     "start_time": "2020-08-10T18:34:58.762299Z"
    }
   },
   "outputs": [],
   "source": [
    "rhu3.loc[rhu3['REF3_CODE']==0, 'REF_CODE'] = rhu3[rhu3['REF3_CODE']==0]['REF3_NAME'].map(HF_dict)\n",
    "\n",
    "temp = rhu3[['SHORT_HFCODE', 'REF_CODE']].dropna().copy()\n",
    "temp_dict = pd.DataFrame(temp.apply(lambda x: min([(vincenty((latlong_dict['LAT'][x['SHORT_HFCODE']] if latlong_dict['LAT'][x['SHORT_HFCODE']]==latlong_dict['LAT'][x['SHORT_HFCODE']] else lat_min-10,\n",
    "                                                  latlong_dict['LONG'][x['SHORT_HFCODE']] if latlong_dict['LONG'][x['SHORT_HFCODE']]==latlong_dict['LONG'][x['SHORT_HFCODE']] else long_min-20), \n",
    "                                                 (latlong_dict['LAT'][i] if latlong_dict['LAT'][i]==latlong_dict['LAT'][i] else lat_max+10,\n",
    "                                                  latlong_dict['LONG'][i] if latlong_dict['LONG'][i]==latlong_dict['LONG'][i] else long_max+20)).km, i, x['SHORT_HFCODE']) for i in x['REF_CODE']], key=lambda x: x[0]), axis=1).tolist()).set_index(2).to_dict()\n",
    "\n",
    "rhu3['REF_CODE'] = rhu3['SHORT_HFCODE'].map(temp_dict[1])\n",
    "rhu3.loc[rhu3['REF3_CODE']!=0, 'REF_CODE'] = rhu3.loc[rhu3['REF3_CODE']!=0, 'REF3_CODE']"
   ]
  },
  {
   "cell_type": "code",
   "execution_count": 15,
   "metadata": {
    "ExecuteTime": {
     "end_time": "2020-08-10T18:34:59.080050Z",
     "start_time": "2020-08-10T18:34:59.068083Z"
    }
   },
   "outputs": [],
   "source": [
    "rhu.dropna(subset=['REF_CODE'], inplace=True)\n",
    "rhu2.dropna(subset=['REF_CODE'], inplace=True)\n",
    "rhu3.dropna(subset=['REF_CODE'], inplace=True)"
   ]
  },
  {
   "cell_type": "markdown",
   "metadata": {
    "ExecuteTime": {
     "end_time": "2020-03-01T08:03:19.170179Z",
     "start_time": "2020-03-01T08:03:19.165224Z"
    }
   },
   "source": [
    "##### Combine the processed dataframes"
   ]
  },
  {
   "cell_type": "code",
   "execution_count": 16,
   "metadata": {
    "ExecuteTime": {
     "end_time": "2020-08-10T18:35:00.127287Z",
     "start_time": "2020-08-10T18:35:00.118312Z"
    }
   },
   "outputs": [],
   "source": [
    "rhu.rename({'REF1_DIST':'REF_DIST', 'REF1_TRAVEL':'REF_TRAVEL', 'REF1_NAME':'REF_NAME'}, axis=1, inplace=True)\n",
    "rhu2.rename({'REF2_DIST':'REF_DIST', 'REF2_TRAVEL':'REF_TRAVEL', 'REF1_NAME':'REF_NAME'}, axis=1, inplace=True)\n",
    "rhu3.rename({'REF3_DIST':'REF_DIST', 'REF3_TRAVEL':'REF_TRAVEL', 'REF1_NAME':'REF_NAME'}, axis=1, inplace=True)"
   ]
  },
  {
   "cell_type": "code",
   "execution_count": 17,
   "metadata": {
    "ExecuteTime": {
     "end_time": "2020-08-10T18:35:00.691341Z",
     "start_time": "2020-08-10T18:35:00.685359Z"
    }
   },
   "outputs": [],
   "source": [
    "cols2 = ['SHORT_HFCODE', 'REF_CODE']\n",
    "rhu_edges = rhu[cols2].append(rhu2[cols2]).append(rhu3[cols2])"
   ]
  },
  {
   "cell_type": "code",
   "execution_count": 18,
   "metadata": {
    "ExecuteTime": {
     "end_time": "2020-08-10T18:35:00.952090Z",
     "start_time": "2020-08-10T18:35:00.948093Z"
    }
   },
   "outputs": [],
   "source": [
    "# Add a column identifying the type of facility for the later network analysis\n",
    "\n",
    "rhu_edges['HF_TYPE'] = 'RHU'"
   ]
  },
  {
   "cell_type": "code",
   "execution_count": 19,
   "metadata": {
    "ExecuteTime": {
     "end_time": "2020-08-10T18:35:01.202968Z",
     "start_time": "2020-08-10T18:35:01.183018Z"
    }
   },
   "outputs": [
    {
     "data": {
      "text/html": [
       "<div>\n",
       "<style scoped>\n",
       "    .dataframe tbody tr th:only-of-type {\n",
       "        vertical-align: middle;\n",
       "    }\n",
       "\n",
       "    .dataframe tbody tr th {\n",
       "        vertical-align: top;\n",
       "    }\n",
       "\n",
       "    .dataframe thead th {\n",
       "        text-align: right;\n",
       "    }\n",
       "</style>\n",
       "<table border=\"1\" class=\"dataframe\">\n",
       "  <thead>\n",
       "    <tr style=\"text-align: right;\">\n",
       "      <th></th>\n",
       "      <th>SHORT_HFCODE</th>\n",
       "      <th>LAT</th>\n",
       "      <th>LONG</th>\n",
       "    </tr>\n",
       "  </thead>\n",
       "  <tbody>\n",
       "    <tr>\n",
       "      <th>count</th>\n",
       "      <td>29,424.00</td>\n",
       "      <td>25,752.00</td>\n",
       "      <td>25,752.00</td>\n",
       "    </tr>\n",
       "    <tr>\n",
       "      <th>mean</th>\n",
       "      <td>19,505.19</td>\n",
       "      <td>12.27</td>\n",
       "      <td>122.49</td>\n",
       "    </tr>\n",
       "    <tr>\n",
       "      <th>std</th>\n",
       "      <td>11,203.47</td>\n",
       "      <td>7.11</td>\n",
       "      <td>4.42</td>\n",
       "    </tr>\n",
       "    <tr>\n",
       "      <th>min</th>\n",
       "      <td>1.00</td>\n",
       "      <td>0.00</td>\n",
       "      <td>0.00</td>\n",
       "    </tr>\n",
       "    <tr>\n",
       "      <th>25%</th>\n",
       "      <td>9,724.75</td>\n",
       "      <td>9.52</td>\n",
       "      <td>121.02</td>\n",
       "    </tr>\n",
       "    <tr>\n",
       "      <th>50%</th>\n",
       "      <td>19,799.50</td>\n",
       "      <td>12.73</td>\n",
       "      <td>122.38</td>\n",
       "    </tr>\n",
       "    <tr>\n",
       "      <th>75%</th>\n",
       "      <td>29,542.25</td>\n",
       "      <td>14.81</td>\n",
       "      <td>124.16</td>\n",
       "    </tr>\n",
       "    <tr>\n",
       "      <th>max</th>\n",
       "      <td>38,002.00</td>\n",
       "      <td>1,000.00</td>\n",
       "      <td>126.58</td>\n",
       "    </tr>\n",
       "  </tbody>\n",
       "</table>\n",
       "</div>"
      ],
      "text/plain": [
       "       SHORT_HFCODE       LAT      LONG\n",
       "count     29,424.00 25,752.00 25,752.00\n",
       "mean      19,505.19     12.27    122.49\n",
       "std       11,203.47      7.11      4.42\n",
       "min            1.00      0.00      0.00\n",
       "25%        9,724.75      9.52    121.02\n",
       "50%       19,799.50     12.73    122.38\n",
       "75%       29,542.25     14.81    124.16\n",
       "max       38,002.00  1,000.00    126.58"
      ]
     },
     "execution_count": 19,
     "metadata": {},
     "output_type": "execute_result"
    }
   ],
   "source": [
    "HF_list[['SHORT_HFCODE', 'LAT', 'LONG']].describe()"
   ]
  },
  {
   "cell_type": "markdown",
   "metadata": {},
   "source": [
    "##### Map lat-long to the HF codes"
   ]
  },
  {
   "cell_type": "code",
   "execution_count": 20,
   "metadata": {
    "ExecuteTime": {
     "end_time": "2020-08-10T18:46:38.861865Z",
     "start_time": "2020-08-10T18:46:38.748169Z"
    }
   },
   "outputs": [],
   "source": [
    "rhu_edges['source_lat'] = rhu_edges['SHORT_HFCODE'].map(latlong_dict['LAT'])\n",
    "rhu_edges['source_long'] = rhu_edges['SHORT_HFCODE'].map(latlong_dict['LONG'])\n",
    "rhu_edges['target_lat'] = rhu_edges['REF_CODE'].map(latlong_dict['LAT'])\n",
    "rhu_edges['target_long'] = rhu_edges['REF_CODE'].map(latlong_dict['LONG'])"
   ]
  },
  {
   "cell_type": "markdown",
   "metadata": {},
   "source": [
    "##### Set lat-long outside PH to NaN"
   ]
  },
  {
   "cell_type": "code",
   "execution_count": 21,
   "metadata": {
    "ExecuteTime": {
     "end_time": "2020-08-10T18:46:40.195569Z",
     "start_time": "2020-08-10T18:46:40.180642Z"
    }
   },
   "outputs": [],
   "source": [
    "rhu_edges.loc[~((rhu_edges['source_lat'].between(lat_min, lat_max)) & (rhu_edges['source_long'].between(\n",
    "    long_min, long_max))), ['source_lat', 'source_long']] = np.nan\n",
    "rhu_edges.loc[~((rhu_edges['target_lat'].between(lat_min, lat_max)) & (rhu_edges['target_long'].between(\n",
    "    long_min, long_max))), ['target_lat', 'target_long']] = np.nan"
   ]
  },
  {
   "cell_type": "markdown",
   "metadata": {},
   "source": [
    "##### Measure distance using lat-long for non-NaN HF pairs"
   ]
  },
  {
   "cell_type": "code",
   "execution_count": 22,
   "metadata": {
    "ExecuteTime": {
     "end_time": "2020-08-10T18:46:40.935464Z",
     "start_time": "2020-08-10T18:46:40.596159Z"
    }
   },
   "outputs": [],
   "source": [
    "missing_latlong = ~rhu_edges[['source_lat', 'source_long', 'target_lat', 'target_long']].isnull().sum(axis=1).astype(bool)\n",
    "rhu_edges.loc[missing_latlong, 'DIST'] = rhu_edges.loc[missing_latlong, ['source_lat', 'source_long', 'target_lat', 'target_long']].apply(lambda x: vincenty((x['source_lat'], x['source_long']), (x['target_lat'], x['target_long'])).km, axis=1)\n",
    "\n",
    "rhu_edges.loc[rhu_edges['DIST']==0, 'DIST'] = 1"
   ]
  },
  {
   "cell_type": "markdown",
   "metadata": {},
   "source": [
    "##### Check for outliers\n",
    "In this case, referral between facilities that are too high are classified as outliers. The threshold to be used for filtering out these outliers is subject to the researcher's choice. The unit of distance is in kilometers. Note that since the distance is extracted from coordinates, errors in encoding will change the actual coordinates of the facilities, therefore making changes to the distance (e.g. dividing by a constant factor) cannot be done. Instead, other imputing techinques are used to fill for missing distance data."
   ]
  },
  {
   "cell_type": "code",
   "execution_count": 23,
   "metadata": {
    "ExecuteTime": {
     "end_time": "2020-08-10T18:46:41.979471Z",
     "start_time": "2020-08-10T18:46:41.481073Z"
    }
   },
   "outputs": [
    {
     "data": {
      "image/png": "[encoded data removed]",
      "text/plain": [
       "<Figure size 432x288 with 1 Axes>"
      ]
     },
     "metadata": {
      "needs_background": "light"
     },
     "output_type": "display_data"
    }
   ],
   "source": [
    "B = rhu_edges.boxplot('DIST', return_type='both')"
   ]
  },
  {
   "cell_type": "code",
   "execution_count": 24,
   "metadata": {
    "ExecuteTime": {
     "end_time": "2020-08-10T18:46:42.584794Z",
     "start_time": "2020-08-10T18:46:42.578796Z"
    }
   },
   "outputs": [],
   "source": [
    "outliers = [i.get_ydata()[1] for i in B.lines['whiskers']]\n",
    "rhu_edges.loc[rhu_edges['DIST'] > outliers[1], 'DIST'] = np.nan"
   ]
  },
  {
   "cell_type": "code",
   "execution_count": 25,
   "metadata": {
    "ExecuteTime": {
     "end_time": "2020-08-10T18:46:52.361936Z",
     "start_time": "2020-08-10T18:46:52.357947Z"
    }
   },
   "outputs": [
    {
     "data": {
      "text/plain": [
       "[0.0006040641840882818, 88.56724901828711]"
      ]
     },
     "execution_count": 25,
     "metadata": {},
     "output_type": "execute_result"
    }
   ],
   "source": [
    "outliers"
   ]
  },
  {
   "cell_type": "code",
   "execution_count": 26,
   "metadata": {
    "ExecuteTime": {
     "end_time": "2020-08-10T18:46:52.732984Z",
     "start_time": "2020-08-10T18:46:52.714035Z"
    }
   },
   "outputs": [],
   "source": [
    "muni_dict = HF_list[['SHORT_HFCODE', 'MUNI_CITY', 'PROVINCE']].set_index('SHORT_HFCODE').to_dict()"
   ]
  },
  {
   "cell_type": "markdown",
   "metadata": {},
   "source": [
    "##### Impute distance from municipality\n",
    "With the municipality information of the facilities, the distance of different health units are imputed using the median. The assumption is that within the same municipality, the distance of referring facilities are more or less similar. For tracking, the source of the distance information is stored."
   ]
  },
  {
   "cell_type": "code",
   "execution_count": 27,
   "metadata": {
    "ExecuteTime": {
     "end_time": "2020-08-10T18:46:53.374218Z",
     "start_time": "2020-08-10T18:46:53.343302Z"
    }
   },
   "outputs": [],
   "source": [
    "rhu_edges['muni_city'] = rhu_edges['SHORT_HFCODE'].map(muni_dict['MUNI_CITY'])\n",
    "mean_dist_city = rhu_edges.groupby('muni_city')['DIST'].median().to_dict()\n",
    "\n",
    "imputed_muni = ~(rhu_edges.loc[rhu_edges['DIST'].isnull(), 'muni_city'].map(mean_dist_city).isnull())\n",
    "imputed_muni = imputed_muni[imputed_muni].index\n",
    "rhu_edges.loc[imputed_muni, \"IMPUTED\"] = \"MUNI\" \n",
    "rhu_edges.loc[rhu_edges['DIST'].isnull(), 'DIST'] = rhu_edges.loc[rhu_edges['DIST'].isnull(), 'muni_city'].map(mean_dist_city)"
   ]
  },
  {
   "cell_type": "markdown",
   "metadata": {},
   "source": [
    "##### Impute distance from province\n",
    "For those facilities without municipality information, the province is used."
   ]
  },
  {
   "cell_type": "code",
   "execution_count": 28,
   "metadata": {
    "ExecuteTime": {
     "end_time": "2020-08-10T18:46:53.828715Z",
     "start_time": "2020-08-10T18:46:53.772865Z"
    }
   },
   "outputs": [],
   "source": [
    "rhu_edges['province'] = rhu_edges['SHORT_HFCODE'].map(muni_dict['PROVINCE'])\n",
    "mean_dist_prov = rhu_edges.groupby('province')['DIST'].median().to_dict()\n",
    "\n",
    "imputed_prov = ~(rhu_edges.loc[rhu_edges['DIST'].isnull(), 'province'].map(mean_dist_prov).isnull())\n",
    "imputed_prov = imputed_prov[imputed_prov].index\n",
    "\n",
    "rhu_edges.loc[imputed_prov, \"IMPUTED\"] = \"PROV\"\n",
    "rhu_edges.loc[rhu_edges['DIST'].isnull(), 'DIST'] = rhu_edges.loc[rhu_edges['DIST'].isnull(), 'province'].map(mean_dist_prov)"
   ]
  },
  {
   "cell_type": "code",
   "execution_count": 29,
   "metadata": {
    "ExecuteTime": {
     "end_time": "2020-08-10T18:46:53.974282Z",
     "start_time": "2020-08-10T18:46:53.969295Z"
    }
   },
   "outputs": [
    {
     "data": {
      "text/plain": [
       "17"
      ]
     },
     "execution_count": 29,
     "metadata": {},
     "output_type": "execute_result"
    }
   ],
   "source": [
    "rhu_edges['DIST'].isnull().sum()"
   ]
  },
  {
   "cell_type": "markdown",
   "metadata": {},
   "source": [
    "If after all these, the referring facilities still do not have distance information, the connection between the facilities is dropped. "
   ]
  },
  {
   "cell_type": "code",
   "execution_count": 30,
   "metadata": {
    "ExecuteTime": {
     "end_time": "2020-08-10T18:46:54.278528Z",
     "start_time": "2020-08-10T18:46:54.273494Z"
    }
   },
   "outputs": [],
   "source": [
    "rhu_edges.dropna(subset=['DIST'], inplace=True)"
   ]
  },
  {
   "cell_type": "code",
   "execution_count": 31,
   "metadata": {
    "ExecuteTime": {
     "end_time": "2020-08-10T18:46:54.494949Z",
     "start_time": "2020-08-10T18:46:54.470967Z"
    }
   },
   "outputs": [],
   "source": [
    "prov_HF_dict = rhu_edges.groupby('province')[['SHORT_HFCODE', 'REF_CODE']].agg(set).rename({'SHORT_HFCODE':'RHU', 'REF_CODE':'HOSP'}, axis=1).to_dict()"
   ]
  },
  {
   "cell_type": "code",
   "execution_count": 32,
   "metadata": {
    "ExecuteTime": {
     "end_time": "2020-08-10T18:46:54.646506Z",
     "start_time": "2020-08-10T18:46:54.639548Z"
    }
   },
   "outputs": [],
   "source": [
    "rhu_edges['REF_CODES'] = [set(rhu_edges[~rhu_edges[['target_lat', 'target_long']].isnull().sum(axis=1).astype(bool)]['REF_CODE'])] * len(rhu_edges)"
   ]
  },
  {
   "cell_type": "code",
   "execution_count": 33,
   "metadata": {
    "ExecuteTime": {
     "end_time": "2020-08-10T18:46:54.862996Z",
     "start_time": "2020-08-10T18:46:54.858043Z"
    }
   },
   "outputs": [],
   "source": [
    "rhu_edges = rhu_edges[rhu_edges['REF_CODE']!=rhu_edges['SHORT_HFCODE']]"
   ]
  },
  {
   "cell_type": "markdown",
   "metadata": {},
   "source": [
    "##### Connect nearest neighbors\n",
    "The referrals above are based on actual data, i.e. actual referrals from facility to facility. This list is supplemented with the three nearest facilities, regardless of being the same facilities as the actual data."
   ]
  },
  {
   "cell_type": "code",
   "execution_count": 34,
   "metadata": {
    "ExecuteTime": {
     "end_time": "2020-08-10T18:48:49.846281Z",
     "start_time": "2020-08-10T18:46:55.331148Z"
    }
   },
   "outputs": [],
   "source": [
    "n = 3 #num of nearest neighbors to connect\n",
    "temp = rhu_edges[['SHORT_HFCODE', 'REF_CODES']].dropna().drop_duplicates(subset='SHORT_HFCODE').copy()\n",
    "df_neighbors = pd.DataFrame(temp.apply(lambda x: sorted([(vincenty((latlong_dict['LAT'][x['SHORT_HFCODE']] if latlong_dict['LAT'][x['SHORT_HFCODE']]==latlong_dict['LAT'][x['SHORT_HFCODE']] else lat_min-10,\n",
    "                                                  latlong_dict['LONG'][x['SHORT_HFCODE']] if latlong_dict['LONG'][x['SHORT_HFCODE']]==latlong_dict['LONG'][x['SHORT_HFCODE']] else long_min-20), \n",
    "                                                 (latlong_dict['LAT'][i] if latlong_dict['LAT'][i]==latlong_dict['LAT'][i] else lat_max+10,\n",
    "                                                  latlong_dict['LONG'][i] if latlong_dict['LONG'][i]==latlong_dict['LONG'][i] else long_max+20)).km, i, x['SHORT_HFCODE']) for i in x['REF_CODES'] if i!=x['SHORT_HFCODE']], key=lambda x: x[0])[:n], axis=1).tolist())#.set_index(2).to_dict()"
   ]
  },
  {
   "cell_type": "code",
   "execution_count": 35,
   "metadata": {
    "ExecuteTime": {
     "end_time": "2020-08-10T18:48:49.993922Z",
     "start_time": "2020-08-10T18:48:49.986905Z"
    }
   },
   "outputs": [],
   "source": [
    "df_neighbors_edges = pd.DataFrame(df_neighbors[0].append(df_neighbors[1]).append(df_neighbors[2]).tolist(), columns=['DIST', 'REF_CODE', 'SHORT_HFCODE'])"
   ]
  },
  {
   "cell_type": "code",
   "execution_count": 36,
   "metadata": {
    "ExecuteTime": {
     "end_time": "2020-08-10T18:48:50.127563Z",
     "start_time": "2020-08-10T18:48:50.124538Z"
    }
   },
   "outputs": [],
   "source": [
    "df_neighbors_edges['IMPUTED'] = 'NEAREST_NEIGHBOR'"
   ]
  },
  {
   "cell_type": "code",
   "execution_count": 37,
   "metadata": {
    "ExecuteTime": {
     "end_time": "2020-08-10T18:48:50.263167Z",
     "start_time": "2020-08-10T18:48:50.253249Z"
    }
   },
   "outputs": [
    {
     "data": {
      "text/html": [
       "<div>\n",
       "<style scoped>\n",
       "    .dataframe tbody tr th:only-of-type {\n",
       "        vertical-align: middle;\n",
       "    }\n",
       "\n",
       "    .dataframe tbody tr th {\n",
       "        vertical-align: top;\n",
       "    }\n",
       "\n",
       "    .dataframe thead th {\n",
       "        text-align: right;\n",
       "    }\n",
       "</style>\n",
       "<table border=\"1\" class=\"dataframe\">\n",
       "  <thead>\n",
       "    <tr style=\"text-align: right;\">\n",
       "      <th></th>\n",
       "      <th>SHORT_HFCODE</th>\n",
       "      <th>REF_CODE</th>\n",
       "      <th>DIST</th>\n",
       "      <th>IMPUTED</th>\n",
       "    </tr>\n",
       "  </thead>\n",
       "  <tbody>\n",
       "    <tr>\n",
       "      <th>0</th>\n",
       "      <td>25</td>\n",
       "      <td>32,170.00</td>\n",
       "      <td>0.00</td>\n",
       "      <td>NaN</td>\n",
       "    </tr>\n",
       "    <tr>\n",
       "      <th>1</th>\n",
       "      <td>105</td>\n",
       "      <td>5,940.00</td>\n",
       "      <td>0.41</td>\n",
       "      <td>NaN</td>\n",
       "    </tr>\n",
       "    <tr>\n",
       "      <th>2</th>\n",
       "      <td>106</td>\n",
       "      <td>3,313.00</td>\n",
       "      <td>11.13</td>\n",
       "      <td>NaN</td>\n",
       "    </tr>\n",
       "    <tr>\n",
       "      <th>4</th>\n",
       "      <td>137</td>\n",
       "      <td>3,313.00</td>\n",
       "      <td>11.29</td>\n",
       "      <td>NaN</td>\n",
       "    </tr>\n",
       "    <tr>\n",
       "      <th>5</th>\n",
       "      <td>1760</td>\n",
       "      <td>6,513.00</td>\n",
       "      <td>5.98</td>\n",
       "      <td>NaN</td>\n",
       "    </tr>\n",
       "    <tr>\n",
       "      <th>...</th>\n",
       "      <td>...</td>\n",
       "      <td>...</td>\n",
       "      <td>...</td>\n",
       "      <td>...</td>\n",
       "    </tr>\n",
       "    <tr>\n",
       "      <th>2296</th>\n",
       "      <td>6814</td>\n",
       "      <td>273.00</td>\n",
       "      <td>51.12</td>\n",
       "      <td>NaN</td>\n",
       "    </tr>\n",
       "    <tr>\n",
       "      <th>2297</th>\n",
       "      <td>7045</td>\n",
       "      <td>273.00</td>\n",
       "      <td>15.07</td>\n",
       "      <td>NaN</td>\n",
       "    </tr>\n",
       "    <tr>\n",
       "      <th>2298</th>\n",
       "      <td>7696</td>\n",
       "      <td>273.00</td>\n",
       "      <td>29.09</td>\n",
       "      <td>NaN</td>\n",
       "    </tr>\n",
       "    <tr>\n",
       "      <th>2299</th>\n",
       "      <td>8861</td>\n",
       "      <td>273.00</td>\n",
       "      <td>16.35</td>\n",
       "      <td>NaN</td>\n",
       "    </tr>\n",
       "    <tr>\n",
       "      <th>2300</th>\n",
       "      <td>27898</td>\n",
       "      <td>237.00</td>\n",
       "      <td>41.68</td>\n",
       "      <td>MUNI</td>\n",
       "    </tr>\n",
       "  </tbody>\n",
       "</table>\n",
       "<p>5925 rows × 4 columns</p>\n",
       "</div>"
      ],
      "text/plain": [
       "      SHORT_HFCODE  REF_CODE  DIST IMPUTED\n",
       "0               25 32,170.00  0.00     NaN\n",
       "1              105  5,940.00  0.41     NaN\n",
       "2              106  3,313.00 11.13     NaN\n",
       "4              137  3,313.00 11.29     NaN\n",
       "5             1760  6,513.00  5.98     NaN\n",
       "...            ...       ...   ...     ...\n",
       "2296          6814    273.00 51.12     NaN\n",
       "2297          7045    273.00 15.07     NaN\n",
       "2298          7696    273.00 29.09     NaN\n",
       "2299          8861    273.00 16.35     NaN\n",
       "2300         27898    237.00 41.68    MUNI\n",
       "\n",
       "[5925 rows x 4 columns]"
      ]
     },
     "execution_count": 37,
     "metadata": {},
     "output_type": "execute_result"
    }
   ],
   "source": [
    "rhu_edges[['SHORT_HFCODE', 'REF_CODE', 'DIST', 'IMPUTED']]"
   ]
  },
  {
   "cell_type": "code",
   "execution_count": 38,
   "metadata": {
    "ExecuteTime": {
     "end_time": "2020-08-10T18:48:50.398837Z",
     "start_time": "2020-08-10T18:48:50.391855Z"
    }
   },
   "outputs": [],
   "source": [
    "rhu_edges = rhu_edges[['SHORT_HFCODE', 'REF_CODE', 'DIST', 'IMPUTED']].append(df_neighbors_edges)"
   ]
  },
  {
   "cell_type": "code",
   "execution_count": 39,
   "metadata": {
    "ExecuteTime": {
     "end_time": "2020-08-10T18:48:50.527493Z",
     "start_time": "2020-08-10T18:48:50.520497Z"
    }
   },
   "outputs": [],
   "source": [
    "rhu_edges.loc[rhu_edges['DIST'] > outliers[1], 'DIST'] = np.nan\n",
    "rhu_edges.loc[rhu_edges['DIST']==0, 'DIST'] = 1"
   ]
  },
  {
   "cell_type": "code",
   "execution_count": 40,
   "metadata": {
    "ExecuteTime": {
     "end_time": "2020-08-10T18:48:50.662103Z",
     "start_time": "2020-08-10T18:48:50.648138Z"
    }
   },
   "outputs": [
    {
     "data": {
      "text/html": [
       "<div>\n",
       "<style scoped>\n",
       "    .dataframe tbody tr th:only-of-type {\n",
       "        vertical-align: middle;\n",
       "    }\n",
       "\n",
       "    .dataframe tbody tr th {\n",
       "        vertical-align: top;\n",
       "    }\n",
       "\n",
       "    .dataframe thead th {\n",
       "        text-align: right;\n",
       "    }\n",
       "</style>\n",
       "<table border=\"1\" class=\"dataframe\">\n",
       "  <thead>\n",
       "    <tr style=\"text-align: right;\">\n",
       "      <th></th>\n",
       "      <th>DIST</th>\n",
       "      <th>REF_CODE</th>\n",
       "      <th>SHORT_HFCODE</th>\n",
       "    </tr>\n",
       "  </thead>\n",
       "  <tbody>\n",
       "    <tr>\n",
       "      <th>count</th>\n",
       "      <td>12,157.00</td>\n",
       "      <td>12,330.00</td>\n",
       "      <td>12,330.00</td>\n",
       "    </tr>\n",
       "    <tr>\n",
       "      <th>mean</th>\n",
       "      <td>16.11</td>\n",
       "      <td>4,600.62</td>\n",
       "      <td>5,816.23</td>\n",
       "    </tr>\n",
       "    <tr>\n",
       "      <th>std</th>\n",
       "      <td>16.55</td>\n",
       "      <td>7,159.54</td>\n",
       "      <td>6,469.21</td>\n",
       "    </tr>\n",
       "    <tr>\n",
       "      <th>min</th>\n",
       "      <td>0.00</td>\n",
       "      <td>1.00</td>\n",
       "      <td>10.00</td>\n",
       "    </tr>\n",
       "    <tr>\n",
       "      <th>25%</th>\n",
       "      <td>3.39</td>\n",
       "      <td>622.00</td>\n",
       "      <td>2,307.00</td>\n",
       "    </tr>\n",
       "    <tr>\n",
       "      <th>50%</th>\n",
       "      <td>11.07</td>\n",
       "      <td>2,850.00</td>\n",
       "      <td>4,234.00</td>\n",
       "    </tr>\n",
       "    <tr>\n",
       "      <th>75%</th>\n",
       "      <td>22.87</td>\n",
       "      <td>5,139.00</td>\n",
       "      <td>7,062.00</td>\n",
       "    </tr>\n",
       "    <tr>\n",
       "      <th>max</th>\n",
       "      <td>88.57</td>\n",
       "      <td>261,101.00</td>\n",
       "      <td>36,628.00</td>\n",
       "    </tr>\n",
       "  </tbody>\n",
       "</table>\n",
       "</div>"
      ],
      "text/plain": [
       "           DIST   REF_CODE  SHORT_HFCODE\n",
       "count 12,157.00  12,330.00     12,330.00\n",
       "mean      16.11   4,600.62      5,816.23\n",
       "std       16.55   7,159.54      6,469.21\n",
       "min        0.00       1.00         10.00\n",
       "25%        3.39     622.00      2,307.00\n",
       "50%       11.07   2,850.00      4,234.00\n",
       "75%       22.87   5,139.00      7,062.00\n",
       "max       88.57 261,101.00     36,628.00"
      ]
     },
     "execution_count": 40,
     "metadata": {},
     "output_type": "execute_result"
    }
   ],
   "source": [
    "rhu_edges.describe()"
   ]
  },
  {
   "cell_type": "markdown",
   "metadata": {},
   "source": [
    "#### BHS\n",
    "The same processing done for the rural health units is performed for the barangay health stations."
   ]
  },
  {
   "cell_type": "code",
   "execution_count": 41,
   "metadata": {
    "ExecuteTime": {
     "end_time": "2020-08-10T18:48:58.675223Z",
     "start_time": "2020-08-10T18:48:50.784773Z"
    }
   },
   "outputs": [],
   "source": [
    "bhs = pd.read_excel('bhs2018.xlsx', sheet_name='MAIN', na_values='None')"
   ]
  },
  {
   "cell_type": "code",
   "execution_count": 43,
   "metadata": {
    "ExecuteTime": {
     "end_time": "2020-08-10T18:51:12.857549Z",
     "start_time": "2020-08-10T18:51:02.056784Z"
    }
   },
   "outputs": [],
   "source": [
    "str_cols = ['HF_NAME', 'REGION', 'PROVINCE', 'MUNI_CITY', 'BRGY',\n",
    "            'STREET_NAME', 'BUILDING', 'FACILITY_HEAD', 'DETACHED', \n",
    "            'BRGYS', 'RHU_NAME', 'RHU_SAME_CTY', 'RHU_NOTSAME_CTY',\n",
    "            'AMB_ACCESS']\n",
    "code_cols = ['id', 'RHU_CODE']\n",
    "float_cols = ['RHU_DIST', 'RHU_TRAVEL']\n",
    "# int_cols = ['CATCHMENT', 'MD_NO', 'MD_AUG', 'MD_TOTAL',\n",
    "#        'MD_FT', 'MD_PT', 'MD_VISIT', 'RN_NO', 'RN_AUG', 'RN_TOTAL', 'RN_FT',\n",
    "#        'RN_PT', 'RN_VISIT', 'MW_NO', 'MW_AUG', 'MW_TOTAL', 'MW_FT', 'MW_PT',\n",
    "#        'MW_VISIT', 'BHW_NO']\n",
    "\n",
    "bhs[str_cols] = bhs[str_cols].apply(lambda x: x.str.upper().str.strip())\n",
    "bhs[code_cols] = bhs[code_cols].fillna(0).astype(int)\n",
    "bhs[float_cols] = bhs[float_cols].astype(float)\n",
    "\n",
    "bhs[str_cols] = bhs[str_cols].fillna('UNKNOWN')\n",
    "bhs['SHORT_HFCODE'] = bhs['HF_CODE'].apply(lambda x: int(x[-6:]))\n",
    "bhs.to_excel('cleaned/bhs_cleaned.xlsx')"
   ]
  },
  {
   "cell_type": "markdown",
   "metadata": {},
   "source": [
    "##### Fill missing RHU Codes"
   ]
  },
  {
   "cell_type": "code",
   "execution_count": 44,
   "metadata": {
    "ExecuteTime": {
     "end_time": "2020-08-10T18:51:20.683017Z",
     "start_time": "2020-08-10T18:51:13.803276Z"
    }
   },
   "outputs": [],
   "source": [
    "bhs = pd.read_excel('cleaned/bhs_cleaned.xlsx')"
   ]
  },
  {
   "cell_type": "code",
   "execution_count": 45,
   "metadata": {
    "ExecuteTime": {
     "end_time": "2020-08-10T18:51:20.925293Z",
     "start_time": "2020-08-10T18:51:20.827516Z"
    }
   },
   "outputs": [],
   "source": [
    "bhs.loc[bhs['RHU_CODE']==0, 'REF_CODE'] = bhs[bhs['RHU_CODE']==0]['RHU_NAME'].map(HF_dict)"
   ]
  },
  {
   "cell_type": "code",
   "execution_count": 65,
   "metadata": {
    "ExecuteTime": {
     "end_time": "2020-08-10T19:02:20.789476Z",
     "start_time": "2020-08-10T19:02:20.724633Z"
    }
   },
   "outputs": [],
   "source": [
    "temp = bhs[['SHORT_HFCODE', 'REF_CODE']].dropna().copy()\n",
    "temp_dict = pd.DataFrame(temp.apply(lambda x: min([(vincenty((latlong_dict['LAT'][x['SHORT_HFCODE']] if latlong_dict['LAT'][x['SHORT_HFCODE']]==latlong_dict['LAT'][x['SHORT_HFCODE']] else lat_min-10,\n",
    "                                                  latlong_dict['LONG'][x['SHORT_HFCODE']] if latlong_dict['LONG'][x['SHORT_HFCODE']]==latlong_dict['LONG'][x['SHORT_HFCODE']] else long_min-20), \n",
    "                                                 (latlong_dict['LAT'][i] if latlong_dict['LAT'][i]==latlong_dict['LAT'][i] else lat_max+10,\n",
    "                                                  latlong_dict['LONG'][i] if latlong_dict['LONG'][i]==latlong_dict['LONG'][i] else long_max+20)).km, i, x['SHORT_HFCODE']) for i in x['REF_CODE']], key=lambda x: x[0]), axis=1).tolist()).set_index(2).to_dict()\n",
    "\n",
    "bhs['REF_CODE'] = bhs['SHORT_HFCODE'].map(temp_dict[1])"
   ]
  },
  {
   "cell_type": "code",
   "execution_count": 66,
   "metadata": {
    "ExecuteTime": {
     "end_time": "2020-08-10T19:02:21.865066Z",
     "start_time": "2020-08-10T19:02:21.859115Z"
    }
   },
   "outputs": [],
   "source": [
    "bhs.dropna(subset=['REF_CODE'], inplace=True)"
   ]
  },
  {
   "cell_type": "code",
   "execution_count": 67,
   "metadata": {
    "ExecuteTime": {
     "end_time": "2020-08-10T19:02:22.334020Z",
     "start_time": "2020-08-10T19:02:22.331028Z"
    }
   },
   "outputs": [],
   "source": [
    "cols = ['SHORT_HFCODE', 'REF_CODE']"
   ]
  },
  {
   "cell_type": "code",
   "execution_count": 68,
   "metadata": {
    "ExecuteTime": {
     "end_time": "2020-08-10T19:02:22.680157Z",
     "start_time": "2020-08-10T19:02:22.675170Z"
    }
   },
   "outputs": [],
   "source": [
    "bhs = bhs[cols]\n",
    "bhs['HF_TYPE'] = 'BHS'"
   ]
  },
  {
   "cell_type": "code",
   "execution_count": 69,
   "metadata": {
    "ExecuteTime": {
     "end_time": "2020-08-10T19:02:23.379285Z",
     "start_time": "2020-08-10T19:02:23.227554Z"
    }
   },
   "outputs": [],
   "source": [
    "bhs['source_lat'] = bhs['SHORT_HFCODE'].map(latlong_dict['LAT'])\n",
    "bhs['source_long'] = bhs['SHORT_HFCODE'].map(latlong_dict['LONG'])\n",
    "bhs['target_lat'] = bhs['REF_CODE'].map(latlong_dict['LAT'])\n",
    "bhs['target_long'] = bhs['REF_CODE'].map(latlong_dict['LONG'])"
   ]
  },
  {
   "cell_type": "code",
   "execution_count": 70,
   "metadata": {
    "ExecuteTime": {
     "end_time": "2020-08-10T19:02:24.574132Z",
     "start_time": "2020-08-10T19:02:24.557179Z"
    }
   },
   "outputs": [],
   "source": [
    "bhs.loc[~((bhs['source_lat'].between(lat_min, lat_max)) & (bhs['source_long'].between(\n",
    "    long_min, long_max))), ['source_lat', 'source_long']] = np.nan\n",
    "bhs.loc[~((bhs['target_lat'].between(lat_min, lat_max)) & (bhs['target_long'].between(\n",
    "    long_min, long_max))), ['target_lat', 'target_long']] = np.nan"
   ]
  },
  {
   "cell_type": "code",
   "execution_count": 71,
   "metadata": {
    "ExecuteTime": {
     "end_time": "2020-08-10T19:02:25.823250Z",
     "start_time": "2020-08-10T19:02:25.784322Z"
    }
   },
   "outputs": [],
   "source": [
    "missing_latlong = ~bhs[['source_lat', 'source_long', 'target_lat', 'target_long']].isnull().sum(axis=1).astype(bool)\n",
    "bhs.loc[missing_latlong, 'DIST'] = bhs.loc[missing_latlong, ['source_lat', 'source_long', 'target_lat', 'target_long']].apply(lambda x: vincenty((x['source_lat'], x['source_long']), (x['target_lat'], x['target_long'])).km, axis=1)"
   ]
  },
  {
   "cell_type": "code",
   "execution_count": 72,
   "metadata": {
    "ExecuteTime": {
     "end_time": "2020-08-10T19:02:26.913271Z",
     "start_time": "2020-08-10T19:02:26.905289Z"
    }
   },
   "outputs": [],
   "source": [
    "bhs.loc[bhs['DIST']==0, 'DIST'] = 1"
   ]
  },
  {
   "cell_type": "code",
   "execution_count": 73,
   "metadata": {
    "ExecuteTime": {
     "end_time": "2020-08-10T19:02:27.444692Z",
     "start_time": "2020-08-10T19:02:27.355434Z"
    }
   },
   "outputs": [
    {
     "data": {
      "image/png": "[encoded data removed]",
      "text/plain": [
       "<Figure size 432x288 with 1 Axes>"
      ]
     },
     "metadata": {
      "needs_background": "light"
     },
     "output_type": "display_data"
    }
   ],
   "source": [
    "B = bhs.boxplot('DIST', return_type='both')"
   ]
  },
  {
   "cell_type": "code",
   "execution_count": 74,
   "metadata": {
    "ExecuteTime": {
     "end_time": "2020-08-10T19:02:27.764566Z",
     "start_time": "2020-08-10T19:02:27.760577Z"
    }
   },
   "outputs": [],
   "source": [
    "outliers = [i.get_ydata()[1] for i in B.lines['whiskers']]"
   ]
  },
  {
   "cell_type": "code",
   "execution_count": 75,
   "metadata": {
    "ExecuteTime": {
     "end_time": "2020-08-10T19:02:28.264561Z",
     "start_time": "2020-08-10T19:02:28.260572Z"
    }
   },
   "outputs": [
    {
     "data": {
      "text/plain": [
       "[0.0024470114519412256, 16.988283224538524]"
      ]
     },
     "execution_count": 75,
     "metadata": {},
     "output_type": "execute_result"
    }
   ],
   "source": [
    "outliers"
   ]
  },
  {
   "cell_type": "code",
   "execution_count": 76,
   "metadata": {
    "ExecuteTime": {
     "end_time": "2020-08-10T19:02:28.624570Z",
     "start_time": "2020-08-10T19:02:28.616592Z"
    }
   },
   "outputs": [],
   "source": [
    "outliers = [i.get_ydata()[1] for i in B.lines['whiskers']]\n",
    "bhs.loc[bhs['DIST'] > outliers[1], 'DIST'] = np.nan"
   ]
  },
  {
   "cell_type": "code",
   "execution_count": 77,
   "metadata": {
    "ExecuteTime": {
     "end_time": "2020-08-10T19:02:28.917558Z",
     "start_time": "2020-08-10T19:02:28.898608Z"
    }
   },
   "outputs": [],
   "source": [
    "muni_dict = HF_list[['SHORT_HFCODE', 'MUNI_CITY', 'PROVINCE']].set_index('SHORT_HFCODE').to_dict()"
   ]
  },
  {
   "cell_type": "code",
   "execution_count": 78,
   "metadata": {
    "ExecuteTime": {
     "end_time": "2020-08-10T19:02:31.109115Z",
     "start_time": "2020-08-10T19:02:31.075036Z"
    }
   },
   "outputs": [],
   "source": [
    "bhs['muni_city'] = bhs['SHORT_HFCODE'].map(muni_dict['MUNI_CITY'])\n",
    "mean_dist_city = bhs.groupby('muni_city')['DIST'].mean().to_dict()\n",
    "\n",
    "imputed_muni = ~(bhs.loc[bhs['DIST'].isnull(), 'muni_city'].map(mean_dist_city).isnull())\n",
    "imputed_muni = imputed_muni[imputed_muni].index\n",
    "bhs.loc[imputed_muni, \"IMPUTED\"] = \"MUNI\" \n",
    "bhs.loc[bhs['DIST'].isnull(), 'DIST'] = bhs.loc[bhs['DIST'].isnull(), 'muni_city'].map(mean_dist_city)"
   ]
  },
  {
   "cell_type": "code",
   "execution_count": 79,
   "metadata": {
    "ExecuteTime": {
     "end_time": "2020-08-10T19:02:31.330394Z",
     "start_time": "2020-08-10T19:02:31.307416Z"
    }
   },
   "outputs": [],
   "source": [
    "bhs['province'] = bhs['SHORT_HFCODE'].map(muni_dict['PROVINCE'])\n",
    "mean_dist_prov = bhs.groupby('province')['DIST'].mean().to_dict()\n",
    "\n",
    "imputed_prov = ~(bhs.loc[bhs['DIST'].isnull(), 'province'].map(mean_dist_prov).isnull())\n",
    "imputed_prov = imputed_prov[imputed_prov].index\n",
    "\n",
    "bhs.loc[imputed_prov, \"IMPUTED\"] = \"PROV\"\n",
    "bhs.loc[bhs['DIST'].isnull(), 'DIST'] = bhs.loc[bhs['DIST'].isnull(), 'province'].map(mean_dist_prov)"
   ]
  },
  {
   "cell_type": "code",
   "execution_count": 80,
   "metadata": {
    "ExecuteTime": {
     "end_time": "2020-08-10T19:02:31.536804Z",
     "start_time": "2020-08-10T19:02:31.531817Z"
    }
   },
   "outputs": [
    {
     "data": {
      "text/plain": [
       "6"
      ]
     },
     "execution_count": 80,
     "metadata": {},
     "output_type": "execute_result"
    }
   ],
   "source": [
    "bhs['DIST'].isnull().sum()"
   ]
  },
  {
   "cell_type": "code",
   "execution_count": 81,
   "metadata": {
    "ExecuteTime": {
     "end_time": "2020-08-10T19:02:31.742252Z",
     "start_time": "2020-08-10T19:02:31.737267Z"
    }
   },
   "outputs": [],
   "source": [
    "bhs.dropna(subset=['DIST'], inplace=True)"
   ]
  },
  {
   "cell_type": "code",
   "execution_count": 82,
   "metadata": {
    "ExecuteTime": {
     "end_time": "2020-08-10T19:02:31.948701Z",
     "start_time": "2020-08-10T19:02:31.943715Z"
    }
   },
   "outputs": [],
   "source": [
    "bhs = bhs[['SHORT_HFCODE', 'REF_CODE', 'DIST', 'IMPUTED']]"
   ]
  },
  {
   "cell_type": "code",
   "execution_count": 83,
   "metadata": {
    "ExecuteTime": {
     "end_time": "2020-08-10T19:02:32.134205Z",
     "start_time": "2020-08-10T19:02:32.130217Z"
    }
   },
   "outputs": [],
   "source": [
    "bhs = bhs[bhs['REF_CODE'] != bhs['SHORT_HFCODE']]"
   ]
  },
  {
   "cell_type": "code",
   "execution_count": 84,
   "metadata": {
    "ExecuteTime": {
     "end_time": "2020-08-10T19:02:32.330716Z",
     "start_time": "2020-08-10T19:02:32.317717Z"
    }
   },
   "outputs": [
    {
     "data": {
      "text/html": [
       "<div>\n",
       "<style scoped>\n",
       "    .dataframe tbody tr th:only-of-type {\n",
       "        vertical-align: middle;\n",
       "    }\n",
       "\n",
       "    .dataframe tbody tr th {\n",
       "        vertical-align: top;\n",
       "    }\n",
       "\n",
       "    .dataframe thead th {\n",
       "        text-align: right;\n",
       "    }\n",
       "</style>\n",
       "<table border=\"1\" class=\"dataframe\">\n",
       "  <thead>\n",
       "    <tr style=\"text-align: right;\">\n",
       "      <th></th>\n",
       "      <th>DIST</th>\n",
       "      <th>IMPUTED</th>\n",
       "      <th>REF_CODE</th>\n",
       "      <th>SHORT_HFCODE</th>\n",
       "    </tr>\n",
       "  </thead>\n",
       "  <tbody>\n",
       "    <tr>\n",
       "      <th>0</th>\n",
       "      <td>0.00</td>\n",
       "      <td>NaN</td>\n",
       "      <td>32,170.00</td>\n",
       "      <td>25</td>\n",
       "    </tr>\n",
       "    <tr>\n",
       "      <th>1</th>\n",
       "      <td>0.41</td>\n",
       "      <td>NaN</td>\n",
       "      <td>5,940.00</td>\n",
       "      <td>105</td>\n",
       "    </tr>\n",
       "    <tr>\n",
       "      <th>2</th>\n",
       "      <td>11.13</td>\n",
       "      <td>NaN</td>\n",
       "      <td>3,313.00</td>\n",
       "      <td>106</td>\n",
       "    </tr>\n",
       "    <tr>\n",
       "      <th>4</th>\n",
       "      <td>11.29</td>\n",
       "      <td>NaN</td>\n",
       "      <td>3,313.00</td>\n",
       "      <td>137</td>\n",
       "    </tr>\n",
       "    <tr>\n",
       "      <th>5</th>\n",
       "      <td>5.98</td>\n",
       "      <td>NaN</td>\n",
       "      <td>6,513.00</td>\n",
       "      <td>1760</td>\n",
       "    </tr>\n",
       "    <tr>\n",
       "      <th>...</th>\n",
       "      <td>...</td>\n",
       "      <td>...</td>\n",
       "      <td>...</td>\n",
       "      <td>...</td>\n",
       "    </tr>\n",
       "    <tr>\n",
       "      <th>19297</th>\n",
       "      <td>8.88</td>\n",
       "      <td>NaN</td>\n",
       "      <td>7,207.00</td>\n",
       "      <td>17805</td>\n",
       "    </tr>\n",
       "    <tr>\n",
       "      <th>19325</th>\n",
       "      <td>3.56</td>\n",
       "      <td>NaN</td>\n",
       "      <td>79.00</td>\n",
       "      <td>17893</td>\n",
       "    </tr>\n",
       "    <tr>\n",
       "      <th>19345</th>\n",
       "      <td>0.65</td>\n",
       "      <td>NaN</td>\n",
       "      <td>27,529.00</td>\n",
       "      <td>27530</td>\n",
       "    </tr>\n",
       "    <tr>\n",
       "      <th>19367</th>\n",
       "      <td>1.68</td>\n",
       "      <td>NaN</td>\n",
       "      <td>169.00</td>\n",
       "      <td>29236</td>\n",
       "    </tr>\n",
       "    <tr>\n",
       "      <th>19368</th>\n",
       "      <td>12.67</td>\n",
       "      <td>NaN</td>\n",
       "      <td>169.00</td>\n",
       "      <td>29238</td>\n",
       "    </tr>\n",
       "  </tbody>\n",
       "</table>\n",
       "<p>12793 rows × 4 columns</p>\n",
       "</div>"
      ],
      "text/plain": [
       "       DIST IMPUTED  REF_CODE  SHORT_HFCODE\n",
       "0      0.00     NaN 32,170.00            25\n",
       "1      0.41     NaN  5,940.00           105\n",
       "2     11.13     NaN  3,313.00           106\n",
       "4     11.29     NaN  3,313.00           137\n",
       "5      5.98     NaN  6,513.00          1760\n",
       "...     ...     ...       ...           ...\n",
       "19297  8.88     NaN  7,207.00         17805\n",
       "19325  3.56     NaN     79.00         17893\n",
       "19345  0.65     NaN 27,529.00         27530\n",
       "19367  1.68     NaN    169.00         29236\n",
       "19368 12.67     NaN    169.00         29238\n",
       "\n",
       "[12793 rows x 4 columns]"
      ]
     },
     "execution_count": 84,
     "metadata": {},
     "output_type": "execute_result"
    }
   ],
   "source": [
    "edge_list = rhu_edges.append(bhs)\n",
    "edge_list"
   ]
  },
  {
   "cell_type": "code",
   "execution_count": 85,
   "metadata": {
    "ExecuteTime": {
     "end_time": "2020-08-10T19:02:35.098781Z",
     "start_time": "2020-08-10T19:02:35.077802Z"
    }
   },
   "outputs": [],
   "source": [
    "edge_list = edge_list.groupby(['REF_CODE', 'SHORT_HFCODE'])[['IMPUTED', 'DIST']].agg({'DIST':'mean', 'IMPUTED':'first'}).reset_index()"
   ]
  },
  {
   "cell_type": "code",
   "execution_count": 86,
   "metadata": {
    "ExecuteTime": {
     "end_time": "2020-08-10T19:02:39.737440Z",
     "start_time": "2020-08-10T19:02:39.182223Z"
    }
   },
   "outputs": [],
   "source": [
    "edge_list.to_excel('edge_list.xlsx', index=False)"
   ]
  },
  {
   "cell_type": "markdown",
   "metadata": {},
   "source": [
    "## Network Analysis\n",
    "\n",
    "Using the facilities as nodes and the referral as edges, a tripartite network of BHS, RHU, and hospitals is created. The characteristics of the healthcare provider network for different regions are characterized and explored in this section. The main metric used in the analysis is degree and path length. "
   ]
  },
  {
   "cell_type": "code",
   "execution_count": 87,
   "metadata": {
    "ExecuteTime": {
     "end_time": "2020-08-10T19:02:40.940396Z",
     "start_time": "2020-08-10T19:02:40.935410Z"
    }
   },
   "outputs": [],
   "source": [
    "import pandas as pd\n",
    "import networkx as nx\n",
    "%matplotlib inline\n",
    "import matplotlib.pyplot as plt\n",
    "import numpy as np\n",
    "import itertools\n",
    "import random"
   ]
  },
  {
   "cell_type": "code",
   "execution_count": 167,
   "metadata": {
    "ExecuteTime": {
     "end_time": "2020-08-10T19:19:55.648453Z",
     "start_time": "2020-08-10T19:19:52.428885Z"
    }
   },
   "outputs": [],
   "source": [
    "nodes = pd.read_excel(\"nodeslist.xlsx\")\n",
    "edges = pd.read_excel(\"edge_list.xlsx\")"
   ]
  },
  {
   "cell_type": "markdown",
   "metadata": {},
   "source": [
    "For the succeeding analysis, the imputed distances using the nearest neighbors are not included."
   ]
  },
  {
   "cell_type": "code",
   "execution_count": 168,
   "metadata": {
    "ExecuteTime": {
     "end_time": "2020-08-10T19:19:57.945781Z",
     "start_time": "2020-08-10T19:19:57.939797Z"
    }
   },
   "outputs": [],
   "source": [
    "edges = edges[(edges['IMPUTED']!='NEAREST_NEIGHBOR') | (edges['SHORT_HFCODE']!=6108)]"
   ]
  },
  {
   "cell_type": "code",
   "execution_count": 169,
   "metadata": {
    "ExecuteTime": {
     "end_time": "2020-08-10T19:19:58.293853Z",
     "start_time": "2020-08-10T19:19:58.287834Z"
    }
   },
   "outputs": [],
   "source": [
    "nodes.drop(['LAT', 'LONG'], axis=1, inplace=True)"
   ]
  },
  {
   "cell_type": "code",
   "execution_count": 170,
   "metadata": {
    "ExecuteTime": {
     "end_time": "2020-08-10T19:19:58.733768Z",
     "start_time": "2020-08-10T19:19:58.637900Z"
    }
   },
   "outputs": [],
   "source": [
    "G = nx.from_pandas_edgelist(edges, source='SHORT_HFCODE', target='REF_CODE', edge_attr='DIST', create_using=nx.DiGraph)"
   ]
  },
  {
   "cell_type": "code",
   "execution_count": 171,
   "metadata": {
    "ExecuteTime": {
     "end_time": "2020-08-10T19:19:59.027972Z",
     "start_time": "2020-08-10T19:19:59.024990Z"
    }
   },
   "outputs": [],
   "source": [
    "nodes.index = nodes['SHORT_HFCODE']"
   ]
  },
  {
   "cell_type": "code",
   "execution_count": 172,
   "metadata": {
    "ExecuteTime": {
     "end_time": "2020-08-10T19:19:59.379043Z",
     "start_time": "2020-08-10T19:19:59.315180Z"
    }
   },
   "outputs": [],
   "source": [
    "node_attrib = nodes.to_dict()"
   ]
  },
  {
   "cell_type": "code",
   "execution_count": 173,
   "metadata": {
    "ExecuteTime": {
     "end_time": "2020-08-10T19:19:59.881219Z",
     "start_time": "2020-08-10T19:19:59.668745Z"
    }
   },
   "outputs": [],
   "source": [
    "for col in nodes.columns:\n",
    "    nx.set_node_attributes(G, node_attrib[col], col)"
   ]
  },
  {
   "cell_type": "code",
   "execution_count": 174,
   "metadata": {
    "ExecuteTime": {
     "end_time": "2020-08-10T19:20:00.193344Z",
     "start_time": "2020-08-10T19:20:00.171404Z"
    }
   },
   "outputs": [],
   "source": [
    "bhs_nodes = [i for i, j in G.nodes(data=True) if j.get('HF_TYPE')=='BARANGAY HEALTH STATION']\n",
    "rhu_nodes = [i for i, j in G.nodes(data=True) if j.get('HF_TYPE')=='RURAL HEALTH UNIT']\n",
    "hosp_nodes = [i for i, j in G.nodes(data=True) if ((j.get('HF_TYPE')=='HOSPITAL') or (j.get('HF_TYPE')=='INFIRMARY'))]"
   ]
  },
  {
   "cell_type": "markdown",
   "metadata": {},
   "source": [
    "### Degree (Hospital)"
   ]
  },
  {
   "cell_type": "code",
   "execution_count": 175,
   "metadata": {
    "ExecuteTime": {
     "end_time": "2020-08-10T19:20:00.485588Z",
     "start_time": "2020-08-10T19:20:00.482602Z"
    }
   },
   "outputs": [],
   "source": [
    "import seaborn as sns"
   ]
  },
  {
   "cell_type": "code",
   "execution_count": 176,
   "metadata": {
    "ExecuteTime": {
     "end_time": "2020-08-10T19:20:00.867576Z",
     "start_time": "2020-08-10T19:20:00.787754Z"
    }
   },
   "outputs": [],
   "source": [
    "region_deg = {}\n",
    "for region in nodes['REGION'].unique():\n",
    "    deg = list(dict(G.in_degree(nodes[((nodes['HF_TYPE']=='INFIRMARY') | (nodes['HF_TYPE']=='HOSPITAL')) & (nodes['REGION']==region)]['SHORT_HFCODE'])).values())\n",
    "    region_deg[region] = deg"
   ]
  },
  {
   "cell_type": "code",
   "execution_count": 177,
   "metadata": {
    "ExecuteTime": {
     "end_time": "2020-08-10T19:20:01.160765Z",
     "start_time": "2020-08-10T19:20:01.154773Z"
    }
   },
   "outputs": [],
   "source": [
    "df_deg = pd.DataFrame(list(itertools.chain(*[list(zip(len(j) * [i], j)) for i, j in region_deg.items()]))).rename({0:'Region', 1:'Degree'}, axis=1)#.boxplot(by=0)"
   ]
  },
  {
   "cell_type": "code",
   "execution_count": 178,
   "metadata": {
    "ExecuteTime": {
     "end_time": "2020-08-10T19:20:01.459990Z",
     "start_time": "2020-08-10T19:20:01.456000Z"
    }
   },
   "outputs": [],
   "source": [
    "region_map = {'AUTONOMOUS REGION IN MUSLIM MINDANAO (ARMM)':'ARMM',\n",
    "       'CORDILLERA ADMINISTRA TIVE REGION (CAR)':'CAR',\n",
    "       'REGION IV-B (MIMAROPA)':'IV-B', 'NATIONAL CAPITAL REGION (NCR)':'NCR',\n",
    "       'REGION X (NORTHERN MINDANAO)':'X', 'REGION XI (DAVAO REGION)':'XI',\n",
    "       'REGION XII (SOCCSKSA RGEN)':'XII', 'REGION XIII (CARAGA)':'XIII',\n",
    "       'REGION I (ILOCOS REGION)':'I', 'REGION II (CAGAYAN VALLEY)':'II',\n",
    "       'REGION III (CENTRAL LUZON)':'III', 'REGION IV-A (CALABAR ZON)':'IV-A',\n",
    "       'REGION V (BICOL REGION)':'V', 'REGION VI (WESTERN VISAYAS)':'VI',\n",
    "       'REGION VII (CENTRAL VISAYAS)':'VII', 'REGION VIII (EASTERN VISAYAS)':'VIII',\n",
    "       'REGION IX (ZAMBOANGA PENINSULA)':'IX'}"
   ]
  },
  {
   "cell_type": "code",
   "execution_count": 179,
   "metadata": {
    "ExecuteTime": {
     "end_time": "2020-08-10T19:20:01.756165Z",
     "start_time": "2020-08-10T19:20:01.752177Z"
    }
   },
   "outputs": [],
   "source": [
    "df_deg['Region'] = df_deg['Region'].map(region_map)"
   ]
  },
  {
   "cell_type": "code",
   "execution_count": 180,
   "metadata": {
    "ExecuteTime": {
     "end_time": "2020-08-10T19:20:02.059355Z",
     "start_time": "2020-08-10T19:20:02.046390Z"
    }
   },
   "outputs": [
    {
     "data": {
      "text/html": [
       "<div>\n",
       "<style scoped>\n",
       "    .dataframe tbody tr th:only-of-type {\n",
       "        vertical-align: middle;\n",
       "    }\n",
       "\n",
       "    .dataframe tbody tr th {\n",
       "        vertical-align: top;\n",
       "    }\n",
       "\n",
       "    .dataframe thead th {\n",
       "        text-align: right;\n",
       "    }\n",
       "</style>\n",
       "<table border=\"1\" class=\"dataframe\">\n",
       "  <thead>\n",
       "    <tr style=\"text-align: right;\">\n",
       "      <th></th>\n",
       "      <th>max</th>\n",
       "      <th>mean</th>\n",
       "      <th>median</th>\n",
       "      <th>count</th>\n",
       "    </tr>\n",
       "    <tr>\n",
       "      <th>Region</th>\n",
       "      <th></th>\n",
       "      <th></th>\n",
       "      <th></th>\n",
       "      <th></th>\n",
       "    </tr>\n",
       "  </thead>\n",
       "  <tbody>\n",
       "    <tr>\n",
       "      <th>ARMM</th>\n",
       "      <td>24</td>\n",
       "      <td>6.94</td>\n",
       "      <td>4.50</td>\n",
       "      <td>18</td>\n",
       "    </tr>\n",
       "    <tr>\n",
       "      <th>CAR</th>\n",
       "      <td>32</td>\n",
       "      <td>9.50</td>\n",
       "      <td>7.00</td>\n",
       "      <td>36</td>\n",
       "    </tr>\n",
       "    <tr>\n",
       "      <th>I</th>\n",
       "      <td>68</td>\n",
       "      <td>14.95</td>\n",
       "      <td>10.00</td>\n",
       "      <td>39</td>\n",
       "    </tr>\n",
       "    <tr>\n",
       "      <th>II</th>\n",
       "      <td>58</td>\n",
       "      <td>9.66</td>\n",
       "      <td>7.00</td>\n",
       "      <td>38</td>\n",
       "    </tr>\n",
       "    <tr>\n",
       "      <th>III</th>\n",
       "      <td>153</td>\n",
       "      <td>17.21</td>\n",
       "      <td>12.50</td>\n",
       "      <td>62</td>\n",
       "    </tr>\n",
       "    <tr>\n",
       "      <th>IV-A</th>\n",
       "      <td>144</td>\n",
       "      <td>11.51</td>\n",
       "      <td>8.00</td>\n",
       "      <td>61</td>\n",
       "    </tr>\n",
       "    <tr>\n",
       "      <th>IV-B</th>\n",
       "      <td>59</td>\n",
       "      <td>8.32</td>\n",
       "      <td>6.00</td>\n",
       "      <td>34</td>\n",
       "    </tr>\n",
       "    <tr>\n",
       "      <th>IX</th>\n",
       "      <td>53</td>\n",
       "      <td>13.17</td>\n",
       "      <td>11.00</td>\n",
       "      <td>23</td>\n",
       "    </tr>\n",
       "    <tr>\n",
       "      <th>NCR</th>\n",
       "      <td>73</td>\n",
       "      <td>29.92</td>\n",
       "      <td>28.50</td>\n",
       "      <td>48</td>\n",
       "    </tr>\n",
       "    <tr>\n",
       "      <th>V</th>\n",
       "      <td>65</td>\n",
       "      <td>12.10</td>\n",
       "      <td>8.00</td>\n",
       "      <td>41</td>\n",
       "    </tr>\n",
       "    <tr>\n",
       "      <th>VI</th>\n",
       "      <td>96</td>\n",
       "      <td>10.84</td>\n",
       "      <td>7.00</td>\n",
       "      <td>50</td>\n",
       "    </tr>\n",
       "    <tr>\n",
       "      <th>VII</th>\n",
       "      <td>63</td>\n",
       "      <td>10.23</td>\n",
       "      <td>8.00</td>\n",
       "      <td>48</td>\n",
       "    </tr>\n",
       "    <tr>\n",
       "      <th>VIII</th>\n",
       "      <td>146</td>\n",
       "      <td>15.92</td>\n",
       "      <td>11.00</td>\n",
       "      <td>39</td>\n",
       "    </tr>\n",
       "    <tr>\n",
       "      <th>X</th>\n",
       "      <td>47</td>\n",
       "      <td>8.58</td>\n",
       "      <td>6.50</td>\n",
       "      <td>36</td>\n",
       "    </tr>\n",
       "    <tr>\n",
       "      <th>XI</th>\n",
       "      <td>30</td>\n",
       "      <td>6.85</td>\n",
       "      <td>5.50</td>\n",
       "      <td>26</td>\n",
       "    </tr>\n",
       "    <tr>\n",
       "      <th>XII</th>\n",
       "      <td>47</td>\n",
       "      <td>8.10</td>\n",
       "      <td>5.00</td>\n",
       "      <td>21</td>\n",
       "    </tr>\n",
       "    <tr>\n",
       "      <th>XIII</th>\n",
       "      <td>37</td>\n",
       "      <td>7.58</td>\n",
       "      <td>6.00</td>\n",
       "      <td>26</td>\n",
       "    </tr>\n",
       "  </tbody>\n",
       "</table>\n",
       "</div>"
      ],
      "text/plain": [
       "        max  mean  median  count\n",
       "Region                          \n",
       "ARMM     24  6.94    4.50     18\n",
       "CAR      32  9.50    7.00     36\n",
       "I        68 14.95   10.00     39\n",
       "II       58  9.66    7.00     38\n",
       "III     153 17.21   12.50     62\n",
       "IV-A    144 11.51    8.00     61\n",
       "IV-B     59  8.32    6.00     34\n",
       "IX       53 13.17   11.00     23\n",
       "NCR      73 29.92   28.50     48\n",
       "V        65 12.10    8.00     41\n",
       "VI       96 10.84    7.00     50\n",
       "VII      63 10.23    8.00     48\n",
       "VIII    146 15.92   11.00     39\n",
       "X        47  8.58    6.50     36\n",
       "XI       30  6.85    5.50     26\n",
       "XII      47  8.10    5.00     21\n",
       "XIII     37  7.58    6.00     26"
      ]
     },
     "execution_count": 180,
     "metadata": {},
     "output_type": "execute_result"
    }
   ],
   "source": [
    "(df_deg.groupby('Region')['Degree']\n",
    " .agg(['min', 'max', 'mean', 'median', 'count']).sort_values(by='Region')\n",
    " [['max', 'mean', 'median', 'count']])"
   ]
  },
  {
   "cell_type": "markdown",
   "metadata": {},
   "source": [
    "### Degree Outliers (Hospital)"
   ]
  },
  {
   "cell_type": "code",
   "execution_count": 181,
   "metadata": {
    "ExecuteTime": {
     "end_time": "2020-08-10T19:20:02.362576Z",
     "start_time": "2020-08-10T19:20:02.353569Z"
    }
   },
   "outputs": [],
   "source": [
    "upper_fence = df_deg.groupby('Region')['Degree'].quantile(0.75) + 1.5 * (df_deg.groupby('Region')['Degree'].quantile(0.75) - df_deg.groupby('Region')['Degree'].quantile(0.25))"
   ]
  },
  {
   "cell_type": "code",
   "execution_count": 182,
   "metadata": {
    "ExecuteTime": {
     "end_time": "2020-08-10T19:20:02.989867Z",
     "start_time": "2020-08-10T19:20:02.652800Z"
    }
   },
   "outputs": [
    {
     "data": {
      "image/png": "[encoded data removed]",
      "text/plain": [
       "<Figure size 720x576 with 1 Axes>"
      ]
     },
     "metadata": {
      "needs_background": "light"
     },
     "output_type": "display_data"
    }
   ],
   "source": [
    "fig, ax = plt.subplots(figsize=(10,8))\n",
    "\n",
    "# fig = plt.figure()\n",
    "sns.boxplot(data=df_deg, x='Region', y='Degree', palette='Blues',\n",
    "            order=upper_fence.sort_values(ascending=False).index)\n",
    "labels = [l.get_text() for l in ax.get_xticklabels()]\n",
    "ax.set_xticklabels(labels, ha='right');"
   ]
  },
  {
   "cell_type": "code",
   "execution_count": 183,
   "metadata": {
    "ExecuteTime": {
     "end_time": "2020-08-10T19:20:04.553597Z",
     "start_time": "2020-08-10T19:20:04.540639Z"
    }
   },
   "outputs": [
    {
     "data": {
      "text/html": [
       "<div>\n",
       "<style scoped>\n",
       "    .dataframe tbody tr th:only-of-type {\n",
       "        vertical-align: middle;\n",
       "    }\n",
       "\n",
       "    .dataframe tbody tr th {\n",
       "        vertical-align: top;\n",
       "    }\n",
       "\n",
       "    .dataframe thead th {\n",
       "        text-align: right;\n",
       "    }\n",
       "</style>\n",
       "<table border=\"1\" class=\"dataframe\">\n",
       "  <thead>\n",
       "    <tr style=\"text-align: right;\">\n",
       "      <th></th>\n",
       "      <th>min</th>\n",
       "      <th>max</th>\n",
       "      <th>mean</th>\n",
       "      <th>median</th>\n",
       "      <th>count</th>\n",
       "    </tr>\n",
       "    <tr>\n",
       "      <th>Region</th>\n",
       "      <th></th>\n",
       "      <th></th>\n",
       "      <th></th>\n",
       "      <th></th>\n",
       "      <th></th>\n",
       "    </tr>\n",
       "  </thead>\n",
       "  <tbody>\n",
       "    <tr>\n",
       "      <th>ARMM</th>\n",
       "      <td>6.00</td>\n",
       "      <td>6.00</td>\n",
       "      <td>6.00</td>\n",
       "      <td>6.00</td>\n",
       "      <td>1</td>\n",
       "    </tr>\n",
       "    <tr>\n",
       "      <th>CAR</th>\n",
       "      <td>3.75</td>\n",
       "      <td>10.75</td>\n",
       "      <td>7.42</td>\n",
       "      <td>7.75</td>\n",
       "      <td>3</td>\n",
       "    </tr>\n",
       "    <tr>\n",
       "      <th>I</th>\n",
       "      <td>1.75</td>\n",
       "      <td>39.75</td>\n",
       "      <td>27.00</td>\n",
       "      <td>33.25</td>\n",
       "      <td>4</td>\n",
       "    </tr>\n",
       "    <tr>\n",
       "      <th>II</th>\n",
       "      <td>0.62</td>\n",
       "      <td>34.62</td>\n",
       "      <td>13.62</td>\n",
       "      <td>5.62</td>\n",
       "      <td>3</td>\n",
       "    </tr>\n",
       "    <tr>\n",
       "      <th>III</th>\n",
       "      <td>4.50</td>\n",
       "      <td>123.50</td>\n",
       "      <td>38.83</td>\n",
       "      <td>27.50</td>\n",
       "      <td>6</td>\n",
       "    </tr>\n",
       "    <tr>\n",
       "      <th>IV-A</th>\n",
       "      <td>8.00</td>\n",
       "      <td>123.00</td>\n",
       "      <td>39.50</td>\n",
       "      <td>13.50</td>\n",
       "      <td>4</td>\n",
       "    </tr>\n",
       "    <tr>\n",
       "      <th>IV-B</th>\n",
       "      <td>2.00</td>\n",
       "      <td>45.00</td>\n",
       "      <td>14.25</td>\n",
       "      <td>5.00</td>\n",
       "      <td>4</td>\n",
       "    </tr>\n",
       "    <tr>\n",
       "      <th>IX</th>\n",
       "      <td>16.00</td>\n",
       "      <td>16.00</td>\n",
       "      <td>16.00</td>\n",
       "      <td>16.00</td>\n",
       "      <td>1</td>\n",
       "    </tr>\n",
       "    <tr>\n",
       "      <th>NCR</th>\n",
       "      <td>4.88</td>\n",
       "      <td>4.88</td>\n",
       "      <td>4.88</td>\n",
       "      <td>4.88</td>\n",
       "      <td>1</td>\n",
       "    </tr>\n",
       "    <tr>\n",
       "      <th>V</th>\n",
       "      <td>12.00</td>\n",
       "      <td>45.00</td>\n",
       "      <td>31.25</td>\n",
       "      <td>34.00</td>\n",
       "      <td>4</td>\n",
       "    </tr>\n",
       "    <tr>\n",
       "      <th>VI</th>\n",
       "      <td>7.62</td>\n",
       "      <td>76.62</td>\n",
       "      <td>27.38</td>\n",
       "      <td>12.62</td>\n",
       "      <td>4</td>\n",
       "    </tr>\n",
       "    <tr>\n",
       "      <th>VII</th>\n",
       "      <td>1.62</td>\n",
       "      <td>41.62</td>\n",
       "      <td>14.62</td>\n",
       "      <td>7.62</td>\n",
       "      <td>4</td>\n",
       "    </tr>\n",
       "    <tr>\n",
       "      <th>VIII</th>\n",
       "      <td>0.25</td>\n",
       "      <td>121.25</td>\n",
       "      <td>34.75</td>\n",
       "      <td>8.75</td>\n",
       "      <td>4</td>\n",
       "    </tr>\n",
       "    <tr>\n",
       "      <th>X</th>\n",
       "      <td>17.00</td>\n",
       "      <td>32.00</td>\n",
       "      <td>24.50</td>\n",
       "      <td>24.50</td>\n",
       "      <td>2</td>\n",
       "    </tr>\n",
       "    <tr>\n",
       "      <th>XI</th>\n",
       "      <td>8.00</td>\n",
       "      <td>10.00</td>\n",
       "      <td>9.00</td>\n",
       "      <td>9.00</td>\n",
       "      <td>2</td>\n",
       "    </tr>\n",
       "    <tr>\n",
       "      <th>XII</th>\n",
       "      <td>26.50</td>\n",
       "      <td>26.50</td>\n",
       "      <td>26.50</td>\n",
       "      <td>26.50</td>\n",
       "      <td>1</td>\n",
       "    </tr>\n",
       "    <tr>\n",
       "      <th>XIII</th>\n",
       "      <td>2.62</td>\n",
       "      <td>23.62</td>\n",
       "      <td>13.12</td>\n",
       "      <td>13.12</td>\n",
       "      <td>2</td>\n",
       "    </tr>\n",
       "  </tbody>\n",
       "</table>\n",
       "</div>"
      ],
      "text/plain": [
       "         min    max  mean  median  count\n",
       "Region                                  \n",
       "ARMM    6.00   6.00  6.00    6.00      1\n",
       "CAR     3.75  10.75  7.42    7.75      3\n",
       "I       1.75  39.75 27.00   33.25      4\n",
       "II      0.62  34.62 13.62    5.62      3\n",
       "III     4.50 123.50 38.83   27.50      6\n",
       "IV-A    8.00 123.00 39.50   13.50      4\n",
       "IV-B    2.00  45.00 14.25    5.00      4\n",
       "IX     16.00  16.00 16.00   16.00      1\n",
       "NCR     4.88   4.88  4.88    4.88      1\n",
       "V      12.00  45.00 31.25   34.00      4\n",
       "VI      7.62  76.62 27.38   12.62      4\n",
       "VII     1.62  41.62 14.62    7.62      4\n",
       "VIII    0.25 121.25 34.75    8.75      4\n",
       "X      17.00  32.00 24.50   24.50      2\n",
       "XI      8.00  10.00  9.00    9.00      2\n",
       "XII    26.50  26.50 26.50   26.50      1\n",
       "XIII    2.62  23.62 13.12   13.12      2"
      ]
     },
     "execution_count": 183,
     "metadata": {},
     "output_type": "execute_result"
    }
   ],
   "source": [
    "df_deg['Outlierness'] = df_deg['Degree'] - df_deg['Region'].map(upper_fence)\n",
    "deg_outlier = df_deg[df_deg['Outlierness'] > 0].groupby('Region')['Outlierness'].agg(['min', 'max', 'mean', 'median', 'count'])\n",
    "deg_outlier"
   ]
  },
  {
   "cell_type": "markdown",
   "metadata": {},
   "source": [
    "### Degree (RHU)"
   ]
  },
  {
   "cell_type": "code",
   "execution_count": 184,
   "metadata": {
    "ExecuteTime": {
     "end_time": "2020-08-10T19:20:05.681894Z",
     "start_time": "2020-08-10T19:20:05.678868Z"
    }
   },
   "outputs": [],
   "source": [
    "import seaborn as sns"
   ]
  },
  {
   "cell_type": "code",
   "execution_count": 185,
   "metadata": {
    "ExecuteTime": {
     "end_time": "2020-08-10T19:20:06.101895Z",
     "start_time": "2020-08-10T19:20:06.041899Z"
    }
   },
   "outputs": [],
   "source": [
    "region_deg = {}\n",
    "for region in nodes['REGION'].unique():\n",
    "    deg = list(dict(G.in_degree(nodes[(nodes['HF_TYPE']=='RURAL HEALTH UNIT') & (nodes['REGION']==region)]['SHORT_HFCODE'])).values())\n",
    "    region_deg[region] = deg"
   ]
  },
  {
   "cell_type": "code",
   "execution_count": 186,
   "metadata": {
    "ExecuteTime": {
     "end_time": "2020-08-10T19:20:06.404952Z",
     "start_time": "2020-08-10T19:20:06.399942Z"
    }
   },
   "outputs": [],
   "source": [
    "df_deg = pd.DataFrame(list(itertools.chain(*[list(zip(len(j) * [i], j)) for i, j in region_deg.items()]))).rename({0:'Region', 1:'Degree'}, axis=1)#.boxplot(by=0)"
   ]
  },
  {
   "cell_type": "code",
   "execution_count": 187,
   "metadata": {
    "ExecuteTime": {
     "end_time": "2020-08-10T19:20:06.733285Z",
     "start_time": "2020-08-10T19:20:06.729297Z"
    }
   },
   "outputs": [],
   "source": [
    "region_map = {'AUTONOMOUS REGION IN MUSLIM MINDANAO (ARMM)':'ARMM',\n",
    "       'CORDILLERA ADMINISTRA TIVE REGION (CAR)':'CAR',\n",
    "       'REGION IV-B (MIMAROPA)':'IV-B', 'NATIONAL CAPITAL REGION (NCR)':'NCR',\n",
    "       'REGION X (NORTHERN MINDANAO)':'X', 'REGION XI (DAVAO REGION)':'XI',\n",
    "       'REGION XII (SOCCSKSA RGEN)':'XII', 'REGION XIII (CARAGA)':'XIII',\n",
    "       'REGION I (ILOCOS REGION)':'I', 'REGION II (CAGAYAN VALLEY)':'II',\n",
    "       'REGION III (CENTRAL LUZON)':'III', 'REGION IV-A (CALABAR ZON)':'IV-A',\n",
    "       'REGION V (BICOL REGION)':'V', 'REGION VI (WESTERN VISAYAS)':'VI',\n",
    "       'REGION VII (CENTRAL VISAYAS)':'VII', 'REGION VIII (EASTERN VISAYAS)':'VIII',\n",
    "       'REGION IX (ZAMBOANGA PENINSULA)':'IX'}"
   ]
  },
  {
   "cell_type": "code",
   "execution_count": 188,
   "metadata": {
    "ExecuteTime": {
     "end_time": "2020-08-10T19:20:07.078180Z",
     "start_time": "2020-08-10T19:20:07.074190Z"
    }
   },
   "outputs": [],
   "source": [
    "df_deg['Region'] = df_deg['Region'].map(region_map)"
   ]
  },
  {
   "cell_type": "code",
   "execution_count": 189,
   "metadata": {
    "ExecuteTime": {
     "end_time": "2020-08-10T19:20:07.591288Z",
     "start_time": "2020-08-10T19:20:07.578324Z"
    }
   },
   "outputs": [
    {
     "data": {
      "text/html": [
       "<div>\n",
       "<style scoped>\n",
       "    .dataframe tbody tr th:only-of-type {\n",
       "        vertical-align: middle;\n",
       "    }\n",
       "\n",
       "    .dataframe tbody tr th {\n",
       "        vertical-align: top;\n",
       "    }\n",
       "\n",
       "    .dataframe thead th {\n",
       "        text-align: right;\n",
       "    }\n",
       "</style>\n",
       "<table border=\"1\" class=\"dataframe\">\n",
       "  <thead>\n",
       "    <tr style=\"text-align: right;\">\n",
       "      <th></th>\n",
       "      <th>max</th>\n",
       "      <th>mean</th>\n",
       "      <th>median</th>\n",
       "      <th>count</th>\n",
       "    </tr>\n",
       "    <tr>\n",
       "      <th>Region</th>\n",
       "      <th></th>\n",
       "      <th></th>\n",
       "      <th></th>\n",
       "      <th></th>\n",
       "    </tr>\n",
       "  </thead>\n",
       "  <tbody>\n",
       "    <tr>\n",
       "      <th>ARMM</th>\n",
       "      <td>43</td>\n",
       "      <td>3.72</td>\n",
       "      <td>1.00</td>\n",
       "      <td>76</td>\n",
       "    </tr>\n",
       "    <tr>\n",
       "      <th>CAR</th>\n",
       "      <td>27</td>\n",
       "      <td>7.54</td>\n",
       "      <td>6.00</td>\n",
       "      <td>98</td>\n",
       "    </tr>\n",
       "    <tr>\n",
       "      <th>I</th>\n",
       "      <td>58</td>\n",
       "      <td>9.66</td>\n",
       "      <td>7.00</td>\n",
       "      <td>148</td>\n",
       "    </tr>\n",
       "    <tr>\n",
       "      <th>II</th>\n",
       "      <td>45</td>\n",
       "      <td>13.63</td>\n",
       "      <td>11.00</td>\n",
       "      <td>86</td>\n",
       "    </tr>\n",
       "    <tr>\n",
       "      <th>III</th>\n",
       "      <td>24</td>\n",
       "      <td>6.53</td>\n",
       "      <td>5.00</td>\n",
       "      <td>264</td>\n",
       "    </tr>\n",
       "    <tr>\n",
       "      <th>IV-A</th>\n",
       "      <td>60</td>\n",
       "      <td>9.97</td>\n",
       "      <td>8.00</td>\n",
       "      <td>183</td>\n",
       "    </tr>\n",
       "    <tr>\n",
       "      <th>IV-B</th>\n",
       "      <td>50</td>\n",
       "      <td>13.84</td>\n",
       "      <td>11.00</td>\n",
       "      <td>79</td>\n",
       "    </tr>\n",
       "    <tr>\n",
       "      <th>IX</th>\n",
       "      <td>39</td>\n",
       "      <td>8.04</td>\n",
       "      <td>6.50</td>\n",
       "      <td>96</td>\n",
       "    </tr>\n",
       "    <tr>\n",
       "      <th>NCR</th>\n",
       "      <td>25</td>\n",
       "      <td>0.29</td>\n",
       "      <td>0.00</td>\n",
       "      <td>384</td>\n",
       "    </tr>\n",
       "    <tr>\n",
       "      <th>V</th>\n",
       "      <td>40</td>\n",
       "      <td>9.53</td>\n",
       "      <td>8.00</td>\n",
       "      <td>129</td>\n",
       "    </tr>\n",
       "    <tr>\n",
       "      <th>VI</th>\n",
       "      <td>47</td>\n",
       "      <td>12.17</td>\n",
       "      <td>10.00</td>\n",
       "      <td>142</td>\n",
       "    </tr>\n",
       "    <tr>\n",
       "      <th>VII</th>\n",
       "      <td>37</td>\n",
       "      <td>11.29</td>\n",
       "      <td>9.00</td>\n",
       "      <td>141</td>\n",
       "    </tr>\n",
       "    <tr>\n",
       "      <th>VIII</th>\n",
       "      <td>22</td>\n",
       "      <td>4.84</td>\n",
       "      <td>4.00</td>\n",
       "      <td>161</td>\n",
       "    </tr>\n",
       "    <tr>\n",
       "      <th>X</th>\n",
       "      <td>73</td>\n",
       "      <td>10.98</td>\n",
       "      <td>9.00</td>\n",
       "      <td>88</td>\n",
       "    </tr>\n",
       "    <tr>\n",
       "      <th>XI</th>\n",
       "      <td>41</td>\n",
       "      <td>15.94</td>\n",
       "      <td>16.00</td>\n",
       "      <td>63</td>\n",
       "    </tr>\n",
       "    <tr>\n",
       "      <th>XII</th>\n",
       "      <td>49</td>\n",
       "      <td>16.78</td>\n",
       "      <td>18.00</td>\n",
       "      <td>46</td>\n",
       "    </tr>\n",
       "    <tr>\n",
       "      <th>XIII</th>\n",
       "      <td>35</td>\n",
       "      <td>4.95</td>\n",
       "      <td>3.50</td>\n",
       "      <td>58</td>\n",
       "    </tr>\n",
       "  </tbody>\n",
       "</table>\n",
       "</div>"
      ],
      "text/plain": [
       "        max  mean  median  count\n",
       "Region                          \n",
       "ARMM     43  3.72    1.00     76\n",
       "CAR      27  7.54    6.00     98\n",
       "I        58  9.66    7.00    148\n",
       "II       45 13.63   11.00     86\n",
       "III      24  6.53    5.00    264\n",
       "IV-A     60  9.97    8.00    183\n",
       "IV-B     50 13.84   11.00     79\n",
       "IX       39  8.04    6.50     96\n",
       "NCR      25  0.29    0.00    384\n",
       "V        40  9.53    8.00    129\n",
       "VI       47 12.17   10.00    142\n",
       "VII      37 11.29    9.00    141\n",
       "VIII     22  4.84    4.00    161\n",
       "X        73 10.98    9.00     88\n",
       "XI       41 15.94   16.00     63\n",
       "XII      49 16.78   18.00     46\n",
       "XIII     35  4.95    3.50     58"
      ]
     },
     "execution_count": 189,
     "metadata": {},
     "output_type": "execute_result"
    }
   ],
   "source": [
    "(df_deg.groupby('Region')['Degree']\n",
    " .agg(['min', 'max', 'mean', 'median', 'count']).sort_values(by='Region')\n",
    " [['max', 'mean', 'median', 'count']])"
   ]
  },
  {
   "cell_type": "markdown",
   "metadata": {},
   "source": [
    "### Degree Outliers (RHU)"
   ]
  },
  {
   "cell_type": "code",
   "execution_count": 190,
   "metadata": {
    "ExecuteTime": {
     "end_time": "2020-08-10T19:20:08.615976Z",
     "start_time": "2020-08-10T19:20:08.606987Z"
    }
   },
   "outputs": [],
   "source": [
    "upper_fence = df_deg.groupby('Region')['Degree'].quantile(0.75) + 1.5 * (df_deg.groupby('Region')['Degree'].quantile(0.75) - df_deg.groupby('Region')['Degree'].quantile(0.25))"
   ]
  },
  {
   "cell_type": "code",
   "execution_count": 191,
   "metadata": {
    "ExecuteTime": {
     "end_time": "2020-08-10T19:20:09.284885Z",
     "start_time": "2020-08-10T19:20:08.962746Z"
    }
   },
   "outputs": [
    {
     "data": {
      "image/png": "[encoded data removed]",
      "text/plain": [
       "<Figure size 720x576 with 1 Axes>"
      ]
     },
     "metadata": {
      "needs_background": "light"
     },
     "output_type": "display_data"
    }
   ],
   "source": [
    "fig, ax = plt.subplots(figsize=(10,8))\n",
    "\n",
    "# fig = plt.figure()\n",
    "sns.boxplot(data=df_deg, x='Region', y='Degree', palette='Blues',\n",
    "            order=upper_fence.sort_values(ascending=False).index)\n",
    "labels = [l.get_text() for l in ax.get_xticklabels()]\n",
    "ax.set_xticklabels(labels, ha='right');"
   ]
  },
  {
   "cell_type": "code",
   "execution_count": 192,
   "metadata": {
    "ExecuteTime": {
     "end_time": "2020-08-10T19:20:10.776343Z",
     "start_time": "2020-08-10T19:20:10.765373Z"
    }
   },
   "outputs": [],
   "source": [
    "df_deg['Outlierness'] = df_deg['Degree'] - df_deg['Region'].map(upper_fence)\n",
    "deg_outlier_rhu = df_deg[df_deg['Outlierness'] > 0].groupby('Region')['Outlierness'].agg(['min', 'max', 'mean', 'median', 'count'])\n",
    "deg_outlier_rhu.loc['CAR'] = 0"
   ]
  },
  {
   "cell_type": "markdown",
   "metadata": {},
   "source": [
    "### Average path length"
   ]
  },
  {
   "cell_type": "code",
   "execution_count": 193,
   "metadata": {
    "ExecuteTime": {
     "end_time": "2020-08-10T19:20:11.505653Z",
     "start_time": "2020-08-10T19:20:11.251198Z"
    }
   },
   "outputs": [],
   "source": [
    "sp = list(nx.all_pairs_dijkstra_path_length(G, weight='DIST'))"
   ]
  },
  {
   "cell_type": "code",
   "execution_count": 194,
   "metadata": {
    "ExecuteTime": {
     "end_time": "2020-08-10T19:20:11.916285Z",
     "start_time": "2020-08-10T19:20:11.901302Z"
    }
   },
   "outputs": [],
   "source": [
    "sp = pd.DataFrame(sp).set_index(0)[1].to_dict()"
   ]
  },
  {
   "cell_type": "markdown",
   "metadata": {},
   "source": [
    "##### BHS -> RHU path"
   ]
  },
  {
   "cell_type": "code",
   "execution_count": 195,
   "metadata": {
    "ExecuteTime": {
     "end_time": "2020-08-10T19:20:25.089977Z",
     "start_time": "2020-08-10T19:20:12.312201Z"
    }
   },
   "outputs": [],
   "source": [
    "bhs_rhu_ave_sp = {}\n",
    "for rhu_node in rhu_nodes:\n",
    "    ave_sp = 0\n",
    "    N = 0\n",
    "    for bhs_node in bhs_nodes:\n",
    "        if sp.get(bhs_node) and sp.get(bhs_node, {}).get(rhu_node):\n",
    "            ave_sp += sp[bhs_node][rhu_node]\n",
    "            N += 1\n",
    "    if N:\n",
    "        ave_sp /= N\n",
    "        bhs_rhu_ave_sp[rhu_node] = ave_sp"
   ]
  },
  {
   "cell_type": "code",
   "execution_count": 196,
   "metadata": {
    "ExecuteTime": {
     "end_time": "2020-08-10T19:20:25.484013Z",
     "start_time": "2020-08-10T19:20:25.478029Z"
    }
   },
   "outputs": [],
   "source": [
    "df_bhs_rhu = pd.DataFrame(bhs_rhu_ave_sp.items(), columns=['HF_CODE', 'AVE_SPL'])\n",
    "df_bhs_rhu['REGION'] = df_bhs_rhu['HF_CODE'].map(nodes['REGION']).map(region_map)"
   ]
  },
  {
   "cell_type": "code",
   "execution_count": 197,
   "metadata": {
    "ExecuteTime": {
     "end_time": "2020-08-10T19:20:25.870494Z",
     "start_time": "2020-08-10T19:20:25.864482Z"
    }
   },
   "outputs": [],
   "source": [
    "bhs_rhu_spl = df_bhs_rhu.groupby('REGION')['AVE_SPL'].agg(['min', 'max', 'mean', 'median', 'count'])"
   ]
  },
  {
   "cell_type": "code",
   "execution_count": 198,
   "metadata": {
    "ExecuteTime": {
     "end_time": "2020-08-10T19:20:26.259461Z",
     "start_time": "2020-08-10T19:20:26.251448Z"
    }
   },
   "outputs": [
    {
     "data": {
      "text/html": [
       "<div>\n",
       "<style scoped>\n",
       "    .dataframe tbody tr th:only-of-type {\n",
       "        vertical-align: middle;\n",
       "    }\n",
       "\n",
       "    .dataframe tbody tr th {\n",
       "        vertical-align: top;\n",
       "    }\n",
       "\n",
       "    .dataframe thead th {\n",
       "        text-align: right;\n",
       "    }\n",
       "</style>\n",
       "<table border=\"1\" class=\"dataframe\">\n",
       "  <thead>\n",
       "    <tr style=\"text-align: right;\">\n",
       "      <th></th>\n",
       "      <th>min</th>\n",
       "      <th>max</th>\n",
       "      <th>mean</th>\n",
       "      <th>median</th>\n",
       "      <th>count</th>\n",
       "    </tr>\n",
       "    <tr>\n",
       "      <th>REGION</th>\n",
       "      <th></th>\n",
       "      <th></th>\n",
       "      <th></th>\n",
       "      <th></th>\n",
       "      <th></th>\n",
       "    </tr>\n",
       "  </thead>\n",
       "  <tbody>\n",
       "    <tr>\n",
       "      <th>ARMM</th>\n",
       "      <td>0.65</td>\n",
       "      <td>30.09</td>\n",
       "      <td>5.56</td>\n",
       "      <td>4.06</td>\n",
       "      <td>43</td>\n",
       "    </tr>\n",
       "    <tr>\n",
       "      <th>CAR</th>\n",
       "      <td>1.52</td>\n",
       "      <td>21.32</td>\n",
       "      <td>6.02</td>\n",
       "      <td>5.03</td>\n",
       "      <td>75</td>\n",
       "    </tr>\n",
       "    <tr>\n",
       "      <th>I</th>\n",
       "      <td>0.00</td>\n",
       "      <td>31.66</td>\n",
       "      <td>4.45</td>\n",
       "      <td>3.59</td>\n",
       "      <td>140</td>\n",
       "    </tr>\n",
       "    <tr>\n",
       "      <th>II</th>\n",
       "      <td>2.39</td>\n",
       "      <td>31.66</td>\n",
       "      <td>5.75</td>\n",
       "      <td>5.40</td>\n",
       "      <td>82</td>\n",
       "    </tr>\n",
       "    <tr>\n",
       "      <th>III</th>\n",
       "      <td>0.09</td>\n",
       "      <td>24.48</td>\n",
       "      <td>3.19</td>\n",
       "      <td>2.70</td>\n",
       "      <td>237</td>\n",
       "    </tr>\n",
       "    <tr>\n",
       "      <th>IV-A</th>\n",
       "      <td>0.21</td>\n",
       "      <td>30.29</td>\n",
       "      <td>3.93</td>\n",
       "      <td>3.35</td>\n",
       "      <td>157</td>\n",
       "    </tr>\n",
       "    <tr>\n",
       "      <th>IV-B</th>\n",
       "      <td>2.34</td>\n",
       "      <td>51.20</td>\n",
       "      <td>8.06</td>\n",
       "      <td>5.81</td>\n",
       "      <td>75</td>\n",
       "    </tr>\n",
       "    <tr>\n",
       "      <th>IX</th>\n",
       "      <td>0.86</td>\n",
       "      <td>42.92</td>\n",
       "      <td>6.72</td>\n",
       "      <td>4.83</td>\n",
       "      <td>92</td>\n",
       "    </tr>\n",
       "    <tr>\n",
       "      <th>NCR</th>\n",
       "      <td>0.25</td>\n",
       "      <td>73.30</td>\n",
       "      <td>14.82</td>\n",
       "      <td>3.23</td>\n",
       "      <td>19</td>\n",
       "    </tr>\n",
       "    <tr>\n",
       "      <th>V</th>\n",
       "      <td>0.13</td>\n",
       "      <td>32.46</td>\n",
       "      <td>6.71</td>\n",
       "      <td>4.98</td>\n",
       "      <td>118</td>\n",
       "    </tr>\n",
       "    <tr>\n",
       "      <th>VI</th>\n",
       "      <td>0.54</td>\n",
       "      <td>38.20</td>\n",
       "      <td>5.56</td>\n",
       "      <td>4.35</td>\n",
       "      <td>136</td>\n",
       "    </tr>\n",
       "    <tr>\n",
       "      <th>VII</th>\n",
       "      <td>1.09</td>\n",
       "      <td>28.91</td>\n",
       "      <td>5.10</td>\n",
       "      <td>4.27</td>\n",
       "      <td>134</td>\n",
       "    </tr>\n",
       "    <tr>\n",
       "      <th>VIII</th>\n",
       "      <td>0.04</td>\n",
       "      <td>86.02</td>\n",
       "      <td>6.28</td>\n",
       "      <td>4.21</td>\n",
       "      <td>145</td>\n",
       "    </tr>\n",
       "    <tr>\n",
       "      <th>X</th>\n",
       "      <td>1.00</td>\n",
       "      <td>23.34</td>\n",
       "      <td>5.95</td>\n",
       "      <td>4.62</td>\n",
       "      <td>83</td>\n",
       "    </tr>\n",
       "    <tr>\n",
       "      <th>XI</th>\n",
       "      <td>0.79</td>\n",
       "      <td>47.85</td>\n",
       "      <td>8.91</td>\n",
       "      <td>6.29</td>\n",
       "      <td>58</td>\n",
       "    </tr>\n",
       "    <tr>\n",
       "      <th>XII</th>\n",
       "      <td>2.23</td>\n",
       "      <td>67.11</td>\n",
       "      <td>9.84</td>\n",
       "      <td>6.95</td>\n",
       "      <td>44</td>\n",
       "    </tr>\n",
       "    <tr>\n",
       "      <th>XIII</th>\n",
       "      <td>0.65</td>\n",
       "      <td>34.38</td>\n",
       "      <td>6.72</td>\n",
       "      <td>5.89</td>\n",
       "      <td>43</td>\n",
       "    </tr>\n",
       "  </tbody>\n",
       "</table>\n",
       "</div>"
      ],
      "text/plain": [
       "        min   max  mean  median  count\n",
       "REGION                                \n",
       "ARMM   0.65 30.09  5.56    4.06     43\n",
       "CAR    1.52 21.32  6.02    5.03     75\n",
       "I      0.00 31.66  4.45    3.59    140\n",
       "II     2.39 31.66  5.75    5.40     82\n",
       "III    0.09 24.48  3.19    2.70    237\n",
       "IV-A   0.21 30.29  3.93    3.35    157\n",
       "IV-B   2.34 51.20  8.06    5.81     75\n",
       "IX     0.86 42.92  6.72    4.83     92\n",
       "NCR    0.25 73.30 14.82    3.23     19\n",
       "V      0.13 32.46  6.71    4.98    118\n",
       "VI     0.54 38.20  5.56    4.35    136\n",
       "VII    1.09 28.91  5.10    4.27    134\n",
       "VIII   0.04 86.02  6.28    4.21    145\n",
       "X      1.00 23.34  5.95    4.62     83\n",
       "XI     0.79 47.85  8.91    6.29     58\n",
       "XII    2.23 67.11  9.84    6.95     44\n",
       "XIII   0.65 34.38  6.72    5.89     43"
      ]
     },
     "execution_count": 198,
     "metadata": {},
     "output_type": "execute_result"
    }
   ],
   "source": [
    "bhs_rhu_spl"
   ]
  },
  {
   "cell_type": "markdown",
   "metadata": {},
   "source": [
    "##### Comparison with Degree Outliers"
   ]
  },
  {
   "cell_type": "code",
   "execution_count": 199,
   "metadata": {
    "ExecuteTime": {
     "end_time": "2020-08-10T19:20:26.797024Z",
     "start_time": "2020-08-10T19:20:26.646393Z"
    }
   },
   "outputs": [
    {
     "data": {
      "image/png": "[encoded data removed]",
      "text/plain": [
       "<Figure size 720x576 with 1 Axes>"
      ]
     },
     "metadata": {
      "needs_background": "light"
     },
     "output_type": "display_data"
    }
   ],
   "source": [
    "fig, ax = plt.subplots(figsize=(10,8))\n",
    "ax.plot(deg_outlier_rhu['mean'], bhs_rhu_spl['mean'], 'o', color='deepskyblue', \n",
    "        markersize='15')\n",
    "for i,j,k in zip(deg_outlier_rhu['mean'].values, bhs_rhu_spl['mean'].values, list(deg_outlier_rhu.index)):\n",
    "    ax.text(i,j,k, fontsize=14)\n",
    "ax.set_xlabel(\"Degree Outlierness (RHU)\", fontsize=14)\n",
    "ax.set_ylabel(\"Average shortest path length (BHS->RHU)\", fontsize=14);"
   ]
  },
  {
   "cell_type": "markdown",
   "metadata": {},
   "source": [
    "##### RHU -> HOSP path"
   ]
  },
  {
   "cell_type": "code",
   "execution_count": 200,
   "metadata": {
    "ExecuteTime": {
     "end_time": "2020-08-10T19:20:27.618794Z",
     "start_time": "2020-08-10T19:20:27.187945Z"
    }
   },
   "outputs": [],
   "source": [
    "rhu_hosp_ave_sp = {}\n",
    "for hosp_node in hosp_nodes:\n",
    "    ave_sp = 0\n",
    "    N = 0\n",
    "    for rhu_node in rhu_nodes:\n",
    "        if sp.get(rhu_node) and sp.get(rhu_node, {}).get(hosp_node):\n",
    "            ave_sp += sp[rhu_node][hosp_node]\n",
    "            N += 1\n",
    "    if N:\n",
    "        ave_sp /= N\n",
    "        rhu_hosp_ave_sp[hosp_node] = ave_sp"
   ]
  },
  {
   "cell_type": "code",
   "execution_count": 201,
   "metadata": {
    "ExecuteTime": {
     "end_time": "2020-08-10T19:20:28.035679Z",
     "start_time": "2020-08-10T19:20:28.028697Z"
    }
   },
   "outputs": [],
   "source": [
    "df_rhu_hosp = pd.DataFrame(rhu_hosp_ave_sp.items(), columns=['HF_CODE', 'AVE_SPL'])\n",
    "df_rhu_hosp['REGION'] = df_rhu_hosp['HF_CODE'].map(nodes['REGION']).map(region_map)"
   ]
  },
  {
   "cell_type": "code",
   "execution_count": 202,
   "metadata": {
    "ExecuteTime": {
     "end_time": "2020-08-10T19:20:28.429658Z",
     "start_time": "2020-08-10T19:20:28.419654Z"
    }
   },
   "outputs": [
    {
     "data": {
      "text/html": [
       "<div>\n",
       "<style scoped>\n",
       "    .dataframe tbody tr th:only-of-type {\n",
       "        vertical-align: middle;\n",
       "    }\n",
       "\n",
       "    .dataframe tbody tr th {\n",
       "        vertical-align: top;\n",
       "    }\n",
       "\n",
       "    .dataframe thead th {\n",
       "        text-align: right;\n",
       "    }\n",
       "</style>\n",
       "<table border=\"1\" class=\"dataframe\">\n",
       "  <thead>\n",
       "    <tr style=\"text-align: right;\">\n",
       "      <th></th>\n",
       "      <th>min</th>\n",
       "      <th>max</th>\n",
       "      <th>mean</th>\n",
       "      <th>median</th>\n",
       "      <th>count</th>\n",
       "    </tr>\n",
       "    <tr>\n",
       "      <th>REGION</th>\n",
       "      <th></th>\n",
       "      <th></th>\n",
       "      <th></th>\n",
       "      <th></th>\n",
       "      <th></th>\n",
       "    </tr>\n",
       "  </thead>\n",
       "  <tbody>\n",
       "    <tr>\n",
       "      <th>ARMM</th>\n",
       "      <td>13.96</td>\n",
       "      <td>52.74</td>\n",
       "      <td>30.15</td>\n",
       "      <td>32.53</td>\n",
       "      <td>18</td>\n",
       "    </tr>\n",
       "    <tr>\n",
       "      <th>CAR</th>\n",
       "      <td>6.52</td>\n",
       "      <td>30.51</td>\n",
       "      <td>16.47</td>\n",
       "      <td>16.00</td>\n",
       "      <td>35</td>\n",
       "    </tr>\n",
       "    <tr>\n",
       "      <th>I</th>\n",
       "      <td>5.73</td>\n",
       "      <td>34.93</td>\n",
       "      <td>16.85</td>\n",
       "      <td>14.64</td>\n",
       "      <td>36</td>\n",
       "    </tr>\n",
       "    <tr>\n",
       "      <th>II</th>\n",
       "      <td>0.22</td>\n",
       "      <td>43.62</td>\n",
       "      <td>18.39</td>\n",
       "      <td>14.65</td>\n",
       "      <td>32</td>\n",
       "    </tr>\n",
       "    <tr>\n",
       "      <th>III</th>\n",
       "      <td>3.53</td>\n",
       "      <td>33.86</td>\n",
       "      <td>12.97</td>\n",
       "      <td>10.79</td>\n",
       "      <td>57</td>\n",
       "    </tr>\n",
       "    <tr>\n",
       "      <th>IV-A</th>\n",
       "      <td>3.13</td>\n",
       "      <td>72.94</td>\n",
       "      <td>16.03</td>\n",
       "      <td>15.33</td>\n",
       "      <td>57</td>\n",
       "    </tr>\n",
       "    <tr>\n",
       "      <th>IV-B</th>\n",
       "      <td>5.94</td>\n",
       "      <td>54.63</td>\n",
       "      <td>27.00</td>\n",
       "      <td>25.51</td>\n",
       "      <td>27</td>\n",
       "    </tr>\n",
       "    <tr>\n",
       "      <th>IX</th>\n",
       "      <td>0.42</td>\n",
       "      <td>56.19</td>\n",
       "      <td>23.80</td>\n",
       "      <td>22.07</td>\n",
       "      <td>21</td>\n",
       "    </tr>\n",
       "    <tr>\n",
       "      <th>NCR</th>\n",
       "      <td>1.20</td>\n",
       "      <td>33.93</td>\n",
       "      <td>7.21</td>\n",
       "      <td>3.62</td>\n",
       "      <td>45</td>\n",
       "    </tr>\n",
       "    <tr>\n",
       "      <th>V</th>\n",
       "      <td>10.95</td>\n",
       "      <td>52.01</td>\n",
       "      <td>22.74</td>\n",
       "      <td>19.48</td>\n",
       "      <td>39</td>\n",
       "    </tr>\n",
       "    <tr>\n",
       "      <th>VI</th>\n",
       "      <td>7.50</td>\n",
       "      <td>40.18</td>\n",
       "      <td>18.40</td>\n",
       "      <td>16.46</td>\n",
       "      <td>47</td>\n",
       "    </tr>\n",
       "    <tr>\n",
       "      <th>VII</th>\n",
       "      <td>5.43</td>\n",
       "      <td>45.77</td>\n",
       "      <td>20.58</td>\n",
       "      <td>18.71</td>\n",
       "      <td>45</td>\n",
       "    </tr>\n",
       "    <tr>\n",
       "      <th>VIII</th>\n",
       "      <td>7.55</td>\n",
       "      <td>66.16</td>\n",
       "      <td>26.83</td>\n",
       "      <td>23.98</td>\n",
       "      <td>39</td>\n",
       "    </tr>\n",
       "    <tr>\n",
       "      <th>X</th>\n",
       "      <td>1.53</td>\n",
       "      <td>53.28</td>\n",
       "      <td>20.28</td>\n",
       "      <td>17.49</td>\n",
       "      <td>36</td>\n",
       "    </tr>\n",
       "    <tr>\n",
       "      <th>XI</th>\n",
       "      <td>7.14</td>\n",
       "      <td>75.00</td>\n",
       "      <td>29.56</td>\n",
       "      <td>25.20</td>\n",
       "      <td>20</td>\n",
       "    </tr>\n",
       "    <tr>\n",
       "      <th>XII</th>\n",
       "      <td>14.24</td>\n",
       "      <td>81.92</td>\n",
       "      <td>34.14</td>\n",
       "      <td>19.55</td>\n",
       "      <td>17</td>\n",
       "    </tr>\n",
       "    <tr>\n",
       "      <th>XIII</th>\n",
       "      <td>7.66</td>\n",
       "      <td>40.07</td>\n",
       "      <td>19.27</td>\n",
       "      <td>18.85</td>\n",
       "      <td>25</td>\n",
       "    </tr>\n",
       "  </tbody>\n",
       "</table>\n",
       "</div>"
      ],
      "text/plain": [
       "         min   max  mean  median  count\n",
       "REGION                                 \n",
       "ARMM   13.96 52.74 30.15   32.53     18\n",
       "CAR     6.52 30.51 16.47   16.00     35\n",
       "I       5.73 34.93 16.85   14.64     36\n",
       "II      0.22 43.62 18.39   14.65     32\n",
       "III     3.53 33.86 12.97   10.79     57\n",
       "IV-A    3.13 72.94 16.03   15.33     57\n",
       "IV-B    5.94 54.63 27.00   25.51     27\n",
       "IX      0.42 56.19 23.80   22.07     21\n",
       "NCR     1.20 33.93  7.21    3.62     45\n",
       "V      10.95 52.01 22.74   19.48     39\n",
       "VI      7.50 40.18 18.40   16.46     47\n",
       "VII     5.43 45.77 20.58   18.71     45\n",
       "VIII    7.55 66.16 26.83   23.98     39\n",
       "X       1.53 53.28 20.28   17.49     36\n",
       "XI      7.14 75.00 29.56   25.20     20\n",
       "XII    14.24 81.92 34.14   19.55     17\n",
       "XIII    7.66 40.07 19.27   18.85     25"
      ]
     },
     "execution_count": 202,
     "metadata": {},
     "output_type": "execute_result"
    }
   ],
   "source": [
    "rhu_hosp_spl = df_rhu_hosp.groupby('REGION')['AVE_SPL'].agg(['min', 'max', 'mean', 'median', 'count'])\n",
    "rhu_hosp_spl"
   ]
  },
  {
   "cell_type": "markdown",
   "metadata": {},
   "source": [
    "##### Comparison with Degree Outliers"
   ]
  },
  {
   "cell_type": "code",
   "execution_count": 203,
   "metadata": {
    "ExecuteTime": {
     "end_time": "2020-08-10T19:20:28.962273Z",
     "start_time": "2020-08-10T19:20:28.814596Z"
    }
   },
   "outputs": [
    {
     "data": {
      "image/png": "[encoded data removed]",
      "text/plain": [
       "<Figure size 720x576 with 1 Axes>"
      ]
     },
     "metadata": {
      "needs_background": "light"
     },
     "output_type": "display_data"
    }
   ],
   "source": [
    "fig, ax = plt.subplots(figsize=(10,8))\n",
    "ax.plot(deg_outlier['mean'], rhu_hosp_spl['mean'], 'o', color='deepskyblue', \n",
    "        markersize='15')\n",
    "for i,j,k in zip(deg_outlier['mean'].values, rhu_hosp_spl['mean'].values, \n",
    "                 list(deg_outlier.index)):\n",
    "    ax.text(i,j,k, fontsize=14)\n",
    "ax.set_xlabel(\"Degree Outlierness (Hosp)\", fontsize=14)\n",
    "ax.set_ylabel(\"Average shortest path length (RHU->Hosp)\", fontsize=14);\n",
    "\n",
    "#I changed the ylabel to RHU->Hosp"
   ]
  },
  {
   "cell_type": "markdown",
   "metadata": {},
   "source": [
    "##### BHS -> HOSP path"
   ]
  },
  {
   "cell_type": "code",
   "execution_count": 204,
   "metadata": {
    "ExecuteTime": {
     "end_time": "2020-08-10T19:20:33.833376Z",
     "start_time": "2020-08-10T19:20:29.367157Z"
    }
   },
   "outputs": [],
   "source": [
    "bhs_hosp_ave_sp = {}\n",
    "for hosp_node in hosp_nodes:\n",
    "    ave_sp = 0\n",
    "    N = 0\n",
    "    for bhs_node in bhs_nodes:\n",
    "        if sp.get(bhs_node) and sp.get(bhs_node, {}).get(hosp_node):\n",
    "            ave_sp += sp[bhs_node][hosp_node]\n",
    "            N += 1\n",
    "    if N:\n",
    "        ave_sp /= N\n",
    "        bhs_hosp_ave_sp[hosp_node] = ave_sp"
   ]
  },
  {
   "cell_type": "code",
   "execution_count": 205,
   "metadata": {
    "ExecuteTime": {
     "end_time": "2020-08-10T19:20:34.225428Z",
     "start_time": "2020-08-10T19:20:34.219478Z"
    }
   },
   "outputs": [],
   "source": [
    "df_bhs_hosp = pd.DataFrame(bhs_hosp_ave_sp.items(), columns=['HF_CODE', 'AVE_SPL'])\n",
    "df_bhs_hosp['REGION'] = df_bhs_hosp['HF_CODE'].map(nodes['REGION']).map(region_map)"
   ]
  },
  {
   "cell_type": "code",
   "execution_count": 206,
   "metadata": {
    "ExecuteTime": {
     "end_time": "2020-08-10T19:20:34.624362Z",
     "start_time": "2020-08-10T19:20:34.612445Z"
    }
   },
   "outputs": [
    {
     "data": {
      "text/html": [
       "<div>\n",
       "<style scoped>\n",
       "    .dataframe tbody tr th:only-of-type {\n",
       "        vertical-align: middle;\n",
       "    }\n",
       "\n",
       "    .dataframe tbody tr th {\n",
       "        vertical-align: top;\n",
       "    }\n",
       "\n",
       "    .dataframe thead th {\n",
       "        text-align: right;\n",
       "    }\n",
       "</style>\n",
       "<table border=\"1\" class=\"dataframe\">\n",
       "  <thead>\n",
       "    <tr style=\"text-align: right;\">\n",
       "      <th></th>\n",
       "      <th>min</th>\n",
       "      <th>max</th>\n",
       "      <th>mean</th>\n",
       "      <th>median</th>\n",
       "      <th>count</th>\n",
       "    </tr>\n",
       "    <tr>\n",
       "      <th>REGION</th>\n",
       "      <th></th>\n",
       "      <th></th>\n",
       "      <th></th>\n",
       "      <th></th>\n",
       "      <th></th>\n",
       "    </tr>\n",
       "  </thead>\n",
       "  <tbody>\n",
       "    <tr>\n",
       "      <th>ARMM</th>\n",
       "      <td>4.51</td>\n",
       "      <td>65.32</td>\n",
       "      <td>35.23</td>\n",
       "      <td>38.25</td>\n",
       "      <td>17</td>\n",
       "    </tr>\n",
       "    <tr>\n",
       "      <th>CAR</th>\n",
       "      <td>10.50</td>\n",
       "      <td>40.53</td>\n",
       "      <td>22.46</td>\n",
       "      <td>21.81</td>\n",
       "      <td>35</td>\n",
       "    </tr>\n",
       "    <tr>\n",
       "      <th>I</th>\n",
       "      <td>3.78</td>\n",
       "      <td>36.87</td>\n",
       "      <td>18.46</td>\n",
       "      <td>16.85</td>\n",
       "      <td>39</td>\n",
       "    </tr>\n",
       "    <tr>\n",
       "      <th>II</th>\n",
       "      <td>4.40</td>\n",
       "      <td>49.01</td>\n",
       "      <td>21.31</td>\n",
       "      <td>21.14</td>\n",
       "      <td>35</td>\n",
       "    </tr>\n",
       "    <tr>\n",
       "      <th>III</th>\n",
       "      <td>1.27</td>\n",
       "      <td>37.93</td>\n",
       "      <td>15.56</td>\n",
       "      <td>12.76</td>\n",
       "      <td>62</td>\n",
       "    </tr>\n",
       "    <tr>\n",
       "      <th>IV-A</th>\n",
       "      <td>1.00</td>\n",
       "      <td>78.27</td>\n",
       "      <td>18.08</td>\n",
       "      <td>15.30</td>\n",
       "      <td>60</td>\n",
       "    </tr>\n",
       "    <tr>\n",
       "      <th>IV-B</th>\n",
       "      <td>3.78</td>\n",
       "      <td>56.02</td>\n",
       "      <td>29.10</td>\n",
       "      <td>28.42</td>\n",
       "      <td>30</td>\n",
       "    </tr>\n",
       "    <tr>\n",
       "      <th>IX</th>\n",
       "      <td>0.87</td>\n",
       "      <td>61.03</td>\n",
       "      <td>25.67</td>\n",
       "      <td>24.71</td>\n",
       "      <td>23</td>\n",
       "    </tr>\n",
       "    <tr>\n",
       "      <th>NCR</th>\n",
       "      <td>1.21</td>\n",
       "      <td>68.62</td>\n",
       "      <td>19.19</td>\n",
       "      <td>6.63</td>\n",
       "      <td>41</td>\n",
       "    </tr>\n",
       "    <tr>\n",
       "      <th>V</th>\n",
       "      <td>0.67</td>\n",
       "      <td>51.68</td>\n",
       "      <td>25.13</td>\n",
       "      <td>22.92</td>\n",
       "      <td>41</td>\n",
       "    </tr>\n",
       "    <tr>\n",
       "      <th>VI</th>\n",
       "      <td>9.23</td>\n",
       "      <td>49.10</td>\n",
       "      <td>21.48</td>\n",
       "      <td>19.70</td>\n",
       "      <td>48</td>\n",
       "    </tr>\n",
       "    <tr>\n",
       "      <th>VII</th>\n",
       "      <td>6.58</td>\n",
       "      <td>62.52</td>\n",
       "      <td>23.95</td>\n",
       "      <td>23.19</td>\n",
       "      <td>48</td>\n",
       "    </tr>\n",
       "    <tr>\n",
       "      <th>VIII</th>\n",
       "      <td>12.82</td>\n",
       "      <td>88.35</td>\n",
       "      <td>33.74</td>\n",
       "      <td>29.56</td>\n",
       "      <td>39</td>\n",
       "    </tr>\n",
       "    <tr>\n",
       "      <th>X</th>\n",
       "      <td>7.83</td>\n",
       "      <td>52.84</td>\n",
       "      <td>23.69</td>\n",
       "      <td>22.38</td>\n",
       "      <td>36</td>\n",
       "    </tr>\n",
       "    <tr>\n",
       "      <th>XI</th>\n",
       "      <td>1.86</td>\n",
       "      <td>74.25</td>\n",
       "      <td>29.39</td>\n",
       "      <td>30.16</td>\n",
       "      <td>25</td>\n",
       "    </tr>\n",
       "    <tr>\n",
       "      <th>XII</th>\n",
       "      <td>2.80</td>\n",
       "      <td>71.17</td>\n",
       "      <td>30.50</td>\n",
       "      <td>23.27</td>\n",
       "      <td>20</td>\n",
       "    </tr>\n",
       "    <tr>\n",
       "      <th>XIII</th>\n",
       "      <td>6.83</td>\n",
       "      <td>57.35</td>\n",
       "      <td>24.26</td>\n",
       "      <td>24.00</td>\n",
       "      <td>26</td>\n",
       "    </tr>\n",
       "  </tbody>\n",
       "</table>\n",
       "</div>"
      ],
      "text/plain": [
       "         min   max  mean  median  count\n",
       "REGION                                 \n",
       "ARMM    4.51 65.32 35.23   38.25     17\n",
       "CAR    10.50 40.53 22.46   21.81     35\n",
       "I       3.78 36.87 18.46   16.85     39\n",
       "II      4.40 49.01 21.31   21.14     35\n",
       "III     1.27 37.93 15.56   12.76     62\n",
       "IV-A    1.00 78.27 18.08   15.30     60\n",
       "IV-B    3.78 56.02 29.10   28.42     30\n",
       "IX      0.87 61.03 25.67   24.71     23\n",
       "NCR     1.21 68.62 19.19    6.63     41\n",
       "V       0.67 51.68 25.13   22.92     41\n",
       "VI      9.23 49.10 21.48   19.70     48\n",
       "VII     6.58 62.52 23.95   23.19     48\n",
       "VIII   12.82 88.35 33.74   29.56     39\n",
       "X       7.83 52.84 23.69   22.38     36\n",
       "XI      1.86 74.25 29.39   30.16     25\n",
       "XII     2.80 71.17 30.50   23.27     20\n",
       "XIII    6.83 57.35 24.26   24.00     26"
      ]
     },
     "execution_count": 206,
     "metadata": {},
     "output_type": "execute_result"
    }
   ],
   "source": [
    "bhs_hosp_spl = df_bhs_hosp.groupby('REGION')['AVE_SPL'].agg(['min', 'max', 'mean', 'median', 'count'])\n",
    "bhs_hosp_spl"
   ]
  },
  {
   "cell_type": "markdown",
   "metadata": {},
   "source": [
    "##### Comparison with Degree Outliers"
   ]
  },
  {
   "cell_type": "code",
   "execution_count": 207,
   "metadata": {
    "ExecuteTime": {
     "end_time": "2020-08-10T19:20:35.170946Z",
     "start_time": "2020-08-10T19:20:35.013322Z"
    }
   },
   "outputs": [
    {
     "data": {
      "image/png": "[encoded data removed]",
      "text/plain": [
       "<Figure size 720x576 with 1 Axes>"
      ]
     },
     "metadata": {
      "needs_background": "light"
     },
     "output_type": "display_data"
    }
   ],
   "source": [
    "fig, ax = plt.subplots(figsize=(10,8))\n",
    "ax.plot(deg_outlier['mean'], bhs_hosp_spl['mean'], 'o', color='deepskyblue', \n",
    "        markersize='15')\n",
    "for i,j,k in zip(deg_outlier['mean'].values, bhs_hosp_spl['mean'].values, list(deg_outlier.index)):\n",
    "    ax.text(i,j,k, fontsize=14)\n",
    "ax.set_xlabel(\"Degree Outlierness (Hosp)\", fontsize=14)\n",
    "ax.set_ylabel(\"Average shortest path length (BHS->Hosp)\", fontsize=14);\n",
    "\n",
    "\n",
    "## I changed the ylabel to BHS -> Hosp"
   ]
  },
  {
   "cell_type": "markdown",
   "metadata": {},
   "source": [
    "## Simulations\n",
    "After characterizing the network, further analysis were performed by simulating what would happen to the network as higher percentages of the population enters the system. That is, the facilities that would overload are identified based on the bed capacity."
   ]
  },
  {
   "cell_type": "code",
   "execution_count": 208,
   "metadata": {
    "ExecuteTime": {
     "end_time": "2020-08-10T19:20:35.574323Z",
     "start_time": "2020-08-10T19:20:35.558331Z"
    }
   },
   "outputs": [
    {
     "data": {
      "text/html": [
       "<div>\n",
       "<style scoped>\n",
       "    .dataframe tbody tr th:only-of-type {\n",
       "        vertical-align: middle;\n",
       "    }\n",
       "\n",
       "    .dataframe tbody tr th {\n",
       "        vertical-align: top;\n",
       "    }\n",
       "\n",
       "    .dataframe thead th {\n",
       "        text-align: right;\n",
       "    }\n",
       "</style>\n",
       "<table border=\"1\" class=\"dataframe\">\n",
       "  <thead>\n",
       "    <tr style=\"text-align: right;\">\n",
       "      <th></th>\n",
       "      <th>count</th>\n",
       "      <th>mean</th>\n",
       "      <th>std</th>\n",
       "      <th>min</th>\n",
       "      <th>25%</th>\n",
       "      <th>50%</th>\n",
       "      <th>75%</th>\n",
       "      <th>max</th>\n",
       "    </tr>\n",
       "    <tr>\n",
       "      <th>HF_TYPE</th>\n",
       "      <th></th>\n",
       "      <th></th>\n",
       "      <th></th>\n",
       "      <th></th>\n",
       "      <th></th>\n",
       "      <th></th>\n",
       "      <th></th>\n",
       "      <th></th>\n",
       "    </tr>\n",
       "  </thead>\n",
       "  <tbody>\n",
       "    <tr>\n",
       "      <th>BARANGAY HEALTH STATION</th>\n",
       "      <td>17,435.00</td>\n",
       "      <td>3,800.18</td>\n",
       "      <td>6,013.85</td>\n",
       "      <td>0.00</td>\n",
       "      <td>1,302.00</td>\n",
       "      <td>2,444.00</td>\n",
       "      <td>4,408.50</td>\n",
       "      <td>123,708.00</td>\n",
       "    </tr>\n",
       "    <tr>\n",
       "      <th>HOSPITAL</th>\n",
       "      <td>0.00</td>\n",
       "      <td>nan</td>\n",
       "      <td>nan</td>\n",
       "      <td>nan</td>\n",
       "      <td>nan</td>\n",
       "      <td>nan</td>\n",
       "      <td>nan</td>\n",
       "      <td>nan</td>\n",
       "    </tr>\n",
       "    <tr>\n",
       "      <th>INFIRMARY</th>\n",
       "      <td>0.00</td>\n",
       "      <td>nan</td>\n",
       "      <td>nan</td>\n",
       "      <td>nan</td>\n",
       "      <td>nan</td>\n",
       "      <td>nan</td>\n",
       "      <td>nan</td>\n",
       "      <td>nan</td>\n",
       "    </tr>\n",
       "    <tr>\n",
       "      <th>RURAL HEALTH UNIT</th>\n",
       "      <td>2,172.00</td>\n",
       "      <td>38,663.14</td>\n",
       "      <td>44,947.38</td>\n",
       "      <td>0.00</td>\n",
       "      <td>16,981.75</td>\n",
       "      <td>30,224.00</td>\n",
       "      <td>46,929.25</td>\n",
       "      <td>903,309.00</td>\n",
       "    </tr>\n",
       "  </tbody>\n",
       "</table>\n",
       "</div>"
      ],
      "text/plain": [
       "                            count      mean       std  min       25%  \\\n",
       "HF_TYPE                                                                \n",
       "BARANGAY HEALTH STATION 17,435.00  3,800.18  6,013.85 0.00  1,302.00   \n",
       "HOSPITAL                     0.00       nan       nan  nan       nan   \n",
       "INFIRMARY                    0.00       nan       nan  nan       nan   \n",
       "RURAL HEALTH UNIT        2,172.00 38,663.14 44,947.38 0.00 16,981.75   \n",
       "\n",
       "                              50%       75%        max  \n",
       "HF_TYPE                                                 \n",
       "BARANGAY HEALTH STATION  2,444.00  4,408.50 123,708.00  \n",
       "HOSPITAL                      nan       nan        nan  \n",
       "INFIRMARY                     nan       nan        nan  \n",
       "RURAL HEALTH UNIT       30,224.00 46,929.25 903,309.00  "
      ]
     },
     "execution_count": 208,
     "metadata": {},
     "output_type": "execute_result"
    }
   ],
   "source": [
    "nodes.groupby('HF_TYPE')['CATCHMENT'].describe()"
   ]
  },
  {
   "cell_type": "code",
   "execution_count": 209,
   "metadata": {
    "ExecuteTime": {
     "end_time": "2020-08-10T19:20:35.977328Z",
     "start_time": "2020-08-10T19:20:35.965339Z"
    }
   },
   "outputs": [],
   "source": [
    "intake = nodes.loc[(nodes['HF_TYPE']=='RURAL HEALTH UNIT') | (nodes['HF_TYPE']=='BARANGAY HEALTH STATION'), ['REGION', 'CATCHMENT', 'HF_TYPE']]"
   ]
  },
  {
   "cell_type": "code",
   "execution_count": 210,
   "metadata": {
    "ExecuteTime": {
     "end_time": "2020-08-10T19:20:36.390253Z",
     "start_time": "2020-08-10T19:20:36.377336Z"
    }
   },
   "outputs": [
    {
     "data": {
      "text/html": [
       "<div>\n",
       "<style scoped>\n",
       "    .dataframe tbody tr th:only-of-type {\n",
       "        vertical-align: middle;\n",
       "    }\n",
       "\n",
       "    .dataframe tbody tr th {\n",
       "        vertical-align: top;\n",
       "    }\n",
       "\n",
       "    .dataframe thead th {\n",
       "        text-align: right;\n",
       "    }\n",
       "</style>\n",
       "<table border=\"1\" class=\"dataframe\">\n",
       "  <thead>\n",
       "    <tr style=\"text-align: right;\">\n",
       "      <th></th>\n",
       "      <th>mean</th>\n",
       "      <th>median</th>\n",
       "      <th>min</th>\n",
       "      <th>max</th>\n",
       "    </tr>\n",
       "    <tr>\n",
       "      <th>REGION</th>\n",
       "      <th></th>\n",
       "      <th></th>\n",
       "      <th></th>\n",
       "      <th></th>\n",
       "    </tr>\n",
       "  </thead>\n",
       "  <tbody>\n",
       "    <tr>\n",
       "      <th>AUTONOMOUS REGION IN MUSLIM MINDANAO (ARMM)</th>\n",
       "      <td>9,252.73</td>\n",
       "      <td>2,682.00</td>\n",
       "      <td>0.00</td>\n",
       "      <td>222,885.00</td>\n",
       "    </tr>\n",
       "    <tr>\n",
       "      <th>CORDILLERA ADMINISTRA TIVE REGION (CAR)</th>\n",
       "      <td>3,688.14</td>\n",
       "      <td>1,187.00</td>\n",
       "      <td>0.00</td>\n",
       "      <td>134,461.00</td>\n",
       "    </tr>\n",
       "    <tr>\n",
       "      <th>NATIONAL CAPITAL REGION (NCR)</th>\n",
       "      <td>30,745.29</td>\n",
       "      <td>25,084.00</td>\n",
       "      <td>0.00</td>\n",
       "      <td>290,977.00</td>\n",
       "    </tr>\n",
       "    <tr>\n",
       "      <th>REGION I (ILOCOS REGION)</th>\n",
       "      <td>6,133.94</td>\n",
       "      <td>2,556.00</td>\n",
       "      <td>0.00</td>\n",
       "      <td>204,135.00</td>\n",
       "    </tr>\n",
       "    <tr>\n",
       "      <th>REGION II (CAGAYAN VALLEY)</th>\n",
       "      <td>4,528.67</td>\n",
       "      <td>1,826.00</td>\n",
       "      <td>0.00</td>\n",
       "      <td>158,245.00</td>\n",
       "    </tr>\n",
       "    <tr>\n",
       "      <th>REGION III (CENTRAL LUZON)</th>\n",
       "      <td>9,866.27</td>\n",
       "      <td>3,700.50</td>\n",
       "      <td>0.00</td>\n",
       "      <td>260,691.00</td>\n",
       "    </tr>\n",
       "    <tr>\n",
       "      <th>REGION IV-A (CALABAR ZON)</th>\n",
       "      <td>9,040.42</td>\n",
       "      <td>3,122.50</td>\n",
       "      <td>0.00</td>\n",
       "      <td>463,727.00</td>\n",
       "    </tr>\n",
       "    <tr>\n",
       "      <th>REGION IV-B (MIMAROPA)</th>\n",
       "      <td>5,363.06</td>\n",
       "      <td>2,104.50</td>\n",
       "      <td>0.00</td>\n",
       "      <td>272,190.00</td>\n",
       "    </tr>\n",
       "    <tr>\n",
       "      <th>REGION IX (ZAMBOANGA PENINSULA)</th>\n",
       "      <td>9,427.20</td>\n",
       "      <td>3,773.50</td>\n",
       "      <td>0.00</td>\n",
       "      <td>903,309.00</td>\n",
       "    </tr>\n",
       "    <tr>\n",
       "      <th>REGION V (BICOL REGION)</th>\n",
       "      <td>7,685.29</td>\n",
       "      <td>3,480.50</td>\n",
       "      <td>0.00</td>\n",
       "      <td>210,047.00</td>\n",
       "    </tr>\n",
       "    <tr>\n",
       "      <th>REGION VI (WESTERN VISAYAS)</th>\n",
       "      <td>7,620.31</td>\n",
       "      <td>3,293.00</td>\n",
       "      <td>0.00</td>\n",
       "      <td>597,740.00</td>\n",
       "    </tr>\n",
       "    <tr>\n",
       "      <th>REGION VII (CENTRAL VISAYAS)</th>\n",
       "      <td>5,827.44</td>\n",
       "      <td>2,131.00</td>\n",
       "      <td>0.00</td>\n",
       "      <td>414,265.00</td>\n",
       "    </tr>\n",
       "    <tr>\n",
       "      <th>REGION VIII (EASTERN VISAYAS)</th>\n",
       "      <td>9,092.89</td>\n",
       "      <td>4,577.00</td>\n",
       "      <td>0.00</td>\n",
       "      <td>387,813.00</td>\n",
       "    </tr>\n",
       "    <tr>\n",
       "      <th>REGION X (NORTHERN MINDANAO)</th>\n",
       "      <td>6,047.59</td>\n",
       "      <td>2,369.00</td>\n",
       "      <td>0.00</td>\n",
       "      <td>197,890.00</td>\n",
       "    </tr>\n",
       "    <tr>\n",
       "      <th>REGION XI (DAVAO REGION)</th>\n",
       "      <td>5,155.10</td>\n",
       "      <td>1,818.50</td>\n",
       "      <td>0.00</td>\n",
       "      <td>175,935.00</td>\n",
       "    </tr>\n",
       "    <tr>\n",
       "      <th>REGION XII (SOCCSKSA RGEN)</th>\n",
       "      <td>8,722.27</td>\n",
       "      <td>2,168.00</td>\n",
       "      <td>0.00</td>\n",
       "      <td>453,585.00</td>\n",
       "    </tr>\n",
       "    <tr>\n",
       "      <th>REGION XIII (CARAGA)</th>\n",
       "      <td>7,212.89</td>\n",
       "      <td>2,530.00</td>\n",
       "      <td>0.00</td>\n",
       "      <td>137,527.00</td>\n",
       "    </tr>\n",
       "  </tbody>\n",
       "</table>\n",
       "</div>"
      ],
      "text/plain": [
       "                                                 mean    median  min  \\\n",
       "REGION                                                                 \n",
       "AUTONOMOUS REGION IN MUSLIM MINDANAO (ARMM)  9,252.73  2,682.00 0.00   \n",
       "CORDILLERA ADMINISTRA TIVE REGION (CAR)      3,688.14  1,187.00 0.00   \n",
       "NATIONAL CAPITAL REGION (NCR)               30,745.29 25,084.00 0.00   \n",
       "REGION I (ILOCOS REGION)                     6,133.94  2,556.00 0.00   \n",
       "REGION II (CAGAYAN VALLEY)                   4,528.67  1,826.00 0.00   \n",
       "REGION III (CENTRAL LUZON)                   9,866.27  3,700.50 0.00   \n",
       "REGION IV-A (CALABAR ZON)                    9,040.42  3,122.50 0.00   \n",
       "REGION IV-B (MIMAROPA)                       5,363.06  2,104.50 0.00   \n",
       "REGION IX (ZAMBOANGA PENINSULA)              9,427.20  3,773.50 0.00   \n",
       "REGION V (BICOL REGION)                      7,685.29  3,480.50 0.00   \n",
       "REGION VI (WESTERN VISAYAS)                  7,620.31  3,293.00 0.00   \n",
       "REGION VII (CENTRAL VISAYAS)                 5,827.44  2,131.00 0.00   \n",
       "REGION VIII (EASTERN VISAYAS)                9,092.89  4,577.00 0.00   \n",
       "REGION X (NORTHERN MINDANAO)                 6,047.59  2,369.00 0.00   \n",
       "REGION XI (DAVAO REGION)                     5,155.10  1,818.50 0.00   \n",
       "REGION XII (SOCCSKSA RGEN)                   8,722.27  2,168.00 0.00   \n",
       "REGION XIII (CARAGA)                         7,212.89  2,530.00 0.00   \n",
       "\n",
       "                                                   max  \n",
       "REGION                                                  \n",
       "AUTONOMOUS REGION IN MUSLIM MINDANAO (ARMM) 222,885.00  \n",
       "CORDILLERA ADMINISTRA TIVE REGION (CAR)     134,461.00  \n",
       "NATIONAL CAPITAL REGION (NCR)               290,977.00  \n",
       "REGION I (ILOCOS REGION)                    204,135.00  \n",
       "REGION II (CAGAYAN VALLEY)                  158,245.00  \n",
       "REGION III (CENTRAL LUZON)                  260,691.00  \n",
       "REGION IV-A (CALABAR ZON)                   463,727.00  \n",
       "REGION IV-B (MIMAROPA)                      272,190.00  \n",
       "REGION IX (ZAMBOANGA PENINSULA)             903,309.00  \n",
       "REGION V (BICOL REGION)                     210,047.00  \n",
       "REGION VI (WESTERN VISAYAS)                 597,740.00  \n",
       "REGION VII (CENTRAL VISAYAS)                414,265.00  \n",
       "REGION VIII (EASTERN VISAYAS)               387,813.00  \n",
       "REGION X (NORTHERN MINDANAO)                197,890.00  \n",
       "REGION XI (DAVAO REGION)                    175,935.00  \n",
       "REGION XII (SOCCSKSA RGEN)                  453,585.00  \n",
       "REGION XIII (CARAGA)                        137,527.00  "
      ]
     },
     "execution_count": 210,
     "metadata": {},
     "output_type": "execute_result"
    }
   ],
   "source": [
    "intake.groupby('REGION')['CATCHMENT'].agg(['mean','median', 'min', 'max'])"
   ]
  },
  {
   "cell_type": "code",
   "execution_count": 211,
   "metadata": {
    "ExecuteTime": {
     "end_time": "2020-08-10T19:20:36.796167Z",
     "start_time": "2020-08-10T19:20:36.788190Z"
    }
   },
   "outputs": [],
   "source": [
    "num_iter=1000\n",
    "#check changes in the system if 0.001% to 1% of population enters the HCPN;\n",
    "pop_prop = 0.00001\n",
    "hosp_zero_cap = nodes[((nodes['HF_TYPE']=='HOSPITAL') | (nodes['HF_TYPE']=='INFIRMARY')) & (nodes['BED_CAP']==0)].SHORT_HFCODE.values"
   ]
  },
  {
   "cell_type": "code",
   "execution_count": 212,
   "metadata": {
    "ExecuteTime": {
     "end_time": "2020-08-10T19:20:37.206071Z",
     "start_time": "2020-08-10T19:20:37.202081Z"
    }
   },
   "outputs": [
    {
     "data": {
      "text/plain": [
       "0"
      ]
     },
     "execution_count": 212,
     "metadata": {},
     "output_type": "execute_result"
    }
   ],
   "source": [
    "len(hosp_zero_cap)"
   ]
  },
  {
   "cell_type": "code",
   "execution_count": 213,
   "metadata": {
    "ExecuteTime": {
     "end_time": "2020-08-10T19:20:49.529374Z",
     "start_time": "2020-08-10T19:20:37.607258Z"
    }
   },
   "outputs": [
    {
     "data": {
      "text/plain": [
       "Text(0, 0.5, 'Percentage of isolated RHUs')"
      ]
     },
     "execution_count": 213,
     "metadata": {},
     "output_type": "execute_result"
    },
    {
     "data": {
      "image/png": "[encoded data removed]",
      "text/plain": [
       "<Figure size 648x432 with 2 Axes>"
      ]
     },
     "metadata": {
      "needs_background": "light"
     },
     "output_type": "display_data"
    }
   ],
   "source": [
    "fig, [ax1, ax2] = plt.subplots(1, 2, figsize=(9, 6))\n",
    "\n",
    "intake_t = intake['CATCHMENT'] * pop_prop\n",
    "df_isolates = pd.DataFrame()\n",
    "df_rem_hosps = pd.DataFrame()\n",
    "# ax2 = ax1.twinx()\n",
    "for region in ['NATIONAL CAPITAL REGION (NCR)', 'REGION VIII (EASTERN VISAYAS)']:\n",
    "    rhu_reg = nodes[(nodes['REGION']==region) & (nodes['HF_TYPE']=='RURAL HEALTH UNIT')]['SHORT_HFCODE']\n",
    "    hosp_reg = nodes[(nodes['REGION']==region) & ((nodes['HF_TYPE']=='HOSPITAL') | (nodes['HF_TYPE']=='INFIRMARY'))]['SHORT_HFCODE']\n",
    "    G_reg = G.subgraph(rhu_reg.tolist() + hosp_reg.tolist()).copy()\n",
    "    hosp_reg_connected = [i for i in hosp_reg if ((i not in nx.isolates(G_reg)) and (i not in hosp_zero_cap))]\n",
    "    remaining_hosps = [len(hosp_reg_connected)]\n",
    "    G_reg.remove_nodes_from(list(nx.isolates(G_reg)))\n",
    "    G_reg.remove_nodes_from(hosp_zero_cap)\n",
    "    num_isolates = [0]\n",
    "    remaining_hosp = [i for i, j in G_reg.nodes(data=True) if ((j['HF_TYPE']=='HOSPITAL') or (j['HF_TYPE']=='INFIRMARY'))]\n",
    "    # t=0\n",
    "    # while remaining_hosp:\n",
    "    for t in range(num_iter):\n",
    "        removed_hosps = []\n",
    "        for rhu in rhu_reg:\n",
    "            try:\n",
    "                N = len(list(G_reg.neighbors(rhu)))\n",
    "            except nx.NetworkXError:\n",
    "                continue\n",
    "            nearby_hosps = list(G_reg.neighbors(rhu))\n",
    "#             dist_sum = G_reg.out_degree(rhu, weight='DIST')\n",
    "            dist_sum = sum([G_reg[rhu][i]['DIST'] for i in nearby_hosps if G_reg[rhu][i]['DIST']==G_reg[rhu][i]['DIST']])\n",
    "            for hosp in nearby_hosps:\n",
    "                if len(nearby_hosps)==1:\n",
    "                    prob_hosp = 1\n",
    "                else:\n",
    "                    prob_hosp = (1 - G_reg[rhu][hosp]['DIST'] / dist_sum) if G_reg[rhu][hosp]['DIST']==G_reg[rhu][hosp]['DIST'] else 0\n",
    "                new_patient = intake_t[rhu] * prob_hosp if intake_t[rhu]==intake_t[rhu] else 0\n",
    "                add_one = 1 if random.random()<new_patient%1 else 0\n",
    "                if (G_reg.nodes()[hosp].get('patients', 0) + int(new_patient) + add_one) > G_reg.nodes()[hosp]['BED_CAP']:\n",
    "                    G_reg.remove_node(hosp)\n",
    "                    removed_hosps.append(hosp)\n",
    "                else:\n",
    "                    nx.set_node_attributes(G_reg, {hosp: G_reg.nodes()[hosp].get('patients', 0) + int(new_patient) + add_one}, 'patients')\n",
    "        remaining_hosp = [i for i, j in G_reg.nodes(data=True) if ((j['HF_TYPE']=='HOSPITAL') or (j['HF_TYPE']=='INFIRMARY'))]\n",
    "        remaining_hosps.append(len(remaining_hosp))\n",
    "        num_isolates.append(len(list(nx.isolates(G_reg))))\n",
    "    #     print(t, removed_hosps)\n",
    "    df_rem_hosps.loc[region, \"0.05%\"] = remaining_hosps[np.where(pop_prop * np.arange(num_iter+1)==0.0005)[0][0]] / remaining_hosps[0]\n",
    "    df_rem_hosps.loc[region, \"0.5%\"] = remaining_hosps[np.where(pop_prop * np.arange(num_iter+1)==0.005)[0][0]] / remaining_hosps[0]\n",
    "    df_isolates.loc[region, \"0.05%\"] = num_isolates[np.where(pop_prop * np.arange(num_iter+1)==0.0005)[0][0]] / num_isolates[-1]\n",
    "    df_isolates.loc[region, \"0.5%\"] = num_isolates[np.where(pop_prop * np.arange(num_iter+1)==0.005)[0][0]] / num_isolates[-1]\n",
    "    \n",
    "#     print(\"At 0.05%, remaining hosps are\", remaining_hosps[np.where(pop_prop * np.arange(num_iter+1)==0.0005)[0][0]] / remaining_hosps[0], region)\n",
    "#     print(\"At 0.5%, remaining hosps are\", remaining_hosps[np.where(pop_prop * np.arange(num_iter+1)==0.005)[0][0]] / remaining_hosps[0], region)\n",
    "#     print(\"At 0.05%, the isolated RHUs are\", num_isolates[np.where(pop_prop * np.arange(num_iter+1)==0.0005)[0][0]] / num_isolates[-1], region)\n",
    "#     print(\"At 0.5%, the isolated RHUs are\", num_isolates[np.where(pop_prop * np.arange(num_iter+1)==0.005)[0][0]] / num_isolates[-1], region)\n",
    "    ax1.plot(pop_prop * np.arange(num_iter+1), [i/remaining_hosps[0] for i in remaining_hosps], label=region)\n",
    "    ax2.plot(pop_prop * np.arange(num_iter+1), [i/num_isolates[-1] for i in num_isolates])\n",
    "fig.legend()\n",
    "ax1.set_xlabel('Percent of population in HCPN')\n",
    "ax2.set_xlabel('Percent of population in HCPN')\n",
    "\n",
    "ax1.set_xticklabels(['-0.2%', '0.0%', '0.2%', '0.4%', '0.6%', '0.8%', '1.0%'])\n",
    "ax2.set_xticklabels(['-0.2%', '0.0%', '0.2%', '0.4%', '0.6%', '0.8%', '1.0%'])\n",
    "ax1.set_ylabel('Percentage of remaining hospitals')\n",
    "ax2.set_ylabel('Percentage of isolated RHUs')\n",
    "    #     t+=1\n",
    "    #     break"
   ]
  },
  {
   "cell_type": "code",
   "execution_count": 214,
   "metadata": {
    "ExecuteTime": {
     "end_time": "2020-08-10T19:21:26.223286Z",
     "start_time": "2020-08-10T19:20:49.930271Z"
    }
   },
   "outputs": [
    {
     "data": {
      "text/plain": [
       "Text(0, 0.5, 'Percentage of isolated RHUs')"
      ]
     },
     "execution_count": 214,
     "metadata": {},
     "output_type": "execute_result"
    },
    {
     "data": {
      "image/png": "[encoded data removed]",
      "text/plain": [
       "<Figure size 648x432 with 2 Axes>"
      ]
     },
     "metadata": {
      "needs_background": "light"
     },
     "output_type": "display_data"
    }
   ],
   "source": [
    "fig, [ax1, ax2] = plt.subplots(1, 2, figsize=(9, 6))\n",
    "\n",
    "intake_t = intake['CATCHMENT'] * pop_prop\n",
    "df_isolates = pd.DataFrame()\n",
    "df_rem_hosps = pd.DataFrame()\n",
    "# ax2 = ax1.twinx()\n",
    "for region in nodes['REGION'].unique():\n",
    "    rhu_reg = nodes[(nodes['REGION']==region) & (nodes['HF_TYPE']=='RURAL HEALTH UNIT')]['SHORT_HFCODE']\n",
    "    hosp_reg = nodes[(nodes['REGION']==region) & ((nodes['HF_TYPE']=='HOSPITAL') | (nodes['HF_TYPE']=='INFIRMARY'))]['SHORT_HFCODE']\n",
    "    G_reg = G.subgraph(rhu_reg.tolist() + hosp_reg.tolist()).copy()\n",
    "    hosp_reg_connected = [i for i in hosp_reg if ((i not in nx.isolates(G_reg)) and (i not in hosp_zero_cap))]\n",
    "    remaining_hosps = [len(hosp_reg_connected)]\n",
    "    G_reg.remove_nodes_from(list(nx.isolates(G_reg)))\n",
    "    G_reg.remove_nodes_from(hosp_zero_cap)\n",
    "    num_isolates = [0]\n",
    "    remaining_hosp = [i for i, j in G_reg.nodes(data=True) if ((j['HF_TYPE']=='HOSPITAL') or (j['HF_TYPE']=='INFIRMARY'))]\n",
    "    # t=0\n",
    "    # while remaining_hosp:\n",
    "    for t in range(num_iter):\n",
    "        removed_hosps = []\n",
    "        for rhu in rhu_reg:\n",
    "            try:\n",
    "                N = len(list(G_reg.neighbors(rhu)))\n",
    "            except nx.NetworkXError:\n",
    "                continue\n",
    "            nearby_hosps = list(G_reg.neighbors(rhu))\n",
    "#             dist_sum = G_reg.out_degree(rhu, weight='DIST')\n",
    "            dist_sum = sum([G_reg[rhu][i]['DIST'] for i in nearby_hosps if G_reg[rhu][i]['DIST']==G_reg[rhu][i]['DIST']])\n",
    "            for hosp in nearby_hosps:\n",
    "                if len(nearby_hosps)==1:\n",
    "                    prob_hosp = 1\n",
    "                else:\n",
    "                    prob_hosp = (1 - G_reg[rhu][hosp]['DIST'] / dist_sum) if G_reg[rhu][hosp]['DIST']==G_reg[rhu][hosp]['DIST'] else 0\n",
    "                new_patient = intake_t[rhu] * prob_hosp if intake_t[rhu]==intake_t[rhu] else 0\n",
    "                add_one = 1 if random.random()<new_patient%1 else 0\n",
    "                if (G_reg.nodes()[hosp].get('patients', 0) + int(new_patient) + add_one) > G_reg.nodes()[hosp]['BED_CAP']:\n",
    "                    G_reg.remove_node(hosp)\n",
    "                    removed_hosps.append(hosp)\n",
    "                else:\n",
    "                    nx.set_node_attributes(G_reg, {hosp: G_reg.nodes()[hosp].get('patients', 0) + int(new_patient) + add_one}, 'patients')\n",
    "        remaining_hosp = [i for i, j in G_reg.nodes(data=True) if ((j['HF_TYPE']=='HOSPITAL') or (j['HF_TYPE']=='INFIRMARY'))]\n",
    "        remaining_hosps.append(len(remaining_hosp))\n",
    "        num_isolates.append(len(list(nx.isolates(G_reg))))\n",
    "    #     print(t, removed_hosps)\n",
    "    df_rem_hosps.loc[region, \"0.05%\"] = remaining_hosps[np.where(pop_prop * np.arange(num_iter+1)==0.0005)[0][0]] / remaining_hosps[0]\n",
    "    df_rem_hosps.loc[region, \"0.5%\"] = remaining_hosps[np.where(pop_prop * np.arange(num_iter+1)==0.005)[0][0]] / remaining_hosps[0]\n",
    "    df_isolates.loc[region, \"0.05%\"] = num_isolates[np.where(pop_prop * np.arange(num_iter+1)==0.0005)[0][0]] / num_isolates[-1]\n",
    "    df_isolates.loc[region, \"0.5%\"] = num_isolates[np.where(pop_prop * np.arange(num_iter+1)==0.005)[0][0]] / num_isolates[-1]\n",
    "    \n",
    "#     print(\"At 0.05%, remaining hosps are\", remaining_hosps[np.where(pop_prop * np.arange(num_iter+1)==0.0005)[0][0]] / remaining_hosps[0], region)\n",
    "#     print(\"At 0.5%, remaining hosps are\", remaining_hosps[np.where(pop_prop * np.arange(num_iter+1)==0.005)[0][0]] / remaining_hosps[0], region)\n",
    "#     print(\"At 0.05%, the isolated RHUs are\", num_isolates[np.where(pop_prop * np.arange(num_iter+1)==0.0005)[0][0]] / num_isolates[-1], region)\n",
    "#     print(\"At 0.5%, the isolated RHUs are\", num_isolates[np.where(pop_prop * np.arange(num_iter+1)==0.005)[0][0]] / num_isolates[-1], region)\n",
    "    ax1.plot(pop_prop * np.arange(num_iter+1), [i/remaining_hosps[0] for i in remaining_hosps], label=region)\n",
    "    ax2.plot(pop_prop * np.arange(num_iter+1), [i/num_isolates[-1] for i in num_isolates])\n",
    "fig.legend()\n",
    "ax1.set_xlabel('Percent of population in HCPN')\n",
    "ax2.set_xlabel('Percent of population in HCPN')\n",
    "\n",
    "ax1.set_xticklabels(['-0.2%', '0.0%', '0.2%', '0.4%', '0.6%', '0.8%', '1.0%'])\n",
    "ax2.set_xticklabels(['-0.2%', '0.0%', '0.2%', '0.4%', '0.6%', '0.8%', '1.0%'])\n",
    "ax1.set_ylabel('Percentage of remaining hospitals')\n",
    "ax2.set_ylabel('Percentage of isolated RHUs')\n",
    "    #     t+=1\n",
    "    #     break"
   ]
  },
  {
   "cell_type": "code",
   "execution_count": 215,
   "metadata": {
    "ExecuteTime": {
     "end_time": "2020-08-10T19:21:26.636182Z",
     "start_time": "2020-08-10T19:21:26.629169Z"
    }
   },
   "outputs": [
    {
     "name": "stdout",
     "output_type": "stream",
     "text": [
      "Remaining hospitals\n"
     ]
    },
    {
     "data": {
      "text/html": [
       "<div>\n",
       "<style scoped>\n",
       "    .dataframe tbody tr th:only-of-type {\n",
       "        vertical-align: middle;\n",
       "    }\n",
       "\n",
       "    .dataframe tbody tr th {\n",
       "        vertical-align: top;\n",
       "    }\n",
       "\n",
       "    .dataframe thead th {\n",
       "        text-align: right;\n",
       "    }\n",
       "</style>\n",
       "<table border=\"1\" class=\"dataframe\">\n",
       "  <thead>\n",
       "    <tr style=\"text-align: right;\">\n",
       "      <th></th>\n",
       "      <th>0.05%</th>\n",
       "      <th>0.5%</th>\n",
       "    </tr>\n",
       "  </thead>\n",
       "  <tbody>\n",
       "    <tr>\n",
       "      <th>AUTONOMOUS REGION IN MUSLIM MINDANAO (ARMM)</th>\n",
       "      <td>27.78</td>\n",
       "      <td>0.00</td>\n",
       "    </tr>\n",
       "    <tr>\n",
       "      <th>CORDILLERA ADMINISTRA TIVE REGION (CAR)</th>\n",
       "      <td>41.67</td>\n",
       "      <td>2.78</td>\n",
       "    </tr>\n",
       "    <tr>\n",
       "      <th>REGION IV-B (MIMAROPA)</th>\n",
       "      <td>24.24</td>\n",
       "      <td>3.03</td>\n",
       "    </tr>\n",
       "    <tr>\n",
       "      <th>NATIONAL CAPITAL REGION (NCR)</th>\n",
       "      <td>26.67</td>\n",
       "      <td>8.89</td>\n",
       "    </tr>\n",
       "    <tr>\n",
       "      <th>REGION X (NORTHERN MINDANAO)</th>\n",
       "      <td>22.22</td>\n",
       "      <td>5.56</td>\n",
       "    </tr>\n",
       "    <tr>\n",
       "      <th>REGION XI (DAVAO REGION)</th>\n",
       "      <td>38.10</td>\n",
       "      <td>23.81</td>\n",
       "    </tr>\n",
       "    <tr>\n",
       "      <th>REGION XII (SOCCSKSA RGEN)</th>\n",
       "      <td>38.89</td>\n",
       "      <td>22.22</td>\n",
       "    </tr>\n",
       "    <tr>\n",
       "      <th>REGION XIII (CARAGA)</th>\n",
       "      <td>32.00</td>\n",
       "      <td>12.00</td>\n",
       "    </tr>\n",
       "    <tr>\n",
       "      <th>REGION I (ILOCOS REGION)</th>\n",
       "      <td>13.89</td>\n",
       "      <td>5.56</td>\n",
       "    </tr>\n",
       "    <tr>\n",
       "      <th>REGION II (CAGAYAN VALLEY)</th>\n",
       "      <td>9.09</td>\n",
       "      <td>0.00</td>\n",
       "    </tr>\n",
       "    <tr>\n",
       "      <th>REGION III (CENTRAL LUZON)</th>\n",
       "      <td>5.26</td>\n",
       "      <td>1.75</td>\n",
       "    </tr>\n",
       "    <tr>\n",
       "      <th>REGION IV-A (CALABAR ZON)</th>\n",
       "      <td>8.77</td>\n",
       "      <td>1.75</td>\n",
       "    </tr>\n",
       "    <tr>\n",
       "      <th>REGION V (BICOL REGION)</th>\n",
       "      <td>5.13</td>\n",
       "      <td>2.56</td>\n",
       "    </tr>\n",
       "    <tr>\n",
       "      <th>REGION VI (WESTERN VISAYAS)</th>\n",
       "      <td>8.00</td>\n",
       "      <td>2.00</td>\n",
       "    </tr>\n",
       "    <tr>\n",
       "      <th>REGION VII (CENTRAL VISAYAS)</th>\n",
       "      <td>11.11</td>\n",
       "      <td>4.44</td>\n",
       "    </tr>\n",
       "    <tr>\n",
       "      <th>REGION VIII (EASTERN VISAYAS)</th>\n",
       "      <td>17.95</td>\n",
       "      <td>5.13</td>\n",
       "    </tr>\n",
       "    <tr>\n",
       "      <th>REGION IX (ZAMBOANGA PENINSULA)</th>\n",
       "      <td>19.05</td>\n",
       "      <td>14.29</td>\n",
       "    </tr>\n",
       "  </tbody>\n",
       "</table>\n",
       "</div>"
      ],
      "text/plain": [
       "                                             0.05%  0.5%\n",
       "AUTONOMOUS REGION IN MUSLIM MINDANAO (ARMM)  27.78  0.00\n",
       "CORDILLERA ADMINISTRA TIVE REGION (CAR)      41.67  2.78\n",
       "REGION IV-B (MIMAROPA)                       24.24  3.03\n",
       "NATIONAL CAPITAL REGION (NCR)                26.67  8.89\n",
       "REGION X (NORTHERN MINDANAO)                 22.22  5.56\n",
       "REGION XI (DAVAO REGION)                     38.10 23.81\n",
       "REGION XII (SOCCSKSA RGEN)                   38.89 22.22\n",
       "REGION XIII (CARAGA)                         32.00 12.00\n",
       "REGION I (ILOCOS REGION)                     13.89  5.56\n",
       "REGION II (CAGAYAN VALLEY)                    9.09  0.00\n",
       "REGION III (CENTRAL LUZON)                    5.26  1.75\n",
       "REGION IV-A (CALABAR ZON)                     8.77  1.75\n",
       "REGION V (BICOL REGION)                       5.13  2.56\n",
       "REGION VI (WESTERN VISAYAS)                   8.00  2.00\n",
       "REGION VII (CENTRAL VISAYAS)                 11.11  4.44\n",
       "REGION VIII (EASTERN VISAYAS)                17.95  5.13\n",
       "REGION IX (ZAMBOANGA PENINSULA)              19.05 14.29"
      ]
     },
     "execution_count": 215,
     "metadata": {},
     "output_type": "execute_result"
    }
   ],
   "source": [
    "print(\"Remaining hospitals\")\n",
    "(df_rem_hosps*100)"
   ]
  },
  {
   "cell_type": "code",
   "execution_count": 216,
   "metadata": {
    "ExecuteTime": {
     "end_time": "2020-08-10T19:21:27.035117Z",
     "start_time": "2020-08-10T19:21:27.028103Z"
    }
   },
   "outputs": [
    {
     "name": "stdout",
     "output_type": "stream",
     "text": [
      "RHU isolates\n"
     ]
    },
    {
     "data": {
      "text/html": [
       "<div>\n",
       "<style scoped>\n",
       "    .dataframe tbody tr th:only-of-type {\n",
       "        vertical-align: middle;\n",
       "    }\n",
       "\n",
       "    .dataframe tbody tr th {\n",
       "        vertical-align: top;\n",
       "    }\n",
       "\n",
       "    .dataframe thead th {\n",
       "        text-align: right;\n",
       "    }\n",
       "</style>\n",
       "<table border=\"1\" class=\"dataframe\">\n",
       "  <thead>\n",
       "    <tr style=\"text-align: right;\">\n",
       "      <th></th>\n",
       "      <th>0.05%</th>\n",
       "      <th>0.5%</th>\n",
       "    </tr>\n",
       "  </thead>\n",
       "  <tbody>\n",
       "    <tr>\n",
       "      <th>AUTONOMOUS REGION IN MUSLIM MINDANAO (ARMM)</th>\n",
       "      <td>56.60</td>\n",
       "      <td>100.00</td>\n",
       "    </tr>\n",
       "    <tr>\n",
       "      <th>CORDILLERA ADMINISTRA TIVE REGION (CAR)</th>\n",
       "      <td>17.81</td>\n",
       "      <td>100.00</td>\n",
       "    </tr>\n",
       "    <tr>\n",
       "      <th>REGION IV-B (MIMAROPA)</th>\n",
       "      <td>76.09</td>\n",
       "      <td>100.00</td>\n",
       "    </tr>\n",
       "    <tr>\n",
       "      <th>NATIONAL CAPITAL REGION (NCR)</th>\n",
       "      <td>48.15</td>\n",
       "      <td>92.59</td>\n",
       "    </tr>\n",
       "    <tr>\n",
       "      <th>REGION X (NORTHERN MINDANAO)</th>\n",
       "      <td>52.63</td>\n",
       "      <td>100.00</td>\n",
       "    </tr>\n",
       "    <tr>\n",
       "      <th>REGION XI (DAVAO REGION)</th>\n",
       "      <td>5.26</td>\n",
       "      <td>100.00</td>\n",
       "    </tr>\n",
       "    <tr>\n",
       "      <th>REGION XII (SOCCSKSA RGEN)</th>\n",
       "      <td>40.00</td>\n",
       "      <td>100.00</td>\n",
       "    </tr>\n",
       "    <tr>\n",
       "      <th>REGION XIII (CARAGA)</th>\n",
       "      <td>68.57</td>\n",
       "      <td>100.00</td>\n",
       "    </tr>\n",
       "    <tr>\n",
       "      <th>REGION I (ILOCOS REGION)</th>\n",
       "      <td>96.12</td>\n",
       "      <td>100.00</td>\n",
       "    </tr>\n",
       "    <tr>\n",
       "      <th>REGION II (CAGAYAN VALLEY)</th>\n",
       "      <td>79.49</td>\n",
       "      <td>100.00</td>\n",
       "    </tr>\n",
       "    <tr>\n",
       "      <th>REGION III (CENTRAL LUZON)</th>\n",
       "      <td>94.42</td>\n",
       "      <td>100.00</td>\n",
       "    </tr>\n",
       "    <tr>\n",
       "      <th>REGION IV-A (CALABAR ZON)</th>\n",
       "      <td>91.11</td>\n",
       "      <td>100.00</td>\n",
       "    </tr>\n",
       "    <tr>\n",
       "      <th>REGION V (BICOL REGION)</th>\n",
       "      <td>82.35</td>\n",
       "      <td>100.00</td>\n",
       "    </tr>\n",
       "    <tr>\n",
       "      <th>REGION VI (WESTERN VISAYAS)</th>\n",
       "      <td>79.79</td>\n",
       "      <td>100.00</td>\n",
       "    </tr>\n",
       "    <tr>\n",
       "      <th>REGION VII (CENTRAL VISAYAS)</th>\n",
       "      <td>97.47</td>\n",
       "      <td>100.00</td>\n",
       "    </tr>\n",
       "    <tr>\n",
       "      <th>REGION VIII (EASTERN VISAYAS)</th>\n",
       "      <td>92.59</td>\n",
       "      <td>100.00</td>\n",
       "    </tr>\n",
       "    <tr>\n",
       "      <th>REGION IX (ZAMBOANGA PENINSULA)</th>\n",
       "      <td>100.00</td>\n",
       "      <td>100.00</td>\n",
       "    </tr>\n",
       "  </tbody>\n",
       "</table>\n",
       "</div>"
      ],
      "text/plain": [
       "                                             0.05%   0.5%\n",
       "AUTONOMOUS REGION IN MUSLIM MINDANAO (ARMM)  56.60 100.00\n",
       "CORDILLERA ADMINISTRA TIVE REGION (CAR)      17.81 100.00\n",
       "REGION IV-B (MIMAROPA)                       76.09 100.00\n",
       "NATIONAL CAPITAL REGION (NCR)                48.15  92.59\n",
       "REGION X (NORTHERN MINDANAO)                 52.63 100.00\n",
       "REGION XI (DAVAO REGION)                      5.26 100.00\n",
       "REGION XII (SOCCSKSA RGEN)                   40.00 100.00\n",
       "REGION XIII (CARAGA)                         68.57 100.00\n",
       "REGION I (ILOCOS REGION)                     96.12 100.00\n",
       "REGION II (CAGAYAN VALLEY)                   79.49 100.00\n",
       "REGION III (CENTRAL LUZON)                   94.42 100.00\n",
       "REGION IV-A (CALABAR ZON)                    91.11 100.00\n",
       "REGION V (BICOL REGION)                      82.35 100.00\n",
       "REGION VI (WESTERN VISAYAS)                  79.79 100.00\n",
       "REGION VII (CENTRAL VISAYAS)                 97.47 100.00\n",
       "REGION VIII (EASTERN VISAYAS)                92.59 100.00\n",
       "REGION IX (ZAMBOANGA PENINSULA)             100.00 100.00"
      ]
     },
     "execution_count": 216,
     "metadata": {},
     "output_type": "execute_result"
    }
   ],
   "source": [
    "print(\"RHU isolates\")\n",
    "(df_isolates*100)"
   ]
  }
 ],
 "metadata": {
  "kernelspec": {
   "display_name": "Python 3",
   "language": "python",
   "name": "python3"
  },
  "language_info": {
   "codemirror_mode": {
    "name": "ipython",
    "version": 3
   },
   "file_extension": ".py",
   "mimetype": "text/x-python",
   "name": "python",
   "nbconvert_exporter": "python",
   "pygments_lexer": "ipython3",
   "version": "3.7.5"
  },
  "toc": {
   "base_numbering": 1,
   "nav_menu": {},
   "number_sections": false,
   "sideBar": true,
   "skip_h1_title": false,
   "title_cell": "Table of Contents",
   "title_sidebar": "Contents",
   "toc_cell": false,
   "toc_position": {},
   "toc_section_display": true,
   "toc_window_display": true
  },
  "varInspector": {
   "cols": {
    "lenName": 16,
    "lenType": 16,
    "lenVar": 40
   },
   "kernels_config": {
    "python": {
     "delete_cmd_postfix": "",
     "delete_cmd_prefix": "del ",
     "library": "var_list.py",
     "varRefreshCmd": "print(var_dic_list())"
    },
    "r": {
     "delete_cmd_postfix": ") ",
     "delete_cmd_prefix": "rm(",
     "library": "var_list.r",
     "varRefreshCmd": "cat(var_dic_list()) "
    }
   },
   "types_to_exclude": [
    "module",
    "function",
    "builtin_function_or_method",
    "instance",
    "_Feature"
   ],
   "window_display": false
  }
 },
 "nbformat": 4,
 "nbformat_minor": 2
}
