{
 "cells": [
  {
   "cell_type": "markdown",
   "metadata": {},
   "source": [
    "# Network Analysis of the Primary Healthcare Facility Referral System in the Philippines\n",
    "##### By: Elijah Justin Medina and Jomilynn Rebanal\n",
    "\n",
    "This project aims to analyze to referral system among health units in the Philippines in order to identify the characteristics and consequently, the robustness of this system. The main data used in this analysis are geospatial coordinates of different health units in the network &mdash; barangay health stations (BHS), rural health units (RHU), and hospitals. The network is supplemented with bed capacity information of the different health units. The aforementioned data was obtained from the DOH Data Collect app v2.1 and the National Health Facility Registry."
   ]
  },
  {
   "cell_type": "markdown",
   "metadata": {},
   "source": [
    "##### Preliminaries"
   ]
  },
  {
   "cell_type": "code",
   "execution_count": 4,
   "metadata": {
    "ExecuteTime": {
     "end_time": "2020-08-03T13:52:37.860311Z",
     "start_time": "2020-08-03T13:52:37.855324Z"
    }
   },
   "outputs": [],
   "source": [
    "import pandas as pd \n",
    "import numpy as np \n",
    "from glob import glob \n",
    "import sys\n",
    "import locale\n",
    "from geopy.distance import vincenty\n",
    "import warnings\n",
    "\n",
    "warnings.filterwarnings(\"ignore\")\n",
    "np.set_printoptions(threshold=sys.maxsize, precision=2) \n",
    "pd.set_option('float_format', '{:,.2f}'.format)\n",
    "pd.set_option('display.max_rows', 1000)"
   ]
  },
  {
   "cell_type": "markdown",
   "metadata": {},
   "source": [
    "## Data Processing and Exploratory Data Analysis\n",
    "Before performing the analysis, the data must be cleaned to standardize text and minimize effect of errors (e.g. typographical, encoding, outliers). The goal of this processing is to prepare the data for network analysis."
   ]
  },
  {
   "cell_type": "markdown",
   "metadata": {},
   "source": [
    "### Merging of multiple, separated files"
   ]
  },
  {
   "cell_type": "markdown",
   "metadata": {},
   "source": [
    "##### Geographic Coordinates (Health Facility names and coordinates)"
   ]
  },
  {
   "cell_type": "code",
   "execution_count": 122,
   "metadata": {
    "ExecuteTime": {
     "end_time": "2020-03-10T12:49:05.277261Z",
     "start_time": "2020-03-10T12:49:05.269308Z"
    }
   },
   "outputs": [],
   "source": [
    "files = glob('Geographic Coordinates/*.xlsx')\n",
    "cols = ['Health Facility Code Short', 'Facility Name', 'Health Facility Type',\n",
    "        'Region Name                                             ', \n",
    "        'Province Name ', 'City/Municipality Name', 'Barangay Name', \n",
    "        'Latitude', 'Longitude', 'Service Capability', 'Licensing Status', \n",
    "        'Bed Capacity']\n",
    "\n",
    "HF_list = pd.DataFrame()\n",
    "        \n",
    "for f in files:\n",
    "    data = pd.read_excel(f, usecols=cols)\n",
    "    HF_list = HF_list.append(data)"
   ]
  },
  {
   "cell_type": "code",
   "execution_count": 123,
   "metadata": {
    "ExecuteTime": {
     "end_time": "2020-03-10T12:49:05.776642Z",
     "start_time": "2020-03-10T12:49:05.768638Z"
    }
   },
   "outputs": [],
   "source": [
    "HF_list.isnull().sum() # Verify mismatched fields across different excel files"
   ]
  },
  {
   "cell_type": "code",
   "execution_count": 124,
   "metadata": {
    "ExecuteTime": {
     "end_time": "2020-03-10T12:49:06.268012Z",
     "start_time": "2020-03-10T12:49:06.259985Z"
    }
   },
   "outputs": [],
   "source": [
    "HF_list.columns = ['SHORT_HFCODE', 'HF_NAME', 'HF_TYPE', 'REGION', 'PROVINCE', \n",
    "                  'MUNI_CITY', 'BRGY', 'LAT', 'LONG', 'SERVICE_CAP', \n",
    "                  'LICENSING', 'BED_CAP']\n",
    "\n",
    "str_cols = ['HF_NAME', 'HF_TYPE', 'REGION', 'PROVINCE', 'MUNI_CITY', 'BRGY', \n",
    "            'SERVICE_CAP', 'LICENSING', 'BED_CAP']\n",
    "\n",
    "HF_list[str_cols] = HF_list[str_cols].fillna('UNKNOWN').apply(lambda x: x.str.upper().str.strip())\n",
    "HF_list['SHORT_HFCODE'] = HF_list['SHORT_HFCODE'].astype(int)\n",
    "\n",
    "HF_list.to_excel('cleaned/HFList_cleaned.xlsx') #Store the combined dataframe"
   ]
  },
  {
   "cell_type": "markdown",
   "metadata": {},
   "source": [
    "##### Rural Health Unit"
   ]
  },
  {
   "cell_type": "code",
   "execution_count": 127,
   "metadata": {
    "ExecuteTime": {
     "end_time": "2020-03-10T12:49:07.746989Z",
     "start_time": "2020-03-10T12:49:07.742995Z"
    }
   },
   "outputs": [],
   "source": [
    "rhu = pd.read_excel('rhu2018.xlsx', sheet_name='MAIN', na_values='None')"
   ]
  },
  {
   "cell_type": "code",
   "execution_count": 128,
   "metadata": {
    "ExecuteTime": {
     "end_time": "2020-03-10T12:49:08.242363Z",
     "start_time": "2020-03-10T12:49:08.234372Z"
    }
   },
   "outputs": [],
   "source": [
    "str_cols = ['HF_NAME', 'REGION', 'PROVINCE', 'MUNI_CITY', 'BRGY',\n",
    "            'STREET_NAME', 'BUILDING', 'FACILITY_HEAD', 'DETACHED', 'BRGYS', \n",
    "            'SDN', 'SDN_NAME', 'REF1_NAME', 'REF1_SAMEPROV', \n",
    "            'REF1_REF1A', 'REF1A_SAMEPROV', 'REF2_NAME', 'REF3_NAME',  \n",
    "            'AMB_ACCESS', 'AMB_OWN', 'PHIC_ACC', 'PHIC_PACKAGES', 'PHIC_MCP', \n",
    "            'PHIC_PCB1', 'PHIC_MALARIA', 'PHIC_TBDOTS', 'PHIC_ABTC', \n",
    "            'PHIC_NCP', 'PHIC_OTH']\n",
    "code_cols = ['id', 'REF1_CODE', 'REF2_CODE', 'REF3_CODE']\n",
    "float_cols = ['REF1_DIST', 'REF1_TRAVEL', 'REF2_DIST', 'REF2_TRAVEL',\n",
    "             'REF3_DIST', 'REF3_TRAVEL']\n",
    "# int_cols = ['id', 'BHS_COUNT','CATCHMENT', 'REF1_CODE', 'REF2_CODE', \n",
    "#             'REF3_CODE',  'MD_NO', 'MD_AUG', 'MD_TOTAL','MD_FT', 'MD_PT', \n",
    "#             'MD_VISIT', 'RN_NO', 'RN_AUG', 'RN_TOTAL', 'RN_FT', 'RN_PT', \n",
    "#             'RN_VISIT', 'MW_NO', 'MW_AUG', 'MW_TOTAL', 'MW_FT', 'MW_PT', \n",
    "#             'MW_VISIT']\n",
    "\n",
    "rhu[str_cols] = rhu[str_cols].apply(lambda x: x.str.upper().str.strip())\n",
    "rhu[code_cols] = rhu[code_cols].fillna(0).astype(int)\n",
    "rhu[float_cols] = rhu[float_cols].astype(float)\n",
    "\n",
    "rhu[str_cols] = rhu[str_cols].fillna('UNKNOWN')\n",
    "\n",
    "# Extract short code for merging with the Geographic Coordinates files\n",
    "rhu['SHORT_HFCODE'] = rhu['HF_CODE'].apply(lambda x: int(x[-6:]))\n",
    "\n",
    "rhu.to_excel('cleaned/rhu_cleaned.xlsx')"
   ]
  },
  {
   "cell_type": "markdown",
   "metadata": {
    "ExecuteTime": {
     "end_time": "2020-03-10T12:49:09.235805Z",
     "start_time": "2020-03-10T12:49:09.227809Z"
    }
   },
   "source": [
    "### Impute missing information from other tables\n",
    "As the data is being processed from different tables, the other tables can be used to fill some missing information. Aside from imputing missing information, coordinates outside the Philippines are identified."
   ]
  },
  {
   "cell_type": "code",
   "execution_count": 7,
   "metadata": {
    "ExecuteTime": {
     "end_time": "2020-08-10T18:34:40.043551Z",
     "start_time": "2020-08-10T18:34:40.039563Z"
    }
   },
   "outputs": [],
   "source": [
    "# Bounding box for the Philippines (manually extracted from Google).\n",
    "long_min, lat_min, long_max, lat_max = (117.17427453, 5.58100332277, 126.537423944, 18.5052273625)"
   ]
  },
  {
   "cell_type": "code",
   "execution_count": 8,
   "metadata": {
    "ExecuteTime": {
     "end_time": "2020-08-10T18:34:47.943427Z",
     "start_time": "2020-08-10T18:34:40.593814Z"
    }
   },
   "outputs": [],
   "source": [
    "HF_list = pd.read_excel('cleaned/HFList_cleaned.xlsx')\n",
    "\n",
    "# Groupby the data to account for duplicate names for different codes\n",
    "HF_dict = HF_list[['HF_NAME', 'SHORT_HFCODE']].groupby('HF_NAME')['SHORT_HFCODE'].apply(set).to_dict()\n",
    "latlong_dict = HF_list[['SHORT_HFCODE', 'LAT', 'LONG']].set_index('SHORT_HFCODE').to_dict()\n"
   ]
  },
  {
   "cell_type": "markdown",
   "metadata": {},
   "source": [
    "#### RHU"
   ]
  },
  {
   "cell_type": "code",
   "execution_count": 9,
   "metadata": {
    "ExecuteTime": {
     "end_time": "2020-08-10T18:34:53.260437Z",
     "start_time": "2020-08-10T18:34:52.040575Z"
    }
   },
   "outputs": [],
   "source": [
    "rhu = pd.read_excel('cleaned/rhu_cleaned.xlsx')\n",
    "\n",
    "# Create copies of the dataframe for later use\n",
    "rhu2 = rhu.copy()\n",
    "rhu3 = rhu.copy()"
   ]
  },
  {
   "cell_type": "markdown",
   "metadata": {},
   "source": [
    "##### Fill missing REF1 Codes"
   ]
  },
  {
   "cell_type": "code",
   "execution_count": 10,
   "metadata": {
    "ExecuteTime": {
     "end_time": "2020-08-10T18:34:54.770202Z",
     "start_time": "2020-08-10T18:34:54.708368Z"
    }
   },
   "outputs": [],
   "source": [
    "cols = ['id', 'HF_CODE', 'SHORT_HFCODE', 'HF_NAME', 'REGION', 'PROVINCE', 'MUNI_CITY', 'BRGY',\n",
    "            'STREET_NAME', 'BUILDING', 'FACILITY_HEAD', 'DETACHED', 'BRGYS', \n",
    "            'SDN', 'SDN_NAME', 'REF1_NAME', 'REF1_SAMEPROV', \n",
    "            'REF1_REF1A', 'REF1A_SAMEPROV', 'REF2_NAME', 'REF3_NAME',  \n",
    "            'AMB_ACCESS', 'AMB_OWN', 'PHIC_ACC', 'PHIC_PACKAGES', 'PHIC_MCP', \n",
    "            'PHIC_PCB1', 'PHIC_MALARIA', 'PHIC_TBDOTS', 'PHIC_ABTC', \n",
    "            'PHIC_NCP', 'PHIC_OTH', 'REF1_CODE', 'REF1_DIST', 'REF1_TRAVEL',\n",
    "            'REF2_CODE', 'REF2_DIST', 'REF2_TRAVEL',\n",
    "            'REF3_CODE', 'REF3_DIST', 'REF3_TRAVEL']\n",
    "\n",
    "rhu = rhu[cols]\n",
    "\n",
    "# Using the health facility list, complete the RHU data\n",
    "rhu.loc[rhu['REF1_CODE']==0, 'REF_CODE'] = rhu[rhu['REF1_CODE']==0]['REF1_NAME'].map(HF_dict)"
   ]
  },
  {
   "cell_type": "code",
   "execution_count": 11,
   "metadata": {
    "ExecuteTime": {
     "end_time": "2020-08-10T18:34:55.095296Z",
     "start_time": "2020-08-10T18:34:55.084326Z"
    }
   },
   "outputs": [
    {
     "data": {
      "text/html": [
       "<div>\n",
       "<style scoped>\n",
       "    .dataframe tbody tr th:only-of-type {\n",
       "        vertical-align: middle;\n",
       "    }\n",
       "\n",
       "    .dataframe tbody tr th {\n",
       "        vertical-align: top;\n",
       "    }\n",
       "\n",
       "    .dataframe thead th {\n",
       "        text-align: right;\n",
       "    }\n",
       "</style>\n",
       "<table border=\"1\" class=\"dataframe\">\n",
       "  <thead>\n",
       "    <tr style=\"text-align: right;\">\n",
       "      <th></th>\n",
       "      <th>SHORT_HFCODE</th>\n",
       "      <th>REF_CODE</th>\n",
       "    </tr>\n",
       "  </thead>\n",
       "  <tbody>\n",
       "    <tr>\n",
       "      <th>8</th>\n",
       "      <td>2228</td>\n",
       "      <td>{3313}</td>\n",
       "    </tr>\n",
       "    <tr>\n",
       "      <th>20</th>\n",
       "      <td>6698</td>\n",
       "      <td>{3313}</td>\n",
       "    </tr>\n",
       "    <tr>\n",
       "      <th>29</th>\n",
       "      <td>147</td>\n",
       "      <td>{2703}</td>\n",
       "    </tr>\n",
       "    <tr>\n",
       "      <th>36</th>\n",
       "      <td>2033</td>\n",
       "      <td>{3667}</td>\n",
       "    </tr>\n",
       "    <tr>\n",
       "      <th>37</th>\n",
       "      <td>2184</td>\n",
       "      <td>{2703}</td>\n",
       "    </tr>\n",
       "  </tbody>\n",
       "</table>\n",
       "</div>"
      ],
      "text/plain": [
       "    SHORT_HFCODE REF_CODE\n",
       "8           2228   {3313}\n",
       "20          6698   {3313}\n",
       "29           147   {2703}\n",
       "36          2033   {3667}\n",
       "37          2184   {2703}"
      ]
     },
     "execution_count": 11,
     "metadata": {},
     "output_type": "execute_result"
    }
   ],
   "source": [
    "temp = rhu[['SHORT_HFCODE', 'REF_CODE']].dropna().copy()\n",
    "\n",
    "# This dataframe contains the HF codes of one health facility to other facilities.\n",
    "temp.head()"
   ]
  },
  {
   "cell_type": "code",
   "execution_count": 12,
   "metadata": {
    "ExecuteTime": {
     "end_time": "2020-08-10T18:34:55.542570Z",
     "start_time": "2020-08-10T18:34:55.504672Z"
    }
   },
   "outputs": [],
   "source": [
    "# Out of all the mapped referred facilities, the closest facility is used as the actual referred facility\n",
    "# Slight pre-processing: \"place\" the health facilities without coordinates to southwest of southwest Philippine boundary (lat_min - 10, long_min - 20) or northeast of northeast Philippine boundary\n",
    "temp_dict = pd.DataFrame(temp.apply(lambda x: min([(vincenty((latlong_dict['LAT'][x['SHORT_HFCODE']] if latlong_dict['LAT'][x['SHORT_HFCODE']]==latlong_dict['LAT'][x['SHORT_HFCODE']] else lat_min-10,\n",
    "                                                  latlong_dict['LONG'][x['SHORT_HFCODE']] if latlong_dict['LONG'][x['SHORT_HFCODE']]==latlong_dict['LONG'][x['SHORT_HFCODE']] else long_min-20), \n",
    "                                                 (latlong_dict['LAT'][i] if latlong_dict['LAT'][i]==latlong_dict['LAT'][i] else lat_max+10,\n",
    "                                                  latlong_dict['LONG'][i] if latlong_dict['LONG'][i]==latlong_dict['LONG'][i] else long_max+20)).km, i, x['SHORT_HFCODE']) for i in x['REF_CODE']], key=lambda x: x[0]), axis=1).tolist()).set_index(2).to_dict()\n",
    "\n",
    "rhu['REF_CODE'] = rhu['SHORT_HFCODE'].map(temp_dict[1])\n",
    "rhu.loc[rhu['REF1_CODE']!=0, 'REF_CODE'] = rhu.loc[rhu['REF1_CODE']!=0, 'REF1_CODE']"
   ]
  },
  {
   "cell_type": "markdown",
   "metadata": {},
   "source": [
    "##### Fill missing REF2 Codes\n",
    "\n",
    "The data contains up to three referred facilities so the same processing is performed for the second and third HF code."
   ]
  },
  {
   "cell_type": "code",
   "execution_count": 13,
   "metadata": {
    "ExecuteTime": {
     "end_time": "2020-08-10T18:34:56.768895Z",
     "start_time": "2020-08-10T18:34:56.716037Z"
    }
   },
   "outputs": [],
   "source": [
    "rhu2.loc[rhu2['REF2_CODE']==0, 'REF_CODE'] = rhu2[rhu2['REF2_CODE']==0]['REF2_NAME'].map(HF_dict)\n",
    "\n",
    "temp = rhu2[['SHORT_HFCODE', 'REF_CODE']].dropna().copy()\n",
    "temp_dict = pd.DataFrame(temp.apply(lambda x: min([(vincenty((latlong_dict['LAT'][x['SHORT_HFCODE']] if latlong_dict['LAT'][x['SHORT_HFCODE']]==latlong_dict['LAT'][x['SHORT_HFCODE']] else lat_min-10,\n",
    "                                                  latlong_dict['LONG'][x['SHORT_HFCODE']] if latlong_dict['LONG'][x['SHORT_HFCODE']]==latlong_dict['LONG'][x['SHORT_HFCODE']] else long_min-20), \n",
    "                                                 (latlong_dict['LAT'][i] if latlong_dict['LAT'][i]==latlong_dict['LAT'][i] else lat_max+10,\n",
    "                                                  latlong_dict['LONG'][i] if latlong_dict['LONG'][i]==latlong_dict['LONG'][i] else long_max+20)).km, i, x['SHORT_HFCODE']) for i in x['REF_CODE']], key=lambda x: x[0]), axis=1).tolist()).set_index(2).to_dict()\n",
    "\n",
    "rhu2['REF_CODE'] = rhu2['SHORT_HFCODE'].map(temp_dict[1])\n",
    "rhu2.loc[rhu2['REF2_CODE']!=0, 'REF_CODE'] = rhu2.loc[rhu2['REF2_CODE']!=0, 'REF2_CODE']"
   ]
  },
  {
   "cell_type": "markdown",
   "metadata": {},
   "source": [
    "##### Fill missing REF3 Codes"
   ]
  },
  {
   "cell_type": "code",
   "execution_count": 14,
   "metadata": {
    "ExecuteTime": {
     "end_time": "2020-08-10T18:34:58.843245Z",
     "start_time": "2020-08-10T18:34:58.762299Z"
    }
   },
   "outputs": [],
   "source": [
    "rhu3.loc[rhu3['REF3_CODE']==0, 'REF_CODE'] = rhu3[rhu3['REF3_CODE']==0]['REF3_NAME'].map(HF_dict)\n",
    "\n",
    "temp = rhu3[['SHORT_HFCODE', 'REF_CODE']].dropna().copy()\n",
    "temp_dict = pd.DataFrame(temp.apply(lambda x: min([(vincenty((latlong_dict['LAT'][x['SHORT_HFCODE']] if latlong_dict['LAT'][x['SHORT_HFCODE']]==latlong_dict['LAT'][x['SHORT_HFCODE']] else lat_min-10,\n",
    "                                                  latlong_dict['LONG'][x['SHORT_HFCODE']] if latlong_dict['LONG'][x['SHORT_HFCODE']]==latlong_dict['LONG'][x['SHORT_HFCODE']] else long_min-20), \n",
    "                                                 (latlong_dict['LAT'][i] if latlong_dict['LAT'][i]==latlong_dict['LAT'][i] else lat_max+10,\n",
    "                                                  latlong_dict['LONG'][i] if latlong_dict['LONG'][i]==latlong_dict['LONG'][i] else long_max+20)).km, i, x['SHORT_HFCODE']) for i in x['REF_CODE']], key=lambda x: x[0]), axis=1).tolist()).set_index(2).to_dict()\n",
    "\n",
    "rhu3['REF_CODE'] = rhu3['SHORT_HFCODE'].map(temp_dict[1])\n",
    "rhu3.loc[rhu3['REF3_CODE']!=0, 'REF_CODE'] = rhu3.loc[rhu3['REF3_CODE']!=0, 'REF3_CODE']"
   ]
  },
  {
   "cell_type": "code",
   "execution_count": 15,
   "metadata": {
    "ExecuteTime": {
     "end_time": "2020-08-10T18:34:59.080050Z",
     "start_time": "2020-08-10T18:34:59.068083Z"
    }
   },
   "outputs": [],
   "source": [
    "rhu.dropna(subset=['REF_CODE'], inplace=True)\n",
    "rhu2.dropna(subset=['REF_CODE'], inplace=True)\n",
    "rhu3.dropna(subset=['REF_CODE'], inplace=True)"
   ]
  },
  {
   "cell_type": "markdown",
   "metadata": {
    "ExecuteTime": {
     "end_time": "2020-03-01T08:03:19.170179Z",
     "start_time": "2020-03-01T08:03:19.165224Z"
    }
   },
   "source": [
    "##### Combine the processed dataframes"
   ]
  },
  {
   "cell_type": "code",
   "execution_count": 16,
   "metadata": {
    "ExecuteTime": {
     "end_time": "2020-08-10T18:35:00.127287Z",
     "start_time": "2020-08-10T18:35:00.118312Z"
    }
   },
   "outputs": [],
   "source": [
    "rhu.rename({'REF1_DIST':'REF_DIST', 'REF1_TRAVEL':'REF_TRAVEL', 'REF1_NAME':'REF_NAME'}, axis=1, inplace=True)\n",
    "rhu2.rename({'REF2_DIST':'REF_DIST', 'REF2_TRAVEL':'REF_TRAVEL', 'REF1_NAME':'REF_NAME'}, axis=1, inplace=True)\n",
    "rhu3.rename({'REF3_DIST':'REF_DIST', 'REF3_TRAVEL':'REF_TRAVEL', 'REF1_NAME':'REF_NAME'}, axis=1, inplace=True)"
   ]
  },
  {
   "cell_type": "code",
   "execution_count": 17,
   "metadata": {
    "ExecuteTime": {
     "end_time": "2020-08-10T18:35:00.691341Z",
     "start_time": "2020-08-10T18:35:00.685359Z"
    }
   },
   "outputs": [],
   "source": [
    "cols2 = ['SHORT_HFCODE', 'REF_CODE']\n",
    "rhu_edges = rhu[cols2].append(rhu2[cols2]).append(rhu3[cols2])"
   ]
  },
  {
   "cell_type": "code",
   "execution_count": 18,
   "metadata": {
    "ExecuteTime": {
     "end_time": "2020-08-10T18:35:00.952090Z",
     "start_time": "2020-08-10T18:35:00.948093Z"
    }
   },
   "outputs": [],
   "source": [
    "# Add a column identifying the type of facility for the later network analysis\n",
    "\n",
    "rhu_edges['HF_TYPE'] = 'RHU'"
   ]
  },
  {
   "cell_type": "code",
   "execution_count": 19,
   "metadata": {
    "ExecuteTime": {
     "end_time": "2020-08-10T18:35:01.202968Z",
     "start_time": "2020-08-10T18:35:01.183018Z"
    }
   },
   "outputs": [
    {
     "data": {
      "text/html": [
       "<div>\n",
       "<style scoped>\n",
       "    .dataframe tbody tr th:only-of-type {\n",
       "        vertical-align: middle;\n",
       "    }\n",
       "\n",
       "    .dataframe tbody tr th {\n",
       "        vertical-align: top;\n",
       "    }\n",
       "\n",
       "    .dataframe thead th {\n",
       "        text-align: right;\n",
       "    }\n",
       "</style>\n",
       "<table border=\"1\" class=\"dataframe\">\n",
       "  <thead>\n",
       "    <tr style=\"text-align: right;\">\n",
       "      <th></th>\n",
       "      <th>SHORT_HFCODE</th>\n",
       "      <th>LAT</th>\n",
       "      <th>LONG</th>\n",
       "    </tr>\n",
       "  </thead>\n",
       "  <tbody>\n",
       "    <tr>\n",
       "      <th>count</th>\n",
       "      <td>29,424.00</td>\n",
       "      <td>25,752.00</td>\n",
       "      <td>25,752.00</td>\n",
       "    </tr>\n",
       "    <tr>\n",
       "      <th>mean</th>\n",
       "      <td>19,505.19</td>\n",
       "      <td>12.27</td>\n",
       "      <td>122.49</td>\n",
       "    </tr>\n",
       "    <tr>\n",
       "      <th>std</th>\n",
       "      <td>11,203.47</td>\n",
       "      <td>7.11</td>\n",
       "      <td>4.42</td>\n",
       "    </tr>\n",
       "    <tr>\n",
       "      <th>min</th>\n",
       "      <td>1.00</td>\n",
       "      <td>0.00</td>\n",
       "      <td>0.00</td>\n",
       "    </tr>\n",
       "    <tr>\n",
       "      <th>25%</th>\n",
       "      <td>9,724.75</td>\n",
       "      <td>9.52</td>\n",
       "      <td>121.02</td>\n",
       "    </tr>\n",
       "    <tr>\n",
       "      <th>50%</th>\n",
       "      <td>19,799.50</td>\n",
       "      <td>12.73</td>\n",
       "      <td>122.38</td>\n",
       "    </tr>\n",
       "    <tr>\n",
       "      <th>75%</th>\n",
       "      <td>29,542.25</td>\n",
       "      <td>14.81</td>\n",
       "      <td>124.16</td>\n",
       "    </tr>\n",
       "    <tr>\n",
       "      <th>max</th>\n",
       "      <td>38,002.00</td>\n",
       "      <td>1,000.00</td>\n",
       "      <td>126.58</td>\n",
       "    </tr>\n",
       "  </tbody>\n",
       "</table>\n",
       "</div>"
      ],
      "text/plain": [
       "       SHORT_HFCODE       LAT      LONG\n",
       "count     29,424.00 25,752.00 25,752.00\n",
       "mean      19,505.19     12.27    122.49\n",
       "std       11,203.47      7.11      4.42\n",
       "min            1.00      0.00      0.00\n",
       "25%        9,724.75      9.52    121.02\n",
       "50%       19,799.50     12.73    122.38\n",
       "75%       29,542.25     14.81    124.16\n",
       "max       38,002.00  1,000.00    126.58"
      ]
     },
     "execution_count": 19,
     "metadata": {},
     "output_type": "execute_result"
    }
   ],
   "source": [
    "HF_list[['SHORT_HFCODE', 'LAT', 'LONG']].describe()"
   ]
  },
  {
   "cell_type": "markdown",
   "metadata": {},
   "source": [
    "##### Map lat-long to the HF codes"
   ]
  },
  {
   "cell_type": "code",
   "execution_count": 25,
   "metadata": {
    "ExecuteTime": {
     "end_time": "2020-03-23T15:27:34.344648Z",
     "start_time": "2020-03-23T15:27:34.242888Z"
    }
   },
   "outputs": [],
   "source": [
    "rhu_edges['source_lat'] = rhu_edges['SHORT_HFCODE'].map(latlong_dict['LAT'])\n",
    "rhu_edges['source_long'] = rhu_edges['SHORT_HFCODE'].map(latlong_dict['LONG'])\n",
    "rhu_edges['target_lat'] = rhu_edges['REF_CODE'].map(latlong_dict['LAT'])\n",
    "rhu_edges['target_long'] = rhu_edges['REF_CODE'].map(latlong_dict['LONG'])"
   ]
  },
  {
   "cell_type": "markdown",
   "metadata": {},
   "source": [
    "##### Set lat-long outside PH to NaN"
   ]
  },
  {
   "cell_type": "code",
   "execution_count": 26,
   "metadata": {
    "ExecuteTime": {
     "end_time": "2020-03-23T15:27:34.576828Z",
     "start_time": "2020-03-23T15:27:34.564872Z"
    }
   },
   "outputs": [],
   "source": [
    "rhu_edges.loc[~((rhu_edges['source_lat'].between(lat_min, lat_max)) & (rhu_edges['source_long'].between(\n",
    "    long_min, long_max))), ['source_lat', 'source_long']] = np.nan\n",
    "rhu_edges.loc[~((rhu_edges['target_lat'].between(lat_min, lat_max)) & (rhu_edges['target_long'].between(\n",
    "    long_min, long_max))), ['target_lat', 'target_long']] = np.nan"
   ]
  },
  {
   "cell_type": "markdown",
   "metadata": {},
   "source": [
    "##### Measure distance using lat-long for non-NaN HF pairs"
   ]
  },
  {
   "cell_type": "code",
   "execution_count": 27,
   "metadata": {
    "ExecuteTime": {
     "end_time": "2020-03-23T15:27:35.156389Z",
     "start_time": "2020-03-23T15:27:34.795219Z"
    }
   },
   "outputs": [],
   "source": [
    "missing_latlong = ~rhu_edges[['source_lat', 'source_long', 'target_lat', 'target_long']].isnull().sum(axis=1).astype(bool)\n",
    "rhu_edges.loc[missing_latlong, 'DIST'] = rhu_edges.loc[missing_latlong, ['source_lat', 'source_long', 'target_lat', 'target_long']].apply(lambda x: vincenty((x['source_lat'], x['source_long']), (x['target_lat'], x['target_long'])).km, axis=1)\n",
    "\n",
    "rhu_edges.loc[rhu_edges['DIST']==0, 'DIST'] = 1"
   ]
  },
  {
   "cell_type": "markdown",
   "metadata": {},
   "source": [
    "##### Check for outliers\n",
    "In this case, referral between facilities that are too high are classified as outliers. The threshold to be used for filtering out these outliers is subject to the researcher's choice. The unit of distance is in kilometers. Note that since the distance is extracted from coordinates, errors in encoding will change the actual coordinates of the facilities, therefore making changes to the distance (e.g. dividing by a constant factor) cannot be done. Instead, other imputing techinques are used to fill for missing distance data."
   ]
  },
  {
   "cell_type": "code",
   "execution_count": 29,
   "metadata": {
    "ExecuteTime": {
     "end_time": "2020-03-23T15:27:36.079266Z",
     "start_time": "2020-03-23T15:27:35.671342Z"
    }
   },
   "outputs": [
    {
     "data": {
      "image/png": "[encoded data removed]",
      "text/plain": [
       "<Figure size 432x288 with 1 Axes>"
      ]
     },
     "metadata": {
      "needs_background": "light"
     },
     "output_type": "display_data"
    }
   ],
   "source": [
    "B = rhu_edges.boxplot('DIST', return_type='both')"
   ]
  },
  {
   "cell_type": "code",
   "execution_count": 30,
   "metadata": {
    "ExecuteTime": {
     "end_time": "2020-03-23T15:27:37.316887Z",
     "start_time": "2020-03-23T15:27:37.310904Z"
    }
   },
   "outputs": [],
   "source": [
    "outliers = [i.get_ydata()[1] for i in B.lines['whiskers']]\n",
    "rhu_edges.loc[rhu_edges['DIST'] > outliers[1], 'DIST'] = np.nan"
   ]
  },
  {
   "cell_type": "code",
   "execution_count": 31,
   "metadata": {
    "ExecuteTime": {
     "end_time": "2020-03-23T15:27:37.613896Z",
     "start_time": "2020-03-23T15:27:37.608908Z"
    }
   },
   "outputs": [
    {
     "data": {
      "text/plain": [
       "[0.0006040641840882818, 88.56724901828711]"
      ]
     },
     "execution_count": 31,
     "metadata": {},
     "output_type": "execute_result"
    }
   ],
   "source": [
    "outliers"
   ]
  },
  {
   "cell_type": "code",
   "execution_count": 32,
   "metadata": {
    "ExecuteTime": {
     "end_time": "2020-03-23T15:27:39.047579Z",
     "start_time": "2020-03-23T15:27:39.029621Z"
    }
   },
   "outputs": [],
   "source": [
    "muni_dict = HF_list[['SHORT_HFCODE', 'MUNI_CITY', 'PROVINCE']].set_index('SHORT_HFCODE').to_dict()"
   ]
  },
  {
   "cell_type": "markdown",
   "metadata": {},
   "source": [
    "##### Impute distance from municipality\n",
    "With the municipality information of the facilities, the distance of different health units are imputed using the median. The assumption is that within the same municipality, the distance of referring facilities are more or less similar. For tracking, the source of the distance information is stored."
   ]
  },
  {
   "cell_type": "code",
   "execution_count": 33,
   "metadata": {
    "ExecuteTime": {
     "end_time": "2020-03-23T15:27:56.929486Z",
     "start_time": "2020-03-23T15:27:56.897547Z"
    }
   },
   "outputs": [],
   "source": [
    "rhu_edges['muni_city'] = rhu_edges['SHORT_HFCODE'].map(muni_dict['MUNI_CITY'])\n",
    "mean_dist_city = rhu_edges.groupby('muni_city')['DIST'].median().to_dict()\n",
    "\n",
    "imputed_muni = ~(rhu_edges.loc[rhu_edges['DIST'].isnull(), 'muni_city'].map(mean_dist_city).isnull())\n",
    "imputed_muni = imputed_muni[imputed_muni].index\n",
    "rhu_edges.loc[imputed_muni, \"IMPUTED\"] = \"MUNI\" \n",
    "rhu_edges.loc[rhu_edges['DIST'].isnull(), 'DIST'] = rhu_edges.loc[rhu_edges['DIST'].isnull(), 'muni_city'].map(mean_dist_city)"
   ]
  },
  {
   "cell_type": "markdown",
   "metadata": {},
   "source": [
    "##### Impute distance from province\n",
    "For those facilities without municipality information, the province is used."
   ]
  },
  {
   "cell_type": "code",
   "execution_count": 34,
   "metadata": {
    "ExecuteTime": {
     "end_time": "2020-03-23T15:28:00.082434Z",
     "start_time": "2020-03-23T15:28:00.021441Z"
    }
   },
   "outputs": [],
   "source": [
    "rhu_edges['province'] = rhu_edges['SHORT_HFCODE'].map(muni_dict['PROVINCE'])\n",
    "mean_dist_prov = rhu_edges.groupby('province')['DIST'].median().to_dict()\n",
    "\n",
    "imputed_prov = ~(rhu_edges.loc[rhu_edges['DIST'].isnull(), 'province'].map(mean_dist_prov).isnull())\n",
    "imputed_prov = imputed_prov[imputed_prov].index\n",
    "\n",
    "rhu_edges.loc[imputed_prov, \"IMPUTED\"] = \"PROV\"\n",
    "rhu_edges.loc[rhu_edges['DIST'].isnull(), 'DIST'] = rhu_edges.loc[rhu_edges['DIST'].isnull(), 'province'].map(mean_dist_prov)"
   ]
  },
  {
   "cell_type": "code",
   "execution_count": 35,
   "metadata": {
    "ExecuteTime": {
     "end_time": "2020-03-23T15:28:00.342583Z",
     "start_time": "2020-03-23T15:28:00.337596Z"
    }
   },
   "outputs": [
    {
     "data": {
      "text/plain": [
       "17"
      ]
     },
     "execution_count": 35,
     "metadata": {},
     "output_type": "execute_result"
    }
   ],
   "source": [
    "rhu_edges['DIST'].isnull().sum()"
   ]
  },
  {
   "cell_type": "markdown",
   "metadata": {},
   "source": [
    "If after all these, the referring facilities still do not have distance information, the connection between the facilities is dropped. "
   ]
  },
  {
   "cell_type": "code",
   "execution_count": 36,
   "metadata": {
    "ExecuteTime": {
     "end_time": "2020-03-23T15:28:00.645630Z",
     "start_time": "2020-03-23T15:28:00.639648Z"
    }
   },
   "outputs": [],
   "source": [
    "rhu_edges.dropna(subset=['DIST'], inplace=True)"
   ]
  },
  {
   "cell_type": "code",
   "execution_count": 37,
   "metadata": {
    "ExecuteTime": {
     "end_time": "2020-03-23T15:28:00.949768Z",
     "start_time": "2020-03-23T15:28:00.931767Z"
    }
   },
   "outputs": [],
   "source": [
    "prov_HF_dict = rhu_edges.groupby('province')[['SHORT_HFCODE', 'REF_CODE']].agg(set).rename({'SHORT_HFCODE':'RHU', 'REF_CODE':'HOSP'}, axis=1).to_dict()"
   ]
  },
  {
   "cell_type": "code",
   "execution_count": 38,
   "metadata": {
    "ExecuteTime": {
     "end_time": "2020-03-23T15:28:01.211050Z",
     "start_time": "2020-03-23T15:28:01.204038Z"
    }
   },
   "outputs": [],
   "source": [
    "rhu_edges['REF_CODES'] = [set(rhu_edges[~rhu_edges[['target_lat', 'target_long']].isnull().sum(axis=1).astype(bool)]['REF_CODE'])] * len(rhu_edges)"
   ]
  },
  {
   "cell_type": "code",
   "execution_count": 39,
   "metadata": {
    "ExecuteTime": {
     "end_time": "2020-03-23T15:28:01.512962Z",
     "start_time": "2020-03-23T15:28:01.507976Z"
    }
   },
   "outputs": [],
   "source": [
    "rhu_edges = rhu_edges[rhu_edges['REF_CODE']!=rhu_edges['SHORT_HFCODE']]"
   ]
  },
  {
   "cell_type": "markdown",
   "metadata": {},
   "source": [
    "##### Connect nearest neighbors\n",
    "The referrals above are based on actual data, i.e. actual referrals from facility to facility. This list is supplemented with the three nearest facilities, regardless of being the same facilities as the actual data."
   ]
  },
  {
   "cell_type": "code",
   "execution_count": 40,
   "metadata": {
    "ExecuteTime": {
     "end_time": "2020-03-23T15:29:56.535276Z",
     "start_time": "2020-03-23T15:28:01.772269Z"
    }
   },
   "outputs": [],
   "source": [
    "n = 3 #num of nearest neighbors to connect\n",
    "temp = rhu_edges[['SHORT_HFCODE', 'REF_CODES']].dropna().drop_duplicates(subset='SHORT_HFCODE').copy()\n",
    "df_neighbors = pd.DataFrame(temp.apply(lambda x: sorted([(vincenty((latlong_dict['LAT'][x['SHORT_HFCODE']] if latlong_dict['LAT'][x['SHORT_HFCODE']]==latlong_dict['LAT'][x['SHORT_HFCODE']] else lat_min-10,\n",
    "                                                  latlong_dict['LONG'][x['SHORT_HFCODE']] if latlong_dict['LONG'][x['SHORT_HFCODE']]==latlong_dict['LONG'][x['SHORT_HFCODE']] else long_min-20), \n",
    "                                                 (latlong_dict['LAT'][i] if latlong_dict['LAT'][i]==latlong_dict['LAT'][i] else lat_max+10,\n",
    "                                                  latlong_dict['LONG'][i] if latlong_dict['LONG'][i]==latlong_dict['LONG'][i] else long_max+20)).km, i, x['SHORT_HFCODE']) for i in x['REF_CODES'] if i!=x['SHORT_HFCODE']], key=lambda x: x[0])[:n], axis=1).tolist())#.set_index(2).to_dict()"
   ]
  },
  {
   "cell_type": "code",
   "execution_count": 41,
   "metadata": {
    "ExecuteTime": {
     "end_time": "2020-03-23T15:29:56.803989Z",
     "start_time": "2020-03-23T15:29:56.797004Z"
    }
   },
   "outputs": [],
   "source": [
    "df_neighbors_edges = pd.DataFrame(df_neighbors[0].append(df_neighbors[1]).append(df_neighbors[2]).tolist(), columns=['DIST', 'REF_CODE', 'SHORT_HFCODE'])"
   ]
  },
  {
   "cell_type": "code",
   "execution_count": 42,
   "metadata": {
    "ExecuteTime": {
     "end_time": "2020-03-23T15:29:57.048052Z",
     "start_time": "2020-03-23T15:29:57.045032Z"
    }
   },
   "outputs": [],
   "source": [
    "df_neighbors_edges['IMPUTED'] = 'NEAREST_NEIGHBOR'"
   ]
  },
  {
   "cell_type": "code",
   "execution_count": 43,
   "metadata": {
    "ExecuteTime": {
     "end_time": "2020-03-23T15:29:57.301475Z",
     "start_time": "2020-03-23T15:29:57.292472Z"
    }
   },
   "outputs": [
    {
     "data": {
      "text/html": [
       "<div>\n",
       "<style scoped>\n",
       "    .dataframe tbody tr th:only-of-type {\n",
       "        vertical-align: middle;\n",
       "    }\n",
       "\n",
       "    .dataframe tbody tr th {\n",
       "        vertical-align: top;\n",
       "    }\n",
       "\n",
       "    .dataframe thead th {\n",
       "        text-align: right;\n",
       "    }\n",
       "</style>\n",
       "<table border=\"1\" class=\"dataframe\">\n",
       "  <thead>\n",
       "    <tr style=\"text-align: right;\">\n",
       "      <th></th>\n",
       "      <th>SHORT_HFCODE</th>\n",
       "      <th>REF_CODE</th>\n",
       "      <th>DIST</th>\n",
       "      <th>IMPUTED</th>\n",
       "    </tr>\n",
       "  </thead>\n",
       "  <tbody>\n",
       "    <tr>\n",
       "      <th>0</th>\n",
       "      <td>25</td>\n",
       "      <td>32,170.00</td>\n",
       "      <td>0.00</td>\n",
       "      <td>NaN</td>\n",
       "    </tr>\n",
       "    <tr>\n",
       "      <th>1</th>\n",
       "      <td>105</td>\n",
       "      <td>5,940.00</td>\n",
       "      <td>0.41</td>\n",
       "      <td>NaN</td>\n",
       "    </tr>\n",
       "    <tr>\n",
       "      <th>2</th>\n",
       "      <td>106</td>\n",
       "      <td>3,313.00</td>\n",
       "      <td>11.13</td>\n",
       "      <td>NaN</td>\n",
       "    </tr>\n",
       "    <tr>\n",
       "      <th>4</th>\n",
       "      <td>137</td>\n",
       "      <td>3,313.00</td>\n",
       "      <td>11.29</td>\n",
       "      <td>NaN</td>\n",
       "    </tr>\n",
       "    <tr>\n",
       "      <th>5</th>\n",
       "      <td>1760</td>\n",
       "      <td>6,513.00</td>\n",
       "      <td>5.98</td>\n",
       "      <td>NaN</td>\n",
       "    </tr>\n",
       "    <tr>\n",
       "      <th>...</th>\n",
       "      <td>...</td>\n",
       "      <td>...</td>\n",
       "      <td>...</td>\n",
       "      <td>...</td>\n",
       "    </tr>\n",
       "    <tr>\n",
       "      <th>2296</th>\n",
       "      <td>6814</td>\n",
       "      <td>273.00</td>\n",
       "      <td>51.12</td>\n",
       "      <td>NaN</td>\n",
       "    </tr>\n",
       "    <tr>\n",
       "      <th>2297</th>\n",
       "      <td>7045</td>\n",
       "      <td>273.00</td>\n",
       "      <td>15.07</td>\n",
       "      <td>NaN</td>\n",
       "    </tr>\n",
       "    <tr>\n",
       "      <th>2298</th>\n",
       "      <td>7696</td>\n",
       "      <td>273.00</td>\n",
       "      <td>29.09</td>\n",
       "      <td>NaN</td>\n",
       "    </tr>\n",
       "    <tr>\n",
       "      <th>2299</th>\n",
       "      <td>8861</td>\n",
       "      <td>273.00</td>\n",
       "      <td>16.35</td>\n",
       "      <td>NaN</td>\n",
       "    </tr>\n",
       "    <tr>\n",
       "      <th>2300</th>\n",
       "      <td>27898</td>\n",
       "      <td>237.00</td>\n",
       "      <td>41.68</td>\n",
       "      <td>MUNI</td>\n",
       "    </tr>\n",
       "  </tbody>\n",
       "</table>\n",
       "<p>5925 rows × 4 columns</p>\n",
       "</div>"
      ],
      "text/plain": [
       "      SHORT_HFCODE  REF_CODE  DIST IMPUTED\n",
       "0               25 32,170.00  0.00     NaN\n",
       "1              105  5,940.00  0.41     NaN\n",
       "2              106  3,313.00 11.13     NaN\n",
       "4              137  3,313.00 11.29     NaN\n",
       "5             1760  6,513.00  5.98     NaN\n",
       "...            ...       ...   ...     ...\n",
       "2296          6814    273.00 51.12     NaN\n",
       "2297          7045    273.00 15.07     NaN\n",
       "2298          7696    273.00 29.09     NaN\n",
       "2299          8861    273.00 16.35     NaN\n",
       "2300         27898    237.00 41.68    MUNI\n",
       "\n",
       "[5925 rows x 4 columns]"
      ]
     },
     "execution_count": 43,
     "metadata": {},
     "output_type": "execute_result"
    }
   ],
   "source": [
    "rhu_edges[['SHORT_HFCODE', 'REF_CODE', 'DIST', 'IMPUTED']]"
   ]
  },
  {
   "cell_type": "code",
   "execution_count": 44,
   "metadata": {
    "ExecuteTime": {
     "end_time": "2020-03-23T15:29:57.574718Z",
     "start_time": "2020-03-23T15:29:57.566738Z"
    }
   },
   "outputs": [],
   "source": [
    "rhu_edges = rhu_edges[['SHORT_HFCODE', 'REF_CODE', 'DIST', 'IMPUTED']].append(df_neighbors_edges)"
   ]
  },
  {
   "cell_type": "code",
   "execution_count": 45,
   "metadata": {
    "ExecuteTime": {
     "end_time": "2020-03-23T15:29:57.821944Z",
     "start_time": "2020-03-23T15:29:57.813963Z"
    }
   },
   "outputs": [],
   "source": [
    "rhu_edges.loc[rhu_edges['DIST'] > outliers[1], 'DIST'] = np.nan\n",
    "rhu_edges.loc[rhu_edges['DIST']==0, 'DIST'] = 1"
   ]
  },
  {
   "cell_type": "code",
   "execution_count": 46,
   "metadata": {
    "ExecuteTime": {
     "end_time": "2020-03-23T15:29:58.070310Z",
     "start_time": "2020-03-23T15:29:58.057313Z"
    }
   },
   "outputs": [
    {
     "data": {
      "text/html": [
       "<div>\n",
       "<style scoped>\n",
       "    .dataframe tbody tr th:only-of-type {\n",
       "        vertical-align: middle;\n",
       "    }\n",
       "\n",
       "    .dataframe tbody tr th {\n",
       "        vertical-align: top;\n",
       "    }\n",
       "\n",
       "    .dataframe thead th {\n",
       "        text-align: right;\n",
       "    }\n",
       "</style>\n",
       "<table border=\"1\" class=\"dataframe\">\n",
       "  <thead>\n",
       "    <tr style=\"text-align: right;\">\n",
       "      <th></th>\n",
       "      <th>DIST</th>\n",
       "      <th>REF_CODE</th>\n",
       "      <th>SHORT_HFCODE</th>\n",
       "    </tr>\n",
       "  </thead>\n",
       "  <tbody>\n",
       "    <tr>\n",
       "      <th>count</th>\n",
       "      <td>12,157.00</td>\n",
       "      <td>12,330.00</td>\n",
       "      <td>12,330.00</td>\n",
       "    </tr>\n",
       "    <tr>\n",
       "      <th>mean</th>\n",
       "      <td>16.11</td>\n",
       "      <td>4,600.62</td>\n",
       "      <td>5,816.23</td>\n",
       "    </tr>\n",
       "    <tr>\n",
       "      <th>std</th>\n",
       "      <td>16.55</td>\n",
       "      <td>7,159.54</td>\n",
       "      <td>6,469.21</td>\n",
       "    </tr>\n",
       "    <tr>\n",
       "      <th>min</th>\n",
       "      <td>0.00</td>\n",
       "      <td>1.00</td>\n",
       "      <td>10.00</td>\n",
       "    </tr>\n",
       "    <tr>\n",
       "      <th>25%</th>\n",
       "      <td>3.39</td>\n",
       "      <td>622.00</td>\n",
       "      <td>2,307.00</td>\n",
       "    </tr>\n",
       "    <tr>\n",
       "      <th>50%</th>\n",
       "      <td>11.07</td>\n",
       "      <td>2,850.00</td>\n",
       "      <td>4,234.00</td>\n",
       "    </tr>\n",
       "    <tr>\n",
       "      <th>75%</th>\n",
       "      <td>22.87</td>\n",
       "      <td>5,139.00</td>\n",
       "      <td>7,062.00</td>\n",
       "    </tr>\n",
       "    <tr>\n",
       "      <th>max</th>\n",
       "      <td>88.57</td>\n",
       "      <td>261,101.00</td>\n",
       "      <td>36,628.00</td>\n",
       "    </tr>\n",
       "  </tbody>\n",
       "</table>\n",
       "</div>"
      ],
      "text/plain": [
       "           DIST   REF_CODE  SHORT_HFCODE\n",
       "count 12,157.00  12,330.00     12,330.00\n",
       "mean      16.11   4,600.62      5,816.23\n",
       "std       16.55   7,159.54      6,469.21\n",
       "min        0.00       1.00         10.00\n",
       "25%        3.39     622.00      2,307.00\n",
       "50%       11.07   2,850.00      4,234.00\n",
       "75%       22.87   5,139.00      7,062.00\n",
       "max       88.57 261,101.00     36,628.00"
      ]
     },
     "execution_count": 46,
     "metadata": {},
     "output_type": "execute_result"
    }
   ],
   "source": [
    "rhu_edges.describe()"
   ]
  },
  {
   "cell_type": "markdown",
   "metadata": {},
   "source": [
    "#### BHS\n",
    "The same processing done for the rural health units is performed for the barangay health stations."
   ]
  },
  {
   "cell_type": "code",
   "execution_count": 47,
   "metadata": {
    "ExecuteTime": {
     "end_time": "2020-03-23T15:29:58.309638Z",
     "start_time": "2020-03-23T15:29:58.305649Z"
    }
   },
   "outputs": [],
   "source": [
    "bhs = pd.read_excel('bhs2018.xlsx', sheet_name='MAIN', na_values='None')"
   ]
  },
  {
   "cell_type": "code",
   "execution_count": 48,
   "metadata": {
    "ExecuteTime": {
     "end_time": "2020-03-23T15:29:58.562991Z",
     "start_time": "2020-03-23T15:29:58.559968Z"
    }
   },
   "outputs": [],
   "source": [
    "str_cols = ['HF_NAME', 'REGION', 'PROVINCE', 'MUNI_CITY', 'BRGY',\n",
    "            'STREET_NAME', 'BUILDING', 'FACILITY_HEAD', 'DETACHED', \n",
    "            'BRGYS', 'RHU_NAME', 'RHU_SAME_CTY', 'RHU_NOTSAME_CTY',\n",
    "            'AMB_ACCESS']\n",
    "code_cols = ['id', 'RHU_CODE']\n",
    "float_cols = ['RHU_DIST', 'RHU_TRAVEL']\n",
    "# int_cols = ['CATCHMENT', 'MD_NO', 'MD_AUG', 'MD_TOTAL',\n",
    "#        'MD_FT', 'MD_PT', 'MD_VISIT', 'RN_NO', 'RN_AUG', 'RN_TOTAL', 'RN_FT',\n",
    "#        'RN_PT', 'RN_VISIT', 'MW_NO', 'MW_AUG', 'MW_TOTAL', 'MW_FT', 'MW_PT',\n",
    "#        'MW_VISIT', 'BHW_NO']\n",
    "\n",
    "bhs[str_cols] = bhs[str_cols].apply(lambda x: x.str.upper().str.strip())\n",
    "bhs[code_cols] = bhs[code_cols].fillna(0).astype(int)\n",
    "bhs[float_cols] = bhs[float_cols].astype(float)\n",
    "\n",
    "bhs[str_col] = bhs[str_col].fillna('UNKNOWN')\n",
    "bhs['SHORT_HFCODE'] = bhs['HF_CODE'].apply(lambda x: int(x[-6:]))\n",
    "bhs.to_excel('cleaned/bhs_cleaned.xlsx')"
   ]
  },
  {
   "cell_type": "markdown",
   "metadata": {},
   "source": [
    "##### Fill missing RHU Codes"
   ]
  },
  {
   "cell_type": "code",
   "execution_count": 49,
   "metadata": {
    "ExecuteTime": {
     "end_time": "2020-03-23T15:30:06.102564Z",
     "start_time": "2020-03-23T15:29:58.803316Z"
    }
   },
   "outputs": [],
   "source": [
    "bhs = pd.read_excel('cleaned/bhs_cleaned.xlsx')"
   ]
  },
  {
   "cell_type": "code",
   "execution_count": 50,
   "metadata": {
    "ExecuteTime": {
     "end_time": "2020-03-23T15:30:06.457949Z",
     "start_time": "2020-03-23T15:30:06.378126Z"
    }
   },
   "outputs": [],
   "source": [
    "bhs.loc[bhs['RHU_CODE']==0, 'REF_CODE'] = bhs[bhs['RHU_CODE']==0]['RHU_NAME'].map(HF_dict)"
   ]
  },
  {
   "cell_type": "code",
   "execution_count": 51,
   "metadata": {
    "ExecuteTime": {
     "end_time": "2020-03-23T15:30:06.830071Z",
     "start_time": "2020-03-23T15:30:06.752124Z"
    }
   },
   "outputs": [],
   "source": [
    "temp = bhs[['SHORT_HFCODE', 'REF_CODE']].dropna().copy()\n",
    "temp_dict = pd.DataFrame(temp.apply(lambda x: min([(vincenty((latlong_dict['LAT'][x['SHORT_HFCODE']] if latlong_dict['LAT'][x['SHORT_HFCODE']]==latlong_dict['LAT'][x['SHORT_HFCODE']] else lat_min-10,\n",
    "                                                  latlong_dict['LONG'][x['SHORT_HFCODE']] if latlong_dict['LONG'][x['SHORT_HFCODE']]==latlong_dict['LONG'][x['SHORT_HFCODE']] else long_min-20), \n",
    "                                                 (latlong_dict['LAT'][i] if latlong_dict['LAT'][i]==latlong_dict['LAT'][i] else lat_max+10,\n",
    "                                                  latlong_dict['LONG'][i] if latlong_dict['LONG'][i]==latlong_dict['LONG'][i] else long_max+20)).km, i, x['SHORT_HFCODE']) for i in x['REF_CODE']], key=lambda x: x[0]), axis=1).tolist()).set_index(2).to_dict()"
   ]
  },
  {
   "cell_type": "code",
   "execution_count": 35,
   "metadata": {
    "ExecuteTime": {
     "end_time": "2020-03-23T15:28:00.342583Z",
     "start_time": "2020-03-23T15:28:00.337596Z"
    }
   },
   "outputs": [
    {
     "data": {
      "text/plain": [
       "17"
      ]
     },
     "execution_count": 35,
     "metadata": {},
     "output_type": "execute_result"
    }
   ],
   "source": [
    "bhs['DIST'].isnull().sum()"
   ]
  },
  {
   "cell_type": "code",
   "execution_count": 53,
   "metadata": {
    "ExecuteTime": {
     "end_time": "2020-03-23T15:30:07.564473Z",
     "start_time": "2020-03-23T15:30:07.553463Z"
    }
   },
   "outputs": [],
   "source": [
    "bhs.dropna(subset=['REF_CODE'], inplace=True)"
   ]
  },
  {
   "cell_type": "code",
   "execution_count": 54,
   "metadata": {
    "ExecuteTime": {
     "end_time": "2020-03-23T15:30:07.924503Z",
     "start_time": "2020-03-23T15:30:07.921480Z"
    }
   },
   "outputs": [],
   "source": [
    "cols = ['SHORT_HFCODE', 'REF_CODE']"
   ]
  },
  {
   "cell_type": "code",
   "execution_count": 55,
   "metadata": {
    "ExecuteTime": {
     "end_time": "2020-03-23T15:30:08.282514Z",
     "start_time": "2020-03-23T15:30:08.269548Z"
    }
   },
   "outputs": [],
   "source": [
    "bhs = bhs[cols]\n",
    "bhs['HF_TYPE'] = 'BHS'"
   ]
  },
  {
   "cell_type": "code",
   "execution_count": 56,
   "metadata": {
    "ExecuteTime": {
     "end_time": "2020-03-23T15:30:08.725367Z",
     "start_time": "2020-03-23T15:30:08.616621Z"
    }
   },
   "outputs": [],
   "source": [
    "bhs['source_lat'] = bhs['SHORT_HFCODE'].map(latlong_dict['LAT'])\n",
    "bhs['source_long'] = bhs['SHORT_HFCODE'].map(latlong_dict['LONG'])\n",
    "bhs['target_lat'] = bhs['REF_CODE'].map(latlong_dict['LAT'])\n",
    "bhs['target_long'] = bhs['REF_CODE'].map(latlong_dict['LONG'])"
   ]
  },
  {
   "cell_type": "code",
   "execution_count": 57,
   "metadata": {
    "ExecuteTime": {
     "end_time": "2020-03-23T15:30:09.053644Z",
     "start_time": "2020-03-23T15:30:09.041657Z"
    }
   },
   "outputs": [],
   "source": [
    "bhs.loc[~((bhs['source_lat'].between(lat_min, lat_max)) & (bhs['source_long'].between(\n",
    "    long_min, long_max))), ['source_lat', 'source_long']] = np.nan\n",
    "bhs.loc[~((bhs['target_lat'].between(lat_min, lat_max)) & (bhs['target_long'].between(\n",
    "    long_min, long_max))), ['target_lat', 'target_long']] = np.nan"
   ]
  },
  {
   "cell_type": "code",
   "execution_count": 58,
   "metadata": {
    "ExecuteTime": {
     "end_time": "2020-03-23T15:30:10.323265Z",
     "start_time": "2020-03-23T15:30:09.369778Z"
    }
   },
   "outputs": [],
   "source": [
    "missing_latlong = ~bhs[['source_lat', 'source_long', 'target_lat', 'target_long']].isnull().sum(axis=1).astype(bool)\n",
    "bhs.loc[missing_latlong, 'DIST'] = bhs.loc[missing_latlong, ['source_lat', 'source_long', 'target_lat', 'target_long']].apply(lambda x: vincenty((x['source_lat'], x['source_long']), (x['target_lat'], x['target_long'])).km, axis=1)"
   ]
  },
  {
   "cell_type": "code",
   "execution_count": 59,
   "metadata": {
    "ExecuteTime": {
     "end_time": "2020-03-23T15:30:10.653379Z",
     "start_time": "2020-03-23T15:30:10.648357Z"
    }
   },
   "outputs": [],
   "source": [
    "bhs.loc[bhs['DIST']==0, 'DIST'] = 1"
   ]
  },
  {
   "cell_type": "code",
   "execution_count": 60,
   "metadata": {
    "ExecuteTime": {
     "end_time": "2020-03-23T15:30:11.071265Z",
     "start_time": "2020-03-23T15:30:10.981466Z"
    }
   },
   "outputs": [
    {
     "data": {
      "image/png": "[encoded data removed]",
      "text/plain": [
       "<Figure size 432x288 with 1 Axes>"
      ]
     },
     "metadata": {
      "needs_background": "light"
     },
     "output_type": "display_data"
    }
   ],
   "source": [
    "B = bhs.boxplot('DIST', return_type='both')"
   ]
  },
  {
   "cell_type": "code",
   "execution_count": 61,
   "metadata": {
    "ExecuteTime": {
     "end_time": "2020-03-23T15:30:11.400378Z",
     "start_time": "2020-03-23T15:30:11.397354Z"
    }
   },
   "outputs": [],
   "source": [
    "outliers = [i.get_ydata()[1] for i in B.lines['whiskers']]"
   ]
  },
  {
   "cell_type": "code",
   "execution_count": 62,
   "metadata": {
    "ExecuteTime": {
     "end_time": "2020-03-23T15:30:11.719376Z",
     "start_time": "2020-03-23T15:30:11.715349Z"
    }
   },
   "outputs": [
    {
     "data": {
      "text/plain": [
       "[0.00011063857573315692, 15.946669430143814]"
      ]
     },
     "execution_count": 62,
     "metadata": {},
     "output_type": "execute_result"
    }
   ],
   "source": [
    "outliers"
   ]
  },
  {
   "cell_type": "code",
   "execution_count": 63,
   "metadata": {
    "ExecuteTime": {
     "end_time": "2020-03-23T15:30:12.093365Z",
     "start_time": "2020-03-23T15:30:12.088393Z"
    }
   },
   "outputs": [],
   "source": [
    "outliers = [i.get_ydata()[1] for i in B.lines['whiskers']]\n",
    "bhs.loc[bhs['DIST'] > outliers[1], 'DIST'] = np.nan"
   ]
  },
  {
   "cell_type": "code",
   "execution_count": 64,
   "metadata": {
    "ExecuteTime": {
     "end_time": "2020-03-23T15:30:12.472373Z",
     "start_time": "2020-03-23T15:30:12.452427Z"
    }
   },
   "outputs": [],
   "source": [
    "muni_dict = HF_list[['SHORT_HFCODE', 'MUNI_CITY', 'PROVINCE']].set_index('SHORT_HFCODE').to_dict()"
   ]
  },
  {
   "cell_type": "code",
   "execution_count": 65,
   "metadata": {
    "ExecuteTime": {
     "end_time": "2020-03-23T15:30:12.868541Z",
     "start_time": "2020-03-23T15:30:12.805481Z"
    }
   },
   "outputs": [],
   "source": [
    "bhs['muni_city'] = bhs['SHORT_HFCODE'].map(muni_dict['MUNI_CITY'])\n",
    "mean_dist_city = bhs.groupby('muni_city')['DIST'].mean().to_dict()\n",
    "\n",
    "imputed_muni = ~(bhs.loc[bhs['DIST'].isnull(), 'muni_city'].map(mean_dist_city).isnull())\n",
    "imputed_muni = imputed_muni[imputed_muni].index\n",
    "bhs.loc[imputed_muni, \"IMPUTED\"] = \"MUNI\" \n",
    "bhs.loc[bhs['DIST'].isnull(), 'DIST'] = bhs.loc[bhs['DIST'].isnull(), 'muni_city'].map(mean_dist_city)"
   ]
  },
  {
   "cell_type": "code",
   "execution_count": 66,
   "metadata": {
    "ExecuteTime": {
     "end_time": "2020-03-23T15:30:13.207616Z",
     "start_time": "2020-03-23T15:30:13.186652Z"
    }
   },
   "outputs": [],
   "source": [
    "bhs['province'] = bhs['SHORT_HFCODE'].map(muni_dict['PROVINCE'])\n",
    "mean_dist_prov = bhs.groupby('province')['DIST'].mean().to_dict()\n",
    "\n",
    "imputed_prov = ~(bhs.loc[bhs['DIST'].isnull(), 'province'].map(mean_dist_prov).isnull())\n",
    "imputed_prov = imputed_prov[imputed_prov].index\n",
    "\n",
    "bhs.loc[imputed_prov, \"IMPUTED\"] = \"PROV\"\n",
    "bhs.loc[bhs['DIST'].isnull(), 'DIST'] = bhs.loc[bhs['DIST'].isnull(), 'province'].map(mean_dist_prov)"
   ]
  },
  {
   "cell_type": "code",
   "execution_count": 67,
   "metadata": {
    "ExecuteTime": {
     "end_time": "2020-03-23T15:30:13.541998Z",
     "start_time": "2020-03-23T15:30:13.536979Z"
    }
   },
   "outputs": [
    {
     "data": {
      "text/plain": [
       "55"
      ]
     },
     "execution_count": 67,
     "metadata": {},
     "output_type": "execute_result"
    }
   ],
   "source": [
    "bhs['DIST'].isnull().sum()"
   ]
  },
  {
   "cell_type": "code",
   "execution_count": 68,
   "metadata": {
    "ExecuteTime": {
     "end_time": "2020-03-23T15:30:13.869115Z",
     "start_time": "2020-03-23T15:30:13.862128Z"
    }
   },
   "outputs": [],
   "source": [
    "bhs.dropna(subset=['DIST'], inplace=True)"
   ]
  },
  {
   "cell_type": "code",
   "execution_count": 69,
   "metadata": {
    "ExecuteTime": {
     "end_time": "2020-03-23T15:30:14.199235Z",
     "start_time": "2020-03-23T15:30:14.195218Z"
    }
   },
   "outputs": [],
   "source": [
    "bhs = bhs[['SHORT_HFCODE', 'REF_CODE', 'DIST', 'IMPUTED']]"
   ]
  },
  {
   "cell_type": "code",
   "execution_count": 70,
   "metadata": {
    "ExecuteTime": {
     "end_time": "2020-03-23T15:30:14.518394Z",
     "start_time": "2020-03-23T15:30:14.514365Z"
    }
   },
   "outputs": [],
   "source": [
    "bhs = bhs[bhs['REF_CODE'] != bhs['SHORT_HFCODE']]"
   ]
  },
  {
   "cell_type": "code",
   "execution_count": 71,
   "metadata": {
    "ExecuteTime": {
     "end_time": "2020-03-23T15:30:14.846476Z",
     "start_time": "2020-03-23T15:30:14.834508Z"
    }
   },
   "outputs": [
    {
     "data": {
      "text/html": [
       "<div>\n",
       "<style scoped>\n",
       "    .dataframe tbody tr th:only-of-type {\n",
       "        vertical-align: middle;\n",
       "    }\n",
       "\n",
       "    .dataframe tbody tr th {\n",
       "        vertical-align: top;\n",
       "    }\n",
       "\n",
       "    .dataframe thead th {\n",
       "        text-align: right;\n",
       "    }\n",
       "</style>\n",
       "<table border=\"1\" class=\"dataframe\">\n",
       "  <thead>\n",
       "    <tr style=\"text-align: right;\">\n",
       "      <th></th>\n",
       "      <th>DIST</th>\n",
       "      <th>IMPUTED</th>\n",
       "      <th>REF_CODE</th>\n",
       "      <th>SHORT_HFCODE</th>\n",
       "    </tr>\n",
       "  </thead>\n",
       "  <tbody>\n",
       "    <tr>\n",
       "      <th>0</th>\n",
       "      <td>0.00</td>\n",
       "      <td>NaN</td>\n",
       "      <td>32,170.00</td>\n",
       "      <td>25</td>\n",
       "    </tr>\n",
       "    <tr>\n",
       "      <th>1</th>\n",
       "      <td>0.41</td>\n",
       "      <td>NaN</td>\n",
       "      <td>5,940.00</td>\n",
       "      <td>105</td>\n",
       "    </tr>\n",
       "    <tr>\n",
       "      <th>2</th>\n",
       "      <td>11.13</td>\n",
       "      <td>NaN</td>\n",
       "      <td>3,313.00</td>\n",
       "      <td>106</td>\n",
       "    </tr>\n",
       "    <tr>\n",
       "      <th>4</th>\n",
       "      <td>11.29</td>\n",
       "      <td>NaN</td>\n",
       "      <td>3,313.00</td>\n",
       "      <td>137</td>\n",
       "    </tr>\n",
       "    <tr>\n",
       "      <th>5</th>\n",
       "      <td>5.98</td>\n",
       "      <td>NaN</td>\n",
       "      <td>6,513.00</td>\n",
       "      <td>1760</td>\n",
       "    </tr>\n",
       "    <tr>\n",
       "      <th>...</th>\n",
       "      <td>...</td>\n",
       "      <td>...</td>\n",
       "      <td>...</td>\n",
       "      <td>...</td>\n",
       "    </tr>\n",
       "    <tr>\n",
       "      <th>19775</th>\n",
       "      <td>3.89</td>\n",
       "      <td>PROV</td>\n",
       "      <td>5,828.00</td>\n",
       "      <td>36080</td>\n",
       "    </tr>\n",
       "    <tr>\n",
       "      <th>19776</th>\n",
       "      <td>3.89</td>\n",
       "      <td>PROV</td>\n",
       "      <td>3,257.00</td>\n",
       "      <td>31557</td>\n",
       "    </tr>\n",
       "    <tr>\n",
       "      <th>19780</th>\n",
       "      <td>3.89</td>\n",
       "      <td>PROV</td>\n",
       "      <td>261.00</td>\n",
       "      <td>31561</td>\n",
       "    </tr>\n",
       "    <tr>\n",
       "      <th>19781</th>\n",
       "      <td>3.89</td>\n",
       "      <td>PROV</td>\n",
       "      <td>2,610.00</td>\n",
       "      <td>36436</td>\n",
       "    </tr>\n",
       "    <tr>\n",
       "      <th>19782</th>\n",
       "      <td>3.89</td>\n",
       "      <td>PROV</td>\n",
       "      <td>2,610.00</td>\n",
       "      <td>36437</td>\n",
       "    </tr>\n",
       "  </tbody>\n",
       "</table>\n",
       "<p>30094 rows × 4 columns</p>\n",
       "</div>"
      ],
      "text/plain": [
       "       DIST IMPUTED  REF_CODE  SHORT_HFCODE\n",
       "0      0.00     NaN 32,170.00            25\n",
       "1      0.41     NaN  5,940.00           105\n",
       "2     11.13     NaN  3,313.00           106\n",
       "4     11.29     NaN  3,313.00           137\n",
       "5      5.98     NaN  6,513.00          1760\n",
       "...     ...     ...       ...           ...\n",
       "19775  3.89    PROV  5,828.00         36080\n",
       "19776  3.89    PROV  3,257.00         31557\n",
       "19780  3.89    PROV    261.00         31561\n",
       "19781  3.89    PROV  2,610.00         36436\n",
       "19782  3.89    PROV  2,610.00         36437\n",
       "\n",
       "[30094 rows x 4 columns]"
      ]
     },
     "execution_count": 71,
     "metadata": {},
     "output_type": "execute_result"
    }
   ],
   "source": [
    "edge_list = rhu_edges.append(bhs)\n",
    "edge_list"
   ]
  },
  {
   "cell_type": "code",
   "execution_count": 72,
   "metadata": {
    "ExecuteTime": {
     "end_time": "2020-03-23T15:30:15.187168Z",
     "start_time": "2020-03-23T15:30:15.164638Z"
    }
   },
   "outputs": [],
   "source": [
    "edge_list = edge_list.groupby(['REF_CODE', 'SHORT_HFCODE'])[['IMPUTED', 'DIST']].agg({'DIST':'mean', 'IMPUTED':'first'}).reset_index()"
   ]
  },
  {
   "cell_type": "code",
   "execution_count": 73,
   "metadata": {
    "ExecuteTime": {
     "end_time": "2020-03-23T15:30:17.229424Z",
     "start_time": "2020-03-23T15:30:15.510346Z"
    }
   },
   "outputs": [],
   "source": [
    "edge_list.to_excel('edge_list.xlsx', index=False)"
   ]
  },
  {
   "cell_type": "markdown",
   "metadata": {},
   "source": [
    "## Network Analysis\n",
    "\n",
    "Using the facilities as nodes and the referral as edges, a tripartite network of BHS, RHU, and hospitals is created. The characteristics of the healthcare provider network for different regions are characterized and explored in this section. The main metric used in the analysis is degree and path length. "
   ]
  },
  {
   "cell_type": "code",
   "execution_count": 54,
   "metadata": {
    "ExecuteTime": {
     "end_time": "2020-03-24T13:26:19.842240Z",
     "start_time": "2020-03-24T13:26:19.836232Z"
    }
   },
   "outputs": [],
   "source": [
    "import pandas as pd\n",
    "import networkx as nx\n",
    "%matplotlib inline\n",
    "import matplotlib.pyplot as plt\n",
    "import numpy as np\n",
    "import itertools\n",
    "import random"
   ]
  },
  {
   "cell_type": "code",
   "execution_count": 3,
   "metadata": {
    "ExecuteTime": {
     "end_time": "2020-03-24T13:25:05.733940Z",
     "start_time": "2020-03-24T13:25:00.546266Z"
    }
   },
   "outputs": [],
   "source": [
    "nodes = pd.read_excel(\"nodeslist.xlsx\")\n",
    "edges = pd.read_excel(\"edge_list.xlsx\")"
   ]
  },
  {
   "cell_type": "markdown",
   "metadata": {},
   "source": [
    "For the succeeding analysis, the imputed distances using the nearest neighbors are not included."
   ]
  },
  {
   "cell_type": "code",
   "execution_count": 5,
   "metadata": {
    "ExecuteTime": {
     "end_time": "2020-03-24T13:25:05.828672Z",
     "start_time": "2020-03-24T13:25:05.816659Z"
    }
   },
   "outputs": [],
   "source": [
    "edges = edges[(edges['IMPUTED']!='NEAREST_NEIGHBOR') | (edges['SHORT_HFCODE']!=6108)]"
   ]
  },
  {
   "cell_type": "code",
   "execution_count": 7,
   "metadata": {
    "ExecuteTime": {
     "end_time": "2020-03-24T13:25:05.900435Z",
     "start_time": "2020-03-24T13:25:05.891460Z"
    }
   },
   "outputs": [],
   "source": [
    "nodes.drop(['LAT', 'LONG'], axis=1, inplace=True)"
   ]
  },
  {
   "cell_type": "code",
   "execution_count": 8,
   "metadata": {
    "ExecuteTime": {
     "end_time": "2020-03-24T13:25:06.067986Z",
     "start_time": "2020-03-24T13:25:05.928360Z"
    }
   },
   "outputs": [],
   "source": [
    "G = nx.from_pandas_edgelist(edges, source='SHORT_HFCODE', target='REF_CODE', edge_attr='DIST', create_using=nx.DiGraph)"
   ]
  },
  {
   "cell_type": "code",
   "execution_count": 9,
   "metadata": {
    "ExecuteTime": {
     "end_time": "2020-03-24T13:25:06.098904Z",
     "start_time": "2020-03-24T13:25:06.095913Z"
    }
   },
   "outputs": [],
   "source": [
    "nodes.index = nodes['SHORT_HFCODE']"
   ]
  },
  {
   "cell_type": "code",
   "execution_count": 10,
   "metadata": {
    "ExecuteTime": {
     "end_time": "2020-03-24T13:25:06.187671Z",
     "start_time": "2020-03-24T13:25:06.130818Z"
    }
   },
   "outputs": [],
   "source": [
    "node_attrib = nodes.to_dict()"
   ]
  },
  {
   "cell_type": "code",
   "execution_count": 11,
   "metadata": {
    "ExecuteTime": {
     "end_time": "2020-03-24T13:25:06.556377Z",
     "start_time": "2020-03-24T13:25:06.331978Z"
    }
   },
   "outputs": [],
   "source": [
    "for col in nodes.columns:\n",
    "    nx.set_node_attributes(G, node_attrib[col], col)"
   ]
  },
  {
   "cell_type": "code",
   "execution_count": 12,
   "metadata": {
    "ExecuteTime": {
     "end_time": "2020-03-24T13:25:06.724252Z",
     "start_time": "2020-03-24T13:25:06.701986Z"
    }
   },
   "outputs": [],
   "source": [
    "bhs_nodes = [i for i, j in G.nodes(data=True) if j.get('HF_TYPE')=='BARANGAY HEALTH STATION']\n",
    "rhu_nodes = [i for i, j in G.nodes(data=True) if j.get('HF_TYPE')=='RURAL HEALTH UNIT']\n",
    "hosp_nodes = [i for i, j in G.nodes(data=True) if ((j.get('HF_TYPE')=='HOSPITAL') or (j.get('HF_TYPE')=='INFIRMARY'))]"
   ]
  },
  {
   "cell_type": "markdown",
   "metadata": {},
   "source": [
    "### Degree (Hospital)"
   ]
  },
  {
   "cell_type": "code",
   "execution_count": 13,
   "metadata": {
    "ExecuteTime": {
     "end_time": "2020-03-24T13:25:09.635666Z",
     "start_time": "2020-03-24T13:25:06.871860Z"
    }
   },
   "outputs": [],
   "source": [
    "import seaborn as sns"
   ]
  },
  {
   "cell_type": "code",
   "execution_count": 14,
   "metadata": {
    "ExecuteTime": {
     "end_time": "2020-03-24T13:25:09.901985Z",
     "start_time": "2020-03-24T13:25:09.782273Z"
    }
   },
   "outputs": [],
   "source": [
    "region_deg = {}\n",
    "for region in nodes['REGION'].unique():\n",
    "    deg = list(dict(G.in_degree(nodes[((nodes['HF_TYPE']=='INFIRMARY') | (nodes['HF_TYPE']=='HOSPITAL')) & (nodes['REGION']==region)]['SHORT_HFCODE'])).values())\n",
    "    region_deg[region] = deg"
   ]
  },
  {
   "cell_type": "code",
   "execution_count": 15,
   "metadata": {
    "ExecuteTime": {
     "end_time": "2020-03-24T13:25:10.060635Z",
     "start_time": "2020-03-24T13:25:10.050555Z"
    }
   },
   "outputs": [],
   "source": [
    "df_deg = pd.DataFrame(list(itertools.chain(*[list(zip(len(j) * [i], j)) for i, j in region_deg.items()]))).rename({0:'Region', 1:'Degree'}, axis=1)#.boxplot(by=0)"
   ]
  },
  {
   "cell_type": "code",
   "execution_count": 16,
   "metadata": {
    "ExecuteTime": {
     "end_time": "2020-03-24T13:25:10.228081Z",
     "start_time": "2020-03-24T13:25:10.224091Z"
    }
   },
   "outputs": [],
   "source": [
    "region_map = {'AUTONOMOUS REGION IN MUSLIM MINDANAO (ARMM)':'ARMM',\n",
    "       'CORDILLERA ADMINISTRA TIVE REGION (CAR)':'CAR',\n",
    "       'REGION IV-B (MIMAROPA)':'IV-B', 'NATIONAL CAPITAL REGION (NCR)':'NCR',\n",
    "       'REGION X (NORTHERN MINDANAO)':'X', 'REGION XI (DAVAO REGION)':'XI',\n",
    "       'REGION XII (SOCCSKSA RGEN)':'XII', 'REGION XIII (CARAGA)':'XIII',\n",
    "       'REGION I (ILOCOS REGION)':'I', 'REGION II (CAGAYAN VALLEY)':'II',\n",
    "       'REGION III (CENTRAL LUZON)':'III', 'REGION IV-A (CALABAR ZON)':'IV-A',\n",
    "       'REGION V (BICOL REGION)':'V', 'REGION VI (WESTERN VISAYAS)':'VI',\n",
    "       'REGION VII (CENTRAL VISAYAS)':'VII', 'REGION VIII (EASTERN VISAYAS)':'VIII',\n",
    "       'REGION IX (ZAMBOANGA PENINSULA)':'IX'}"
   ]
  },
  {
   "cell_type": "code",
   "execution_count": 17,
   "metadata": {
    "ExecuteTime": {
     "end_time": "2020-03-24T13:25:10.384183Z",
     "start_time": "2020-03-24T13:25:10.380192Z"
    }
   },
   "outputs": [],
   "source": [
    "df_deg['Region'] = df_deg['Region'].map(region_map)"
   ]
  },
  {
   "cell_type": "code",
   "execution_count": 18,
   "metadata": {
    "ExecuteTime": {
     "end_time": "2020-03-24T13:25:10.657778Z",
     "start_time": "2020-03-24T13:25:10.532784Z"
    }
   },
   "outputs": [
    {
     "data": {
      "text/html": [
       "<style  type=\"text/css\" >\n",
       "    #T_e2f54cae_6dd2_11ea_8ccc_9828a631b9e6row0_col0 {\n",
       "            background-color:  #f7fbff;\n",
       "            color:  #000000;\n",
       "        }    #T_e2f54cae_6dd2_11ea_8ccc_9828a631b9e6row0_col1 {\n",
       "            background-color:  #f6faff;\n",
       "            color:  #000000;\n",
       "        }    #T_e2f54cae_6dd2_11ea_8ccc_9828a631b9e6row0_col2 {\n",
       "            background-color:  #f7fbff;\n",
       "            color:  #000000;\n",
       "        }    #T_e2f54cae_6dd2_11ea_8ccc_9828a631b9e6row0_col3 {\n",
       "            background-color:  #f7fbff;\n",
       "            color:  #000000;\n",
       "        }    #T_e2f54cae_6dd2_11ea_8ccc_9828a631b9e6row1_col0 {\n",
       "            background-color:  #ebf3fb;\n",
       "            color:  #000000;\n",
       "        }    #T_e2f54cae_6dd2_11ea_8ccc_9828a631b9e6row1_col1 {\n",
       "            background-color:  #e0ecf8;\n",
       "            color:  #000000;\n",
       "        }    #T_e2f54cae_6dd2_11ea_8ccc_9828a631b9e6row1_col2 {\n",
       "            background-color:  #e3eef8;\n",
       "            color:  #000000;\n",
       "        }    #T_e2f54cae_6dd2_11ea_8ccc_9828a631b9e6row1_col3 {\n",
       "            background-color:  #91c3de;\n",
       "            color:  #000000;\n",
       "        }    #T_e2f54cae_6dd2_11ea_8ccc_9828a631b9e6row2_col0 {\n",
       "            background-color:  #a9cfe5;\n",
       "            color:  #000000;\n",
       "        }    #T_e2f54cae_6dd2_11ea_8ccc_9828a631b9e6row2_col1 {\n",
       "            background-color:  #a6cee4;\n",
       "            color:  #000000;\n",
       "        }    #T_e2f54cae_6dd2_11ea_8ccc_9828a631b9e6row2_col2 {\n",
       "            background-color:  #cadef0;\n",
       "            color:  #000000;\n",
       "        }    #T_e2f54cae_6dd2_11ea_8ccc_9828a631b9e6row2_col3 {\n",
       "            background-color:  #74b3d8;\n",
       "            color:  #000000;\n",
       "        }    #T_e2f54cae_6dd2_11ea_8ccc_9828a631b9e6row3_col0 {\n",
       "            background-color:  #c2d9ee;\n",
       "            color:  #000000;\n",
       "        }    #T_e2f54cae_6dd2_11ea_8ccc_9828a631b9e6row3_col1 {\n",
       "            background-color:  #dfebf7;\n",
       "            color:  #000000;\n",
       "        }    #T_e2f54cae_6dd2_11ea_8ccc_9828a631b9e6row3_col2 {\n",
       "            background-color:  #e3eef8;\n",
       "            color:  #000000;\n",
       "        }    #T_e2f54cae_6dd2_11ea_8ccc_9828a631b9e6row3_col3 {\n",
       "            background-color:  #7db8da;\n",
       "            color:  #000000;\n",
       "        }    #T_e2f54cae_6dd2_11ea_8ccc_9828a631b9e6row4_col0 {\n",
       "            background-color:  #08306b;\n",
       "            color:  #f1f1f1;\n",
       "        }    #T_e2f54cae_6dd2_11ea_8ccc_9828a631b9e6row4_col1 {\n",
       "            background-color:  #81badb;\n",
       "            color:  #000000;\n",
       "        }    #T_e2f54cae_6dd2_11ea_8ccc_9828a631b9e6row4_col2 {\n",
       "            background-color:  #abd0e6;\n",
       "            color:  #000000;\n",
       "        }    #T_e2f54cae_6dd2_11ea_8ccc_9828a631b9e6row4_col3 {\n",
       "            background-color:  #08306b;\n",
       "            color:  #f1f1f1;\n",
       "        }    #T_e2f54cae_6dd2_11ea_8ccc_9828a631b9e6row5_col0 {\n",
       "            background-color:  #084285;\n",
       "            color:  #f1f1f1;\n",
       "        }    #T_e2f54cae_6dd2_11ea_8ccc_9828a631b9e6row5_col1 {\n",
       "            background-color:  #d0e1f2;\n",
       "            color:  #000000;\n",
       "        }    #T_e2f54cae_6dd2_11ea_8ccc_9828a631b9e6row5_col2 {\n",
       "            background-color:  #dae8f6;\n",
       "            color:  #000000;\n",
       "        }    #T_e2f54cae_6dd2_11ea_8ccc_9828a631b9e6row5_col3 {\n",
       "            background-color:  #083573;\n",
       "            color:  #f1f1f1;\n",
       "        }    #T_e2f54cae_6dd2_11ea_8ccc_9828a631b9e6row6_col0 {\n",
       "            background-color:  #bfd8ed;\n",
       "            color:  #000000;\n",
       "        }    #T_e2f54cae_6dd2_11ea_8ccc_9828a631b9e6row6_col1 {\n",
       "            background-color:  #eaf3fb;\n",
       "            color:  #000000;\n",
       "        }    #T_e2f54cae_6dd2_11ea_8ccc_9828a631b9e6row6_col2 {\n",
       "            background-color:  #eaf3fb;\n",
       "            color:  #000000;\n",
       "        }    #T_e2f54cae_6dd2_11ea_8ccc_9828a631b9e6row6_col3 {\n",
       "            background-color:  #a1cbe2;\n",
       "            color:  #000000;\n",
       "        }    #T_e2f54cae_6dd2_11ea_8ccc_9828a631b9e6row7_col0 {\n",
       "            background-color:  #cbdef1;\n",
       "            color:  #000000;\n",
       "        }    #T_e2f54cae_6dd2_11ea_8ccc_9828a631b9e6row7_col1 {\n",
       "            background-color:  #bed8ec;\n",
       "            color:  #000000;\n",
       "        }    #T_e2f54cae_6dd2_11ea_8ccc_9828a631b9e6row7_col2 {\n",
       "            background-color:  #bfd8ed;\n",
       "            color:  #000000;\n",
       "        }    #T_e2f54cae_6dd2_11ea_8ccc_9828a631b9e6row7_col3 {\n",
       "            background-color:  #e0ecf8;\n",
       "            color:  #000000;\n",
       "        }    #T_e2f54cae_6dd2_11ea_8ccc_9828a631b9e6row8_col0 {\n",
       "            background-color:  #9cc9e1;\n",
       "            color:  #000000;\n",
       "        }    #T_e2f54cae_6dd2_11ea_8ccc_9828a631b9e6row8_col1 {\n",
       "            background-color:  #08306b;\n",
       "            color:  #f1f1f1;\n",
       "        }    #T_e2f54cae_6dd2_11ea_8ccc_9828a631b9e6row8_col2 {\n",
       "            background-color:  #08306b;\n",
       "            color:  #f1f1f1;\n",
       "        }    #T_e2f54cae_6dd2_11ea_8ccc_9828a631b9e6row8_col3 {\n",
       "            background-color:  #3383be;\n",
       "            color:  #000000;\n",
       "        }    #T_e2f54cae_6dd2_11ea_8ccc_9828a631b9e6row9_col0 {\n",
       "            background-color:  #b0d2e7;\n",
       "            color:  #000000;\n",
       "        }    #T_e2f54cae_6dd2_11ea_8ccc_9828a631b9e6row9_col1 {\n",
       "            background-color:  #cadef0;\n",
       "            color:  #000000;\n",
       "        }    #T_e2f54cae_6dd2_11ea_8ccc_9828a631b9e6row9_col2 {\n",
       "            background-color:  #dae8f6;\n",
       "            color:  #000000;\n",
       "        }    #T_e2f54cae_6dd2_11ea_8ccc_9828a631b9e6row9_col3 {\n",
       "            background-color:  #64a9d3;\n",
       "            color:  #000000;\n",
       "        }    #T_e2f54cae_6dd2_11ea_8ccc_9828a631b9e6row10_col0 {\n",
       "            background-color:  #58a1cf;\n",
       "            color:  #000000;\n",
       "        }    #T_e2f54cae_6dd2_11ea_8ccc_9828a631b9e6row10_col1 {\n",
       "            background-color:  #d5e5f4;\n",
       "            color:  #000000;\n",
       "        }    #T_e2f54cae_6dd2_11ea_8ccc_9828a631b9e6row10_col2 {\n",
       "            background-color:  #e3eef8;\n",
       "            color:  #000000;\n",
       "        }    #T_e2f54cae_6dd2_11ea_8ccc_9828a631b9e6row10_col3 {\n",
       "            background-color:  #2676b8;\n",
       "            color:  #000000;\n",
       "        }    #T_e2f54cae_6dd2_11ea_8ccc_9828a631b9e6row11_col0 {\n",
       "            background-color:  #b5d4e9;\n",
       "            color:  #000000;\n",
       "        }    #T_e2f54cae_6dd2_11ea_8ccc_9828a631b9e6row11_col1 {\n",
       "            background-color:  #dae8f6;\n",
       "            color:  #000000;\n",
       "        }    #T_e2f54cae_6dd2_11ea_8ccc_9828a631b9e6row11_col2 {\n",
       "            background-color:  #dae8f6;\n",
       "            color:  #000000;\n",
       "        }    #T_e2f54cae_6dd2_11ea_8ccc_9828a631b9e6row11_col3 {\n",
       "            background-color:  #3383be;\n",
       "            color:  #000000;\n",
       "        }    #T_e2f54cae_6dd2_11ea_8ccc_9828a631b9e6row12_col0 {\n",
       "            background-color:  #083d7f;\n",
       "            color:  #f1f1f1;\n",
       "        }    #T_e2f54cae_6dd2_11ea_8ccc_9828a631b9e6row12_col1 {\n",
       "            background-color:  #97c6df;\n",
       "            color:  #000000;\n",
       "        }    #T_e2f54cae_6dd2_11ea_8ccc_9828a631b9e6row12_col2 {\n",
       "            background-color:  #bfd8ed;\n",
       "            color:  #000000;\n",
       "        }    #T_e2f54cae_6dd2_11ea_8ccc_9828a631b9e6row12_col3 {\n",
       "            background-color:  #74b3d8;\n",
       "            color:  #000000;\n",
       "        }    #T_e2f54cae_6dd2_11ea_8ccc_9828a631b9e6row13_col0 {\n",
       "            background-color:  #d4e4f4;\n",
       "            color:  #000000;\n",
       "        }    #T_e2f54cae_6dd2_11ea_8ccc_9828a631b9e6row13_col1 {\n",
       "            background-color:  #e8f1fa;\n",
       "            color:  #000000;\n",
       "        }    #T_e2f54cae_6dd2_11ea_8ccc_9828a631b9e6row13_col2 {\n",
       "            background-color:  #e7f0fa;\n",
       "            color:  #000000;\n",
       "        }    #T_e2f54cae_6dd2_11ea_8ccc_9828a631b9e6row13_col3 {\n",
       "            background-color:  #91c3de;\n",
       "            color:  #000000;\n",
       "        }    #T_e2f54cae_6dd2_11ea_8ccc_9828a631b9e6row14_col0 {\n",
       "            background-color:  #eef5fc;\n",
       "            color:  #000000;\n",
       "        }    #T_e2f54cae_6dd2_11ea_8ccc_9828a631b9e6row14_col1 {\n",
       "            background-color:  #f7fbff;\n",
       "            color:  #000000;\n",
       "        }    #T_e2f54cae_6dd2_11ea_8ccc_9828a631b9e6row14_col2 {\n",
       "            background-color:  #eff6fc;\n",
       "            color:  #000000;\n",
       "        }    #T_e2f54cae_6dd2_11ea_8ccc_9828a631b9e6row14_col3 {\n",
       "            background-color:  #d3e4f3;\n",
       "            color:  #000000;\n",
       "        }    #T_e2f54cae_6dd2_11ea_8ccc_9828a631b9e6row15_col0 {\n",
       "            background-color:  #d4e4f4;\n",
       "            color:  #000000;\n",
       "        }    #T_e2f54cae_6dd2_11ea_8ccc_9828a631b9e6row15_col1 {\n",
       "            background-color:  #edf4fc;\n",
       "            color:  #000000;\n",
       "        }    #T_e2f54cae_6dd2_11ea_8ccc_9828a631b9e6row15_col2 {\n",
       "            background-color:  #f3f8fe;\n",
       "            color:  #000000;\n",
       "        }    #T_e2f54cae_6dd2_11ea_8ccc_9828a631b9e6row15_col3 {\n",
       "            background-color:  #eaf2fb;\n",
       "            color:  #000000;\n",
       "        }    #T_e2f54cae_6dd2_11ea_8ccc_9828a631b9e6row16_col0 {\n",
       "            background-color:  #e3eef9;\n",
       "            color:  #000000;\n",
       "        }    #T_e2f54cae_6dd2_11ea_8ccc_9828a631b9e6row16_col1 {\n",
       "            background-color:  #f1f7fd;\n",
       "            color:  #000000;\n",
       "        }    #T_e2f54cae_6dd2_11ea_8ccc_9828a631b9e6row16_col2 {\n",
       "            background-color:  #eaf3fb;\n",
       "            color:  #000000;\n",
       "        }    #T_e2f54cae_6dd2_11ea_8ccc_9828a631b9e6row16_col3 {\n",
       "            background-color:  #d3e4f3;\n",
       "            color:  #000000;\n",
       "        }</style><table id=\"T_e2f54cae_6dd2_11ea_8ccc_9828a631b9e6\" ><thead>    <tr>        <th class=\"blank level0\" ></th>        <th class=\"col_heading level0 col0\" >max</th>        <th class=\"col_heading level0 col1\" >mean</th>        <th class=\"col_heading level0 col2\" >median</th>        <th class=\"col_heading level0 col3\" >count</th>    </tr>    <tr>        <th class=\"index_name level0\" >Region</th>        <th class=\"blank\" ></th>        <th class=\"blank\" ></th>        <th class=\"blank\" ></th>        <th class=\"blank\" ></th>    </tr></thead><tbody>\n",
       "                <tr>\n",
       "                        <th id=\"T_e2f54cae_6dd2_11ea_8ccc_9828a631b9e6level0_row0\" class=\"row_heading level0 row0\" >ARMM</th>\n",
       "                        <td id=\"T_e2f54cae_6dd2_11ea_8ccc_9828a631b9e6row0_col0\" class=\"data row0 col0\" >24</td>\n",
       "                        <td id=\"T_e2f54cae_6dd2_11ea_8ccc_9828a631b9e6row0_col1\" class=\"data row0 col1\" >6.94444</td>\n",
       "                        <td id=\"T_e2f54cae_6dd2_11ea_8ccc_9828a631b9e6row0_col2\" class=\"data row0 col2\" >4.5</td>\n",
       "                        <td id=\"T_e2f54cae_6dd2_11ea_8ccc_9828a631b9e6row0_col3\" class=\"data row0 col3\" >18</td>\n",
       "            </tr>\n",
       "            <tr>\n",
       "                        <th id=\"T_e2f54cae_6dd2_11ea_8ccc_9828a631b9e6level0_row1\" class=\"row_heading level0 row1\" >CAR</th>\n",
       "                        <td id=\"T_e2f54cae_6dd2_11ea_8ccc_9828a631b9e6row1_col0\" class=\"data row1 col0\" >32</td>\n",
       "                        <td id=\"T_e2f54cae_6dd2_11ea_8ccc_9828a631b9e6row1_col1\" class=\"data row1 col1\" >9.5</td>\n",
       "                        <td id=\"T_e2f54cae_6dd2_11ea_8ccc_9828a631b9e6row1_col2\" class=\"data row1 col2\" >7</td>\n",
       "                        <td id=\"T_e2f54cae_6dd2_11ea_8ccc_9828a631b9e6row1_col3\" class=\"data row1 col3\" >36</td>\n",
       "            </tr>\n",
       "            <tr>\n",
       "                        <th id=\"T_e2f54cae_6dd2_11ea_8ccc_9828a631b9e6level0_row2\" class=\"row_heading level0 row2\" >I</th>\n",
       "                        <td id=\"T_e2f54cae_6dd2_11ea_8ccc_9828a631b9e6row2_col0\" class=\"data row2 col0\" >68</td>\n",
       "                        <td id=\"T_e2f54cae_6dd2_11ea_8ccc_9828a631b9e6row2_col1\" class=\"data row2 col1\" >14.9487</td>\n",
       "                        <td id=\"T_e2f54cae_6dd2_11ea_8ccc_9828a631b9e6row2_col2\" class=\"data row2 col2\" >10</td>\n",
       "                        <td id=\"T_e2f54cae_6dd2_11ea_8ccc_9828a631b9e6row2_col3\" class=\"data row2 col3\" >39</td>\n",
       "            </tr>\n",
       "            <tr>\n",
       "                        <th id=\"T_e2f54cae_6dd2_11ea_8ccc_9828a631b9e6level0_row3\" class=\"row_heading level0 row3\" >II</th>\n",
       "                        <td id=\"T_e2f54cae_6dd2_11ea_8ccc_9828a631b9e6row3_col0\" class=\"data row3 col0\" >58</td>\n",
       "                        <td id=\"T_e2f54cae_6dd2_11ea_8ccc_9828a631b9e6row3_col1\" class=\"data row3 col1\" >9.65789</td>\n",
       "                        <td id=\"T_e2f54cae_6dd2_11ea_8ccc_9828a631b9e6row3_col2\" class=\"data row3 col2\" >7</td>\n",
       "                        <td id=\"T_e2f54cae_6dd2_11ea_8ccc_9828a631b9e6row3_col3\" class=\"data row3 col3\" >38</td>\n",
       "            </tr>\n",
       "            <tr>\n",
       "                        <th id=\"T_e2f54cae_6dd2_11ea_8ccc_9828a631b9e6level0_row4\" class=\"row_heading level0 row4\" >III</th>\n",
       "                        <td id=\"T_e2f54cae_6dd2_11ea_8ccc_9828a631b9e6row4_col0\" class=\"data row4 col0\" >153</td>\n",
       "                        <td id=\"T_e2f54cae_6dd2_11ea_8ccc_9828a631b9e6row4_col1\" class=\"data row4 col1\" >17.2097</td>\n",
       "                        <td id=\"T_e2f54cae_6dd2_11ea_8ccc_9828a631b9e6row4_col2\" class=\"data row4 col2\" >12.5</td>\n",
       "                        <td id=\"T_e2f54cae_6dd2_11ea_8ccc_9828a631b9e6row4_col3\" class=\"data row4 col3\" >62</td>\n",
       "            </tr>\n",
       "            <tr>\n",
       "                        <th id=\"T_e2f54cae_6dd2_11ea_8ccc_9828a631b9e6level0_row5\" class=\"row_heading level0 row5\" >IV-A</th>\n",
       "                        <td id=\"T_e2f54cae_6dd2_11ea_8ccc_9828a631b9e6row5_col0\" class=\"data row5 col0\" >144</td>\n",
       "                        <td id=\"T_e2f54cae_6dd2_11ea_8ccc_9828a631b9e6row5_col1\" class=\"data row5 col1\" >11.5082</td>\n",
       "                        <td id=\"T_e2f54cae_6dd2_11ea_8ccc_9828a631b9e6row5_col2\" class=\"data row5 col2\" >8</td>\n",
       "                        <td id=\"T_e2f54cae_6dd2_11ea_8ccc_9828a631b9e6row5_col3\" class=\"data row5 col3\" >61</td>\n",
       "            </tr>\n",
       "            <tr>\n",
       "                        <th id=\"T_e2f54cae_6dd2_11ea_8ccc_9828a631b9e6level0_row6\" class=\"row_heading level0 row6\" >IV-B</th>\n",
       "                        <td id=\"T_e2f54cae_6dd2_11ea_8ccc_9828a631b9e6row6_col0\" class=\"data row6 col0\" >59</td>\n",
       "                        <td id=\"T_e2f54cae_6dd2_11ea_8ccc_9828a631b9e6row6_col1\" class=\"data row6 col1\" >8.32353</td>\n",
       "                        <td id=\"T_e2f54cae_6dd2_11ea_8ccc_9828a631b9e6row6_col2\" class=\"data row6 col2\" >6</td>\n",
       "                        <td id=\"T_e2f54cae_6dd2_11ea_8ccc_9828a631b9e6row6_col3\" class=\"data row6 col3\" >34</td>\n",
       "            </tr>\n",
       "            <tr>\n",
       "                        <th id=\"T_e2f54cae_6dd2_11ea_8ccc_9828a631b9e6level0_row7\" class=\"row_heading level0 row7\" >IX</th>\n",
       "                        <td id=\"T_e2f54cae_6dd2_11ea_8ccc_9828a631b9e6row7_col0\" class=\"data row7 col0\" >53</td>\n",
       "                        <td id=\"T_e2f54cae_6dd2_11ea_8ccc_9828a631b9e6row7_col1\" class=\"data row7 col1\" >13.1739</td>\n",
       "                        <td id=\"T_e2f54cae_6dd2_11ea_8ccc_9828a631b9e6row7_col2\" class=\"data row7 col2\" >11</td>\n",
       "                        <td id=\"T_e2f54cae_6dd2_11ea_8ccc_9828a631b9e6row7_col3\" class=\"data row7 col3\" >23</td>\n",
       "            </tr>\n",
       "            <tr>\n",
       "                        <th id=\"T_e2f54cae_6dd2_11ea_8ccc_9828a631b9e6level0_row8\" class=\"row_heading level0 row8\" >NCR</th>\n",
       "                        <td id=\"T_e2f54cae_6dd2_11ea_8ccc_9828a631b9e6row8_col0\" class=\"data row8 col0\" >73</td>\n",
       "                        <td id=\"T_e2f54cae_6dd2_11ea_8ccc_9828a631b9e6row8_col1\" class=\"data row8 col1\" >29.9167</td>\n",
       "                        <td id=\"T_e2f54cae_6dd2_11ea_8ccc_9828a631b9e6row8_col2\" class=\"data row8 col2\" >28.5</td>\n",
       "                        <td id=\"T_e2f54cae_6dd2_11ea_8ccc_9828a631b9e6row8_col3\" class=\"data row8 col3\" >48</td>\n",
       "            </tr>\n",
       "            <tr>\n",
       "                        <th id=\"T_e2f54cae_6dd2_11ea_8ccc_9828a631b9e6level0_row9\" class=\"row_heading level0 row9\" >V</th>\n",
       "                        <td id=\"T_e2f54cae_6dd2_11ea_8ccc_9828a631b9e6row9_col0\" class=\"data row9 col0\" >65</td>\n",
       "                        <td id=\"T_e2f54cae_6dd2_11ea_8ccc_9828a631b9e6row9_col1\" class=\"data row9 col1\" >12.0976</td>\n",
       "                        <td id=\"T_e2f54cae_6dd2_11ea_8ccc_9828a631b9e6row9_col2\" class=\"data row9 col2\" >8</td>\n",
       "                        <td id=\"T_e2f54cae_6dd2_11ea_8ccc_9828a631b9e6row9_col3\" class=\"data row9 col3\" >41</td>\n",
       "            </tr>\n",
       "            <tr>\n",
       "                        <th id=\"T_e2f54cae_6dd2_11ea_8ccc_9828a631b9e6level0_row10\" class=\"row_heading level0 row10\" >VI</th>\n",
       "                        <td id=\"T_e2f54cae_6dd2_11ea_8ccc_9828a631b9e6row10_col0\" class=\"data row10 col0\" >96</td>\n",
       "                        <td id=\"T_e2f54cae_6dd2_11ea_8ccc_9828a631b9e6row10_col1\" class=\"data row10 col1\" >10.84</td>\n",
       "                        <td id=\"T_e2f54cae_6dd2_11ea_8ccc_9828a631b9e6row10_col2\" class=\"data row10 col2\" >7</td>\n",
       "                        <td id=\"T_e2f54cae_6dd2_11ea_8ccc_9828a631b9e6row10_col3\" class=\"data row10 col3\" >50</td>\n",
       "            </tr>\n",
       "            <tr>\n",
       "                        <th id=\"T_e2f54cae_6dd2_11ea_8ccc_9828a631b9e6level0_row11\" class=\"row_heading level0 row11\" >VII</th>\n",
       "                        <td id=\"T_e2f54cae_6dd2_11ea_8ccc_9828a631b9e6row11_col0\" class=\"data row11 col0\" >63</td>\n",
       "                        <td id=\"T_e2f54cae_6dd2_11ea_8ccc_9828a631b9e6row11_col1\" class=\"data row11 col1\" >10.2292</td>\n",
       "                        <td id=\"T_e2f54cae_6dd2_11ea_8ccc_9828a631b9e6row11_col2\" class=\"data row11 col2\" >8</td>\n",
       "                        <td id=\"T_e2f54cae_6dd2_11ea_8ccc_9828a631b9e6row11_col3\" class=\"data row11 col3\" >48</td>\n",
       "            </tr>\n",
       "            <tr>\n",
       "                        <th id=\"T_e2f54cae_6dd2_11ea_8ccc_9828a631b9e6level0_row12\" class=\"row_heading level0 row12\" >VIII</th>\n",
       "                        <td id=\"T_e2f54cae_6dd2_11ea_8ccc_9828a631b9e6row12_col0\" class=\"data row12 col0\" >146</td>\n",
       "                        <td id=\"T_e2f54cae_6dd2_11ea_8ccc_9828a631b9e6row12_col1\" class=\"data row12 col1\" >15.9231</td>\n",
       "                        <td id=\"T_e2f54cae_6dd2_11ea_8ccc_9828a631b9e6row12_col2\" class=\"data row12 col2\" >11</td>\n",
       "                        <td id=\"T_e2f54cae_6dd2_11ea_8ccc_9828a631b9e6row12_col3\" class=\"data row12 col3\" >39</td>\n",
       "            </tr>\n",
       "            <tr>\n",
       "                        <th id=\"T_e2f54cae_6dd2_11ea_8ccc_9828a631b9e6level0_row13\" class=\"row_heading level0 row13\" >X</th>\n",
       "                        <td id=\"T_e2f54cae_6dd2_11ea_8ccc_9828a631b9e6row13_col0\" class=\"data row13 col0\" >47</td>\n",
       "                        <td id=\"T_e2f54cae_6dd2_11ea_8ccc_9828a631b9e6row13_col1\" class=\"data row13 col1\" >8.58333</td>\n",
       "                        <td id=\"T_e2f54cae_6dd2_11ea_8ccc_9828a631b9e6row13_col2\" class=\"data row13 col2\" >6.5</td>\n",
       "                        <td id=\"T_e2f54cae_6dd2_11ea_8ccc_9828a631b9e6row13_col3\" class=\"data row13 col3\" >36</td>\n",
       "            </tr>\n",
       "            <tr>\n",
       "                        <th id=\"T_e2f54cae_6dd2_11ea_8ccc_9828a631b9e6level0_row14\" class=\"row_heading level0 row14\" >XI</th>\n",
       "                        <td id=\"T_e2f54cae_6dd2_11ea_8ccc_9828a631b9e6row14_col0\" class=\"data row14 col0\" >30</td>\n",
       "                        <td id=\"T_e2f54cae_6dd2_11ea_8ccc_9828a631b9e6row14_col1\" class=\"data row14 col1\" >6.84615</td>\n",
       "                        <td id=\"T_e2f54cae_6dd2_11ea_8ccc_9828a631b9e6row14_col2\" class=\"data row14 col2\" >5.5</td>\n",
       "                        <td id=\"T_e2f54cae_6dd2_11ea_8ccc_9828a631b9e6row14_col3\" class=\"data row14 col3\" >26</td>\n",
       "            </tr>\n",
       "            <tr>\n",
       "                        <th id=\"T_e2f54cae_6dd2_11ea_8ccc_9828a631b9e6level0_row15\" class=\"row_heading level0 row15\" >XII</th>\n",
       "                        <td id=\"T_e2f54cae_6dd2_11ea_8ccc_9828a631b9e6row15_col0\" class=\"data row15 col0\" >47</td>\n",
       "                        <td id=\"T_e2f54cae_6dd2_11ea_8ccc_9828a631b9e6row15_col1\" class=\"data row15 col1\" >8.09524</td>\n",
       "                        <td id=\"T_e2f54cae_6dd2_11ea_8ccc_9828a631b9e6row15_col2\" class=\"data row15 col2\" >5</td>\n",
       "                        <td id=\"T_e2f54cae_6dd2_11ea_8ccc_9828a631b9e6row15_col3\" class=\"data row15 col3\" >21</td>\n",
       "            </tr>\n",
       "            <tr>\n",
       "                        <th id=\"T_e2f54cae_6dd2_11ea_8ccc_9828a631b9e6level0_row16\" class=\"row_heading level0 row16\" >XIII</th>\n",
       "                        <td id=\"T_e2f54cae_6dd2_11ea_8ccc_9828a631b9e6row16_col0\" class=\"data row16 col0\" >37</td>\n",
       "                        <td id=\"T_e2f54cae_6dd2_11ea_8ccc_9828a631b9e6row16_col1\" class=\"data row16 col1\" >7.57692</td>\n",
       "                        <td id=\"T_e2f54cae_6dd2_11ea_8ccc_9828a631b9e6row16_col2\" class=\"data row16 col2\" >6</td>\n",
       "                        <td id=\"T_e2f54cae_6dd2_11ea_8ccc_9828a631b9e6row16_col3\" class=\"data row16 col3\" >26</td>\n",
       "            </tr>\n",
       "    </tbody></table>"
      ],
      "text/plain": [
       "<pandas.io.formats.style.Styler at 0x277d8992ec8>"
      ]
     },
     "execution_count": 18,
     "metadata": {},
     "output_type": "execute_result"
    }
   ],
   "source": [
    "(df_deg.groupby('Region')['Degree']\n",
    " .agg(['min', 'max', 'mean', 'median', 'count']).sort_values(by='Region')\n",
    " [['max', 'mean', 'median', 'count']]\n",
    ".style\n",
    "#  .highlight_max(subset='mean', color='lightskyblue')\n",
    "# .highlight_min(subset=['mean', 'median', 'count'], axis=0, color='lightskyblue')\n",
    ".background_gradient(cmap='Blues'))"
   ]
  },
  {
   "cell_type": "markdown",
   "metadata": {},
   "source": [
    "### Degree Outliers (Hospital)"
   ]
  },
  {
   "cell_type": "code",
   "execution_count": 19,
   "metadata": {
    "ExecuteTime": {
     "end_time": "2020-03-24T13:25:10.846201Z",
     "start_time": "2020-03-24T13:25:10.804384Z"
    }
   },
   "outputs": [],
   "source": [
    "upper_fence = df_deg.groupby('Region')['Degree'].quantile(0.75) + 1.5 * (df_deg.groupby('Region')['Degree'].quantile(0.75) - df_deg.groupby('Region')['Degree'].quantile(0.25))"
   ]
  },
  {
   "cell_type": "code",
   "execution_count": 20,
   "metadata": {
    "ExecuteTime": {
     "end_time": "2020-03-24T13:25:11.525883Z",
     "start_time": "2020-03-24T13:25:11.003638Z"
    }
   },
   "outputs": [
    {
     "data": {
      "image/png": "[encoded data removed]",
      "text/plain": [
       "<Figure size 720x576 with 1 Axes>"
      ]
     },
     "metadata": {
      "needs_background": "light"
     },
     "output_type": "display_data"
    }
   ],
   "source": [
    "fig, ax = plt.subplots(figsize=(10,8))\n",
    "\n",
    "# fig = plt.figure()\n",
    "sns.boxplot(data=df_deg, x='Region', y='Degree', palette='Blues',\n",
    "            order=upper_fence.sort_values(ascending=False).index)\n",
    "labels = [l.get_text() for l in ax.get_xticklabels()]\n",
    "ax.set_xticklabels(labels, ha='right');"
   ]
  },
  {
   "cell_type": "code",
   "execution_count": 21,
   "metadata": {
    "ExecuteTime": {
     "end_time": "2020-03-24T13:25:11.709469Z",
     "start_time": "2020-03-24T13:25:11.684459Z"
    }
   },
   "outputs": [
    {
     "data": {
      "text/html": [
       "<div>\n",
       "<style scoped>\n",
       "    .dataframe tbody tr th:only-of-type {\n",
       "        vertical-align: middle;\n",
       "    }\n",
       "\n",
       "    .dataframe tbody tr th {\n",
       "        vertical-align: top;\n",
       "    }\n",
       "\n",
       "    .dataframe thead th {\n",
       "        text-align: right;\n",
       "    }\n",
       "</style>\n",
       "<table border=\"1\" class=\"dataframe\">\n",
       "  <thead>\n",
       "    <tr style=\"text-align: right;\">\n",
       "      <th></th>\n",
       "      <th>min</th>\n",
       "      <th>max</th>\n",
       "      <th>mean</th>\n",
       "      <th>median</th>\n",
       "      <th>count</th>\n",
       "    </tr>\n",
       "    <tr>\n",
       "      <th>Region</th>\n",
       "      <th></th>\n",
       "      <th></th>\n",
       "      <th></th>\n",
       "      <th></th>\n",
       "      <th></th>\n",
       "    </tr>\n",
       "  </thead>\n",
       "  <tbody>\n",
       "    <tr>\n",
       "      <th>ARMM</th>\n",
       "      <td>6.000</td>\n",
       "      <td>6.000</td>\n",
       "      <td>6.000000</td>\n",
       "      <td>6.000</td>\n",
       "      <td>1</td>\n",
       "    </tr>\n",
       "    <tr>\n",
       "      <th>CAR</th>\n",
       "      <td>3.750</td>\n",
       "      <td>10.750</td>\n",
       "      <td>7.416667</td>\n",
       "      <td>7.750</td>\n",
       "      <td>3</td>\n",
       "    </tr>\n",
       "    <tr>\n",
       "      <th>I</th>\n",
       "      <td>1.750</td>\n",
       "      <td>39.750</td>\n",
       "      <td>27.000000</td>\n",
       "      <td>33.250</td>\n",
       "      <td>4</td>\n",
       "    </tr>\n",
       "    <tr>\n",
       "      <th>II</th>\n",
       "      <td>0.625</td>\n",
       "      <td>34.625</td>\n",
       "      <td>13.625000</td>\n",
       "      <td>5.625</td>\n",
       "      <td>3</td>\n",
       "    </tr>\n",
       "    <tr>\n",
       "      <th>III</th>\n",
       "      <td>4.500</td>\n",
       "      <td>123.500</td>\n",
       "      <td>38.833333</td>\n",
       "      <td>27.500</td>\n",
       "      <td>6</td>\n",
       "    </tr>\n",
       "    <tr>\n",
       "      <th>IV-A</th>\n",
       "      <td>8.000</td>\n",
       "      <td>123.000</td>\n",
       "      <td>39.500000</td>\n",
       "      <td>13.500</td>\n",
       "      <td>4</td>\n",
       "    </tr>\n",
       "    <tr>\n",
       "      <th>IV-B</th>\n",
       "      <td>2.000</td>\n",
       "      <td>45.000</td>\n",
       "      <td>14.250000</td>\n",
       "      <td>5.000</td>\n",
       "      <td>4</td>\n",
       "    </tr>\n",
       "    <tr>\n",
       "      <th>IX</th>\n",
       "      <td>16.000</td>\n",
       "      <td>16.000</td>\n",
       "      <td>16.000000</td>\n",
       "      <td>16.000</td>\n",
       "      <td>1</td>\n",
       "    </tr>\n",
       "    <tr>\n",
       "      <th>NCR</th>\n",
       "      <td>4.875</td>\n",
       "      <td>4.875</td>\n",
       "      <td>4.875000</td>\n",
       "      <td>4.875</td>\n",
       "      <td>1</td>\n",
       "    </tr>\n",
       "    <tr>\n",
       "      <th>V</th>\n",
       "      <td>12.000</td>\n",
       "      <td>45.000</td>\n",
       "      <td>31.250000</td>\n",
       "      <td>34.000</td>\n",
       "      <td>4</td>\n",
       "    </tr>\n",
       "    <tr>\n",
       "      <th>VI</th>\n",
       "      <td>7.625</td>\n",
       "      <td>76.625</td>\n",
       "      <td>27.375000</td>\n",
       "      <td>12.625</td>\n",
       "      <td>4</td>\n",
       "    </tr>\n",
       "    <tr>\n",
       "      <th>VII</th>\n",
       "      <td>1.625</td>\n",
       "      <td>41.625</td>\n",
       "      <td>14.625000</td>\n",
       "      <td>7.625</td>\n",
       "      <td>4</td>\n",
       "    </tr>\n",
       "    <tr>\n",
       "      <th>VIII</th>\n",
       "      <td>0.250</td>\n",
       "      <td>121.250</td>\n",
       "      <td>34.750000</td>\n",
       "      <td>8.750</td>\n",
       "      <td>4</td>\n",
       "    </tr>\n",
       "    <tr>\n",
       "      <th>X</th>\n",
       "      <td>17.000</td>\n",
       "      <td>32.000</td>\n",
       "      <td>24.500000</td>\n",
       "      <td>24.500</td>\n",
       "      <td>2</td>\n",
       "    </tr>\n",
       "    <tr>\n",
       "      <th>XI</th>\n",
       "      <td>8.000</td>\n",
       "      <td>10.000</td>\n",
       "      <td>9.000000</td>\n",
       "      <td>9.000</td>\n",
       "      <td>2</td>\n",
       "    </tr>\n",
       "    <tr>\n",
       "      <th>XII</th>\n",
       "      <td>26.500</td>\n",
       "      <td>26.500</td>\n",
       "      <td>26.500000</td>\n",
       "      <td>26.500</td>\n",
       "      <td>1</td>\n",
       "    </tr>\n",
       "    <tr>\n",
       "      <th>XIII</th>\n",
       "      <td>2.625</td>\n",
       "      <td>23.625</td>\n",
       "      <td>13.125000</td>\n",
       "      <td>13.125</td>\n",
       "      <td>2</td>\n",
       "    </tr>\n",
       "  </tbody>\n",
       "</table>\n",
       "</div>"
      ],
      "text/plain": [
       "           min      max       mean  median  count\n",
       "Region                                           \n",
       "ARMM     6.000    6.000   6.000000   6.000      1\n",
       "CAR      3.750   10.750   7.416667   7.750      3\n",
       "I        1.750   39.750  27.000000  33.250      4\n",
       "II       0.625   34.625  13.625000   5.625      3\n",
       "III      4.500  123.500  38.833333  27.500      6\n",
       "IV-A     8.000  123.000  39.500000  13.500      4\n",
       "IV-B     2.000   45.000  14.250000   5.000      4\n",
       "IX      16.000   16.000  16.000000  16.000      1\n",
       "NCR      4.875    4.875   4.875000   4.875      1\n",
       "V       12.000   45.000  31.250000  34.000      4\n",
       "VI       7.625   76.625  27.375000  12.625      4\n",
       "VII      1.625   41.625  14.625000   7.625      4\n",
       "VIII     0.250  121.250  34.750000   8.750      4\n",
       "X       17.000   32.000  24.500000  24.500      2\n",
       "XI       8.000   10.000   9.000000   9.000      2\n",
       "XII     26.500   26.500  26.500000  26.500      1\n",
       "XIII     2.625   23.625  13.125000  13.125      2"
      ]
     },
     "execution_count": 21,
     "metadata": {},
     "output_type": "execute_result"
    }
   ],
   "source": [
    "df_deg['Outlierness'] = df_deg['Degree'] - df_deg['Region'].map(upper_fence)\n",
    "deg_outlier = df_deg[df_deg['Outlierness'] > 0].groupby('Region')['Outlierness'].agg(['min', 'max', 'mean', 'median', 'count'])\n",
    "deg_outlier"
   ]
  },
  {
   "cell_type": "markdown",
   "metadata": {},
   "source": [
    "### Degree (RHU)"
   ]
  },
  {
   "cell_type": "code",
   "execution_count": 22,
   "metadata": {
    "ExecuteTime": {
     "end_time": "2020-03-24T13:25:11.868045Z",
     "start_time": "2020-03-24T13:25:11.865053Z"
    }
   },
   "outputs": [],
   "source": [
    "import seaborn as sns"
   ]
  },
  {
   "cell_type": "code",
   "execution_count": 23,
   "metadata": {
    "ExecuteTime": {
     "end_time": "2020-03-24T13:25:12.090259Z",
     "start_time": "2020-03-24T13:25:12.033251Z"
    }
   },
   "outputs": [],
   "source": [
    "region_deg = {}\n",
    "for region in nodes['REGION'].unique():\n",
    "    deg = list(dict(G.in_degree(nodes[(nodes['HF_TYPE']=='RURAL HEALTH UNIT') & (nodes['REGION']==region)]['SHORT_HFCODE'])).values())\n",
    "    region_deg[region] = deg"
   ]
  },
  {
   "cell_type": "code",
   "execution_count": 24,
   "metadata": {
    "ExecuteTime": {
     "end_time": "2020-03-24T13:25:12.250671Z",
     "start_time": "2020-03-24T13:25:12.244686Z"
    }
   },
   "outputs": [],
   "source": [
    "df_deg = pd.DataFrame(list(itertools.chain(*[list(zip(len(j) * [i], j)) for i, j in region_deg.items()]))).rename({0:'Region', 1:'Degree'}, axis=1)#.boxplot(by=0)"
   ]
  },
  {
   "cell_type": "code",
   "execution_count": 25,
   "metadata": {
    "ExecuteTime": {
     "end_time": "2020-03-24T13:25:12.413260Z",
     "start_time": "2020-03-24T13:25:12.409246Z"
    }
   },
   "outputs": [],
   "source": [
    "region_map = {'AUTONOMOUS REGION IN MUSLIM MINDANAO (ARMM)':'ARMM',\n",
    "       'CORDILLERA ADMINISTRA TIVE REGION (CAR)':'CAR',\n",
    "       'REGION IV-B (MIMAROPA)':'IV-B', 'NATIONAL CAPITAL REGION (NCR)':'NCR',\n",
    "       'REGION X (NORTHERN MINDANAO)':'X', 'REGION XI (DAVAO REGION)':'XI',\n",
    "       'REGION XII (SOCCSKSA RGEN)':'XII', 'REGION XIII (CARAGA)':'XIII',\n",
    "       'REGION I (ILOCOS REGION)':'I', 'REGION II (CAGAYAN VALLEY)':'II',\n",
    "       'REGION III (CENTRAL LUZON)':'III', 'REGION IV-A (CALABAR ZON)':'IV-A',\n",
    "       'REGION V (BICOL REGION)':'V', 'REGION VI (WESTERN VISAYAS)':'VI',\n",
    "       'REGION VII (CENTRAL VISAYAS)':'VII', 'REGION VIII (EASTERN VISAYAS)':'VIII',\n",
    "       'REGION IX (ZAMBOANGA PENINSULA)':'IX'}"
   ]
  },
  {
   "cell_type": "code",
   "execution_count": 26,
   "metadata": {
    "ExecuteTime": {
     "end_time": "2020-03-24T13:25:12.575825Z",
     "start_time": "2020-03-24T13:25:12.571811Z"
    }
   },
   "outputs": [],
   "source": [
    "df_deg['Region'] = df_deg['Region'].map(region_map)"
   ]
  },
  {
   "cell_type": "code",
   "execution_count": 27,
   "metadata": {
    "ExecuteTime": {
     "end_time": "2020-03-24T13:25:12.763366Z",
     "start_time": "2020-03-24T13:25:12.731415Z"
    }
   },
   "outputs": [
    {
     "data": {
      "text/html": [
       "<style  type=\"text/css\" >\n",
       "    #T_e436bd28_6dd2_11ea_bd61_9828a631b9e6row0_col0 {\n",
       "            background-color:  #8fc2de;\n",
       "            color:  #000000;\n",
       "        }    #T_e436bd28_6dd2_11ea_bd61_9828a631b9e6row0_col1 {\n",
       "            background-color:  #cee0f2;\n",
       "            color:  #000000;\n",
       "        }    #T_e436bd28_6dd2_11ea_bd61_9828a631b9e6row0_col2 {\n",
       "            background-color:  #ecf4fb;\n",
       "            color:  #000000;\n",
       "        }    #T_e436bd28_6dd2_11ea_bd61_9828a631b9e6row0_col3 {\n",
       "            background-color:  #e6f0f9;\n",
       "            color:  #000000;\n",
       "        }    #T_e436bd28_6dd2_11ea_bd61_9828a631b9e6row1_col0 {\n",
       "            background-color:  #e3eef9;\n",
       "            color:  #000000;\n",
       "        }    #T_e436bd28_6dd2_11ea_bd61_9828a631b9e6row1_col1 {\n",
       "            background-color:  #84bcdb;\n",
       "            color:  #000000;\n",
       "        }    #T_e436bd28_6dd2_11ea_bd61_9828a631b9e6row1_col2 {\n",
       "            background-color:  #abd0e6;\n",
       "            color:  #000000;\n",
       "        }    #T_e436bd28_6dd2_11ea_bd61_9828a631b9e6row1_col3 {\n",
       "            background-color:  #d9e7f5;\n",
       "            color:  #000000;\n",
       "        }    #T_e436bd28_6dd2_11ea_bd61_9828a631b9e6row2_col0 {\n",
       "            background-color:  #2d7dbb;\n",
       "            color:  #000000;\n",
       "        }    #T_e436bd28_6dd2_11ea_bd61_9828a631b9e6row2_col1 {\n",
       "            background-color:  #549fcd;\n",
       "            color:  #000000;\n",
       "        }    #T_e436bd28_6dd2_11ea_bd61_9828a631b9e6row2_col2 {\n",
       "            background-color:  #99c7e0;\n",
       "            color:  #000000;\n",
       "        }    #T_e436bd28_6dd2_11ea_bd61_9828a631b9e6row2_col3 {\n",
       "            background-color:  #b5d4e9;\n",
       "            color:  #000000;\n",
       "        }    #T_e436bd28_6dd2_11ea_bd61_9828a631b9e6row3_col0 {\n",
       "            background-color:  #7fb9da;\n",
       "            color:  #000000;\n",
       "        }    #T_e436bd28_6dd2_11ea_bd61_9828a631b9e6row3_col1 {\n",
       "            background-color:  #1561a9;\n",
       "            color:  #f1f1f1;\n",
       "        }    #T_e436bd28_6dd2_11ea_bd61_9828a631b9e6row3_col2 {\n",
       "            background-color:  #4695c8;\n",
       "            color:  #000000;\n",
       "        }    #T_e436bd28_6dd2_11ea_bd61_9828a631b9e6row3_col3 {\n",
       "            background-color:  #dfecf7;\n",
       "            color:  #000000;\n",
       "        }    #T_e436bd28_6dd2_11ea_bd61_9828a631b9e6row4_col0 {\n",
       "            background-color:  #eff6fc;\n",
       "            color:  #000000;\n",
       "        }    #T_e436bd28_6dd2_11ea_bd61_9828a631b9e6row4_col1 {\n",
       "            background-color:  #9dcae1;\n",
       "            color:  #000000;\n",
       "        }    #T_e436bd28_6dd2_11ea_bd61_9828a631b9e6row4_col2 {\n",
       "            background-color:  #bdd7ec;\n",
       "            color:  #000000;\n",
       "        }    #T_e436bd28_6dd2_11ea_bd61_9828a631b9e6row4_col3 {\n",
       "            background-color:  #3c8cc3;\n",
       "            color:  #000000;\n",
       "        }    #T_e436bd28_6dd2_11ea_bd61_9828a631b9e6row5_col0 {\n",
       "            background-color:  #2272b6;\n",
       "            color:  #f1f1f1;\n",
       "        }    #T_e436bd28_6dd2_11ea_bd61_9828a631b9e6row5_col1 {\n",
       "            background-color:  #4e9acb;\n",
       "            color:  #000000;\n",
       "        }    #T_e436bd28_6dd2_11ea_bd61_9828a631b9e6row5_col2 {\n",
       "            background-color:  #82bbdb;\n",
       "            color:  #000000;\n",
       "        }    #T_e436bd28_6dd2_11ea_bd61_9828a631b9e6row5_col3 {\n",
       "            background-color:  #92c4de;\n",
       "            color:  #000000;\n",
       "        }    #T_e436bd28_6dd2_11ea_bd61_9828a631b9e6row6_col0 {\n",
       "            background-color:  #5ba3d0;\n",
       "            color:  #000000;\n",
       "        }    #T_e436bd28_6dd2_11ea_bd61_9828a631b9e6row6_col1 {\n",
       "            background-color:  #125ea6;\n",
       "            color:  #f1f1f1;\n",
       "        }    #T_e436bd28_6dd2_11ea_bd61_9828a631b9e6row6_col2 {\n",
       "            background-color:  #4695c8;\n",
       "            color:  #000000;\n",
       "        }    #T_e436bd28_6dd2_11ea_bd61_9828a631b9e6row6_col3 {\n",
       "            background-color:  #e4eff9;\n",
       "            color:  #000000;\n",
       "        }    #T_e436bd28_6dd2_11ea_bd61_9828a631b9e6row7_col0 {\n",
       "            background-color:  #abd0e6;\n",
       "            color:  #000000;\n",
       "        }    #T_e436bd28_6dd2_11ea_bd61_9828a631b9e6row7_col1 {\n",
       "            background-color:  #77b5d9;\n",
       "            color:  #000000;\n",
       "        }    #T_e436bd28_6dd2_11ea_bd61_9828a631b9e6row7_col2 {\n",
       "            background-color:  #a3cce3;\n",
       "            color:  #000000;\n",
       "        }    #T_e436bd28_6dd2_11ea_bd61_9828a631b9e6row7_col3 {\n",
       "            background-color:  #dae8f6;\n",
       "            color:  #000000;\n",
       "        }    #T_e436bd28_6dd2_11ea_bd61_9828a631b9e6row8_col0 {\n",
       "            background-color:  #ebf3fb;\n",
       "            color:  #000000;\n",
       "        }    #T_e436bd28_6dd2_11ea_bd61_9828a631b9e6row8_col1 {\n",
       "            background-color:  #f7fbff;\n",
       "            color:  #000000;\n",
       "        }    #T_e436bd28_6dd2_11ea_bd61_9828a631b9e6row8_col2 {\n",
       "            background-color:  #f7fbff;\n",
       "            color:  #000000;\n",
       "        }    #T_e436bd28_6dd2_11ea_bd61_9828a631b9e6row8_col3 {\n",
       "            background-color:  #08306b;\n",
       "            color:  #f1f1f1;\n",
       "        }    #T_e436bd28_6dd2_11ea_bd61_9828a631b9e6row9_col0 {\n",
       "            background-color:  #a5cde3;\n",
       "            color:  #000000;\n",
       "        }    #T_e436bd28_6dd2_11ea_bd61_9828a631b9e6row9_col1 {\n",
       "            background-color:  #57a0ce;\n",
       "            color:  #000000;\n",
       "        }    #T_e436bd28_6dd2_11ea_bd61_9828a631b9e6row9_col2 {\n",
       "            background-color:  #82bbdb;\n",
       "            color:  #000000;\n",
       "        }    #T_e436bd28_6dd2_11ea_bd61_9828a631b9e6row9_col3 {\n",
       "            background-color:  #c7dcef;\n",
       "            color:  #000000;\n",
       "        }    #T_e436bd28_6dd2_11ea_bd61_9828a631b9e6row10_col0 {\n",
       "            background-color:  #6fb0d7;\n",
       "            color:  #000000;\n",
       "        }    #T_e436bd28_6dd2_11ea_bd61_9828a631b9e6row10_col1 {\n",
       "            background-color:  #2979b9;\n",
       "            color:  #000000;\n",
       "        }    #T_e436bd28_6dd2_11ea_bd61_9828a631b9e6row10_col2 {\n",
       "            background-color:  #58a1cf;\n",
       "            color:  #000000;\n",
       "        }    #T_e436bd28_6dd2_11ea_bd61_9828a631b9e6row10_col3 {\n",
       "            background-color:  #bcd7eb;\n",
       "            color:  #000000;\n",
       "        }    #T_e436bd28_6dd2_11ea_bd61_9828a631b9e6row11_col0 {\n",
       "            background-color:  #b8d5ea;\n",
       "            color:  #000000;\n",
       "        }    #T_e436bd28_6dd2_11ea_bd61_9828a631b9e6row11_col1 {\n",
       "            background-color:  #3787c0;\n",
       "            color:  #000000;\n",
       "        }    #T_e436bd28_6dd2_11ea_bd61_9828a631b9e6row11_col2 {\n",
       "            background-color:  #6aaed6;\n",
       "            color:  #000000;\n",
       "        }    #T_e436bd28_6dd2_11ea_bd61_9828a631b9e6row11_col3 {\n",
       "            background-color:  #bdd7ec;\n",
       "            color:  #000000;\n",
       "        }    #T_e436bd28_6dd2_11ea_bd61_9828a631b9e6row12_col0 {\n",
       "            background-color:  #f7fbff;\n",
       "            color:  #000000;\n",
       "        }    #T_e436bd28_6dd2_11ea_bd61_9828a631b9e6row12_col1 {\n",
       "            background-color:  #bed8ec;\n",
       "            color:  #000000;\n",
       "        }    #T_e436bd28_6dd2_11ea_bd61_9828a631b9e6row12_col2 {\n",
       "            background-color:  #ccdff1;\n",
       "            color:  #000000;\n",
       "        }    #T_e436bd28_6dd2_11ea_bd61_9828a631b9e6row12_col3 {\n",
       "            background-color:  #a9cfe5;\n",
       "            color:  #000000;\n",
       "        }    #T_e436bd28_6dd2_11ea_bd61_9828a631b9e6row13_col0 {\n",
       "            background-color:  #08306b;\n",
       "            color:  #f1f1f1;\n",
       "        }    #T_e436bd28_6dd2_11ea_bd61_9828a631b9e6row13_col1 {\n",
       "            background-color:  #3c8cc3;\n",
       "            color:  #000000;\n",
       "        }    #T_e436bd28_6dd2_11ea_bd61_9828a631b9e6row13_col2 {\n",
       "            background-color:  #6aaed6;\n",
       "            color:  #000000;\n",
       "        }    #T_e436bd28_6dd2_11ea_bd61_9828a631b9e6row13_col3 {\n",
       "            background-color:  #dfebf7;\n",
       "            color:  #000000;\n",
       "        }    #T_e436bd28_6dd2_11ea_bd61_9828a631b9e6row14_col0 {\n",
       "            background-color:  #9fcae1;\n",
       "            color:  #000000;\n",
       "        }    #T_e436bd28_6dd2_11ea_bd61_9828a631b9e6row14_col1 {\n",
       "            background-color:  #083d7f;\n",
       "            color:  #f1f1f1;\n",
       "        }    #T_e436bd28_6dd2_11ea_bd61_9828a631b9e6row14_col2 {\n",
       "            background-color:  #084d96;\n",
       "            color:  #f1f1f1;\n",
       "        }    #T_e436bd28_6dd2_11ea_bd61_9828a631b9e6row14_col3 {\n",
       "            background-color:  #eef5fc;\n",
       "            color:  #000000;\n",
       "        }    #T_e436bd28_6dd2_11ea_bd61_9828a631b9e6row15_col0 {\n",
       "            background-color:  #61a7d2;\n",
       "            color:  #000000;\n",
       "        }    #T_e436bd28_6dd2_11ea_bd61_9828a631b9e6row15_col1 {\n",
       "            background-color:  #08306b;\n",
       "            color:  #f1f1f1;\n",
       "        }    #T_e436bd28_6dd2_11ea_bd61_9828a631b9e6row15_col2 {\n",
       "            background-color:  #08306b;\n",
       "            color:  #f1f1f1;\n",
       "        }    #T_e436bd28_6dd2_11ea_bd61_9828a631b9e6row15_col3 {\n",
       "            background-color:  #f7fbff;\n",
       "            color:  #000000;\n",
       "        }    #T_e436bd28_6dd2_11ea_bd61_9828a631b9e6row16_col0 {\n",
       "            background-color:  #c4daee;\n",
       "            color:  #000000;\n",
       "        }    #T_e436bd28_6dd2_11ea_bd61_9828a631b9e6row16_col1 {\n",
       "            background-color:  #bcd7eb;\n",
       "            color:  #000000;\n",
       "        }    #T_e436bd28_6dd2_11ea_bd61_9828a631b9e6row16_col2 {\n",
       "            background-color:  #d1e2f3;\n",
       "            color:  #000000;\n",
       "        }    #T_e436bd28_6dd2_11ea_bd61_9828a631b9e6row16_col3 {\n",
       "            background-color:  #f0f6fd;\n",
       "            color:  #000000;\n",
       "        }</style><table id=\"T_e436bd28_6dd2_11ea_bd61_9828a631b9e6\" ><thead>    <tr>        <th class=\"blank level0\" ></th>        <th class=\"col_heading level0 col0\" >max</th>        <th class=\"col_heading level0 col1\" >mean</th>        <th class=\"col_heading level0 col2\" >median</th>        <th class=\"col_heading level0 col3\" >count</th>    </tr>    <tr>        <th class=\"index_name level0\" >Region</th>        <th class=\"blank\" ></th>        <th class=\"blank\" ></th>        <th class=\"blank\" ></th>        <th class=\"blank\" ></th>    </tr></thead><tbody>\n",
       "                <tr>\n",
       "                        <th id=\"T_e436bd28_6dd2_11ea_bd61_9828a631b9e6level0_row0\" class=\"row_heading level0 row0\" >ARMM</th>\n",
       "                        <td id=\"T_e436bd28_6dd2_11ea_bd61_9828a631b9e6row0_col0\" class=\"data row0 col0\" >43</td>\n",
       "                        <td id=\"T_e436bd28_6dd2_11ea_bd61_9828a631b9e6row0_col1\" class=\"data row0 col1\" >3.72368</td>\n",
       "                        <td id=\"T_e436bd28_6dd2_11ea_bd61_9828a631b9e6row0_col2\" class=\"data row0 col2\" >1</td>\n",
       "                        <td id=\"T_e436bd28_6dd2_11ea_bd61_9828a631b9e6row0_col3\" class=\"data row0 col3\" >76</td>\n",
       "            </tr>\n",
       "            <tr>\n",
       "                        <th id=\"T_e436bd28_6dd2_11ea_bd61_9828a631b9e6level0_row1\" class=\"row_heading level0 row1\" >CAR</th>\n",
       "                        <td id=\"T_e436bd28_6dd2_11ea_bd61_9828a631b9e6row1_col0\" class=\"data row1 col0\" >27</td>\n",
       "                        <td id=\"T_e436bd28_6dd2_11ea_bd61_9828a631b9e6row1_col1\" class=\"data row1 col1\" >7.54082</td>\n",
       "                        <td id=\"T_e436bd28_6dd2_11ea_bd61_9828a631b9e6row1_col2\" class=\"data row1 col2\" >6</td>\n",
       "                        <td id=\"T_e436bd28_6dd2_11ea_bd61_9828a631b9e6row1_col3\" class=\"data row1 col3\" >98</td>\n",
       "            </tr>\n",
       "            <tr>\n",
       "                        <th id=\"T_e436bd28_6dd2_11ea_bd61_9828a631b9e6level0_row2\" class=\"row_heading level0 row2\" >I</th>\n",
       "                        <td id=\"T_e436bd28_6dd2_11ea_bd61_9828a631b9e6row2_col0\" class=\"data row2 col0\" >58</td>\n",
       "                        <td id=\"T_e436bd28_6dd2_11ea_bd61_9828a631b9e6row2_col1\" class=\"data row2 col1\" >9.66216</td>\n",
       "                        <td id=\"T_e436bd28_6dd2_11ea_bd61_9828a631b9e6row2_col2\" class=\"data row2 col2\" >7</td>\n",
       "                        <td id=\"T_e436bd28_6dd2_11ea_bd61_9828a631b9e6row2_col3\" class=\"data row2 col3\" >148</td>\n",
       "            </tr>\n",
       "            <tr>\n",
       "                        <th id=\"T_e436bd28_6dd2_11ea_bd61_9828a631b9e6level0_row3\" class=\"row_heading level0 row3\" >II</th>\n",
       "                        <td id=\"T_e436bd28_6dd2_11ea_bd61_9828a631b9e6row3_col0\" class=\"data row3 col0\" >45</td>\n",
       "                        <td id=\"T_e436bd28_6dd2_11ea_bd61_9828a631b9e6row3_col1\" class=\"data row3 col1\" >13.6279</td>\n",
       "                        <td id=\"T_e436bd28_6dd2_11ea_bd61_9828a631b9e6row3_col2\" class=\"data row3 col2\" >11</td>\n",
       "                        <td id=\"T_e436bd28_6dd2_11ea_bd61_9828a631b9e6row3_col3\" class=\"data row3 col3\" >86</td>\n",
       "            </tr>\n",
       "            <tr>\n",
       "                        <th id=\"T_e436bd28_6dd2_11ea_bd61_9828a631b9e6level0_row4\" class=\"row_heading level0 row4\" >III</th>\n",
       "                        <td id=\"T_e436bd28_6dd2_11ea_bd61_9828a631b9e6row4_col0\" class=\"data row4 col0\" >24</td>\n",
       "                        <td id=\"T_e436bd28_6dd2_11ea_bd61_9828a631b9e6row4_col1\" class=\"data row4 col1\" >6.53409</td>\n",
       "                        <td id=\"T_e436bd28_6dd2_11ea_bd61_9828a631b9e6row4_col2\" class=\"data row4 col2\" >5</td>\n",
       "                        <td id=\"T_e436bd28_6dd2_11ea_bd61_9828a631b9e6row4_col3\" class=\"data row4 col3\" >264</td>\n",
       "            </tr>\n",
       "            <tr>\n",
       "                        <th id=\"T_e436bd28_6dd2_11ea_bd61_9828a631b9e6level0_row5\" class=\"row_heading level0 row5\" >IV-A</th>\n",
       "                        <td id=\"T_e436bd28_6dd2_11ea_bd61_9828a631b9e6row5_col0\" class=\"data row5 col0\" >60</td>\n",
       "                        <td id=\"T_e436bd28_6dd2_11ea_bd61_9828a631b9e6row5_col1\" class=\"data row5 col1\" >9.96721</td>\n",
       "                        <td id=\"T_e436bd28_6dd2_11ea_bd61_9828a631b9e6row5_col2\" class=\"data row5 col2\" >8</td>\n",
       "                        <td id=\"T_e436bd28_6dd2_11ea_bd61_9828a631b9e6row5_col3\" class=\"data row5 col3\" >183</td>\n",
       "            </tr>\n",
       "            <tr>\n",
       "                        <th id=\"T_e436bd28_6dd2_11ea_bd61_9828a631b9e6level0_row6\" class=\"row_heading level0 row6\" >IV-B</th>\n",
       "                        <td id=\"T_e436bd28_6dd2_11ea_bd61_9828a631b9e6row6_col0\" class=\"data row6 col0\" >50</td>\n",
       "                        <td id=\"T_e436bd28_6dd2_11ea_bd61_9828a631b9e6row6_col1\" class=\"data row6 col1\" >13.8354</td>\n",
       "                        <td id=\"T_e436bd28_6dd2_11ea_bd61_9828a631b9e6row6_col2\" class=\"data row6 col2\" >11</td>\n",
       "                        <td id=\"T_e436bd28_6dd2_11ea_bd61_9828a631b9e6row6_col3\" class=\"data row6 col3\" >79</td>\n",
       "            </tr>\n",
       "            <tr>\n",
       "                        <th id=\"T_e436bd28_6dd2_11ea_bd61_9828a631b9e6level0_row7\" class=\"row_heading level0 row7\" >IX</th>\n",
       "                        <td id=\"T_e436bd28_6dd2_11ea_bd61_9828a631b9e6row7_col0\" class=\"data row7 col0\" >39</td>\n",
       "                        <td id=\"T_e436bd28_6dd2_11ea_bd61_9828a631b9e6row7_col1\" class=\"data row7 col1\" >8.04167</td>\n",
       "                        <td id=\"T_e436bd28_6dd2_11ea_bd61_9828a631b9e6row7_col2\" class=\"data row7 col2\" >6.5</td>\n",
       "                        <td id=\"T_e436bd28_6dd2_11ea_bd61_9828a631b9e6row7_col3\" class=\"data row7 col3\" >96</td>\n",
       "            </tr>\n",
       "            <tr>\n",
       "                        <th id=\"T_e436bd28_6dd2_11ea_bd61_9828a631b9e6level0_row8\" class=\"row_heading level0 row8\" >NCR</th>\n",
       "                        <td id=\"T_e436bd28_6dd2_11ea_bd61_9828a631b9e6row8_col0\" class=\"data row8 col0\" >25</td>\n",
       "                        <td id=\"T_e436bd28_6dd2_11ea_bd61_9828a631b9e6row8_col1\" class=\"data row8 col1\" >0.291667</td>\n",
       "                        <td id=\"T_e436bd28_6dd2_11ea_bd61_9828a631b9e6row8_col2\" class=\"data row8 col2\" >0</td>\n",
       "                        <td id=\"T_e436bd28_6dd2_11ea_bd61_9828a631b9e6row8_col3\" class=\"data row8 col3\" >384</td>\n",
       "            </tr>\n",
       "            <tr>\n",
       "                        <th id=\"T_e436bd28_6dd2_11ea_bd61_9828a631b9e6level0_row9\" class=\"row_heading level0 row9\" >V</th>\n",
       "                        <td id=\"T_e436bd28_6dd2_11ea_bd61_9828a631b9e6row9_col0\" class=\"data row9 col0\" >40</td>\n",
       "                        <td id=\"T_e436bd28_6dd2_11ea_bd61_9828a631b9e6row9_col1\" class=\"data row9 col1\" >9.52713</td>\n",
       "                        <td id=\"T_e436bd28_6dd2_11ea_bd61_9828a631b9e6row9_col2\" class=\"data row9 col2\" >8</td>\n",
       "                        <td id=\"T_e436bd28_6dd2_11ea_bd61_9828a631b9e6row9_col3\" class=\"data row9 col3\" >129</td>\n",
       "            </tr>\n",
       "            <tr>\n",
       "                        <th id=\"T_e436bd28_6dd2_11ea_bd61_9828a631b9e6level0_row10\" class=\"row_heading level0 row10\" >VI</th>\n",
       "                        <td id=\"T_e436bd28_6dd2_11ea_bd61_9828a631b9e6row10_col0\" class=\"data row10 col0\" >47</td>\n",
       "                        <td id=\"T_e436bd28_6dd2_11ea_bd61_9828a631b9e6row10_col1\" class=\"data row10 col1\" >12.169</td>\n",
       "                        <td id=\"T_e436bd28_6dd2_11ea_bd61_9828a631b9e6row10_col2\" class=\"data row10 col2\" >10</td>\n",
       "                        <td id=\"T_e436bd28_6dd2_11ea_bd61_9828a631b9e6row10_col3\" class=\"data row10 col3\" >142</td>\n",
       "            </tr>\n",
       "            <tr>\n",
       "                        <th id=\"T_e436bd28_6dd2_11ea_bd61_9828a631b9e6level0_row11\" class=\"row_heading level0 row11\" >VII</th>\n",
       "                        <td id=\"T_e436bd28_6dd2_11ea_bd61_9828a631b9e6row11_col0\" class=\"data row11 col0\" >37</td>\n",
       "                        <td id=\"T_e436bd28_6dd2_11ea_bd61_9828a631b9e6row11_col1\" class=\"data row11 col1\" >11.2908</td>\n",
       "                        <td id=\"T_e436bd28_6dd2_11ea_bd61_9828a631b9e6row11_col2\" class=\"data row11 col2\" >9</td>\n",
       "                        <td id=\"T_e436bd28_6dd2_11ea_bd61_9828a631b9e6row11_col3\" class=\"data row11 col3\" >141</td>\n",
       "            </tr>\n",
       "            <tr>\n",
       "                        <th id=\"T_e436bd28_6dd2_11ea_bd61_9828a631b9e6level0_row12\" class=\"row_heading level0 row12\" >VIII</th>\n",
       "                        <td id=\"T_e436bd28_6dd2_11ea_bd61_9828a631b9e6row12_col0\" class=\"data row12 col0\" >22</td>\n",
       "                        <td id=\"T_e436bd28_6dd2_11ea_bd61_9828a631b9e6row12_col1\" class=\"data row12 col1\" >4.84472</td>\n",
       "                        <td id=\"T_e436bd28_6dd2_11ea_bd61_9828a631b9e6row12_col2\" class=\"data row12 col2\" >4</td>\n",
       "                        <td id=\"T_e436bd28_6dd2_11ea_bd61_9828a631b9e6row12_col3\" class=\"data row12 col3\" >161</td>\n",
       "            </tr>\n",
       "            <tr>\n",
       "                        <th id=\"T_e436bd28_6dd2_11ea_bd61_9828a631b9e6level0_row13\" class=\"row_heading level0 row13\" >X</th>\n",
       "                        <td id=\"T_e436bd28_6dd2_11ea_bd61_9828a631b9e6row13_col0\" class=\"data row13 col0\" >73</td>\n",
       "                        <td id=\"T_e436bd28_6dd2_11ea_bd61_9828a631b9e6row13_col1\" class=\"data row13 col1\" >10.9773</td>\n",
       "                        <td id=\"T_e436bd28_6dd2_11ea_bd61_9828a631b9e6row13_col2\" class=\"data row13 col2\" >9</td>\n",
       "                        <td id=\"T_e436bd28_6dd2_11ea_bd61_9828a631b9e6row13_col3\" class=\"data row13 col3\" >88</td>\n",
       "            </tr>\n",
       "            <tr>\n",
       "                        <th id=\"T_e436bd28_6dd2_11ea_bd61_9828a631b9e6level0_row14\" class=\"row_heading level0 row14\" >XI</th>\n",
       "                        <td id=\"T_e436bd28_6dd2_11ea_bd61_9828a631b9e6row14_col0\" class=\"data row14 col0\" >41</td>\n",
       "                        <td id=\"T_e436bd28_6dd2_11ea_bd61_9828a631b9e6row14_col1\" class=\"data row14 col1\" >15.9365</td>\n",
       "                        <td id=\"T_e436bd28_6dd2_11ea_bd61_9828a631b9e6row14_col2\" class=\"data row14 col2\" >16</td>\n",
       "                        <td id=\"T_e436bd28_6dd2_11ea_bd61_9828a631b9e6row14_col3\" class=\"data row14 col3\" >63</td>\n",
       "            </tr>\n",
       "            <tr>\n",
       "                        <th id=\"T_e436bd28_6dd2_11ea_bd61_9828a631b9e6level0_row15\" class=\"row_heading level0 row15\" >XII</th>\n",
       "                        <td id=\"T_e436bd28_6dd2_11ea_bd61_9828a631b9e6row15_col0\" class=\"data row15 col0\" >49</td>\n",
       "                        <td id=\"T_e436bd28_6dd2_11ea_bd61_9828a631b9e6row15_col1\" class=\"data row15 col1\" >16.7826</td>\n",
       "                        <td id=\"T_e436bd28_6dd2_11ea_bd61_9828a631b9e6row15_col2\" class=\"data row15 col2\" >18</td>\n",
       "                        <td id=\"T_e436bd28_6dd2_11ea_bd61_9828a631b9e6row15_col3\" class=\"data row15 col3\" >46</td>\n",
       "            </tr>\n",
       "            <tr>\n",
       "                        <th id=\"T_e436bd28_6dd2_11ea_bd61_9828a631b9e6level0_row16\" class=\"row_heading level0 row16\" >XIII</th>\n",
       "                        <td id=\"T_e436bd28_6dd2_11ea_bd61_9828a631b9e6row16_col0\" class=\"data row16 col0\" >35</td>\n",
       "                        <td id=\"T_e436bd28_6dd2_11ea_bd61_9828a631b9e6row16_col1\" class=\"data row16 col1\" >4.94828</td>\n",
       "                        <td id=\"T_e436bd28_6dd2_11ea_bd61_9828a631b9e6row16_col2\" class=\"data row16 col2\" >3.5</td>\n",
       "                        <td id=\"T_e436bd28_6dd2_11ea_bd61_9828a631b9e6row16_col3\" class=\"data row16 col3\" >58</td>\n",
       "            </tr>\n",
       "    </tbody></table>"
      ],
      "text/plain": [
       "<pandas.io.formats.style.Styler at 0x277ddefd088>"
      ]
     },
     "execution_count": 27,
     "metadata": {},
     "output_type": "execute_result"
    }
   ],
   "source": [
    "(df_deg.groupby('Region')['Degree']\n",
    " .agg(['min', 'max', 'mean', 'median', 'count']).sort_values(by='Region')\n",
    " [['max', 'mean', 'median', 'count']]\n",
    ".style\n",
    "#  .highlight_max(subset='mean', color='lightskyblue')\n",
    "# .highlight_min(subset=['mean', 'median', 'count'], axis=0, color='lightskyblue')\n",
    ".background_gradient(cmap='Blues'))"
   ]
  },
  {
   "cell_type": "markdown",
   "metadata": {},
   "source": [
    "### Degree Outliers (RHU)"
   ]
  },
  {
   "cell_type": "code",
   "execution_count": 28,
   "metadata": {
    "ExecuteTime": {
     "end_time": "2020-03-24T13:25:12.923454Z",
     "start_time": "2020-03-24T13:25:12.916922Z"
    }
   },
   "outputs": [],
   "source": [
    "upper_fence = df_deg.groupby('Region')['Degree'].quantile(0.75) + 1.5 * (df_deg.groupby('Region')['Degree'].quantile(0.75) - df_deg.groupby('Region')['Degree'].quantile(0.25))"
   ]
  },
  {
   "cell_type": "code",
   "execution_count": 29,
   "metadata": {
    "ExecuteTime": {
     "end_time": "2020-03-24T13:25:13.084347Z",
     "start_time": "2020-03-24T13:25:13.076344Z"
    }
   },
   "outputs": [
    {
     "data": {
      "text/html": [
       "<div>\n",
       "<style scoped>\n",
       "    .dataframe tbody tr th:only-of-type {\n",
       "        vertical-align: middle;\n",
       "    }\n",
       "\n",
       "    .dataframe tbody tr th {\n",
       "        vertical-align: top;\n",
       "    }\n",
       "\n",
       "    .dataframe thead th {\n",
       "        text-align: right;\n",
       "    }\n",
       "</style>\n",
       "<table border=\"1\" class=\"dataframe\">\n",
       "  <thead>\n",
       "    <tr style=\"text-align: right;\">\n",
       "      <th></th>\n",
       "      <th>Region</th>\n",
       "      <th>Degree</th>\n",
       "    </tr>\n",
       "  </thead>\n",
       "  <tbody>\n",
       "    <tr>\n",
       "      <th>76</th>\n",
       "      <td>CAR</td>\n",
       "      <td>5</td>\n",
       "    </tr>\n",
       "    <tr>\n",
       "      <th>77</th>\n",
       "      <td>CAR</td>\n",
       "      <td>20</td>\n",
       "    </tr>\n",
       "    <tr>\n",
       "      <th>78</th>\n",
       "      <td>CAR</td>\n",
       "      <td>0</td>\n",
       "    </tr>\n",
       "    <tr>\n",
       "      <th>79</th>\n",
       "      <td>CAR</td>\n",
       "      <td>8</td>\n",
       "    </tr>\n",
       "    <tr>\n",
       "      <th>80</th>\n",
       "      <td>CAR</td>\n",
       "      <td>0</td>\n",
       "    </tr>\n",
       "    <tr>\n",
       "      <th>...</th>\n",
       "      <td>...</td>\n",
       "      <td>...</td>\n",
       "    </tr>\n",
       "    <tr>\n",
       "      <th>169</th>\n",
       "      <td>CAR</td>\n",
       "      <td>13</td>\n",
       "    </tr>\n",
       "    <tr>\n",
       "      <th>170</th>\n",
       "      <td>CAR</td>\n",
       "      <td>7</td>\n",
       "    </tr>\n",
       "    <tr>\n",
       "      <th>171</th>\n",
       "      <td>CAR</td>\n",
       "      <td>7</td>\n",
       "    </tr>\n",
       "    <tr>\n",
       "      <th>172</th>\n",
       "      <td>CAR</td>\n",
       "      <td>6</td>\n",
       "    </tr>\n",
       "    <tr>\n",
       "      <th>173</th>\n",
       "      <td>CAR</td>\n",
       "      <td>6</td>\n",
       "    </tr>\n",
       "  </tbody>\n",
       "</table>\n",
       "<p>98 rows × 2 columns</p>\n",
       "</div>"
      ],
      "text/plain": [
       "    Region  Degree\n",
       "76     CAR       5\n",
       "77     CAR      20\n",
       "78     CAR       0\n",
       "79     CAR       8\n",
       "80     CAR       0\n",
       "..     ...     ...\n",
       "169    CAR      13\n",
       "170    CAR       7\n",
       "171    CAR       7\n",
       "172    CAR       6\n",
       "173    CAR       6\n",
       "\n",
       "[98 rows x 2 columns]"
      ]
     },
     "execution_count": 29,
     "metadata": {},
     "output_type": "execute_result"
    }
   ],
   "source": [
    "df_deg[df_deg['Region']=='CAR']"
   ]
  },
  {
   "cell_type": "code",
   "execution_count": 30,
   "metadata": {
    "ExecuteTime": {
     "end_time": "2020-03-24T13:25:13.548114Z",
     "start_time": "2020-03-24T13:25:13.244893Z"
    }
   },
   "outputs": [
    {
     "data": {
      "image/png": "[encoded data removed]",
      "text/plain": [
       "<Figure size 720x576 with 1 Axes>"
      ]
     },
     "metadata": {
      "needs_background": "light"
     },
     "output_type": "display_data"
    }
   ],
   "source": [
    "fig, ax = plt.subplots(figsize=(10,8))\n",
    "\n",
    "# fig = plt.figure()\n",
    "sns.boxplot(data=df_deg, x='Region', y='Degree', palette='Blues',\n",
    "            order=upper_fence.sort_values(ascending=False).index)\n",
    "labels = [l.get_text() for l in ax.get_xticklabels()]\n",
    "ax.set_xticklabels(labels, ha='right');"
   ]
  },
  {
   "cell_type": "code",
   "execution_count": 31,
   "metadata": {
    "ExecuteTime": {
     "end_time": "2020-03-24T13:25:13.723613Z",
     "start_time": "2020-03-24T13:25:13.712643Z"
    }
   },
   "outputs": [],
   "source": [
    "df_deg['Outlierness'] = df_deg['Degree'] - df_deg['Region'].map(upper_fence)\n",
    "deg_outlier_rhu = df_deg[df_deg['Outlierness'] > 0].groupby('Region')['Outlierness'].agg(['min', 'max', 'mean', 'median', 'count'])\n",
    "deg_outlier_rhu.loc['CAR'] = 0"
   ]
  },
  {
   "cell_type": "markdown",
   "metadata": {},
   "source": [
    "### Average path length"
   ]
  },
  {
   "cell_type": "code",
   "execution_count": 32,
   "metadata": {
    "ExecuteTime": {
     "end_time": "2020-03-24T13:25:14.077835Z",
     "start_time": "2020-03-24T13:25:13.894156Z"
    }
   },
   "outputs": [],
   "source": [
    "sp = list(nx.all_pairs_dijkstra_path_length(G, weight='DIST'))"
   ]
  },
  {
   "cell_type": "code",
   "execution_count": 33,
   "metadata": {
    "ExecuteTime": {
     "end_time": "2020-03-24T13:25:14.488598Z",
     "start_time": "2020-03-24T13:25:14.471612Z"
    }
   },
   "outputs": [],
   "source": [
    "sp = pd.DataFrame(sp).set_index(0)[1].to_dict()"
   ]
  },
  {
   "cell_type": "markdown",
   "metadata": {},
   "source": [
    "##### BHS -> RHU path"
   ]
  },
  {
   "cell_type": "code",
   "execution_count": 34,
   "metadata": {
    "ExecuteTime": {
     "end_time": "2020-03-24T13:25:27.376134Z",
     "start_time": "2020-03-24T13:25:14.872540Z"
    }
   },
   "outputs": [],
   "source": [
    "bhs_rhu_ave_sp = {}\n",
    "for rhu_node in rhu_nodes:\n",
    "    ave_sp = 0\n",
    "    N = 0\n",
    "    for bhs_node in bhs_nodes:\n",
    "        if sp.get(bhs_node) and sp.get(bhs_node, {}).get(rhu_node):\n",
    "            ave_sp += sp[bhs_node][rhu_node]\n",
    "            N += 1\n",
    "    if N:\n",
    "        ave_sp /= N\n",
    "        bhs_rhu_ave_sp[rhu_node] = ave_sp"
   ]
  },
  {
   "cell_type": "code",
   "execution_count": 35,
   "metadata": {
    "ExecuteTime": {
     "end_time": "2020-03-24T13:25:27.777058Z",
     "start_time": "2020-03-24T13:25:27.771031Z"
    }
   },
   "outputs": [],
   "source": [
    "df_bhs_rhu = pd.DataFrame(bhs_rhu_ave_sp.items(), columns=['HF_CODE', 'AVE_SPL'])\n",
    "df_bhs_rhu['REGION'] = df_bhs_rhu['HF_CODE'].map(nodes['REGION']).map(region_map)"
   ]
  },
  {
   "cell_type": "code",
   "execution_count": 36,
   "metadata": {
    "ExecuteTime": {
     "end_time": "2020-03-24T13:25:28.169964Z",
     "start_time": "2020-03-24T13:25:28.162983Z"
    }
   },
   "outputs": [],
   "source": [
    "bhs_rhu_spl = df_bhs_rhu.groupby('REGION')['AVE_SPL'].agg(['min', 'max', 'mean', 'median', 'count'])"
   ]
  },
  {
   "cell_type": "code",
   "execution_count": 37,
   "metadata": {
    "ExecuteTime": {
     "end_time": "2020-03-24T13:25:28.573914Z",
     "start_time": "2020-03-24T13:25:28.565906Z"
    }
   },
   "outputs": [
    {
     "data": {
      "text/html": [
       "<div>\n",
       "<style scoped>\n",
       "    .dataframe tbody tr th:only-of-type {\n",
       "        vertical-align: middle;\n",
       "    }\n",
       "\n",
       "    .dataframe tbody tr th {\n",
       "        vertical-align: top;\n",
       "    }\n",
       "\n",
       "    .dataframe thead th {\n",
       "        text-align: right;\n",
       "    }\n",
       "</style>\n",
       "<table border=\"1\" class=\"dataframe\">\n",
       "  <thead>\n",
       "    <tr style=\"text-align: right;\">\n",
       "      <th></th>\n",
       "      <th>min</th>\n",
       "      <th>max</th>\n",
       "      <th>mean</th>\n",
       "      <th>median</th>\n",
       "      <th>count</th>\n",
       "    </tr>\n",
       "    <tr>\n",
       "      <th>REGION</th>\n",
       "      <th></th>\n",
       "      <th></th>\n",
       "      <th></th>\n",
       "      <th></th>\n",
       "      <th></th>\n",
       "    </tr>\n",
       "  </thead>\n",
       "  <tbody>\n",
       "    <tr>\n",
       "      <th>ARMM</th>\n",
       "      <td>0.649289</td>\n",
       "      <td>30.094905</td>\n",
       "      <td>5.555199</td>\n",
       "      <td>4.055974</td>\n",
       "      <td>43</td>\n",
       "    </tr>\n",
       "    <tr>\n",
       "      <th>CAR</th>\n",
       "      <td>1.518987</td>\n",
       "      <td>21.322759</td>\n",
       "      <td>6.019620</td>\n",
       "      <td>5.026051</td>\n",
       "      <td>75</td>\n",
       "    </tr>\n",
       "    <tr>\n",
       "      <th>I</th>\n",
       "      <td>0.003270</td>\n",
       "      <td>31.656414</td>\n",
       "      <td>4.453676</td>\n",
       "      <td>3.590668</td>\n",
       "      <td>140</td>\n",
       "    </tr>\n",
       "    <tr>\n",
       "      <th>II</th>\n",
       "      <td>2.391830</td>\n",
       "      <td>31.657728</td>\n",
       "      <td>5.754392</td>\n",
       "      <td>5.396387</td>\n",
       "      <td>82</td>\n",
       "    </tr>\n",
       "    <tr>\n",
       "      <th>III</th>\n",
       "      <td>0.090624</td>\n",
       "      <td>24.479212</td>\n",
       "      <td>3.185737</td>\n",
       "      <td>2.704451</td>\n",
       "      <td>237</td>\n",
       "    </tr>\n",
       "    <tr>\n",
       "      <th>IV-A</th>\n",
       "      <td>0.211387</td>\n",
       "      <td>30.291852</td>\n",
       "      <td>3.931670</td>\n",
       "      <td>3.347734</td>\n",
       "      <td>157</td>\n",
       "    </tr>\n",
       "    <tr>\n",
       "      <th>IV-B</th>\n",
       "      <td>2.339802</td>\n",
       "      <td>51.197031</td>\n",
       "      <td>8.056442</td>\n",
       "      <td>5.812716</td>\n",
       "      <td>75</td>\n",
       "    </tr>\n",
       "    <tr>\n",
       "      <th>IX</th>\n",
       "      <td>0.860555</td>\n",
       "      <td>42.921784</td>\n",
       "      <td>6.716191</td>\n",
       "      <td>4.831967</td>\n",
       "      <td>92</td>\n",
       "    </tr>\n",
       "    <tr>\n",
       "      <th>NCR</th>\n",
       "      <td>0.251464</td>\n",
       "      <td>73.301590</td>\n",
       "      <td>14.818221</td>\n",
       "      <td>3.231071</td>\n",
       "      <td>19</td>\n",
       "    </tr>\n",
       "    <tr>\n",
       "      <th>V</th>\n",
       "      <td>0.134356</td>\n",
       "      <td>32.457395</td>\n",
       "      <td>6.707730</td>\n",
       "      <td>4.976420</td>\n",
       "      <td>118</td>\n",
       "    </tr>\n",
       "    <tr>\n",
       "      <th>VI</th>\n",
       "      <td>0.535578</td>\n",
       "      <td>38.196660</td>\n",
       "      <td>5.561894</td>\n",
       "      <td>4.348519</td>\n",
       "      <td>136</td>\n",
       "    </tr>\n",
       "    <tr>\n",
       "      <th>VII</th>\n",
       "      <td>1.090008</td>\n",
       "      <td>28.913794</td>\n",
       "      <td>5.104714</td>\n",
       "      <td>4.271316</td>\n",
       "      <td>134</td>\n",
       "    </tr>\n",
       "    <tr>\n",
       "      <th>VIII</th>\n",
       "      <td>0.040794</td>\n",
       "      <td>86.024774</td>\n",
       "      <td>6.280386</td>\n",
       "      <td>4.214814</td>\n",
       "      <td>145</td>\n",
       "    </tr>\n",
       "    <tr>\n",
       "      <th>X</th>\n",
       "      <td>1.000000</td>\n",
       "      <td>23.343704</td>\n",
       "      <td>5.946340</td>\n",
       "      <td>4.620027</td>\n",
       "      <td>83</td>\n",
       "    </tr>\n",
       "    <tr>\n",
       "      <th>XI</th>\n",
       "      <td>0.792454</td>\n",
       "      <td>47.848289</td>\n",
       "      <td>8.905371</td>\n",
       "      <td>6.286121</td>\n",
       "      <td>58</td>\n",
       "    </tr>\n",
       "    <tr>\n",
       "      <th>XII</th>\n",
       "      <td>2.234870</td>\n",
       "      <td>67.106333</td>\n",
       "      <td>9.835895</td>\n",
       "      <td>6.946024</td>\n",
       "      <td>44</td>\n",
       "    </tr>\n",
       "    <tr>\n",
       "      <th>XIII</th>\n",
       "      <td>0.653171</td>\n",
       "      <td>34.379775</td>\n",
       "      <td>6.716984</td>\n",
       "      <td>5.894868</td>\n",
       "      <td>43</td>\n",
       "    </tr>\n",
       "  </tbody>\n",
       "</table>\n",
       "</div>"
      ],
      "text/plain": [
       "             min        max       mean    median  count\n",
       "REGION                                                 \n",
       "ARMM    0.649289  30.094905   5.555199  4.055974     43\n",
       "CAR     1.518987  21.322759   6.019620  5.026051     75\n",
       "I       0.003270  31.656414   4.453676  3.590668    140\n",
       "II      2.391830  31.657728   5.754392  5.396387     82\n",
       "III     0.090624  24.479212   3.185737  2.704451    237\n",
       "IV-A    0.211387  30.291852   3.931670  3.347734    157\n",
       "IV-B    2.339802  51.197031   8.056442  5.812716     75\n",
       "IX      0.860555  42.921784   6.716191  4.831967     92\n",
       "NCR     0.251464  73.301590  14.818221  3.231071     19\n",
       "V       0.134356  32.457395   6.707730  4.976420    118\n",
       "VI      0.535578  38.196660   5.561894  4.348519    136\n",
       "VII     1.090008  28.913794   5.104714  4.271316    134\n",
       "VIII    0.040794  86.024774   6.280386  4.214814    145\n",
       "X       1.000000  23.343704   5.946340  4.620027     83\n",
       "XI      0.792454  47.848289   8.905371  6.286121     58\n",
       "XII     2.234870  67.106333   9.835895  6.946024     44\n",
       "XIII    0.653171  34.379775   6.716984  5.894868     43"
      ]
     },
     "execution_count": 37,
     "metadata": {},
     "output_type": "execute_result"
    }
   ],
   "source": [
    "bhs_rhu_spl"
   ]
  },
  {
   "cell_type": "markdown",
   "metadata": {},
   "source": [
    "##### Comparison with Degree Outliers"
   ]
  },
  {
   "cell_type": "code",
   "execution_count": 38,
   "metadata": {
    "ExecuteTime": {
     "end_time": "2020-03-24T13:25:29.166331Z",
     "start_time": "2020-03-24T13:25:28.966832Z"
    }
   },
   "outputs": [
    {
     "data": {
      "image/png": "[encoded data removed]",
      "text/plain": [
       "<Figure size 720x576 with 1 Axes>"
      ]
     },
     "metadata": {
      "needs_background": "light"
     },
     "output_type": "display_data"
    }
   ],
   "source": [
    "fig, ax = plt.subplots(figsize=(10,8))\n",
    "ax.plot(deg_outlier_rhu['mean'], bhs_rhu_spl['mean'], 'o', color='deepskyblue', \n",
    "        markersize='15')\n",
    "for i,j,k in zip(deg_outlier_rhu['mean'].values, bhs_rhu_spl['mean'].values, list(deg_outlier_rhu.index)):\n",
    "    ax.text(i,j,k, fontsize=14)\n",
    "ax.set_xlabel(\"Degree Outlierness (RHU)\", fontsize=14)\n",
    "ax.set_ylabel(\"Average shortest path length (BHS->RHU)\", fontsize=14);"
   ]
  },
  {
   "cell_type": "markdown",
   "metadata": {},
   "source": [
    "##### RHU -> HOSP path"
   ]
  },
  {
   "cell_type": "code",
   "execution_count": 39,
   "metadata": {
    "ExecuteTime": {
     "end_time": "2020-03-24T13:25:29.973264Z",
     "start_time": "2020-03-24T13:25:29.578197Z"
    }
   },
   "outputs": [],
   "source": [
    "rhu_hosp_ave_sp = {}\n",
    "for hosp_node in hosp_nodes:\n",
    "    ave_sp = 0\n",
    "    N = 0\n",
    "    for rhu_node in rhu_nodes:\n",
    "        if sp.get(rhu_node) and sp.get(rhu_node, {}).get(hosp_node):\n",
    "            ave_sp += sp[rhu_node][hosp_node]\n",
    "            N += 1\n",
    "    if N:\n",
    "        ave_sp /= N\n",
    "        rhu_hosp_ave_sp[hosp_node] = ave_sp"
   ]
  },
  {
   "cell_type": "code",
   "execution_count": 40,
   "metadata": {
    "ExecuteTime": {
     "end_time": "2020-03-24T13:25:30.397126Z",
     "start_time": "2020-03-24T13:25:30.392107Z"
    }
   },
   "outputs": [],
   "source": [
    "df_rhu_hosp = pd.DataFrame(rhu_hosp_ave_sp.items(), columns=['HF_CODE', 'AVE_SPL'])\n",
    "df_rhu_hosp['REGION'] = df_rhu_hosp['HF_CODE'].map(nodes['REGION']).map(region_map)"
   ]
  },
  {
   "cell_type": "code",
   "execution_count": 41,
   "metadata": {
    "ExecuteTime": {
     "end_time": "2020-03-24T13:25:30.422072Z",
     "start_time": "2020-03-24T13:25:30.398090Z"
    }
   },
   "outputs": [
    {
     "data": {
      "text/html": [
       "<div>\n",
       "<style scoped>\n",
       "    .dataframe tbody tr th:only-of-type {\n",
       "        vertical-align: middle;\n",
       "    }\n",
       "\n",
       "    .dataframe tbody tr th {\n",
       "        vertical-align: top;\n",
       "    }\n",
       "\n",
       "    .dataframe thead th {\n",
       "        text-align: right;\n",
       "    }\n",
       "</style>\n",
       "<table border=\"1\" class=\"dataframe\">\n",
       "  <thead>\n",
       "    <tr style=\"text-align: right;\">\n",
       "      <th></th>\n",
       "      <th>min</th>\n",
       "      <th>max</th>\n",
       "      <th>mean</th>\n",
       "      <th>median</th>\n",
       "      <th>count</th>\n",
       "    </tr>\n",
       "    <tr>\n",
       "      <th>REGION</th>\n",
       "      <th></th>\n",
       "      <th></th>\n",
       "      <th></th>\n",
       "      <th></th>\n",
       "      <th></th>\n",
       "    </tr>\n",
       "  </thead>\n",
       "  <tbody>\n",
       "    <tr>\n",
       "      <th>ARMM</th>\n",
       "      <td>13.962185</td>\n",
       "      <td>52.735692</td>\n",
       "      <td>30.149258</td>\n",
       "      <td>32.533763</td>\n",
       "      <td>18</td>\n",
       "    </tr>\n",
       "    <tr>\n",
       "      <th>CAR</th>\n",
       "      <td>6.515990</td>\n",
       "      <td>30.507583</td>\n",
       "      <td>16.465053</td>\n",
       "      <td>15.996059</td>\n",
       "      <td>35</td>\n",
       "    </tr>\n",
       "    <tr>\n",
       "      <th>I</th>\n",
       "      <td>5.734009</td>\n",
       "      <td>34.926724</td>\n",
       "      <td>16.853573</td>\n",
       "      <td>14.635240</td>\n",
       "      <td>36</td>\n",
       "    </tr>\n",
       "    <tr>\n",
       "      <th>II</th>\n",
       "      <td>0.224660</td>\n",
       "      <td>43.619413</td>\n",
       "      <td>18.391035</td>\n",
       "      <td>14.649935</td>\n",
       "      <td>32</td>\n",
       "    </tr>\n",
       "    <tr>\n",
       "      <th>III</th>\n",
       "      <td>3.534404</td>\n",
       "      <td>33.860918</td>\n",
       "      <td>12.974554</td>\n",
       "      <td>10.794383</td>\n",
       "      <td>57</td>\n",
       "    </tr>\n",
       "    <tr>\n",
       "      <th>IV-A</th>\n",
       "      <td>3.127798</td>\n",
       "      <td>72.941863</td>\n",
       "      <td>16.033547</td>\n",
       "      <td>15.330127</td>\n",
       "      <td>57</td>\n",
       "    </tr>\n",
       "    <tr>\n",
       "      <th>IV-B</th>\n",
       "      <td>5.941933</td>\n",
       "      <td>54.632104</td>\n",
       "      <td>27.001538</td>\n",
       "      <td>25.505928</td>\n",
       "      <td>27</td>\n",
       "    </tr>\n",
       "    <tr>\n",
       "      <th>IX</th>\n",
       "      <td>0.424602</td>\n",
       "      <td>56.186424</td>\n",
       "      <td>23.804782</td>\n",
       "      <td>22.073029</td>\n",
       "      <td>21</td>\n",
       "    </tr>\n",
       "    <tr>\n",
       "      <th>NCR</th>\n",
       "      <td>1.197162</td>\n",
       "      <td>33.929120</td>\n",
       "      <td>7.209383</td>\n",
       "      <td>3.624081</td>\n",
       "      <td>45</td>\n",
       "    </tr>\n",
       "    <tr>\n",
       "      <th>V</th>\n",
       "      <td>10.950577</td>\n",
       "      <td>52.009053</td>\n",
       "      <td>22.736470</td>\n",
       "      <td>19.480205</td>\n",
       "      <td>39</td>\n",
       "    </tr>\n",
       "    <tr>\n",
       "      <th>VI</th>\n",
       "      <td>7.500145</td>\n",
       "      <td>40.178620</td>\n",
       "      <td>18.404906</td>\n",
       "      <td>16.457709</td>\n",
       "      <td>47</td>\n",
       "    </tr>\n",
       "    <tr>\n",
       "      <th>VII</th>\n",
       "      <td>5.430379</td>\n",
       "      <td>45.774940</td>\n",
       "      <td>20.575313</td>\n",
       "      <td>18.711082</td>\n",
       "      <td>45</td>\n",
       "    </tr>\n",
       "    <tr>\n",
       "      <th>VIII</th>\n",
       "      <td>7.553561</td>\n",
       "      <td>66.158472</td>\n",
       "      <td>26.828831</td>\n",
       "      <td>23.976607</td>\n",
       "      <td>39</td>\n",
       "    </tr>\n",
       "    <tr>\n",
       "      <th>X</th>\n",
       "      <td>1.526728</td>\n",
       "      <td>53.275915</td>\n",
       "      <td>20.278250</td>\n",
       "      <td>17.490886</td>\n",
       "      <td>36</td>\n",
       "    </tr>\n",
       "    <tr>\n",
       "      <th>XI</th>\n",
       "      <td>7.136037</td>\n",
       "      <td>74.999220</td>\n",
       "      <td>29.562912</td>\n",
       "      <td>25.195270</td>\n",
       "      <td>20</td>\n",
       "    </tr>\n",
       "    <tr>\n",
       "      <th>XII</th>\n",
       "      <td>14.237176</td>\n",
       "      <td>81.919571</td>\n",
       "      <td>34.138201</td>\n",
       "      <td>19.554665</td>\n",
       "      <td>17</td>\n",
       "    </tr>\n",
       "    <tr>\n",
       "      <th>XIII</th>\n",
       "      <td>7.659056</td>\n",
       "      <td>40.073419</td>\n",
       "      <td>19.266280</td>\n",
       "      <td>18.849923</td>\n",
       "      <td>25</td>\n",
       "    </tr>\n",
       "  </tbody>\n",
       "</table>\n",
       "</div>"
      ],
      "text/plain": [
       "              min        max       mean     median  count\n",
       "REGION                                                   \n",
       "ARMM    13.962185  52.735692  30.149258  32.533763     18\n",
       "CAR      6.515990  30.507583  16.465053  15.996059     35\n",
       "I        5.734009  34.926724  16.853573  14.635240     36\n",
       "II       0.224660  43.619413  18.391035  14.649935     32\n",
       "III      3.534404  33.860918  12.974554  10.794383     57\n",
       "IV-A     3.127798  72.941863  16.033547  15.330127     57\n",
       "IV-B     5.941933  54.632104  27.001538  25.505928     27\n",
       "IX       0.424602  56.186424  23.804782  22.073029     21\n",
       "NCR      1.197162  33.929120   7.209383   3.624081     45\n",
       "V       10.950577  52.009053  22.736470  19.480205     39\n",
       "VI       7.500145  40.178620  18.404906  16.457709     47\n",
       "VII      5.430379  45.774940  20.575313  18.711082     45\n",
       "VIII     7.553561  66.158472  26.828831  23.976607     39\n",
       "X        1.526728  53.275915  20.278250  17.490886     36\n",
       "XI       7.136037  74.999220  29.562912  25.195270     20\n",
       "XII     14.237176  81.919571  34.138201  19.554665     17\n",
       "XIII     7.659056  40.073419  19.266280  18.849923     25"
      ]
     },
     "execution_count": 41,
     "metadata": {},
     "output_type": "execute_result"
    }
   ],
   "source": [
    "rhu_hosp_spl = df_rhu_hosp.groupby('REGION')['AVE_SPL'].agg(['min', 'max', 'mean', 'median', 'count'])\n",
    "rhu_hosp_spl"
   ]
  },
  {
   "cell_type": "markdown",
   "metadata": {},
   "source": [
    "##### Comparison with Degree Outliers"
   ]
  },
  {
   "cell_type": "code",
   "execution_count": 42,
   "metadata": {
    "ExecuteTime": {
     "end_time": "2020-03-24T13:25:31.408422Z",
     "start_time": "2020-03-24T13:25:31.261778Z"
    }
   },
   "outputs": [
    {
     "data": {
      "image/png": "[encoded data removed]",
      "text/plain": [
       "<Figure size 720x576 with 1 Axes>"
      ]
     },
     "metadata": {
      "needs_background": "light"
     },
     "output_type": "display_data"
    }
   ],
   "source": [
    "fig, ax = plt.subplots(figsize=(10,8))\n",
    "ax.plot(deg_outlier['mean'], rhu_hosp_spl['mean'], 'o', color='deepskyblue', \n",
    "        markersize='15')\n",
    "for i,j,k in zip(deg_outlier['mean'].values, rhu_hosp_spl['mean'].values, \n",
    "                 list(deg_outlier.index)):\n",
    "    ax.text(i,j,k, fontsize=14)\n",
    "ax.set_xlabel(\"Degree Outlierness (Hosp)\", fontsize=14)\n",
    "ax.set_ylabel(\"Average shortest path length (RHU->Hosp)\", fontsize=14);\n",
    "\n",
    "#I changed the ylabel to RHU->Hosp"
   ]
  },
  {
   "cell_type": "markdown",
   "metadata": {},
   "source": [
    "##### BHS -> HOSP path"
   ]
  },
  {
   "cell_type": "code",
   "execution_count": 43,
   "metadata": {
    "ExecuteTime": {
     "end_time": "2020-03-24T13:25:35.432665Z",
     "start_time": "2020-03-24T13:25:31.822281Z"
    }
   },
   "outputs": [],
   "source": [
    "bhs_hosp_ave_sp = {}\n",
    "for hosp_node in hosp_nodes:\n",
    "    ave_sp = 0\n",
    "    N = 0\n",
    "    for bhs_node in bhs_nodes:\n",
    "        if sp.get(bhs_node) and sp.get(bhs_node, {}).get(hosp_node):\n",
    "            ave_sp += sp[bhs_node][hosp_node]\n",
    "            N += 1\n",
    "    if N:\n",
    "        ave_sp /= N\n",
    "        bhs_hosp_ave_sp[hosp_node] = ave_sp"
   ]
  },
  {
   "cell_type": "code",
   "execution_count": 44,
   "metadata": {
    "ExecuteTime": {
     "end_time": "2020-03-24T13:25:35.847538Z",
     "start_time": "2020-03-24T13:25:35.841531Z"
    }
   },
   "outputs": [],
   "source": [
    "df_bhs_hosp = pd.DataFrame(bhs_hosp_ave_sp.items(), columns=['HF_CODE', 'AVE_SPL'])\n",
    "df_bhs_hosp['REGION'] = df_bhs_hosp['HF_CODE'].map(nodes['REGION']).map(region_map)"
   ]
  },
  {
   "cell_type": "code",
   "execution_count": 45,
   "metadata": {
    "ExecuteTime": {
     "end_time": "2020-03-24T13:25:36.265511Z",
     "start_time": "2020-03-24T13:25:36.253526Z"
    }
   },
   "outputs": [
    {
     "data": {
      "text/html": [
       "<div>\n",
       "<style scoped>\n",
       "    .dataframe tbody tr th:only-of-type {\n",
       "        vertical-align: middle;\n",
       "    }\n",
       "\n",
       "    .dataframe tbody tr th {\n",
       "        vertical-align: top;\n",
       "    }\n",
       "\n",
       "    .dataframe thead th {\n",
       "        text-align: right;\n",
       "    }\n",
       "</style>\n",
       "<table border=\"1\" class=\"dataframe\">\n",
       "  <thead>\n",
       "    <tr style=\"text-align: right;\">\n",
       "      <th></th>\n",
       "      <th>min</th>\n",
       "      <th>max</th>\n",
       "      <th>mean</th>\n",
       "      <th>median</th>\n",
       "      <th>count</th>\n",
       "    </tr>\n",
       "    <tr>\n",
       "      <th>REGION</th>\n",
       "      <th></th>\n",
       "      <th></th>\n",
       "      <th></th>\n",
       "      <th></th>\n",
       "      <th></th>\n",
       "    </tr>\n",
       "  </thead>\n",
       "  <tbody>\n",
       "    <tr>\n",
       "      <th>ARMM</th>\n",
       "      <td>4.514683</td>\n",
       "      <td>65.315743</td>\n",
       "      <td>35.227616</td>\n",
       "      <td>38.248608</td>\n",
       "      <td>17</td>\n",
       "    </tr>\n",
       "    <tr>\n",
       "      <th>CAR</th>\n",
       "      <td>10.496147</td>\n",
       "      <td>40.529846</td>\n",
       "      <td>22.461655</td>\n",
       "      <td>21.810185</td>\n",
       "      <td>35</td>\n",
       "    </tr>\n",
       "    <tr>\n",
       "      <th>I</th>\n",
       "      <td>3.775258</td>\n",
       "      <td>36.868836</td>\n",
       "      <td>18.458360</td>\n",
       "      <td>16.845460</td>\n",
       "      <td>39</td>\n",
       "    </tr>\n",
       "    <tr>\n",
       "      <th>II</th>\n",
       "      <td>4.400319</td>\n",
       "      <td>49.010055</td>\n",
       "      <td>21.305409</td>\n",
       "      <td>21.137520</td>\n",
       "      <td>35</td>\n",
       "    </tr>\n",
       "    <tr>\n",
       "      <th>III</th>\n",
       "      <td>1.273738</td>\n",
       "      <td>37.934485</td>\n",
       "      <td>15.555438</td>\n",
       "      <td>12.757185</td>\n",
       "      <td>62</td>\n",
       "    </tr>\n",
       "    <tr>\n",
       "      <th>IV-A</th>\n",
       "      <td>1.000000</td>\n",
       "      <td>78.270904</td>\n",
       "      <td>18.078267</td>\n",
       "      <td>15.302924</td>\n",
       "      <td>60</td>\n",
       "    </tr>\n",
       "    <tr>\n",
       "      <th>IV-B</th>\n",
       "      <td>3.775258</td>\n",
       "      <td>56.020411</td>\n",
       "      <td>29.101808</td>\n",
       "      <td>28.420557</td>\n",
       "      <td>30</td>\n",
       "    </tr>\n",
       "    <tr>\n",
       "      <th>IX</th>\n",
       "      <td>0.868617</td>\n",
       "      <td>61.034463</td>\n",
       "      <td>25.666220</td>\n",
       "      <td>24.705947</td>\n",
       "      <td>23</td>\n",
       "    </tr>\n",
       "    <tr>\n",
       "      <th>NCR</th>\n",
       "      <td>1.214162</td>\n",
       "      <td>68.624784</td>\n",
       "      <td>19.190377</td>\n",
       "      <td>6.627693</td>\n",
       "      <td>41</td>\n",
       "    </tr>\n",
       "    <tr>\n",
       "      <th>V</th>\n",
       "      <td>0.672049</td>\n",
       "      <td>51.679290</td>\n",
       "      <td>25.130058</td>\n",
       "      <td>22.924927</td>\n",
       "      <td>41</td>\n",
       "    </tr>\n",
       "    <tr>\n",
       "      <th>VI</th>\n",
       "      <td>9.229814</td>\n",
       "      <td>49.104335</td>\n",
       "      <td>21.484581</td>\n",
       "      <td>19.700995</td>\n",
       "      <td>48</td>\n",
       "    </tr>\n",
       "    <tr>\n",
       "      <th>VII</th>\n",
       "      <td>6.579954</td>\n",
       "      <td>62.517495</td>\n",
       "      <td>23.947535</td>\n",
       "      <td>23.186254</td>\n",
       "      <td>48</td>\n",
       "    </tr>\n",
       "    <tr>\n",
       "      <th>VIII</th>\n",
       "      <td>12.824437</td>\n",
       "      <td>88.354094</td>\n",
       "      <td>33.737771</td>\n",
       "      <td>29.562692</td>\n",
       "      <td>39</td>\n",
       "    </tr>\n",
       "    <tr>\n",
       "      <th>X</th>\n",
       "      <td>7.830698</td>\n",
       "      <td>52.842066</td>\n",
       "      <td>23.685184</td>\n",
       "      <td>22.379681</td>\n",
       "      <td>36</td>\n",
       "    </tr>\n",
       "    <tr>\n",
       "      <th>XI</th>\n",
       "      <td>1.860903</td>\n",
       "      <td>74.253652</td>\n",
       "      <td>29.385675</td>\n",
       "      <td>30.158588</td>\n",
       "      <td>25</td>\n",
       "    </tr>\n",
       "    <tr>\n",
       "      <th>XII</th>\n",
       "      <td>2.795512</td>\n",
       "      <td>71.173321</td>\n",
       "      <td>30.500227</td>\n",
       "      <td>23.274213</td>\n",
       "      <td>20</td>\n",
       "    </tr>\n",
       "    <tr>\n",
       "      <th>XIII</th>\n",
       "      <td>6.831491</td>\n",
       "      <td>57.345020</td>\n",
       "      <td>24.260983</td>\n",
       "      <td>24.000744</td>\n",
       "      <td>26</td>\n",
       "    </tr>\n",
       "  </tbody>\n",
       "</table>\n",
       "</div>"
      ],
      "text/plain": [
       "              min        max       mean     median  count\n",
       "REGION                                                   \n",
       "ARMM     4.514683  65.315743  35.227616  38.248608     17\n",
       "CAR     10.496147  40.529846  22.461655  21.810185     35\n",
       "I        3.775258  36.868836  18.458360  16.845460     39\n",
       "II       4.400319  49.010055  21.305409  21.137520     35\n",
       "III      1.273738  37.934485  15.555438  12.757185     62\n",
       "IV-A     1.000000  78.270904  18.078267  15.302924     60\n",
       "IV-B     3.775258  56.020411  29.101808  28.420557     30\n",
       "IX       0.868617  61.034463  25.666220  24.705947     23\n",
       "NCR      1.214162  68.624784  19.190377   6.627693     41\n",
       "V        0.672049  51.679290  25.130058  22.924927     41\n",
       "VI       9.229814  49.104335  21.484581  19.700995     48\n",
       "VII      6.579954  62.517495  23.947535  23.186254     48\n",
       "VIII    12.824437  88.354094  33.737771  29.562692     39\n",
       "X        7.830698  52.842066  23.685184  22.379681     36\n",
       "XI       1.860903  74.253652  29.385675  30.158588     25\n",
       "XII      2.795512  71.173321  30.500227  23.274213     20\n",
       "XIII     6.831491  57.345020  24.260983  24.000744     26"
      ]
     },
     "execution_count": 45,
     "metadata": {},
     "output_type": "execute_result"
    }
   ],
   "source": [
    "bhs_hosp_spl = df_bhs_hosp.groupby('REGION')['AVE_SPL'].agg(['min', 'max', 'mean', 'median', 'count'])\n",
    "bhs_hosp_spl"
   ]
  },
  {
   "cell_type": "markdown",
   "metadata": {},
   "source": [
    "##### Comparison with Degree Outliers"
   ]
  },
  {
   "cell_type": "code",
   "execution_count": 46,
   "metadata": {
    "ExecuteTime": {
     "end_time": "2020-03-24T13:25:36.838977Z",
     "start_time": "2020-03-24T13:25:36.677416Z"
    }
   },
   "outputs": [
    {
     "data": {
      "image/png": "[encoded data removed]",
      "text/plain": [
       "<Figure size 720x576 with 1 Axes>"
      ]
     },
     "metadata": {
      "needs_background": "light"
     },
     "output_type": "display_data"
    }
   ],
   "source": [
    "fig, ax = plt.subplots(figsize=(10,8))\n",
    "ax.plot(deg_outlier['mean'], bhs_hosp_spl['mean'], 'o', color='deepskyblue', \n",
    "        markersize='15')\n",
    "for i,j,k in zip(deg_outlier['mean'].values, bhs_hosp_spl['mean'].values, list(deg_outlier.index)):\n",
    "    ax.text(i,j,k, fontsize=14)\n",
    "ax.set_xlabel(\"Degree Outlierness (Hosp)\", fontsize=14)\n",
    "ax.set_ylabel(\"Average shortest path length (BHS->Hosp)\", fontsize=14);\n",
    "\n",
    "\n",
    "## I changed the ylabel to BHS -> Hosp"
   ]
  },
  {
   "cell_type": "markdown",
   "metadata": {},
   "source": [
    "## Simulations\n",
    "After characterizing the network, further analysis were performed by simulating what would happen to the network as higher percentages of the population enters the system. That is, the facilities that would overload are identified based on the bed capacity."
   ]
  },
  {
   "cell_type": "code",
   "execution_count": 47,
   "metadata": {
    "ExecuteTime": {
     "end_time": "2020-03-24T13:25:39.077955Z",
     "start_time": "2020-03-24T13:25:39.071971Z"
    }
   },
   "outputs": [
    {
     "data": {
      "text/html": [
       "<div>\n",
       "<style scoped>\n",
       "    .dataframe tbody tr th:only-of-type {\n",
       "        vertical-align: middle;\n",
       "    }\n",
       "\n",
       "    .dataframe tbody tr th {\n",
       "        vertical-align: top;\n",
       "    }\n",
       "\n",
       "    .dataframe thead th {\n",
       "        text-align: right;\n",
       "    }\n",
       "</style>\n",
       "<table border=\"1\" class=\"dataframe\">\n",
       "  <thead>\n",
       "    <tr style=\"text-align: right;\">\n",
       "      <th></th>\n",
       "      <th>count</th>\n",
       "      <th>mean</th>\n",
       "      <th>std</th>\n",
       "      <th>min</th>\n",
       "      <th>25%</th>\n",
       "      <th>50%</th>\n",
       "      <th>75%</th>\n",
       "      <th>max</th>\n",
       "    </tr>\n",
       "    <tr>\n",
       "      <th>HF_TYPE</th>\n",
       "      <th></th>\n",
       "      <th></th>\n",
       "      <th></th>\n",
       "      <th></th>\n",
       "      <th></th>\n",
       "      <th></th>\n",
       "      <th></th>\n",
       "      <th></th>\n",
       "    </tr>\n",
       "  </thead>\n",
       "  <tbody>\n",
       "    <tr>\n",
       "      <th>BARANGAY HEALTH STATION</th>\n",
       "      <td>17435.0</td>\n",
       "      <td>3800.183309</td>\n",
       "      <td>6013.845024</td>\n",
       "      <td>0.0</td>\n",
       "      <td>1302.00</td>\n",
       "      <td>2444.0</td>\n",
       "      <td>4408.50</td>\n",
       "      <td>123708.0</td>\n",
       "    </tr>\n",
       "    <tr>\n",
       "      <th>HOSPITAL</th>\n",
       "      <td>0.0</td>\n",
       "      <td>NaN</td>\n",
       "      <td>NaN</td>\n",
       "      <td>NaN</td>\n",
       "      <td>NaN</td>\n",
       "      <td>NaN</td>\n",
       "      <td>NaN</td>\n",
       "      <td>NaN</td>\n",
       "    </tr>\n",
       "    <tr>\n",
       "      <th>INFIRMARY</th>\n",
       "      <td>0.0</td>\n",
       "      <td>NaN</td>\n",
       "      <td>NaN</td>\n",
       "      <td>NaN</td>\n",
       "      <td>NaN</td>\n",
       "      <td>NaN</td>\n",
       "      <td>NaN</td>\n",
       "      <td>NaN</td>\n",
       "    </tr>\n",
       "    <tr>\n",
       "      <th>RURAL HEALTH UNIT</th>\n",
       "      <td>2172.0</td>\n",
       "      <td>38663.139503</td>\n",
       "      <td>44947.384236</td>\n",
       "      <td>0.0</td>\n",
       "      <td>16981.75</td>\n",
       "      <td>30224.0</td>\n",
       "      <td>46929.25</td>\n",
       "      <td>903309.0</td>\n",
       "    </tr>\n",
       "  </tbody>\n",
       "</table>\n",
       "</div>"
      ],
      "text/plain": [
       "                           count          mean           std  min       25%  \\\n",
       "HF_TYPE                                                                       \n",
       "BARANGAY HEALTH STATION  17435.0   3800.183309   6013.845024  0.0   1302.00   \n",
       "HOSPITAL                     0.0           NaN           NaN  NaN       NaN   \n",
       "INFIRMARY                    0.0           NaN           NaN  NaN       NaN   \n",
       "RURAL HEALTH UNIT         2172.0  38663.139503  44947.384236  0.0  16981.75   \n",
       "\n",
       "                             50%       75%       max  \n",
       "HF_TYPE                                               \n",
       "BARANGAY HEALTH STATION   2444.0   4408.50  123708.0  \n",
       "HOSPITAL                     NaN       NaN       NaN  \n",
       "INFIRMARY                    NaN       NaN       NaN  \n",
       "RURAL HEALTH UNIT        30224.0  46929.25  903309.0  "
      ]
     },
     "execution_count": 47,
     "metadata": {},
     "output_type": "execute_result"
    }
   ],
   "source": [
    "nodes.groupby('HF_TYPE')['CATCHMENT'].describe()"
   ]
  },
  {
   "cell_type": "code",
   "execution_count": 48,
   "metadata": {
    "ExecuteTime": {
     "end_time": "2020-03-24T13:25:39.077955Z",
     "start_time": "2020-03-24T13:25:39.071971Z"
    }
   },
   "outputs": [],
   "source": [
    "intake = nodes.loc[(nodes['HF_TYPE']=='RURAL HEALTH UNIT') | (nodes['HF_TYPE']=='BARANGAY HEALTH STATION'), ['REGION', 'CATCHMENT', 'HF_TYPE']]"
   ]
  },
  {
   "cell_type": "code",
   "execution_count": 49,
   "metadata": {
    "ExecuteTime": {
     "end_time": "2020-03-24T13:25:38.179392Z",
     "start_time": "2020-03-24T13:25:38.165396Z"
    }
   },
   "outputs": [
    {
     "data": {
      "text/html": [
       "<div>\n",
       "<style scoped>\n",
       "    .dataframe tbody tr th:only-of-type {\n",
       "        vertical-align: middle;\n",
       "    }\n",
       "\n",
       "    .dataframe tbody tr th {\n",
       "        vertical-align: top;\n",
       "    }\n",
       "\n",
       "    .dataframe thead th {\n",
       "        text-align: right;\n",
       "    }\n",
       "</style>\n",
       "<table border=\"1\" class=\"dataframe\">\n",
       "  <thead>\n",
       "    <tr style=\"text-align: right;\">\n",
       "      <th></th>\n",
       "      <th>mean</th>\n",
       "      <th>median</th>\n",
       "      <th>min</th>\n",
       "      <th>max</th>\n",
       "    </tr>\n",
       "    <tr>\n",
       "      <th>REGION</th>\n",
       "      <th></th>\n",
       "      <th></th>\n",
       "      <th></th>\n",
       "      <th></th>\n",
       "    </tr>\n",
       "  </thead>\n",
       "  <tbody>\n",
       "    <tr>\n",
       "      <th>AUTONOMOUS REGION IN MUSLIM MINDANAO (ARMM)</th>\n",
       "      <td>9252.728460</td>\n",
       "      <td>2682.0</td>\n",
       "      <td>0.0</td>\n",
       "      <td>222885.0</td>\n",
       "    </tr>\n",
       "    <tr>\n",
       "      <th>CORDILLERA ADMINISTRA TIVE REGION (CAR)</th>\n",
       "      <td>3688.141975</td>\n",
       "      <td>1187.0</td>\n",
       "      <td>0.0</td>\n",
       "      <td>134461.0</td>\n",
       "    </tr>\n",
       "    <tr>\n",
       "      <th>NATIONAL CAPITAL REGION (NCR)</th>\n",
       "      <td>30745.293506</td>\n",
       "      <td>25084.0</td>\n",
       "      <td>0.0</td>\n",
       "      <td>290977.0</td>\n",
       "    </tr>\n",
       "    <tr>\n",
       "      <th>REGION I (ILOCOS REGION)</th>\n",
       "      <td>6133.943131</td>\n",
       "      <td>2556.0</td>\n",
       "      <td>0.0</td>\n",
       "      <td>204135.0</td>\n",
       "    </tr>\n",
       "    <tr>\n",
       "      <th>REGION II (CAGAYAN VALLEY)</th>\n",
       "      <td>4528.668281</td>\n",
       "      <td>1826.0</td>\n",
       "      <td>0.0</td>\n",
       "      <td>158245.0</td>\n",
       "    </tr>\n",
       "    <tr>\n",
       "      <th>REGION III (CENTRAL LUZON)</th>\n",
       "      <td>9866.274949</td>\n",
       "      <td>3700.5</td>\n",
       "      <td>0.0</td>\n",
       "      <td>260691.0</td>\n",
       "    </tr>\n",
       "    <tr>\n",
       "      <th>REGION IV-A (CALABAR ZON)</th>\n",
       "      <td>9040.417355</td>\n",
       "      <td>3122.5</td>\n",
       "      <td>0.0</td>\n",
       "      <td>463727.0</td>\n",
       "    </tr>\n",
       "    <tr>\n",
       "      <th>REGION IV-B (MIMAROPA)</th>\n",
       "      <td>5363.064924</td>\n",
       "      <td>2104.5</td>\n",
       "      <td>0.0</td>\n",
       "      <td>272190.0</td>\n",
       "    </tr>\n",
       "    <tr>\n",
       "      <th>REGION IX (ZAMBOANGA PENINSULA)</th>\n",
       "      <td>9427.200000</td>\n",
       "      <td>3773.5</td>\n",
       "      <td>0.0</td>\n",
       "      <td>903309.0</td>\n",
       "    </tr>\n",
       "    <tr>\n",
       "      <th>REGION V (BICOL REGION)</th>\n",
       "      <td>7685.285319</td>\n",
       "      <td>3480.5</td>\n",
       "      <td>0.0</td>\n",
       "      <td>210047.0</td>\n",
       "    </tr>\n",
       "    <tr>\n",
       "      <th>REGION VI (WESTERN VISAYAS)</th>\n",
       "      <td>7620.305286</td>\n",
       "      <td>3293.0</td>\n",
       "      <td>0.0</td>\n",
       "      <td>597740.0</td>\n",
       "    </tr>\n",
       "    <tr>\n",
       "      <th>REGION VII (CENTRAL VISAYAS)</th>\n",
       "      <td>5827.443880</td>\n",
       "      <td>2131.0</td>\n",
       "      <td>0.0</td>\n",
       "      <td>414265.0</td>\n",
       "    </tr>\n",
       "    <tr>\n",
       "      <th>REGION VIII (EASTERN VISAYAS)</th>\n",
       "      <td>9092.887701</td>\n",
       "      <td>4577.0</td>\n",
       "      <td>0.0</td>\n",
       "      <td>387813.0</td>\n",
       "    </tr>\n",
       "    <tr>\n",
       "      <th>REGION X (NORTHERN MINDANAO)</th>\n",
       "      <td>6047.594231</td>\n",
       "      <td>2369.0</td>\n",
       "      <td>0.0</td>\n",
       "      <td>197890.0</td>\n",
       "    </tr>\n",
       "    <tr>\n",
       "      <th>REGION XI (DAVAO REGION)</th>\n",
       "      <td>5155.099083</td>\n",
       "      <td>1818.5</td>\n",
       "      <td>0.0</td>\n",
       "      <td>175935.0</td>\n",
       "    </tr>\n",
       "    <tr>\n",
       "      <th>REGION XII (SOCCSKSA RGEN)</th>\n",
       "      <td>8722.273183</td>\n",
       "      <td>2168.0</td>\n",
       "      <td>0.0</td>\n",
       "      <td>453585.0</td>\n",
       "    </tr>\n",
       "    <tr>\n",
       "      <th>REGION XIII (CARAGA)</th>\n",
       "      <td>7212.888608</td>\n",
       "      <td>2530.0</td>\n",
       "      <td>0.0</td>\n",
       "      <td>137527.0</td>\n",
       "    </tr>\n",
       "  </tbody>\n",
       "</table>\n",
       "</div>"
      ],
      "text/plain": [
       "                                                     mean   median  min  \\\n",
       "REGION                                                                    \n",
       "AUTONOMOUS REGION IN MUSLIM MINDANAO (ARMM)   9252.728460   2682.0  0.0   \n",
       "CORDILLERA ADMINISTRA TIVE REGION (CAR)       3688.141975   1187.0  0.0   \n",
       "NATIONAL CAPITAL REGION (NCR)                30745.293506  25084.0  0.0   \n",
       "REGION I (ILOCOS REGION)                      6133.943131   2556.0  0.0   \n",
       "REGION II (CAGAYAN VALLEY)                    4528.668281   1826.0  0.0   \n",
       "REGION III (CENTRAL LUZON)                    9866.274949   3700.5  0.0   \n",
       "REGION IV-A (CALABAR ZON)                     9040.417355   3122.5  0.0   \n",
       "REGION IV-B (MIMAROPA)                        5363.064924   2104.5  0.0   \n",
       "REGION IX (ZAMBOANGA PENINSULA)               9427.200000   3773.5  0.0   \n",
       "REGION V (BICOL REGION)                       7685.285319   3480.5  0.0   \n",
       "REGION VI (WESTERN VISAYAS)                   7620.305286   3293.0  0.0   \n",
       "REGION VII (CENTRAL VISAYAS)                  5827.443880   2131.0  0.0   \n",
       "REGION VIII (EASTERN VISAYAS)                 9092.887701   4577.0  0.0   \n",
       "REGION X (NORTHERN MINDANAO)                  6047.594231   2369.0  0.0   \n",
       "REGION XI (DAVAO REGION)                      5155.099083   1818.5  0.0   \n",
       "REGION XII (SOCCSKSA RGEN)                    8722.273183   2168.0  0.0   \n",
       "REGION XIII (CARAGA)                          7212.888608   2530.0  0.0   \n",
       "\n",
       "                                                  max  \n",
       "REGION                                                 \n",
       "AUTONOMOUS REGION IN MUSLIM MINDANAO (ARMM)  222885.0  \n",
       "CORDILLERA ADMINISTRA TIVE REGION (CAR)      134461.0  \n",
       "NATIONAL CAPITAL REGION (NCR)                290977.0  \n",
       "REGION I (ILOCOS REGION)                     204135.0  \n",
       "REGION II (CAGAYAN VALLEY)                   158245.0  \n",
       "REGION III (CENTRAL LUZON)                   260691.0  \n",
       "REGION IV-A (CALABAR ZON)                    463727.0  \n",
       "REGION IV-B (MIMAROPA)                       272190.0  \n",
       "REGION IX (ZAMBOANGA PENINSULA)              903309.0  \n",
       "REGION V (BICOL REGION)                      210047.0  \n",
       "REGION VI (WESTERN VISAYAS)                  597740.0  \n",
       "REGION VII (CENTRAL VISAYAS)                 414265.0  \n",
       "REGION VIII (EASTERN VISAYAS)                387813.0  \n",
       "REGION X (NORTHERN MINDANAO)                 197890.0  \n",
       "REGION XI (DAVAO REGION)                     175935.0  \n",
       "REGION XII (SOCCSKSA RGEN)                   453585.0  \n",
       "REGION XIII (CARAGA)                         137527.0  "
      ]
     },
     "execution_count": 49,
     "metadata": {},
     "output_type": "execute_result"
    }
   ],
   "source": [
    "intake.groupby('REGION')['CATCHMENT'].agg(['mean','median', 'min', 'max'])"
   ]
  },
  {
   "cell_type": "code",
   "execution_count": 50,
   "metadata": {
    "ExecuteTime": {
     "end_time": "2020-03-24T13:25:38.619214Z",
     "start_time": "2020-03-24T13:25:38.611234Z"
    }
   },
   "outputs": [],
   "source": [
    "num_iter=1000\n",
    "#check changes in the system if 0.001% to 1% of population enters the HCPN;\n",
    "pop_prop = 0.00001\n",
    "hosp_zero_cap = nodes[((nodes['HF_TYPE']=='HOSPITAL') | (nodes['HF_TYPE']=='INFIRMARY')) & (nodes['BED_CAP']==0)].SHORT_HFCODE.values"
   ]
  },
  {
   "cell_type": "code",
   "execution_count": 51,
   "metadata": {
    "ExecuteTime": {
     "end_time": "2020-03-24T13:25:39.077955Z",
     "start_time": "2020-03-24T13:25:39.071971Z"
    }
   },
   "outputs": [
    {
     "data": {
      "text/plain": [
       "0"
      ]
     },
     "execution_count": 51,
     "metadata": {},
     "output_type": "execute_result"
    }
   ],
   "source": [
    "len(hosp_zero_cap)"
   ]
  },
  {
   "cell_type": "code",
   "execution_count": 55,
   "metadata": {
    "ExecuteTime": {
     "end_time": "2020-03-24T13:26:35.935534Z",
     "start_time": "2020-03-24T13:26:24.144049Z"
    }
   },
   "outputs": [
    {
     "data": {
      "text/plain": [
       "Text(0, 0.5, 'Percentage of isolated RHUs')"
      ]
     },
     "execution_count": 55,
     "metadata": {},
     "output_type": "execute_result"
    },
    {
     "data": {
      "image/png": "[encoded data removed]",
      "text/plain": [
       "<Figure size 648x432 with 2 Axes>"
      ]
     },
     "metadata": {
      "needs_background": "light"
     },
     "output_type": "display_data"
    }
   ],
   "source": [
    "fig, [ax1, ax2] = plt.subplots(1, 2, figsize=(9, 6))\n",
    "\n",
    "intake_t = intake['CATCHMENT'] * pop_prop\n",
    "df_isolates = pd.DataFrame()\n",
    "df_rem_hosps = pd.DataFrame()\n",
    "# ax2 = ax1.twinx()\n",
    "for region in ['NATIONAL CAPITAL REGION (NCR)', 'REGION VIII (EASTERN VISAYAS)']:\n",
    "    rhu_reg = nodes[(nodes['REGION']==region) & (nodes['HF_TYPE']=='RURAL HEALTH UNIT')]['SHORT_HFCODE']\n",
    "    hosp_reg = nodes[(nodes['REGION']==region) & ((nodes['HF_TYPE']=='HOSPITAL') | (nodes['HF_TYPE']=='INFIRMARY'))]['SHORT_HFCODE']\n",
    "    G_reg = G.subgraph(rhu_reg.tolist() + hosp_reg.tolist()).copy()\n",
    "    hosp_reg_connected = [i for i in hosp_reg if ((i not in nx.isolates(G_reg)) and (i not in hosp_zero_cap))]\n",
    "    remaining_hosps = [len(hosp_reg_connected)]\n",
    "    G_reg.remove_nodes_from(list(nx.isolates(G_reg)))\n",
    "    G_reg.remove_nodes_from(hosp_zero_cap)\n",
    "    num_isolates = [0]\n",
    "    remaining_hosp = [i for i, j in G_reg.nodes(data=True) if ((j['HF_TYPE']=='HOSPITAL') or (j['HF_TYPE']=='INFIRMARY'))]\n",
    "    # t=0\n",
    "    # while remaining_hosp:\n",
    "    for t in range(num_iter):\n",
    "        removed_hosps = []\n",
    "        for rhu in rhu_reg:\n",
    "            try:\n",
    "                N = len(list(G_reg.neighbors(rhu)))\n",
    "            except nx.NetworkXError:\n",
    "                continue\n",
    "            nearby_hosps = list(G_reg.neighbors(rhu))\n",
    "#             dist_sum = G_reg.out_degree(rhu, weight='DIST')\n",
    "            dist_sum = sum([G_reg[rhu][i]['DIST'] for i in nearby_hosps if G_reg[rhu][i]['DIST']==G_reg[rhu][i]['DIST']])\n",
    "            for hosp in nearby_hosps:\n",
    "                if len(nearby_hosps)==1:\n",
    "                    prob_hosp = 1\n",
    "                else:\n",
    "                    prob_hosp = (1 - G_reg[rhu][hosp]['DIST'] / dist_sum) if G_reg[rhu][hosp]['DIST']==G_reg[rhu][hosp]['DIST'] else 0\n",
    "                new_patient = intake_t[rhu] * prob_hosp if intake_t[rhu]==intake_t[rhu] else 0\n",
    "                add_one = 1 if random.random()<new_patient%1 else 0\n",
    "                if (G_reg.nodes()[hosp].get('patients', 0) + int(new_patient) + add_one) > G_reg.nodes()[hosp]['BED_CAP']:\n",
    "                    G_reg.remove_node(hosp)\n",
    "                    removed_hosps.append(hosp)\n",
    "                else:\n",
    "                    nx.set_node_attributes(G_reg, {hosp: G_reg.nodes()[hosp].get('patients', 0) + int(new_patient) + add_one}, 'patients')\n",
    "        remaining_hosp = [i for i, j in G_reg.nodes(data=True) if ((j['HF_TYPE']=='HOSPITAL') or (j['HF_TYPE']=='INFIRMARY'))]\n",
    "        remaining_hosps.append(len(remaining_hosp))\n",
    "        num_isolates.append(len(list(nx.isolates(G_reg))))\n",
    "    #     print(t, removed_hosps)\n",
    "    df_rem_hosps.loc[region, \"0.05%\"] = remaining_hosps[np.where(pop_prop * np.arange(num_iter+1)==0.0005)[0][0]] / remaining_hosps[0]\n",
    "    df_rem_hosps.loc[region, \"0.5%\"] = remaining_hosps[np.where(pop_prop * np.arange(num_iter+1)==0.005)[0][0]] / remaining_hosps[0]\n",
    "    df_isolates.loc[region, \"0.05%\"] = num_isolates[np.where(pop_prop * np.arange(num_iter+1)==0.0005)[0][0]] / num_isolates[-1]\n",
    "    df_isolates.loc[region, \"0.5%\"] = num_isolates[np.where(pop_prop * np.arange(num_iter+1)==0.005)[0][0]] / num_isolates[-1]\n",
    "    \n",
    "#     print(\"At 0.05%, remaining hosps are\", remaining_hosps[np.where(pop_prop * np.arange(num_iter+1)==0.0005)[0][0]] / remaining_hosps[0], region)\n",
    "#     print(\"At 0.5%, remaining hosps are\", remaining_hosps[np.where(pop_prop * np.arange(num_iter+1)==0.005)[0][0]] / remaining_hosps[0], region)\n",
    "#     print(\"At 0.05%, the isolated RHUs are\", num_isolates[np.where(pop_prop * np.arange(num_iter+1)==0.0005)[0][0]] / num_isolates[-1], region)\n",
    "#     print(\"At 0.5%, the isolated RHUs are\", num_isolates[np.where(pop_prop * np.arange(num_iter+1)==0.005)[0][0]] / num_isolates[-1], region)\n",
    "    ax1.plot(pop_prop * np.arange(num_iter+1), [i/remaining_hosps[0] for i in remaining_hosps], label=region)\n",
    "    ax2.plot(pop_prop * np.arange(num_iter+1), [i/num_isolates[-1] for i in num_isolates])\n",
    "fig.legend()\n",
    "ax1.set_xlabel('Percent of population in HCPN')\n",
    "ax2.set_xlabel('Percent of population in HCPN')\n",
    "\n",
    "ax1.set_xticklabels(['-0.2%', '0.0%', '0.2%', '0.4%', '0.6%', '0.8%', '1.0%'])\n",
    "ax2.set_xticklabels(['-0.2%', '0.0%', '0.2%', '0.4%', '0.6%', '0.8%', '1.0%'])\n",
    "ax1.set_ylabel('Percentage of remaining hospitals')\n",
    "ax2.set_ylabel('Percentage of isolated RHUs')\n",
    "    #     t+=1\n",
    "    #     break"
   ]
  },
  {
   "cell_type": "code",
   "execution_count": 56,
   "metadata": {
    "ExecuteTime": {
     "end_time": "2020-03-24T13:27:13.581857Z",
     "start_time": "2020-03-24T13:26:36.403251Z"
    }
   },
   "outputs": [
    {
     "data": {
      "text/plain": [
       "Text(0, 0.5, 'Percentage of isolated RHUs')"
      ]
     },
     "execution_count": 56,
     "metadata": {},
     "output_type": "execute_result"
    },
    {
     "data": {
      "image/png": "[encoded data removed]",
      "text/plain": [
       "<Figure size 648x432 with 2 Axes>"
      ]
     },
     "metadata": {
      "needs_background": "light"
     },
     "output_type": "display_data"
    }
   ],
   "source": [
    "fig, [ax1, ax2] = plt.subplots(1, 2, figsize=(9, 6))\n",
    "\n",
    "intake_t = intake['CATCHMENT'] * pop_prop\n",
    "df_isolates = pd.DataFrame()\n",
    "df_rem_hosps = pd.DataFrame()\n",
    "# ax2 = ax1.twinx()\n",
    "for region in nodes['REGION'].unique():\n",
    "    rhu_reg = nodes[(nodes['REGION']==region) & (nodes['HF_TYPE']=='RURAL HEALTH UNIT')]['SHORT_HFCODE']\n",
    "    hosp_reg = nodes[(nodes['REGION']==region) & ((nodes['HF_TYPE']=='HOSPITAL') | (nodes['HF_TYPE']=='INFIRMARY'))]['SHORT_HFCODE']\n",
    "    G_reg = G.subgraph(rhu_reg.tolist() + hosp_reg.tolist()).copy()\n",
    "    hosp_reg_connected = [i for i in hosp_reg if ((i not in nx.isolates(G_reg)) and (i not in hosp_zero_cap))]\n",
    "    remaining_hosps = [len(hosp_reg_connected)]\n",
    "    G_reg.remove_nodes_from(list(nx.isolates(G_reg)))\n",
    "    G_reg.remove_nodes_from(hosp_zero_cap)\n",
    "    num_isolates = [0]\n",
    "    remaining_hosp = [i for i, j in G_reg.nodes(data=True) if ((j['HF_TYPE']=='HOSPITAL') or (j['HF_TYPE']=='INFIRMARY'))]\n",
    "    # t=0\n",
    "    # while remaining_hosp:\n",
    "    for t in range(num_iter):\n",
    "        removed_hosps = []\n",
    "        for rhu in rhu_reg:\n",
    "            try:\n",
    "                N = len(list(G_reg.neighbors(rhu)))\n",
    "            except nx.NetworkXError:\n",
    "                continue\n",
    "            nearby_hosps = list(G_reg.neighbors(rhu))\n",
    "#             dist_sum = G_reg.out_degree(rhu, weight='DIST')\n",
    "            dist_sum = sum([G_reg[rhu][i]['DIST'] for i in nearby_hosps if G_reg[rhu][i]['DIST']==G_reg[rhu][i]['DIST']])\n",
    "            for hosp in nearby_hosps:\n",
    "                if len(nearby_hosps)==1:\n",
    "                    prob_hosp = 1\n",
    "                else:\n",
    "                    prob_hosp = (1 - G_reg[rhu][hosp]['DIST'] / dist_sum) if G_reg[rhu][hosp]['DIST']==G_reg[rhu][hosp]['DIST'] else 0\n",
    "                new_patient = intake_t[rhu] * prob_hosp if intake_t[rhu]==intake_t[rhu] else 0\n",
    "                add_one = 1 if random.random()<new_patient%1 else 0\n",
    "                if (G_reg.nodes()[hosp].get('patients', 0) + int(new_patient) + add_one) > G_reg.nodes()[hosp]['BED_CAP']:\n",
    "                    G_reg.remove_node(hosp)\n",
    "                    removed_hosps.append(hosp)\n",
    "                else:\n",
    "                    nx.set_node_attributes(G_reg, {hosp: G_reg.nodes()[hosp].get('patients', 0) + int(new_patient) + add_one}, 'patients')\n",
    "        remaining_hosp = [i for i, j in G_reg.nodes(data=True) if ((j['HF_TYPE']=='HOSPITAL') or (j['HF_TYPE']=='INFIRMARY'))]\n",
    "        remaining_hosps.append(len(remaining_hosp))\n",
    "        num_isolates.append(len(list(nx.isolates(G_reg))))\n",
    "    #     print(t, removed_hosps)\n",
    "    df_rem_hosps.loc[region, \"0.05%\"] = remaining_hosps[np.where(pop_prop * np.arange(num_iter+1)==0.0005)[0][0]] / remaining_hosps[0]\n",
    "    df_rem_hosps.loc[region, \"0.5%\"] = remaining_hosps[np.where(pop_prop * np.arange(num_iter+1)==0.005)[0][0]] / remaining_hosps[0]\n",
    "    df_isolates.loc[region, \"0.05%\"] = num_isolates[np.where(pop_prop * np.arange(num_iter+1)==0.0005)[0][0]] / num_isolates[-1]\n",
    "    df_isolates.loc[region, \"0.5%\"] = num_isolates[np.where(pop_prop * np.arange(num_iter+1)==0.005)[0][0]] / num_isolates[-1]\n",
    "    \n",
    "#     print(\"At 0.05%, remaining hosps are\", remaining_hosps[np.where(pop_prop * np.arange(num_iter+1)==0.0005)[0][0]] / remaining_hosps[0], region)\n",
    "#     print(\"At 0.5%, remaining hosps are\", remaining_hosps[np.where(pop_prop * np.arange(num_iter+1)==0.005)[0][0]] / remaining_hosps[0], region)\n",
    "#     print(\"At 0.05%, the isolated RHUs are\", num_isolates[np.where(pop_prop * np.arange(num_iter+1)==0.0005)[0][0]] / num_isolates[-1], region)\n",
    "#     print(\"At 0.5%, the isolated RHUs are\", num_isolates[np.where(pop_prop * np.arange(num_iter+1)==0.005)[0][0]] / num_isolates[-1], region)\n",
    "    ax1.plot(pop_prop * np.arange(num_iter+1), [i/remaining_hosps[0] for i in remaining_hosps], label=region)\n",
    "    ax2.plot(pop_prop * np.arange(num_iter+1), [i/num_isolates[-1] for i in num_isolates])\n",
    "fig.legend()\n",
    "ax1.set_xlabel('Percent of population in HCPN')\n",
    "ax2.set_xlabel('Percent of population in HCPN')\n",
    "\n",
    "ax1.set_xticklabels(['-0.2%', '0.0%', '0.2%', '0.4%', '0.6%', '0.8%', '1.0%'])\n",
    "ax2.set_xticklabels(['-0.2%', '0.0%', '0.2%', '0.4%', '0.6%', '0.8%', '1.0%'])\n",
    "ax1.set_ylabel('Percentage of remaining hospitals')\n",
    "ax2.set_ylabel('Percentage of isolated RHUs')\n",
    "    #     t+=1\n",
    "    #     break"
   ]
  },
  {
   "cell_type": "code",
   "execution_count": 57,
   "metadata": {
    "ExecuteTime": {
     "end_time": "2020-03-24T13:27:14.039648Z",
     "start_time": "2020-03-24T13:27:14.017676Z"
    }
   },
   "outputs": [
    {
     "name": "stdout",
     "output_type": "stream",
     "text": [
      "Remaining hospitals\n"
     ]
    },
    {
     "data": {
      "text/html": [
       "<style  type=\"text/css\" >\n",
       "    #T_2c7fdff0_6dd3_11ea_8b43_9828a631b9e6row0_col0 {\n",
       "            background-color:  #045e94;\n",
       "            color:  #f1f1f1;\n",
       "        }    #T_2c7fdff0_6dd3_11ea_8b43_9828a631b9e6row0_col1 {\n",
       "            background-color:  #fff7fb;\n",
       "            color:  #000000;\n",
       "        }    #T_2c7fdff0_6dd3_11ea_8b43_9828a631b9e6row1_col0 {\n",
       "            background-color:  #034c78;\n",
       "            color:  #f1f1f1;\n",
       "        }    #T_2c7fdff0_6dd3_11ea_8b43_9828a631b9e6row1_col1 {\n",
       "            background-color:  #eee8f3;\n",
       "            color:  #000000;\n",
       "        }    #T_2c7fdff0_6dd3_11ea_8b43_9828a631b9e6row2_col0 {\n",
       "            background-color:  #67a4cc;\n",
       "            color:  #000000;\n",
       "        }    #T_2c7fdff0_6dd3_11ea_8b43_9828a631b9e6row2_col1 {\n",
       "            background-color:  #ece7f2;\n",
       "            color:  #000000;\n",
       "        }    #T_2c7fdff0_6dd3_11ea_8b43_9828a631b9e6row3_col0 {\n",
       "            background-color:  #2484ba;\n",
       "            color:  #000000;\n",
       "        }    #T_2c7fdff0_6dd3_11ea_8b43_9828a631b9e6row3_col1 {\n",
       "            background-color:  #a7bddb;\n",
       "            color:  #000000;\n",
       "        }    #T_2c7fdff0_6dd3_11ea_8b43_9828a631b9e6row4_col0 {\n",
       "            background-color:  #5a9ec9;\n",
       "            color:  #000000;\n",
       "        }    #T_2c7fdff0_6dd3_11ea_8b43_9828a631b9e6row4_col1 {\n",
       "            background-color:  #d4d4e8;\n",
       "            color:  #000000;\n",
       "        }    #T_2c7fdff0_6dd3_11ea_8b43_9828a631b9e6row5_col0 {\n",
       "            background-color:  #045e94;\n",
       "            color:  #f1f1f1;\n",
       "        }    #T_2c7fdff0_6dd3_11ea_8b43_9828a631b9e6row5_col1 {\n",
       "            background-color:  #023858;\n",
       "            color:  #f1f1f1;\n",
       "        }    #T_2c7fdff0_6dd3_11ea_8b43_9828a631b9e6row6_col0 {\n",
       "            background-color:  #023858;\n",
       "            color:  #f1f1f1;\n",
       "        }    #T_2c7fdff0_6dd3_11ea_8b43_9828a631b9e6row6_col1 {\n",
       "            background-color:  #034a74;\n",
       "            color:  #f1f1f1;\n",
       "        }    #T_2c7fdff0_6dd3_11ea_8b43_9828a631b9e6row7_col0 {\n",
       "            background-color:  #034c78;\n",
       "            color:  #f1f1f1;\n",
       "        }    #T_2c7fdff0_6dd3_11ea_8b43_9828a631b9e6row7_col1 {\n",
       "            background-color:  #71a8ce;\n",
       "            color:  #000000;\n",
       "        }    #T_2c7fdff0_6dd3_11ea_8b43_9828a631b9e6row8_col0 {\n",
       "            background-color:  #b7c5df;\n",
       "            color:  #000000;\n",
       "        }    #T_2c7fdff0_6dd3_11ea_8b43_9828a631b9e6row8_col1 {\n",
       "            background-color:  #d4d4e8;\n",
       "            color:  #000000;\n",
       "        }    #T_2c7fdff0_6dd3_11ea_8b43_9828a631b9e6row9_col0 {\n",
       "            background-color:  #dcdaeb;\n",
       "            color:  #000000;\n",
       "        }    #T_2c7fdff0_6dd3_11ea_8b43_9828a631b9e6row9_col1 {\n",
       "            background-color:  #fff7fb;\n",
       "            color:  #000000;\n",
       "        }    #T_2c7fdff0_6dd3_11ea_8b43_9828a631b9e6row10_col0 {\n",
       "            background-color:  #fff7fb;\n",
       "            color:  #000000;\n",
       "        }    #T_2c7fdff0_6dd3_11ea_8b43_9828a631b9e6row10_col1 {\n",
       "            background-color:  #f4eef6;\n",
       "            color:  #000000;\n",
       "        }    #T_2c7fdff0_6dd3_11ea_8b43_9828a631b9e6row11_col0 {\n",
       "            background-color:  #c5cce3;\n",
       "            color:  #000000;\n",
       "        }    #T_2c7fdff0_6dd3_11ea_8b43_9828a631b9e6row11_col1 {\n",
       "            background-color:  #f4eef6;\n",
       "            color:  #000000;\n",
       "        }    #T_2c7fdff0_6dd3_11ea_8b43_9828a631b9e6row12_col0 {\n",
       "            background-color:  #f1ebf5;\n",
       "            color:  #000000;\n",
       "        }    #T_2c7fdff0_6dd3_11ea_8b43_9828a631b9e6row12_col1 {\n",
       "            background-color:  #efe9f3;\n",
       "            color:  #000000;\n",
       "        }    #T_2c7fdff0_6dd3_11ea_8b43_9828a631b9e6row13_col0 {\n",
       "            background-color:  #eee8f3;\n",
       "            color:  #000000;\n",
       "        }    #T_2c7fdff0_6dd3_11ea_8b43_9828a631b9e6row13_col1 {\n",
       "            background-color:  #f2ecf5;\n",
       "            color:  #000000;\n",
       "        }    #T_2c7fdff0_6dd3_11ea_8b43_9828a631b9e6row14_col0 {\n",
       "            background-color:  #d0d1e6;\n",
       "            color:  #000000;\n",
       "        }    #T_2c7fdff0_6dd3_11ea_8b43_9828a631b9e6row14_col1 {\n",
       "            background-color:  #dfddec;\n",
       "            color:  #000000;\n",
       "        }    #T_2c7fdff0_6dd3_11ea_8b43_9828a631b9e6row15_col0 {\n",
       "            background-color:  #a9bfdc;\n",
       "            color:  #000000;\n",
       "        }    #T_2c7fdff0_6dd3_11ea_8b43_9828a631b9e6row15_col1 {\n",
       "            background-color:  #d8d7e9;\n",
       "            color:  #000000;\n",
       "        }    #T_2c7fdff0_6dd3_11ea_8b43_9828a631b9e6row16_col0 {\n",
       "            background-color:  #81aed2;\n",
       "            color:  #000000;\n",
       "        }    #T_2c7fdff0_6dd3_11ea_8b43_9828a631b9e6row16_col1 {\n",
       "            background-color:  #4295c3;\n",
       "            color:  #000000;\n",
       "        }</style><table id=\"T_2c7fdff0_6dd3_11ea_8b43_9828a631b9e6\" ><thead>    <tr>        <th class=\"blank level0\" ></th>        <th class=\"col_heading level0 col0\" >0.05%</th>        <th class=\"col_heading level0 col1\" >0.5%</th>    </tr></thead><tbody>\n",
       "                <tr>\n",
       "                        <th id=\"T_2c7fdff0_6dd3_11ea_8b43_9828a631b9e6level0_row0\" class=\"row_heading level0 row0\" >AUTONOMOUS REGION IN MUSLIM MINDANAO (ARMM)</th>\n",
       "                        <td id=\"T_2c7fdff0_6dd3_11ea_8b43_9828a631b9e6row0_col0\" class=\"data row0 col0\" >33.3333</td>\n",
       "                        <td id=\"T_2c7fdff0_6dd3_11ea_8b43_9828a631b9e6row0_col1\" class=\"data row0 col1\" >0</td>\n",
       "            </tr>\n",
       "            <tr>\n",
       "                        <th id=\"T_2c7fdff0_6dd3_11ea_8b43_9828a631b9e6level0_row1\" class=\"row_heading level0 row1\" >CORDILLERA ADMINISTRA TIVE REGION (CAR)</th>\n",
       "                        <td id=\"T_2c7fdff0_6dd3_11ea_8b43_9828a631b9e6row1_col0\" class=\"data row1 col0\" >36.1111</td>\n",
       "                        <td id=\"T_2c7fdff0_6dd3_11ea_8b43_9828a631b9e6row1_col1\" class=\"data row1 col1\" >2.77778</td>\n",
       "            </tr>\n",
       "            <tr>\n",
       "                        <th id=\"T_2c7fdff0_6dd3_11ea_8b43_9828a631b9e6level0_row2\" class=\"row_heading level0 row2\" >REGION IV-B (MIMAROPA)</th>\n",
       "                        <td id=\"T_2c7fdff0_6dd3_11ea_8b43_9828a631b9e6row2_col0\" class=\"data row2 col0\" >21.2121</td>\n",
       "                        <td id=\"T_2c7fdff0_6dd3_11ea_8b43_9828a631b9e6row2_col1\" class=\"data row2 col1\" >3.0303</td>\n",
       "            </tr>\n",
       "            <tr>\n",
       "                        <th id=\"T_2c7fdff0_6dd3_11ea_8b43_9828a631b9e6level0_row3\" class=\"row_heading level0 row3\" >NATIONAL CAPITAL REGION (NCR)</th>\n",
       "                        <td id=\"T_2c7fdff0_6dd3_11ea_8b43_9828a631b9e6row3_col0\" class=\"data row3 col0\" >26.6667</td>\n",
       "                        <td id=\"T_2c7fdff0_6dd3_11ea_8b43_9828a631b9e6row3_col1\" class=\"data row3 col1\" >8.88889</td>\n",
       "            </tr>\n",
       "            <tr>\n",
       "                        <th id=\"T_2c7fdff0_6dd3_11ea_8b43_9828a631b9e6level0_row4\" class=\"row_heading level0 row4\" >REGION X (NORTHERN MINDANAO)</th>\n",
       "                        <td id=\"T_2c7fdff0_6dd3_11ea_8b43_9828a631b9e6row4_col0\" class=\"data row4 col0\" >22.2222</td>\n",
       "                        <td id=\"T_2c7fdff0_6dd3_11ea_8b43_9828a631b9e6row4_col1\" class=\"data row4 col1\" >5.55556</td>\n",
       "            </tr>\n",
       "            <tr>\n",
       "                        <th id=\"T_2c7fdff0_6dd3_11ea_8b43_9828a631b9e6level0_row5\" class=\"row_heading level0 row5\" >REGION XI (DAVAO REGION)</th>\n",
       "                        <td id=\"T_2c7fdff0_6dd3_11ea_8b43_9828a631b9e6row5_col0\" class=\"data row5 col0\" >33.3333</td>\n",
       "                        <td id=\"T_2c7fdff0_6dd3_11ea_8b43_9828a631b9e6row5_col1\" class=\"data row5 col1\" >23.8095</td>\n",
       "            </tr>\n",
       "            <tr>\n",
       "                        <th id=\"T_2c7fdff0_6dd3_11ea_8b43_9828a631b9e6level0_row6\" class=\"row_heading level0 row6\" >REGION XII (SOCCSKSA RGEN)</th>\n",
       "                        <td id=\"T_2c7fdff0_6dd3_11ea_8b43_9828a631b9e6row6_col0\" class=\"data row6 col0\" >38.8889</td>\n",
       "                        <td id=\"T_2c7fdff0_6dd3_11ea_8b43_9828a631b9e6row6_col1\" class=\"data row6 col1\" >22.2222</td>\n",
       "            </tr>\n",
       "            <tr>\n",
       "                        <th id=\"T_2c7fdff0_6dd3_11ea_8b43_9828a631b9e6level0_row7\" class=\"row_heading level0 row7\" >REGION XIII (CARAGA)</th>\n",
       "                        <td id=\"T_2c7fdff0_6dd3_11ea_8b43_9828a631b9e6row7_col0\" class=\"data row7 col0\" >36</td>\n",
       "                        <td id=\"T_2c7fdff0_6dd3_11ea_8b43_9828a631b9e6row7_col1\" class=\"data row7 col1\" >12</td>\n",
       "            </tr>\n",
       "            <tr>\n",
       "                        <th id=\"T_2c7fdff0_6dd3_11ea_8b43_9828a631b9e6level0_row8\" class=\"row_heading level0 row8\" >REGION I (ILOCOS REGION)</th>\n",
       "                        <td id=\"T_2c7fdff0_6dd3_11ea_8b43_9828a631b9e6row8_col0\" class=\"data row8 col0\" >13.8889</td>\n",
       "                        <td id=\"T_2c7fdff0_6dd3_11ea_8b43_9828a631b9e6row8_col1\" class=\"data row8 col1\" >5.55556</td>\n",
       "            </tr>\n",
       "            <tr>\n",
       "                        <th id=\"T_2c7fdff0_6dd3_11ea_8b43_9828a631b9e6level0_row9\" class=\"row_heading level0 row9\" >REGION II (CAGAYAN VALLEY)</th>\n",
       "                        <td id=\"T_2c7fdff0_6dd3_11ea_8b43_9828a631b9e6row9_col0\" class=\"data row9 col0\" >9.09091</td>\n",
       "                        <td id=\"T_2c7fdff0_6dd3_11ea_8b43_9828a631b9e6row9_col1\" class=\"data row9 col1\" >0</td>\n",
       "            </tr>\n",
       "            <tr>\n",
       "                        <th id=\"T_2c7fdff0_6dd3_11ea_8b43_9828a631b9e6level0_row10\" class=\"row_heading level0 row10\" >REGION III (CENTRAL LUZON)</th>\n",
       "                        <td id=\"T_2c7fdff0_6dd3_11ea_8b43_9828a631b9e6row10_col0\" class=\"data row10 col0\" >1.75439</td>\n",
       "                        <td id=\"T_2c7fdff0_6dd3_11ea_8b43_9828a631b9e6row10_col1\" class=\"data row10 col1\" >1.75439</td>\n",
       "            </tr>\n",
       "            <tr>\n",
       "                        <th id=\"T_2c7fdff0_6dd3_11ea_8b43_9828a631b9e6level0_row11\" class=\"row_heading level0 row11\" >REGION IV-A (CALABAR ZON)</th>\n",
       "                        <td id=\"T_2c7fdff0_6dd3_11ea_8b43_9828a631b9e6row11_col0\" class=\"data row11 col0\" >12.2807</td>\n",
       "                        <td id=\"T_2c7fdff0_6dd3_11ea_8b43_9828a631b9e6row11_col1\" class=\"data row11 col1\" >1.75439</td>\n",
       "            </tr>\n",
       "            <tr>\n",
       "                        <th id=\"T_2c7fdff0_6dd3_11ea_8b43_9828a631b9e6level0_row12\" class=\"row_heading level0 row12\" >REGION V (BICOL REGION)</th>\n",
       "                        <td id=\"T_2c7fdff0_6dd3_11ea_8b43_9828a631b9e6row12_col0\" class=\"data row12 col0\" >5.12821</td>\n",
       "                        <td id=\"T_2c7fdff0_6dd3_11ea_8b43_9828a631b9e6row12_col1\" class=\"data row12 col1\" >2.5641</td>\n",
       "            </tr>\n",
       "            <tr>\n",
       "                        <th id=\"T_2c7fdff0_6dd3_11ea_8b43_9828a631b9e6level0_row13\" class=\"row_heading level0 row13\" >REGION VI (WESTERN VISAYAS)</th>\n",
       "                        <td id=\"T_2c7fdff0_6dd3_11ea_8b43_9828a631b9e6row13_col0\" class=\"data row13 col0\" >6</td>\n",
       "                        <td id=\"T_2c7fdff0_6dd3_11ea_8b43_9828a631b9e6row13_col1\" class=\"data row13 col1\" >2</td>\n",
       "            </tr>\n",
       "            <tr>\n",
       "                        <th id=\"T_2c7fdff0_6dd3_11ea_8b43_9828a631b9e6level0_row14\" class=\"row_heading level0 row14\" >REGION VII (CENTRAL VISAYAS)</th>\n",
       "                        <td id=\"T_2c7fdff0_6dd3_11ea_8b43_9828a631b9e6row14_col0\" class=\"data row14 col0\" >11.1111</td>\n",
       "                        <td id=\"T_2c7fdff0_6dd3_11ea_8b43_9828a631b9e6row14_col1\" class=\"data row14 col1\" >4.44444</td>\n",
       "            </tr>\n",
       "            <tr>\n",
       "                        <th id=\"T_2c7fdff0_6dd3_11ea_8b43_9828a631b9e6level0_row15\" class=\"row_heading level0 row15\" >REGION VIII (EASTERN VISAYAS)</th>\n",
       "                        <td id=\"T_2c7fdff0_6dd3_11ea_8b43_9828a631b9e6row15_col0\" class=\"data row15 col0\" >15.3846</td>\n",
       "                        <td id=\"T_2c7fdff0_6dd3_11ea_8b43_9828a631b9e6row15_col1\" class=\"data row15 col1\" >5.12821</td>\n",
       "            </tr>\n",
       "            <tr>\n",
       "                        <th id=\"T_2c7fdff0_6dd3_11ea_8b43_9828a631b9e6level0_row16\" class=\"row_heading level0 row16\" >REGION IX (ZAMBOANGA PENINSULA)</th>\n",
       "                        <td id=\"T_2c7fdff0_6dd3_11ea_8b43_9828a631b9e6row16_col0\" class=\"data row16 col0\" >19.0476</td>\n",
       "                        <td id=\"T_2c7fdff0_6dd3_11ea_8b43_9828a631b9e6row16_col1\" class=\"data row16 col1\" >14.2857</td>\n",
       "            </tr>\n",
       "    </tbody></table>"
      ],
      "text/plain": [
       "<pandas.io.formats.style.Styler at 0x277ddce9308>"
      ]
     },
     "execution_count": 57,
     "metadata": {},
     "output_type": "execute_result"
    }
   ],
   "source": [
    "print(\"Remaining hospitals\")\n",
    "(df_rem_hosps*100).style.background_gradient()"
   ]
  },
  {
   "cell_type": "code",
   "execution_count": 58,
   "metadata": {
    "ExecuteTime": {
     "end_time": "2020-03-24T13:27:14.506408Z",
     "start_time": "2020-03-24T13:27:14.486421Z"
    }
   },
   "outputs": [
    {
     "name": "stdout",
     "output_type": "stream",
     "text": [
      "RHU isolates\n"
     ]
    },
    {
     "data": {
      "text/html": [
       "<style  type=\"text/css\" >\n",
       "    #T_2cc767d8_6dd3_11ea_8877_9828a631b9e6row0_col0 {\n",
       "            background-color:  #7eadd1;\n",
       "            color:  #000000;\n",
       "        }    #T_2cc767d8_6dd3_11ea_8877_9828a631b9e6row0_col1 {\n",
       "            background-color:  #023858;\n",
       "            color:  #f1f1f1;\n",
       "        }    #T_2cc767d8_6dd3_11ea_8877_9828a631b9e6row1_col0 {\n",
       "            background-color:  #fcf4fa;\n",
       "            color:  #000000;\n",
       "        }    #T_2cc767d8_6dd3_11ea_8877_9828a631b9e6row1_col1 {\n",
       "            background-color:  #023858;\n",
       "            color:  #f1f1f1;\n",
       "        }    #T_2cc767d8_6dd3_11ea_8877_9828a631b9e6row2_col0 {\n",
       "            background-color:  #62a2cb;\n",
       "            color:  #000000;\n",
       "        }    #T_2cc767d8_6dd3_11ea_8877_9828a631b9e6row2_col1 {\n",
       "            background-color:  #023858;\n",
       "            color:  #f1f1f1;\n",
       "        }    #T_2cc767d8_6dd3_11ea_8877_9828a631b9e6row3_col0 {\n",
       "            background-color:  #94b6d7;\n",
       "            color:  #000000;\n",
       "        }    #T_2cc767d8_6dd3_11ea_8877_9828a631b9e6row3_col1 {\n",
       "            background-color:  #fff7fb;\n",
       "            color:  #000000;\n",
       "        }    #T_2cc767d8_6dd3_11ea_8877_9828a631b9e6row4_col0 {\n",
       "            background-color:  #80aed2;\n",
       "            color:  #000000;\n",
       "        }    #T_2cc767d8_6dd3_11ea_8877_9828a631b9e6row4_col1 {\n",
       "            background-color:  #023858;\n",
       "            color:  #f1f1f1;\n",
       "        }    #T_2cc767d8_6dd3_11ea_8877_9828a631b9e6row5_col0 {\n",
       "            background-color:  #fff7fb;\n",
       "            color:  #000000;\n",
       "        }    #T_2cc767d8_6dd3_11ea_8877_9828a631b9e6row5_col1 {\n",
       "            background-color:  #023858;\n",
       "            color:  #f1f1f1;\n",
       "        }    #T_2cc767d8_6dd3_11ea_8877_9828a631b9e6row6_col0 {\n",
       "            background-color:  #b5c4df;\n",
       "            color:  #000000;\n",
       "        }    #T_2cc767d8_6dd3_11ea_8877_9828a631b9e6row6_col1 {\n",
       "            background-color:  #023858;\n",
       "            color:  #f1f1f1;\n",
       "        }    #T_2cc767d8_6dd3_11ea_8877_9828a631b9e6row7_col0 {\n",
       "            background-color:  #5a9ec9;\n",
       "            color:  #000000;\n",
       "        }    #T_2cc767d8_6dd3_11ea_8877_9828a631b9e6row7_col1 {\n",
       "            background-color:  #023858;\n",
       "            color:  #f1f1f1;\n",
       "        }    #T_2cc767d8_6dd3_11ea_8877_9828a631b9e6row8_col0 {\n",
       "            background-color:  #03446a;\n",
       "            color:  #f1f1f1;\n",
       "        }    #T_2cc767d8_6dd3_11ea_8877_9828a631b9e6row8_col1 {\n",
       "            background-color:  #023858;\n",
       "            color:  #f1f1f1;\n",
       "        }    #T_2cc767d8_6dd3_11ea_8877_9828a631b9e6row9_col0 {\n",
       "            background-color:  #04649e;\n",
       "            color:  #f1f1f1;\n",
       "        }    #T_2cc767d8_6dd3_11ea_8877_9828a631b9e6row9_col1 {\n",
       "            background-color:  #023858;\n",
       "            color:  #f1f1f1;\n",
       "        }    #T_2cc767d8_6dd3_11ea_8877_9828a631b9e6row10_col0 {\n",
       "            background-color:  #023858;\n",
       "            color:  #f1f1f1;\n",
       "        }    #T_2cc767d8_6dd3_11ea_8877_9828a631b9e6row10_col1 {\n",
       "            background-color:  #023858;\n",
       "            color:  #f1f1f1;\n",
       "        }    #T_2cc767d8_6dd3_11ea_8877_9828a631b9e6row11_col0 {\n",
       "            background-color:  #045b8e;\n",
       "            color:  #f1f1f1;\n",
       "        }    #T_2cc767d8_6dd3_11ea_8877_9828a631b9e6row11_col1 {\n",
       "            background-color:  #023858;\n",
       "            color:  #f1f1f1;\n",
       "        }    #T_2cc767d8_6dd3_11ea_8877_9828a631b9e6row12_col0 {\n",
       "            background-color:  #0567a1;\n",
       "            color:  #f1f1f1;\n",
       "        }    #T_2cc767d8_6dd3_11ea_8877_9828a631b9e6row12_col1 {\n",
       "            background-color:  #023858;\n",
       "            color:  #f1f1f1;\n",
       "        }    #T_2cc767d8_6dd3_11ea_8877_9828a631b9e6row13_col0 {\n",
       "            background-color:  #056ba9;\n",
       "            color:  #f1f1f1;\n",
       "        }    #T_2cc767d8_6dd3_11ea_8877_9828a631b9e6row13_col1 {\n",
       "            background-color:  #023858;\n",
       "            color:  #f1f1f1;\n",
       "        }    #T_2cc767d8_6dd3_11ea_8877_9828a631b9e6row14_col0 {\n",
       "            background-color:  #023f64;\n",
       "            color:  #f1f1f1;\n",
       "        }    #T_2cc767d8_6dd3_11ea_8877_9828a631b9e6row14_col1 {\n",
       "            background-color:  #023858;\n",
       "            color:  #f1f1f1;\n",
       "        }    #T_2cc767d8_6dd3_11ea_8877_9828a631b9e6row15_col0 {\n",
       "            background-color:  #034e7b;\n",
       "            color:  #f1f1f1;\n",
       "        }    #T_2cc767d8_6dd3_11ea_8877_9828a631b9e6row15_col1 {\n",
       "            background-color:  #023858;\n",
       "            color:  #f1f1f1;\n",
       "        }    #T_2cc767d8_6dd3_11ea_8877_9828a631b9e6row16_col0 {\n",
       "            background-color:  #023858;\n",
       "            color:  #f1f1f1;\n",
       "        }    #T_2cc767d8_6dd3_11ea_8877_9828a631b9e6row16_col1 {\n",
       "            background-color:  #023858;\n",
       "            color:  #f1f1f1;\n",
       "        }</style><table id=\"T_2cc767d8_6dd3_11ea_8877_9828a631b9e6\" ><thead>    <tr>        <th class=\"blank level0\" ></th>        <th class=\"col_heading level0 col0\" >0.05%</th>        <th class=\"col_heading level0 col1\" >0.5%</th>    </tr></thead><tbody>\n",
       "                <tr>\n",
       "                        <th id=\"T_2cc767d8_6dd3_11ea_8877_9828a631b9e6level0_row0\" class=\"row_heading level0 row0\" >AUTONOMOUS REGION IN MUSLIM MINDANAO (ARMM)</th>\n",
       "                        <td id=\"T_2cc767d8_6dd3_11ea_8877_9828a631b9e6row0_col0\" class=\"data row0 col0\" >52.8302</td>\n",
       "                        <td id=\"T_2cc767d8_6dd3_11ea_8877_9828a631b9e6row0_col1\" class=\"data row0 col1\" >100</td>\n",
       "            </tr>\n",
       "            <tr>\n",
       "                        <th id=\"T_2cc767d8_6dd3_11ea_8877_9828a631b9e6level0_row1\" class=\"row_heading level0 row1\" >CORDILLERA ADMINISTRA TIVE REGION (CAR)</th>\n",
       "                        <td id=\"T_2cc767d8_6dd3_11ea_8877_9828a631b9e6row1_col0\" class=\"data row1 col0\" >12.3288</td>\n",
       "                        <td id=\"T_2cc767d8_6dd3_11ea_8877_9828a631b9e6row1_col1\" class=\"data row1 col1\" >100</td>\n",
       "            </tr>\n",
       "            <tr>\n",
       "                        <th id=\"T_2cc767d8_6dd3_11ea_8877_9828a631b9e6level0_row2\" class=\"row_heading level0 row2\" >REGION IV-B (MIMAROPA)</th>\n",
       "                        <td id=\"T_2cc767d8_6dd3_11ea_8877_9828a631b9e6row2_col0\" class=\"data row2 col0\" >58.6957</td>\n",
       "                        <td id=\"T_2cc767d8_6dd3_11ea_8877_9828a631b9e6row2_col1\" class=\"data row2 col1\" >100</td>\n",
       "            </tr>\n",
       "            <tr>\n",
       "                        <th id=\"T_2cc767d8_6dd3_11ea_8877_9828a631b9e6level0_row3\" class=\"row_heading level0 row3\" >NATIONAL CAPITAL REGION (NCR)</th>\n",
       "                        <td id=\"T_2cc767d8_6dd3_11ea_8877_9828a631b9e6row3_col0\" class=\"data row3 col0\" >48.1481</td>\n",
       "                        <td id=\"T_2cc767d8_6dd3_11ea_8877_9828a631b9e6row3_col1\" class=\"data row3 col1\" >92.5926</td>\n",
       "            </tr>\n",
       "            <tr>\n",
       "                        <th id=\"T_2cc767d8_6dd3_11ea_8877_9828a631b9e6level0_row4\" class=\"row_heading level0 row4\" >REGION X (NORTHERN MINDANAO)</th>\n",
       "                        <td id=\"T_2cc767d8_6dd3_11ea_8877_9828a631b9e6row4_col0\" class=\"data row4 col0\" >52.6316</td>\n",
       "                        <td id=\"T_2cc767d8_6dd3_11ea_8877_9828a631b9e6row4_col1\" class=\"data row4 col1\" >100</td>\n",
       "            </tr>\n",
       "            <tr>\n",
       "                        <th id=\"T_2cc767d8_6dd3_11ea_8877_9828a631b9e6level0_row5\" class=\"row_heading level0 row5\" >REGION XI (DAVAO REGION)</th>\n",
       "                        <td id=\"T_2cc767d8_6dd3_11ea_8877_9828a631b9e6row5_col0\" class=\"data row5 col0\" >10.5263</td>\n",
       "                        <td id=\"T_2cc767d8_6dd3_11ea_8877_9828a631b9e6row5_col1\" class=\"data row5 col1\" >100</td>\n",
       "            </tr>\n",
       "            <tr>\n",
       "                        <th id=\"T_2cc767d8_6dd3_11ea_8877_9828a631b9e6level0_row6\" class=\"row_heading level0 row6\" >REGION XII (SOCCSKSA RGEN)</th>\n",
       "                        <td id=\"T_2cc767d8_6dd3_11ea_8877_9828a631b9e6row6_col0\" class=\"data row6 col0\" >40</td>\n",
       "                        <td id=\"T_2cc767d8_6dd3_11ea_8877_9828a631b9e6row6_col1\" class=\"data row6 col1\" >100</td>\n",
       "            </tr>\n",
       "            <tr>\n",
       "                        <th id=\"T_2cc767d8_6dd3_11ea_8877_9828a631b9e6level0_row7\" class=\"row_heading level0 row7\" >REGION XIII (CARAGA)</th>\n",
       "                        <td id=\"T_2cc767d8_6dd3_11ea_8877_9828a631b9e6row7_col0\" class=\"data row7 col0\" >60</td>\n",
       "                        <td id=\"T_2cc767d8_6dd3_11ea_8877_9828a631b9e6row7_col1\" class=\"data row7 col1\" >100</td>\n",
       "            </tr>\n",
       "            <tr>\n",
       "                        <th id=\"T_2cc767d8_6dd3_11ea_8877_9828a631b9e6level0_row8\" class=\"row_heading level0 row8\" >REGION I (ILOCOS REGION)</th>\n",
       "                        <td id=\"T_2cc767d8_6dd3_11ea_8877_9828a631b9e6row8_col0\" class=\"data row8 col0\" >96.1165</td>\n",
       "                        <td id=\"T_2cc767d8_6dd3_11ea_8877_9828a631b9e6row8_col1\" class=\"data row8 col1\" >100</td>\n",
       "            </tr>\n",
       "            <tr>\n",
       "                        <th id=\"T_2cc767d8_6dd3_11ea_8877_9828a631b9e6level0_row9\" class=\"row_heading level0 row9\" >REGION II (CAGAYAN VALLEY)</th>\n",
       "                        <td id=\"T_2cc767d8_6dd3_11ea_8877_9828a631b9e6row9_col0\" class=\"data row9 col0\" >83.3333</td>\n",
       "                        <td id=\"T_2cc767d8_6dd3_11ea_8877_9828a631b9e6row9_col1\" class=\"data row9 col1\" >100</td>\n",
       "            </tr>\n",
       "            <tr>\n",
       "                        <th id=\"T_2cc767d8_6dd3_11ea_8877_9828a631b9e6level0_row10\" class=\"row_heading level0 row10\" >REGION III (CENTRAL LUZON)</th>\n",
       "                        <td id=\"T_2cc767d8_6dd3_11ea_8877_9828a631b9e6row10_col0\" class=\"data row10 col0\" >100</td>\n",
       "                        <td id=\"T_2cc767d8_6dd3_11ea_8877_9828a631b9e6row10_col1\" class=\"data row10 col1\" >100</td>\n",
       "            </tr>\n",
       "            <tr>\n",
       "                        <th id=\"T_2cc767d8_6dd3_11ea_8877_9828a631b9e6level0_row11\" class=\"row_heading level0 row11\" >REGION IV-A (CALABAR ZON)</th>\n",
       "                        <td id=\"T_2cc767d8_6dd3_11ea_8877_9828a631b9e6row11_col0\" class=\"data row11 col0\" >88.1481</td>\n",
       "                        <td id=\"T_2cc767d8_6dd3_11ea_8877_9828a631b9e6row11_col1\" class=\"data row11 col1\" >100</td>\n",
       "            </tr>\n",
       "            <tr>\n",
       "                        <th id=\"T_2cc767d8_6dd3_11ea_8877_9828a631b9e6level0_row12\" class=\"row_heading level0 row12\" >REGION V (BICOL REGION)</th>\n",
       "                        <td id=\"T_2cc767d8_6dd3_11ea_8877_9828a631b9e6row12_col0\" class=\"data row12 col0\" >82.3529</td>\n",
       "                        <td id=\"T_2cc767d8_6dd3_11ea_8877_9828a631b9e6row12_col1\" class=\"data row12 col1\" >100</td>\n",
       "            </tr>\n",
       "            <tr>\n",
       "                        <th id=\"T_2cc767d8_6dd3_11ea_8877_9828a631b9e6level0_row13\" class=\"row_heading level0 row13\" >REGION VI (WESTERN VISAYAS)</th>\n",
       "                        <td id=\"T_2cc767d8_6dd3_11ea_8877_9828a631b9e6row13_col0\" class=\"data row13 col0\" >79.7872</td>\n",
       "                        <td id=\"T_2cc767d8_6dd3_11ea_8877_9828a631b9e6row13_col1\" class=\"data row13 col1\" >100</td>\n",
       "            </tr>\n",
       "            <tr>\n",
       "                        <th id=\"T_2cc767d8_6dd3_11ea_8877_9828a631b9e6level0_row14\" class=\"row_heading level0 row14\" >REGION VII (CENTRAL VISAYAS)</th>\n",
       "                        <td id=\"T_2cc767d8_6dd3_11ea_8877_9828a631b9e6row14_col0\" class=\"data row14 col0\" >97.4684</td>\n",
       "                        <td id=\"T_2cc767d8_6dd3_11ea_8877_9828a631b9e6row14_col1\" class=\"data row14 col1\" >100</td>\n",
       "            </tr>\n",
       "            <tr>\n",
       "                        <th id=\"T_2cc767d8_6dd3_11ea_8877_9828a631b9e6level0_row15\" class=\"row_heading level0 row15\" >REGION VIII (EASTERN VISAYAS)</th>\n",
       "                        <td id=\"T_2cc767d8_6dd3_11ea_8877_9828a631b9e6row15_col0\" class=\"data row15 col0\" >92.5926</td>\n",
       "                        <td id=\"T_2cc767d8_6dd3_11ea_8877_9828a631b9e6row15_col1\" class=\"data row15 col1\" >100</td>\n",
       "            </tr>\n",
       "            <tr>\n",
       "                        <th id=\"T_2cc767d8_6dd3_11ea_8877_9828a631b9e6level0_row16\" class=\"row_heading level0 row16\" >REGION IX (ZAMBOANGA PENINSULA)</th>\n",
       "                        <td id=\"T_2cc767d8_6dd3_11ea_8877_9828a631b9e6row16_col0\" class=\"data row16 col0\" >100</td>\n",
       "                        <td id=\"T_2cc767d8_6dd3_11ea_8877_9828a631b9e6row16_col1\" class=\"data row16 col1\" >100</td>\n",
       "            </tr>\n",
       "    </tbody></table>"
      ],
      "text/plain": [
       "<pandas.io.formats.style.Styler at 0x277deefcd48>"
      ]
     },
     "execution_count": 58,
     "metadata": {},
     "output_type": "execute_result"
    }
   ],
   "source": [
    "print(\"RHU isolates\")\n",
    "(df_isolates*100).style.background_gradient()"
   ]
  }
 ],
 "metadata": {
  "kernelspec": {
   "display_name": "Python 3",
   "language": "python",
   "name": "python3"
  },
  "language_info": {
   "codemirror_mode": {
    "name": "ipython",
    "version": 3
   },
   "file_extension": ".py",
   "mimetype": "text/x-python",
   "name": "python",
   "nbconvert_exporter": "python",
   "pygments_lexer": "ipython3",
   "version": "3.7.5"
  },
  "toc": {
   "base_numbering": 1,
   "nav_menu": {},
   "number_sections": false,
   "sideBar": true,
   "skip_h1_title": false,
   "title_cell": "Table of Contents",
   "title_sidebar": "Contents",
   "toc_cell": false,
   "toc_position": {},
   "toc_section_display": true,
   "toc_window_display": true
  },
  "varInspector": {
   "cols": {
    "lenName": 16,
    "lenType": 16,
    "lenVar": 40
   },
   "kernels_config": {
    "python": {
     "delete_cmd_postfix": "",
     "delete_cmd_prefix": "del ",
     "library": "var_list.py",
     "varRefreshCmd": "print(var_dic_list())"
    },
    "r": {
     "delete_cmd_postfix": ") ",
     "delete_cmd_prefix": "rm(",
     "library": "var_list.r",
     "varRefreshCmd": "cat(var_dic_list()) "
    }
   },
   "types_to_exclude": [
    "module",
    "function",
    "builtin_function_or_method",
    "instance",
    "_Feature"
   ],
   "window_display": false
  }
 },
 "nbformat": 4,
 "nbformat_minor": 2
}
