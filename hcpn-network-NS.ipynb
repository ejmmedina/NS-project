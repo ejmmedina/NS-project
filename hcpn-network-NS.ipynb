{
 "cells": [
  {
   "cell_type": "markdown",
   "metadata": {},
   "source": [
    "# Network Analysis of the Primary Healthcare Facility Referral System in the Philippines\n",
    "##### By: Elijah Justin Medina and Jomilynn Rebanal\n",
    "\n",
    "This project aims to analyze to referral system among health units in the Philippines in order to identify the characteristics and consequently, the robustness of this system. The main data used in this analysis are geospatial coordinates of different health units in the network &mdash; barangay health stations (BHS), rural health units (RHU), and hospitals. The network is supplemented with bed capacity information of the different health units. The aforementioned data was obtained from the DOH Data Collect app v2.1 and the National Health Facility Registry."
   ]
  },
  {
   "cell_type": "markdown",
   "metadata": {},
   "source": [
    "##### Preliminaries"
   ]
  },
  {
   "cell_type": "code",
   "execution_count": 4,
   "metadata": {
    "ExecuteTime": {
     "end_time": "2020-08-03T13:52:37.860311Z",
     "start_time": "2020-08-03T13:52:37.855324Z"
    }
   },
   "outputs": [],
   "source": [
    "import pandas as pd \n",
    "import numpy as np \n",
    "from glob import glob \n",
    "import sys\n",
    "import locale\n",
    "from geopy.distance import vincenty\n",
    "import warnings\n",
    "\n",
    "warnings.filterwarnings(\"ignore\")\n",
    "np.set_printoptions(threshold=sys.maxsize, precision=2) \n",
    "pd.set_option('float_format', '{:,.2f}'.format)\n",
    "pd.set_option('display.max_rows', 1000)"
   ]
  },
  {
   "cell_type": "markdown",
   "metadata": {},
   "source": [
    "## Data Processing and Exploratory Data Analysis\n",
    "Before performing the analysis, the data must be cleaned to standardize text and minimize effect of errors (e.g. typographical, encoding, outliers). The goal of this processing is to prepare the data for network analysis."
   ]
  },
  {
   "cell_type": "markdown",
   "metadata": {},
   "source": [
    "### Merging of multiple, separated files"
   ]
  },
  {
   "cell_type": "markdown",
   "metadata": {},
   "source": [
    "##### Geographic Coordinates (Health Facility names and coordinates)"
   ]
  },
  {
   "cell_type": "code",
   "execution_count": 122,
   "metadata": {
    "ExecuteTime": {
     "end_time": "2020-03-10T12:49:05.277261Z",
     "start_time": "2020-03-10T12:49:05.269308Z"
    }
   },
   "outputs": [],
   "source": [
    "files = glob('Geographic Coordinates/*.xlsx')\n",
    "cols = ['Health Facility Code Short', 'Facility Name', 'Health Facility Type',\n",
    "        'Region Name                                             ', \n",
    "        'Province Name ', 'City/Municipality Name', 'Barangay Name', \n",
    "        'Latitude', 'Longitude', 'Service Capability', 'Licensing Status', \n",
    "        'Bed Capacity']\n",
    "\n",
    "HF_list = pd.DataFrame()\n",
    "        \n",
    "for f in files:\n",
    "    data = pd.read_excel(f, usecols=cols)\n",
    "    HF_list = HF_list.append(data)"
   ]
  },
  {
   "cell_type": "code",
   "execution_count": 123,
   "metadata": {
    "ExecuteTime": {
     "end_time": "2020-03-10T12:49:05.776642Z",
     "start_time": "2020-03-10T12:49:05.768638Z"
    }
   },
   "outputs": [],
   "source": [
    "HF_list.isnull().sum() # Verify mismatched fields across different excel files"
   ]
  },
  {
   "cell_type": "code",
   "execution_count": 124,
   "metadata": {
    "ExecuteTime": {
     "end_time": "2020-03-10T12:49:06.268012Z",
     "start_time": "2020-03-10T12:49:06.259985Z"
    }
   },
   "outputs": [],
   "source": [
    "HF_list.columns = ['SHORT_HFCODE', 'HF_NAME', 'HF_TYPE', 'REGION', 'PROVINCE', \n",
    "                  'MUNI_CITY', 'BRGY', 'LAT', 'LONG', 'SERVICE_CAP', \n",
    "                  'LICENSING', 'BED_CAP']\n",
    "\n",
    "str_cols = ['HF_NAME', 'HF_TYPE', 'REGION', 'PROVINCE', 'MUNI_CITY', 'BRGY', \n",
    "            'SERVICE_CAP', 'LICENSING', 'BED_CAP']\n",
    "\n",
    "HF_list[str_cols] = HF_list[str_cols].fillna('UNKNOWN').apply(lambda x: x.str.upper().str.strip())\n",
    "HF_list['SHORT_HFCODE'] = HF_list['SHORT_HFCODE'].astype(int)\n",
    "\n",
    "HF_list.to_excel('cleaned/HFList_cleaned.xlsx') #Store the combined dataframe"
   ]
  },
  {
   "cell_type": "markdown",
   "metadata": {},
   "source": [
    "##### Rural Health Unit"
   ]
  },
  {
   "cell_type": "code",
   "execution_count": 127,
   "metadata": {
    "ExecuteTime": {
     "end_time": "2020-03-10T12:49:07.746989Z",
     "start_time": "2020-03-10T12:49:07.742995Z"
    }
   },
   "outputs": [],
   "source": [
    "rhu = pd.read_excel('rhu2018.xlsx', sheet_name='MAIN', na_values='None')"
   ]
  },
  {
   "cell_type": "code",
   "execution_count": 128,
   "metadata": {
    "ExecuteTime": {
     "end_time": "2020-03-10T12:49:08.242363Z",
     "start_time": "2020-03-10T12:49:08.234372Z"
    }
   },
   "outputs": [],
   "source": [
    "str_cols = ['HF_NAME', 'REGION', 'PROVINCE', 'MUNI_CITY', 'BRGY',\n",
    "            'STREET_NAME', 'BUILDING', 'FACILITY_HEAD', 'DETACHED', 'BRGYS', \n",
    "            'SDN', 'SDN_NAME', 'REF1_NAME', 'REF1_SAMEPROV', \n",
    "            'REF1_REF1A', 'REF1A_SAMEPROV', 'REF2_NAME', 'REF3_NAME',  \n",
    "            'AMB_ACCESS', 'AMB_OWN', 'PHIC_ACC', 'PHIC_PACKAGES', 'PHIC_MCP', \n",
    "            'PHIC_PCB1', 'PHIC_MALARIA', 'PHIC_TBDOTS', 'PHIC_ABTC', \n",
    "            'PHIC_NCP', 'PHIC_OTH']\n",
    "code_cols = ['id', 'REF1_CODE', 'REF2_CODE', 'REF3_CODE']\n",
    "float_cols = ['REF1_DIST', 'REF1_TRAVEL', 'REF2_DIST', 'REF2_TRAVEL',\n",
    "             'REF3_DIST', 'REF3_TRAVEL']\n",
    "# int_cols = ['id', 'BHS_COUNT','CATCHMENT', 'REF1_CODE', 'REF2_CODE', \n",
    "#             'REF3_CODE',  'MD_NO', 'MD_AUG', 'MD_TOTAL','MD_FT', 'MD_PT', \n",
    "#             'MD_VISIT', 'RN_NO', 'RN_AUG', 'RN_TOTAL', 'RN_FT', 'RN_PT', \n",
    "#             'RN_VISIT', 'MW_NO', 'MW_AUG', 'MW_TOTAL', 'MW_FT', 'MW_PT', \n",
    "#             'MW_VISIT']\n",
    "\n",
    "rhu[str_cols] = rhu[str_cols].apply(lambda x: x.str.upper().str.strip())\n",
    "rhu[code_cols] = rhu[code_cols].fillna(0).astype(int)\n",
    "rhu[float_cols] = rhu[float_cols].astype(float)\n",
    "\n",
    "rhu[str_cols] = rhu[str_cols].fillna('UNKNOWN')\n",
    "\n",
    "# Extract short code for merging with the Geographic Coordinates files\n",
    "rhu['SHORT_HFCODE'] = rhu['HF_CODE'].apply(lambda x: int(x[-6:]))\n",
    "\n",
    "rhu.to_excel('cleaned/rhu_cleaned.xlsx')"
   ]
  },
  {
   "cell_type": "markdown",
   "metadata": {
    "ExecuteTime": {
     "end_time": "2020-03-10T12:49:09.235805Z",
     "start_time": "2020-03-10T12:49:09.227809Z"
    }
   },
   "source": [
    "### Impute missing information from other tables\n",
    "As the data is being processed from different tables, the other tables can be used to fill some missing information. Aside from imputing missing information, coordinates outside the Philippines are identified."
   ]
  },
  {
   "cell_type": "code",
   "execution_count": 7,
   "metadata": {
    "ExecuteTime": {
     "end_time": "2020-08-10T18:34:40.043551Z",
     "start_time": "2020-08-10T18:34:40.039563Z"
    }
   },
   "outputs": [],
   "source": [
    "# Bounding box for the Philippines (manually extracted from Google).\n",
    "long_min, lat_min, long_max, lat_max = (117.17427453, 5.58100332277, 126.537423944, 18.5052273625)"
   ]
  },
  {
   "cell_type": "code",
   "execution_count": 8,
   "metadata": {
    "ExecuteTime": {
     "end_time": "2020-08-10T18:34:47.943427Z",
     "start_time": "2020-08-10T18:34:40.593814Z"
    }
   },
   "outputs": [],
   "source": [
    "HF_list = pd.read_excel('cleaned/HFList_cleaned.xlsx')\n",
    "\n",
    "# Groupby the data to account for duplicate names for different codes\n",
    "HF_dict = HF_list[['HF_NAME', 'SHORT_HFCODE']].groupby('HF_NAME')['SHORT_HFCODE'].apply(set).to_dict()\n",
    "latlong_dict = HF_list[['SHORT_HFCODE', 'LAT', 'LONG']].set_index('SHORT_HFCODE').to_dict()\n"
   ]
  },
  {
   "cell_type": "markdown",
   "metadata": {},
   "source": [
    "#### RHU"
   ]
  },
  {
   "cell_type": "code",
   "execution_count": 9,
   "metadata": {
    "ExecuteTime": {
     "end_time": "2020-08-10T18:34:53.260437Z",
     "start_time": "2020-08-10T18:34:52.040575Z"
    }
   },
   "outputs": [],
   "source": [
    "rhu = pd.read_excel('cleaned/rhu_cleaned.xlsx')\n",
    "\n",
    "# Create copies of the dataframe for later use\n",
    "rhu2 = rhu.copy()\n",
    "rhu3 = rhu.copy()"
   ]
  },
  {
   "cell_type": "markdown",
   "metadata": {},
   "source": [
    "##### Fill missing REF1 Codes"
   ]
  },
  {
   "cell_type": "code",
   "execution_count": 10,
   "metadata": {
    "ExecuteTime": {
     "end_time": "2020-08-10T18:34:54.770202Z",
     "start_time": "2020-08-10T18:34:54.708368Z"
    }
   },
   "outputs": [],
   "source": [
    "cols = ['id', 'HF_CODE', 'SHORT_HFCODE', 'HF_NAME', 'REGION', 'PROVINCE', 'MUNI_CITY', 'BRGY',\n",
    "            'STREET_NAME', 'BUILDING', 'FACILITY_HEAD', 'DETACHED', 'BRGYS', \n",
    "            'SDN', 'SDN_NAME', 'REF1_NAME', 'REF1_SAMEPROV', \n",
    "            'REF1_REF1A', 'REF1A_SAMEPROV', 'REF2_NAME', 'REF3_NAME',  \n",
    "            'AMB_ACCESS', 'AMB_OWN', 'PHIC_ACC', 'PHIC_PACKAGES', 'PHIC_MCP', \n",
    "            'PHIC_PCB1', 'PHIC_MALARIA', 'PHIC_TBDOTS', 'PHIC_ABTC', \n",
    "            'PHIC_NCP', 'PHIC_OTH', 'REF1_CODE', 'REF1_DIST', 'REF1_TRAVEL',\n",
    "            'REF2_CODE', 'REF2_DIST', 'REF2_TRAVEL',\n",
    "            'REF3_CODE', 'REF3_DIST', 'REF3_TRAVEL']\n",
    "\n",
    "rhu = rhu[cols]\n",
    "\n",
    "# Using the health facility list, complete the RHU data\n",
    "rhu.loc[rhu['REF1_CODE']==0, 'REF_CODE'] = rhu[rhu['REF1_CODE']==0]['REF1_NAME'].map(HF_dict)"
   ]
  },
  {
   "cell_type": "code",
   "execution_count": 11,
   "metadata": {
    "ExecuteTime": {
     "end_time": "2020-08-10T18:34:55.095296Z",
     "start_time": "2020-08-10T18:34:55.084326Z"
    }
   },
   "outputs": [
    {
     "data": {
      "text/html": [
       "<div>\n",
       "<style scoped>\n",
       "    .dataframe tbody tr th:only-of-type {\n",
       "        vertical-align: middle;\n",
       "    }\n",
       "\n",
       "    .dataframe tbody tr th {\n",
       "        vertical-align: top;\n",
       "    }\n",
       "\n",
       "    .dataframe thead th {\n",
       "        text-align: right;\n",
       "    }\n",
       "</style>\n",
       "<table border=\"1\" class=\"dataframe\">\n",
       "  <thead>\n",
       "    <tr style=\"text-align: right;\">\n",
       "      <th></th>\n",
       "      <th>SHORT_HFCODE</th>\n",
       "      <th>REF_CODE</th>\n",
       "    </tr>\n",
       "  </thead>\n",
       "  <tbody>\n",
       "    <tr>\n",
       "      <th>8</th>\n",
       "      <td>2228</td>\n",
       "      <td>{3313}</td>\n",
       "    </tr>\n",
       "    <tr>\n",
       "      <th>20</th>\n",
       "      <td>6698</td>\n",
       "      <td>{3313}</td>\n",
       "    </tr>\n",
       "    <tr>\n",
       "      <th>29</th>\n",
       "      <td>147</td>\n",
       "      <td>{2703}</td>\n",
       "    </tr>\n",
       "    <tr>\n",
       "      <th>36</th>\n",
       "      <td>2033</td>\n",
       "      <td>{3667}</td>\n",
       "    </tr>\n",
       "    <tr>\n",
       "      <th>37</th>\n",
       "      <td>2184</td>\n",
       "      <td>{2703}</td>\n",
       "    </tr>\n",
       "  </tbody>\n",
       "</table>\n",
       "</div>"
      ],
      "text/plain": [
       "    SHORT_HFCODE REF_CODE\n",
       "8           2228   {3313}\n",
       "20          6698   {3313}\n",
       "29           147   {2703}\n",
       "36          2033   {3667}\n",
       "37          2184   {2703}"
      ]
     },
     "execution_count": 11,
     "metadata": {},
     "output_type": "execute_result"
    }
   ],
   "source": [
    "temp = rhu[['SHORT_HFCODE', 'REF_CODE']].dropna().copy()\n",
    "\n",
    "# This dataframe contains the HF codes of one health facility to other facilities.\n",
    "temp.head()"
   ]
  },
  {
   "cell_type": "code",
   "execution_count": 12,
   "metadata": {
    "ExecuteTime": {
     "end_time": "2020-08-10T18:34:55.542570Z",
     "start_time": "2020-08-10T18:34:55.504672Z"
    }
   },
   "outputs": [],
   "source": [
    "# Out of all the mapped referred facilities, the closest facility is used as the actual referred facility\n",
    "# Slight pre-processing: \"place\" the health facilities without coordinates to southwest of southwest Philippine boundary (lat_min - 10, long_min - 20) or northeast of northeast Philippine boundary\n",
    "temp_dict = pd.DataFrame(temp.apply(lambda x: min([(vincenty((latlong_dict['LAT'][x['SHORT_HFCODE']] if latlong_dict['LAT'][x['SHORT_HFCODE']]==latlong_dict['LAT'][x['SHORT_HFCODE']] else lat_min-10,\n",
    "                                                  latlong_dict['LONG'][x['SHORT_HFCODE']] if latlong_dict['LONG'][x['SHORT_HFCODE']]==latlong_dict['LONG'][x['SHORT_HFCODE']] else long_min-20), \n",
    "                                                 (latlong_dict['LAT'][i] if latlong_dict['LAT'][i]==latlong_dict['LAT'][i] else lat_max+10,\n",
    "                                                  latlong_dict['LONG'][i] if latlong_dict['LONG'][i]==latlong_dict['LONG'][i] else long_max+20)).km, i, x['SHORT_HFCODE']) for i in x['REF_CODE']], key=lambda x: x[0]), axis=1).tolist()).set_index(2).to_dict()\n",
    "\n",
    "rhu['REF_CODE'] = rhu['SHORT_HFCODE'].map(temp_dict[1])\n",
    "rhu.loc[rhu['REF1_CODE']!=0, 'REF_CODE'] = rhu.loc[rhu['REF1_CODE']!=0, 'REF1_CODE']"
   ]
  },
  {
   "cell_type": "markdown",
   "metadata": {},
   "source": [
    "##### Fill missing REF2 Codes\n",
    "\n",
    "The data contains up to three referred facilities so the same processing is performed for the second and third HF code."
   ]
  },
  {
   "cell_type": "code",
   "execution_count": 13,
   "metadata": {
    "ExecuteTime": {
     "end_time": "2020-08-10T18:34:56.768895Z",
     "start_time": "2020-08-10T18:34:56.716037Z"
    }
   },
   "outputs": [],
   "source": [
    "rhu2.loc[rhu2['REF2_CODE']==0, 'REF_CODE'] = rhu2[rhu2['REF2_CODE']==0]['REF2_NAME'].map(HF_dict)\n",
    "\n",
    "temp = rhu2[['SHORT_HFCODE', 'REF_CODE']].dropna().copy()\n",
    "temp_dict = pd.DataFrame(temp.apply(lambda x: min([(vincenty((latlong_dict['LAT'][x['SHORT_HFCODE']] if latlong_dict['LAT'][x['SHORT_HFCODE']]==latlong_dict['LAT'][x['SHORT_HFCODE']] else lat_min-10,\n",
    "                                                  latlong_dict['LONG'][x['SHORT_HFCODE']] if latlong_dict['LONG'][x['SHORT_HFCODE']]==latlong_dict['LONG'][x['SHORT_HFCODE']] else long_min-20), \n",
    "                                                 (latlong_dict['LAT'][i] if latlong_dict['LAT'][i]==latlong_dict['LAT'][i] else lat_max+10,\n",
    "                                                  latlong_dict['LONG'][i] if latlong_dict['LONG'][i]==latlong_dict['LONG'][i] else long_max+20)).km, i, x['SHORT_HFCODE']) for i in x['REF_CODE']], key=lambda x: x[0]), axis=1).tolist()).set_index(2).to_dict()\n",
    "\n",
    "rhu2['REF_CODE'] = rhu2['SHORT_HFCODE'].map(temp_dict[1])\n",
    "rhu2.loc[rhu2['REF2_CODE']!=0, 'REF_CODE'] = rhu2.loc[rhu2['REF2_CODE']!=0, 'REF2_CODE']"
   ]
  },
  {
   "cell_type": "markdown",
   "metadata": {},
   "source": [
    "##### Fill missing REF3 Codes"
   ]
  },
  {
   "cell_type": "code",
   "execution_count": 14,
   "metadata": {
    "ExecuteTime": {
     "end_time": "2020-08-10T18:34:58.843245Z",
     "start_time": "2020-08-10T18:34:58.762299Z"
    }
   },
   "outputs": [],
   "source": [
    "rhu3.loc[rhu3['REF3_CODE']==0, 'REF_CODE'] = rhu3[rhu3['REF3_CODE']==0]['REF3_NAME'].map(HF_dict)\n",
    "\n",
    "temp = rhu3[['SHORT_HFCODE', 'REF_CODE']].dropna().copy()\n",
    "temp_dict = pd.DataFrame(temp.apply(lambda x: min([(vincenty((latlong_dict['LAT'][x['SHORT_HFCODE']] if latlong_dict['LAT'][x['SHORT_HFCODE']]==latlong_dict['LAT'][x['SHORT_HFCODE']] else lat_min-10,\n",
    "                                                  latlong_dict['LONG'][x['SHORT_HFCODE']] if latlong_dict['LONG'][x['SHORT_HFCODE']]==latlong_dict['LONG'][x['SHORT_HFCODE']] else long_min-20), \n",
    "                                                 (latlong_dict['LAT'][i] if latlong_dict['LAT'][i]==latlong_dict['LAT'][i] else lat_max+10,\n",
    "                                                  latlong_dict['LONG'][i] if latlong_dict['LONG'][i]==latlong_dict['LONG'][i] else long_max+20)).km, i, x['SHORT_HFCODE']) for i in x['REF_CODE']], key=lambda x: x[0]), axis=1).tolist()).set_index(2).to_dict()\n",
    "\n",
    "rhu3['REF_CODE'] = rhu3['SHORT_HFCODE'].map(temp_dict[1])\n",
    "rhu3.loc[rhu3['REF3_CODE']!=0, 'REF_CODE'] = rhu3.loc[rhu3['REF3_CODE']!=0, 'REF3_CODE']"
   ]
  },
  {
   "cell_type": "code",
   "execution_count": 15,
   "metadata": {
    "ExecuteTime": {
     "end_time": "2020-08-10T18:34:59.080050Z",
     "start_time": "2020-08-10T18:34:59.068083Z"
    }
   },
   "outputs": [],
   "source": [
    "rhu.dropna(subset=['REF_CODE'], inplace=True)\n",
    "rhu2.dropna(subset=['REF_CODE'], inplace=True)\n",
    "rhu3.dropna(subset=['REF_CODE'], inplace=True)"
   ]
  },
  {
   "cell_type": "markdown",
   "metadata": {
    "ExecuteTime": {
     "end_time": "2020-03-01T08:03:19.170179Z",
     "start_time": "2020-03-01T08:03:19.165224Z"
    }
   },
   "source": [
    "##### Combine the processed dataframes"
   ]
  },
  {
   "cell_type": "code",
   "execution_count": 16,
   "metadata": {
    "ExecuteTime": {
     "end_time": "2020-08-10T18:35:00.127287Z",
     "start_time": "2020-08-10T18:35:00.118312Z"
    }
   },
   "outputs": [],
   "source": [
    "rhu.rename({'REF1_DIST':'REF_DIST', 'REF1_TRAVEL':'REF_TRAVEL', 'REF1_NAME':'REF_NAME'}, axis=1, inplace=True)\n",
    "rhu2.rename({'REF2_DIST':'REF_DIST', 'REF2_TRAVEL':'REF_TRAVEL', 'REF1_NAME':'REF_NAME'}, axis=1, inplace=True)\n",
    "rhu3.rename({'REF3_DIST':'REF_DIST', 'REF3_TRAVEL':'REF_TRAVEL', 'REF1_NAME':'REF_NAME'}, axis=1, inplace=True)"
   ]
  },
  {
   "cell_type": "code",
   "execution_count": 17,
   "metadata": {
    "ExecuteTime": {
     "end_time": "2020-08-10T18:35:00.691341Z",
     "start_time": "2020-08-10T18:35:00.685359Z"
    }
   },
   "outputs": [],
   "source": [
    "cols2 = ['SHORT_HFCODE', 'REF_CODE']\n",
    "rhu_edges = rhu[cols2].append(rhu2[cols2]).append(rhu3[cols2])"
   ]
  },
  {
   "cell_type": "code",
   "execution_count": 18,
   "metadata": {
    "ExecuteTime": {
     "end_time": "2020-08-10T18:35:00.952090Z",
     "start_time": "2020-08-10T18:35:00.948093Z"
    }
   },
   "outputs": [],
   "source": [
    "# Add a column identifying the type of facility for the later network analysis\n",
    "\n",
    "rhu_edges['HF_TYPE'] = 'RHU'"
   ]
  },
  {
   "cell_type": "code",
   "execution_count": 19,
   "metadata": {
    "ExecuteTime": {
     "end_time": "2020-08-10T18:35:01.202968Z",
     "start_time": "2020-08-10T18:35:01.183018Z"
    }
   },
   "outputs": [
    {
     "data": {
      "text/html": [
       "<div>\n",
       "<style scoped>\n",
       "    .dataframe tbody tr th:only-of-type {\n",
       "        vertical-align: middle;\n",
       "    }\n",
       "\n",
       "    .dataframe tbody tr th {\n",
       "        vertical-align: top;\n",
       "    }\n",
       "\n",
       "    .dataframe thead th {\n",
       "        text-align: right;\n",
       "    }\n",
       "</style>\n",
       "<table border=\"1\" class=\"dataframe\">\n",
       "  <thead>\n",
       "    <tr style=\"text-align: right;\">\n",
       "      <th></th>\n",
       "      <th>SHORT_HFCODE</th>\n",
       "      <th>LAT</th>\n",
       "      <th>LONG</th>\n",
       "    </tr>\n",
       "  </thead>\n",
       "  <tbody>\n",
       "    <tr>\n",
       "      <th>count</th>\n",
       "      <td>29,424.00</td>\n",
       "      <td>25,752.00</td>\n",
       "      <td>25,752.00</td>\n",
       "    </tr>\n",
       "    <tr>\n",
       "      <th>mean</th>\n",
       "      <td>19,505.19</td>\n",
       "      <td>12.27</td>\n",
       "      <td>122.49</td>\n",
       "    </tr>\n",
       "    <tr>\n",
       "      <th>std</th>\n",
       "      <td>11,203.47</td>\n",
       "      <td>7.11</td>\n",
       "      <td>4.42</td>\n",
       "    </tr>\n",
       "    <tr>\n",
       "      <th>min</th>\n",
       "      <td>1.00</td>\n",
       "      <td>0.00</td>\n",
       "      <td>0.00</td>\n",
       "    </tr>\n",
       "    <tr>\n",
       "      <th>25%</th>\n",
       "      <td>9,724.75</td>\n",
       "      <td>9.52</td>\n",
       "      <td>121.02</td>\n",
       "    </tr>\n",
       "    <tr>\n",
       "      <th>50%</th>\n",
       "      <td>19,799.50</td>\n",
       "      <td>12.73</td>\n",
       "      <td>122.38</td>\n",
       "    </tr>\n",
       "    <tr>\n",
       "      <th>75%</th>\n",
       "      <td>29,542.25</td>\n",
       "      <td>14.81</td>\n",
       "      <td>124.16</td>\n",
       "    </tr>\n",
       "    <tr>\n",
       "      <th>max</th>\n",
       "      <td>38,002.00</td>\n",
       "      <td>1,000.00</td>\n",
       "      <td>126.58</td>\n",
       "    </tr>\n",
       "  </tbody>\n",
       "</table>\n",
       "</div>"
      ],
      "text/plain": [
       "       SHORT_HFCODE       LAT      LONG\n",
       "count     29,424.00 25,752.00 25,752.00\n",
       "mean      19,505.19     12.27    122.49\n",
       "std       11,203.47      7.11      4.42\n",
       "min            1.00      0.00      0.00\n",
       "25%        9,724.75      9.52    121.02\n",
       "50%       19,799.50     12.73    122.38\n",
       "75%       29,542.25     14.81    124.16\n",
       "max       38,002.00  1,000.00    126.58"
      ]
     },
     "execution_count": 19,
     "metadata": {},
     "output_type": "execute_result"
    }
   ],
   "source": [
    "HF_list[['SHORT_HFCODE', 'LAT', 'LONG']].describe()"
   ]
  },
  {
   "cell_type": "markdown",
   "metadata": {},
   "source": [
    "##### Map lat-long to the HF codes"
   ]
  },
  {
   "cell_type": "code",
   "execution_count": 20,
   "metadata": {
    "ExecuteTime": {
     "end_time": "2020-08-10T18:46:38.861865Z",
     "start_time": "2020-08-10T18:46:38.748169Z"
    }
   },
   "outputs": [],
   "source": [
    "rhu_edges['source_lat'] = rhu_edges['SHORT_HFCODE'].map(latlong_dict['LAT'])\n",
    "rhu_edges['source_long'] = rhu_edges['SHORT_HFCODE'].map(latlong_dict['LONG'])\n",
    "rhu_edges['target_lat'] = rhu_edges['REF_CODE'].map(latlong_dict['LAT'])\n",
    "rhu_edges['target_long'] = rhu_edges['REF_CODE'].map(latlong_dict['LONG'])"
   ]
  },
  {
   "cell_type": "markdown",
   "metadata": {},
   "source": [
    "##### Set lat-long outside PH to NaN"
   ]
  },
  {
   "cell_type": "code",
   "execution_count": 21,
   "metadata": {
    "ExecuteTime": {
     "end_time": "2020-08-10T18:46:40.195569Z",
     "start_time": "2020-08-10T18:46:40.180642Z"
    }
   },
   "outputs": [],
   "source": [
    "rhu_edges.loc[~((rhu_edges['source_lat'].between(lat_min, lat_max)) & (rhu_edges['source_long'].between(\n",
    "    long_min, long_max))), ['source_lat', 'source_long']] = np.nan\n",
    "rhu_edges.loc[~((rhu_edges['target_lat'].between(lat_min, lat_max)) & (rhu_edges['target_long'].between(\n",
    "    long_min, long_max))), ['target_lat', 'target_long']] = np.nan"
   ]
  },
  {
   "cell_type": "markdown",
   "metadata": {},
   "source": [
    "##### Measure distance using lat-long for non-NaN HF pairs"
   ]
  },
  {
   "cell_type": "code",
   "execution_count": 22,
   "metadata": {
    "ExecuteTime": {
     "end_time": "2020-08-10T18:46:40.935464Z",
     "start_time": "2020-08-10T18:46:40.596159Z"
    }
   },
   "outputs": [],
   "source": [
    "missing_latlong = ~rhu_edges[['source_lat', 'source_long', 'target_lat', 'target_long']].isnull().sum(axis=1).astype(bool)\n",
    "rhu_edges.loc[missing_latlong, 'DIST'] = rhu_edges.loc[missing_latlong, ['source_lat', 'source_long', 'target_lat', 'target_long']].apply(lambda x: vincenty((x['source_lat'], x['source_long']), (x['target_lat'], x['target_long'])).km, axis=1)\n",
    "\n",
    "rhu_edges.loc[rhu_edges['DIST']==0, 'DIST'] = 1"
   ]
  },
  {
   "cell_type": "markdown",
   "metadata": {},
   "source": [
    "##### Check for outliers\n",
    "In this case, referral between facilities that are too high are classified as outliers. The threshold to be used for filtering out these outliers is subject to the researcher's choice. The unit of distance is in kilometers. Note that since the distance is extracted from coordinates, errors in encoding will change the actual coordinates of the facilities, therefore making changes to the distance (e.g. dividing by a constant factor) cannot be done. Instead, other imputing techinques are used to fill for missing distance data."
   ]
  },
  {
   "cell_type": "code",
   "execution_count": 23,
   "metadata": {
    "ExecuteTime": {
     "end_time": "2020-08-10T18:46:41.979471Z",
     "start_time": "2020-08-10T18:46:41.481073Z"
    }
   },
   "outputs": [
    {
     "data": {
      "image/png": "[encoded data removed]",
      "text/plain": [
       "<Figure size 432x288 with 1 Axes>"
      ]
     },
     "metadata": {
      "needs_background": "light"
     },
     "output_type": "display_data"
    }
   ],
   "source": [
    "B = rhu_edges.boxplot('DIST', return_type='both')"
   ]
  },
  {
   "cell_type": "code",
   "execution_count": 24,
   "metadata": {
    "ExecuteTime": {
     "end_time": "2020-08-10T18:46:42.584794Z",
     "start_time": "2020-08-10T18:46:42.578796Z"
    }
   },
   "outputs": [],
   "source": [
    "outliers = [i.get_ydata()[1] for i in B.lines['whiskers']]\n",
    "rhu_edges.loc[rhu_edges['DIST'] > outliers[1], 'DIST'] = np.nan"
   ]
  },
  {
   "cell_type": "code",
   "execution_count": 25,
   "metadata": {
    "ExecuteTime": {
     "end_time": "2020-08-10T18:46:52.361936Z",
     "start_time": "2020-08-10T18:46:52.357947Z"
    }
   },
   "outputs": [
    {
     "data": {
      "text/plain": [
       "[0.0006040641840882818, 88.56724901828711]"
      ]
     },
     "execution_count": 25,
     "metadata": {},
     "output_type": "execute_result"
    }
   ],
   "source": [
    "outliers"
   ]
  },
  {
   "cell_type": "code",
   "execution_count": 26,
   "metadata": {
    "ExecuteTime": {
     "end_time": "2020-08-10T18:46:52.732984Z",
     "start_time": "2020-08-10T18:46:52.714035Z"
    }
   },
   "outputs": [],
   "source": [
    "muni_dict = HF_list[['SHORT_HFCODE', 'MUNI_CITY', 'PROVINCE']].set_index('SHORT_HFCODE').to_dict()"
   ]
  },
  {
   "cell_type": "markdown",
   "metadata": {},
   "source": [
    "##### Impute distance from municipality\n",
    "With the municipality information of the facilities, the distance of different health units are imputed using the median. The assumption is that within the same municipality, the distance of referring facilities are more or less similar. For tracking, the source of the distance information is stored."
   ]
  },
  {
   "cell_type": "code",
   "execution_count": 27,
   "metadata": {
    "ExecuteTime": {
     "end_time": "2020-08-10T18:46:53.374218Z",
     "start_time": "2020-08-10T18:46:53.343302Z"
    }
   },
   "outputs": [],
   "source": [
    "rhu_edges['muni_city'] = rhu_edges['SHORT_HFCODE'].map(muni_dict['MUNI_CITY'])\n",
    "mean_dist_city = rhu_edges.groupby('muni_city')['DIST'].median().to_dict()\n",
    "\n",
    "imputed_muni = ~(rhu_edges.loc[rhu_edges['DIST'].isnull(), 'muni_city'].map(mean_dist_city).isnull())\n",
    "imputed_muni = imputed_muni[imputed_muni].index\n",
    "rhu_edges.loc[imputed_muni, \"IMPUTED\"] = \"MUNI\" \n",
    "rhu_edges.loc[rhu_edges['DIST'].isnull(), 'DIST'] = rhu_edges.loc[rhu_edges['DIST'].isnull(), 'muni_city'].map(mean_dist_city)"
   ]
  },
  {
   "cell_type": "markdown",
   "metadata": {},
   "source": [
    "##### Impute distance from province\n",
    "For those facilities without municipality information, the province is used."
   ]
  },
  {
   "cell_type": "code",
   "execution_count": 28,
   "metadata": {
    "ExecuteTime": {
     "end_time": "2020-08-10T18:46:53.828715Z",
     "start_time": "2020-08-10T18:46:53.772865Z"
    }
   },
   "outputs": [],
   "source": [
    "rhu_edges['province'] = rhu_edges['SHORT_HFCODE'].map(muni_dict['PROVINCE'])\n",
    "mean_dist_prov = rhu_edges.groupby('province')['DIST'].median().to_dict()\n",
    "\n",
    "imputed_prov = ~(rhu_edges.loc[rhu_edges['DIST'].isnull(), 'province'].map(mean_dist_prov).isnull())\n",
    "imputed_prov = imputed_prov[imputed_prov].index\n",
    "\n",
    "rhu_edges.loc[imputed_prov, \"IMPUTED\"] = \"PROV\"\n",
    "rhu_edges.loc[rhu_edges['DIST'].isnull(), 'DIST'] = rhu_edges.loc[rhu_edges['DIST'].isnull(), 'province'].map(mean_dist_prov)"
   ]
  },
  {
   "cell_type": "code",
   "execution_count": 29,
   "metadata": {
    "ExecuteTime": {
     "end_time": "2020-08-10T18:46:53.974282Z",
     "start_time": "2020-08-10T18:46:53.969295Z"
    }
   },
   "outputs": [
    {
     "data": {
      "text/plain": [
       "17"
      ]
     },
     "execution_count": 29,
     "metadata": {},
     "output_type": "execute_result"
    }
   ],
   "source": [
    "rhu_edges['DIST'].isnull().sum()"
   ]
  },
  {
   "cell_type": "markdown",
   "metadata": {},
   "source": [
    "If after all these, the referring facilities still do not have distance information, the connection between the facilities is dropped. "
   ]
  },
  {
   "cell_type": "code",
   "execution_count": 30,
   "metadata": {
    "ExecuteTime": {
     "end_time": "2020-08-10T18:46:54.278528Z",
     "start_time": "2020-08-10T18:46:54.273494Z"
    }
   },
   "outputs": [],
   "source": [
    "rhu_edges.dropna(subset=['DIST'], inplace=True)"
   ]
  },
  {
   "cell_type": "code",
   "execution_count": 31,
   "metadata": {
    "ExecuteTime": {
     "end_time": "2020-08-10T18:46:54.494949Z",
     "start_time": "2020-08-10T18:46:54.470967Z"
    }
   },
   "outputs": [],
   "source": [
    "prov_HF_dict = rhu_edges.groupby('province')[['SHORT_HFCODE', 'REF_CODE']].agg(set).rename({'SHORT_HFCODE':'RHU', 'REF_CODE':'HOSP'}, axis=1).to_dict()"
   ]
  },
  {
   "cell_type": "code",
   "execution_count": 32,
   "metadata": {
    "ExecuteTime": {
     "end_time": "2020-08-10T18:46:54.646506Z",
     "start_time": "2020-08-10T18:46:54.639548Z"
    }
   },
   "outputs": [],
   "source": [
    "rhu_edges['REF_CODES'] = [set(rhu_edges[~rhu_edges[['target_lat', 'target_long']].isnull().sum(axis=1).astype(bool)]['REF_CODE'])] * len(rhu_edges)"
   ]
  },
  {
   "cell_type": "code",
   "execution_count": 33,
   "metadata": {
    "ExecuteTime": {
     "end_time": "2020-08-10T18:46:54.862996Z",
     "start_time": "2020-08-10T18:46:54.858043Z"
    }
   },
   "outputs": [],
   "source": [
    "rhu_edges = rhu_edges[rhu_edges['REF_CODE']!=rhu_edges['SHORT_HFCODE']]"
   ]
  },
  {
   "cell_type": "markdown",
   "metadata": {},
   "source": [
    "##### Connect nearest neighbors\n",
    "The referrals above are based on actual data, i.e. actual referrals from facility to facility. This list is supplemented with the three nearest facilities, regardless of being the same facilities as the actual data."
   ]
  },
  {
   "cell_type": "code",
   "execution_count": 34,
   "metadata": {
    "ExecuteTime": {
     "end_time": "2020-08-10T18:48:49.846281Z",
     "start_time": "2020-08-10T18:46:55.331148Z"
    }
   },
   "outputs": [],
   "source": [
    "n = 3 #num of nearest neighbors to connect\n",
    "temp = rhu_edges[['SHORT_HFCODE', 'REF_CODES']].dropna().drop_duplicates(subset='SHORT_HFCODE').copy()\n",
    "df_neighbors = pd.DataFrame(temp.apply(lambda x: sorted([(vincenty((latlong_dict['LAT'][x['SHORT_HFCODE']] if latlong_dict['LAT'][x['SHORT_HFCODE']]==latlong_dict['LAT'][x['SHORT_HFCODE']] else lat_min-10,\n",
    "                                                  latlong_dict['LONG'][x['SHORT_HFCODE']] if latlong_dict['LONG'][x['SHORT_HFCODE']]==latlong_dict['LONG'][x['SHORT_HFCODE']] else long_min-20), \n",
    "                                                 (latlong_dict['LAT'][i] if latlong_dict['LAT'][i]==latlong_dict['LAT'][i] else lat_max+10,\n",
    "                                                  latlong_dict['LONG'][i] if latlong_dict['LONG'][i]==latlong_dict['LONG'][i] else long_max+20)).km, i, x['SHORT_HFCODE']) for i in x['REF_CODES'] if i!=x['SHORT_HFCODE']], key=lambda x: x[0])[:n], axis=1).tolist())#.set_index(2).to_dict()"
   ]
  },
  {
   "cell_type": "code",
   "execution_count": 35,
   "metadata": {
    "ExecuteTime": {
     "end_time": "2020-08-10T18:48:49.993922Z",
     "start_time": "2020-08-10T18:48:49.986905Z"
    }
   },
   "outputs": [],
   "source": [
    "df_neighbors_edges = pd.DataFrame(df_neighbors[0].append(df_neighbors[1]).append(df_neighbors[2]).tolist(), columns=['DIST', 'REF_CODE', 'SHORT_HFCODE'])"
   ]
  },
  {
   "cell_type": "code",
   "execution_count": 36,
   "metadata": {
    "ExecuteTime": {
     "end_time": "2020-08-10T18:48:50.127563Z",
     "start_time": "2020-08-10T18:48:50.124538Z"
    }
   },
   "outputs": [],
   "source": [
    "df_neighbors_edges['IMPUTED'] = 'NEAREST_NEIGHBOR'"
   ]
  },
  {
   "cell_type": "code",
   "execution_count": 37,
   "metadata": {
    "ExecuteTime": {
     "end_time": "2020-08-10T18:48:50.263167Z",
     "start_time": "2020-08-10T18:48:50.253249Z"
    }
   },
   "outputs": [
    {
     "data": {
      "text/html": [
       "<div>\n",
       "<style scoped>\n",
       "    .dataframe tbody tr th:only-of-type {\n",
       "        vertical-align: middle;\n",
       "    }\n",
       "\n",
       "    .dataframe tbody tr th {\n",
       "        vertical-align: top;\n",
       "    }\n",
       "\n",
       "    .dataframe thead th {\n",
       "        text-align: right;\n",
       "    }\n",
       "</style>\n",
       "<table border=\"1\" class=\"dataframe\">\n",
       "  <thead>\n",
       "    <tr style=\"text-align: right;\">\n",
       "      <th></th>\n",
       "      <th>SHORT_HFCODE</th>\n",
       "      <th>REF_CODE</th>\n",
       "      <th>DIST</th>\n",
       "      <th>IMPUTED</th>\n",
       "    </tr>\n",
       "  </thead>\n",
       "  <tbody>\n",
       "    <tr>\n",
       "      <th>0</th>\n",
       "      <td>25</td>\n",
       "      <td>32,170.00</td>\n",
       "      <td>0.00</td>\n",
       "      <td>NaN</td>\n",
       "    </tr>\n",
       "    <tr>\n",
       "      <th>1</th>\n",
       "      <td>105</td>\n",
       "      <td>5,940.00</td>\n",
       "      <td>0.41</td>\n",
       "      <td>NaN</td>\n",
       "    </tr>\n",
       "    <tr>\n",
       "      <th>2</th>\n",
       "      <td>106</td>\n",
       "      <td>3,313.00</td>\n",
       "      <td>11.13</td>\n",
       "      <td>NaN</td>\n",
       "    </tr>\n",
       "    <tr>\n",
       "      <th>4</th>\n",
       "      <td>137</td>\n",
       "      <td>3,313.00</td>\n",
       "      <td>11.29</td>\n",
       "      <td>NaN</td>\n",
       "    </tr>\n",
       "    <tr>\n",
       "      <th>5</th>\n",
       "      <td>1760</td>\n",
       "      <td>6,513.00</td>\n",
       "      <td>5.98</td>\n",
       "      <td>NaN</td>\n",
       "    </tr>\n",
       "    <tr>\n",
       "      <th>...</th>\n",
       "      <td>...</td>\n",
       "      <td>...</td>\n",
       "      <td>...</td>\n",
       "      <td>...</td>\n",
       "    </tr>\n",
       "    <tr>\n",
       "      <th>2296</th>\n",
       "      <td>6814</td>\n",
       "      <td>273.00</td>\n",
       "      <td>51.12</td>\n",
       "      <td>NaN</td>\n",
       "    </tr>\n",
       "    <tr>\n",
       "      <th>2297</th>\n",
       "      <td>7045</td>\n",
       "      <td>273.00</td>\n",
       "      <td>15.07</td>\n",
       "      <td>NaN</td>\n",
       "    </tr>\n",
       "    <tr>\n",
       "      <th>2298</th>\n",
       "      <td>7696</td>\n",
       "      <td>273.00</td>\n",
       "      <td>29.09</td>\n",
       "      <td>NaN</td>\n",
       "    </tr>\n",
       "    <tr>\n",
       "      <th>2299</th>\n",
       "      <td>8861</td>\n",
       "      <td>273.00</td>\n",
       "      <td>16.35</td>\n",
       "      <td>NaN</td>\n",
       "    </tr>\n",
       "    <tr>\n",
       "      <th>2300</th>\n",
       "      <td>27898</td>\n",
       "      <td>237.00</td>\n",
       "      <td>41.68</td>\n",
       "      <td>MUNI</td>\n",
       "    </tr>\n",
       "  </tbody>\n",
       "</table>\n",
       "<p>5925 rows × 4 columns</p>\n",
       "</div>"
      ],
      "text/plain": [
       "      SHORT_HFCODE  REF_CODE  DIST IMPUTED\n",
       "0               25 32,170.00  0.00     NaN\n",
       "1              105  5,940.00  0.41     NaN\n",
       "2              106  3,313.00 11.13     NaN\n",
       "4              137  3,313.00 11.29     NaN\n",
       "5             1760  6,513.00  5.98     NaN\n",
       "...            ...       ...   ...     ...\n",
       "2296          6814    273.00 51.12     NaN\n",
       "2297          7045    273.00 15.07     NaN\n",
       "2298          7696    273.00 29.09     NaN\n",
       "2299          8861    273.00 16.35     NaN\n",
       "2300         27898    237.00 41.68    MUNI\n",
       "\n",
       "[5925 rows x 4 columns]"
      ]
     },
     "execution_count": 37,
     "metadata": {},
     "output_type": "execute_result"
    }
   ],
   "source": [
    "rhu_edges[['SHORT_HFCODE', 'REF_CODE', 'DIST', 'IMPUTED']]"
   ]
  },
  {
   "cell_type": "code",
   "execution_count": 38,
   "metadata": {
    "ExecuteTime": {
     "end_time": "2020-08-10T18:48:50.398837Z",
     "start_time": "2020-08-10T18:48:50.391855Z"
    }
   },
   "outputs": [],
   "source": [
    "rhu_edges = rhu_edges[['SHORT_HFCODE', 'REF_CODE', 'DIST', 'IMPUTED']].append(df_neighbors_edges)"
   ]
  },
  {
   "cell_type": "code",
   "execution_count": 39,
   "metadata": {
    "ExecuteTime": {
     "end_time": "2020-08-10T18:48:50.527493Z",
     "start_time": "2020-08-10T18:48:50.520497Z"
    }
   },
   "outputs": [],
   "source": [
    "rhu_edges.loc[rhu_edges['DIST'] > outliers[1], 'DIST'] = np.nan\n",
    "rhu_edges.loc[rhu_edges['DIST']==0, 'DIST'] = 1"
   ]
  },
  {
   "cell_type": "code",
   "execution_count": 40,
   "metadata": {
    "ExecuteTime": {
     "end_time": "2020-08-10T18:48:50.662103Z",
     "start_time": "2020-08-10T18:48:50.648138Z"
    }
   },
   "outputs": [
    {
     "data": {
      "text/html": [
       "<div>\n",
       "<style scoped>\n",
       "    .dataframe tbody tr th:only-of-type {\n",
       "        vertical-align: middle;\n",
       "    }\n",
       "\n",
       "    .dataframe tbody tr th {\n",
       "        vertical-align: top;\n",
       "    }\n",
       "\n",
       "    .dataframe thead th {\n",
       "        text-align: right;\n",
       "    }\n",
       "</style>\n",
       "<table border=\"1\" class=\"dataframe\">\n",
       "  <thead>\n",
       "    <tr style=\"text-align: right;\">\n",
       "      <th></th>\n",
       "      <th>DIST</th>\n",
       "      <th>REF_CODE</th>\n",
       "      <th>SHORT_HFCODE</th>\n",
       "    </tr>\n",
       "  </thead>\n",
       "  <tbody>\n",
       "    <tr>\n",
       "      <th>count</th>\n",
       "      <td>12,157.00</td>\n",
       "      <td>12,330.00</td>\n",
       "      <td>12,330.00</td>\n",
       "    </tr>\n",
       "    <tr>\n",
       "      <th>mean</th>\n",
       "      <td>16.11</td>\n",
       "      <td>4,600.62</td>\n",
       "      <td>5,816.23</td>\n",
       "    </tr>\n",
       "    <tr>\n",
       "      <th>std</th>\n",
       "      <td>16.55</td>\n",
       "      <td>7,159.54</td>\n",
       "      <td>6,469.21</td>\n",
       "    </tr>\n",
       "    <tr>\n",
       "      <th>min</th>\n",
       "      <td>0.00</td>\n",
       "      <td>1.00</td>\n",
       "      <td>10.00</td>\n",
       "    </tr>\n",
       "    <tr>\n",
       "      <th>25%</th>\n",
       "      <td>3.39</td>\n",
       "      <td>622.00</td>\n",
       "      <td>2,307.00</td>\n",
       "    </tr>\n",
       "    <tr>\n",
       "      <th>50%</th>\n",
       "      <td>11.07</td>\n",
       "      <td>2,850.00</td>\n",
       "      <td>4,234.00</td>\n",
       "    </tr>\n",
       "    <tr>\n",
       "      <th>75%</th>\n",
       "      <td>22.87</td>\n",
       "      <td>5,139.00</td>\n",
       "      <td>7,062.00</td>\n",
       "    </tr>\n",
       "    <tr>\n",
       "      <th>max</th>\n",
       "      <td>88.57</td>\n",
       "      <td>261,101.00</td>\n",
       "      <td>36,628.00</td>\n",
       "    </tr>\n",
       "  </tbody>\n",
       "</table>\n",
       "</div>"
      ],
      "text/plain": [
       "           DIST   REF_CODE  SHORT_HFCODE\n",
       "count 12,157.00  12,330.00     12,330.00\n",
       "mean      16.11   4,600.62      5,816.23\n",
       "std       16.55   7,159.54      6,469.21\n",
       "min        0.00       1.00         10.00\n",
       "25%        3.39     622.00      2,307.00\n",
       "50%       11.07   2,850.00      4,234.00\n",
       "75%       22.87   5,139.00      7,062.00\n",
       "max       88.57 261,101.00     36,628.00"
      ]
     },
     "execution_count": 40,
     "metadata": {},
     "output_type": "execute_result"
    }
   ],
   "source": [
    "rhu_edges.describe()"
   ]
  },
  {
   "cell_type": "markdown",
   "metadata": {},
   "source": [
    "#### BHS\n",
    "The same processing done for the rural health units is performed for the barangay health stations."
   ]
  },
  {
   "cell_type": "code",
   "execution_count": 41,
   "metadata": {
    "ExecuteTime": {
     "end_time": "2020-08-10T18:48:58.675223Z",
     "start_time": "2020-08-10T18:48:50.784773Z"
    }
   },
   "outputs": [],
   "source": [
    "bhs = pd.read_excel('bhs2018.xlsx', sheet_name='MAIN', na_values='None')"
   ]
  },
  {
   "cell_type": "code",
   "execution_count": 43,
   "metadata": {
    "ExecuteTime": {
     "end_time": "2020-08-10T18:51:12.857549Z",
     "start_time": "2020-08-10T18:51:02.056784Z"
    }
   },
   "outputs": [],
   "source": [
    "str_cols = ['HF_NAME', 'REGION', 'PROVINCE', 'MUNI_CITY', 'BRGY',\n",
    "            'STREET_NAME', 'BUILDING', 'FACILITY_HEAD', 'DETACHED', \n",
    "            'BRGYS', 'RHU_NAME', 'RHU_SAME_CTY', 'RHU_NOTSAME_CTY',\n",
    "            'AMB_ACCESS']\n",
    "code_cols = ['id', 'RHU_CODE']\n",
    "float_cols = ['RHU_DIST', 'RHU_TRAVEL']\n",
    "# int_cols = ['CATCHMENT', 'MD_NO', 'MD_AUG', 'MD_TOTAL',\n",
    "#        'MD_FT', 'MD_PT', 'MD_VISIT', 'RN_NO', 'RN_AUG', 'RN_TOTAL', 'RN_FT',\n",
    "#        'RN_PT', 'RN_VISIT', 'MW_NO', 'MW_AUG', 'MW_TOTAL', 'MW_FT', 'MW_PT',\n",
    "#        'MW_VISIT', 'BHW_NO']\n",
    "\n",
    "bhs[str_cols] = bhs[str_cols].apply(lambda x: x.str.upper().str.strip())\n",
    "bhs[code_cols] = bhs[code_cols].fillna(0).astype(int)\n",
    "bhs[float_cols] = bhs[float_cols].astype(float)\n",
    "\n",
    "bhs[str_cols] = bhs[str_cols].fillna('UNKNOWN')\n",
    "bhs['SHORT_HFCODE'] = bhs['HF_CODE'].apply(lambda x: int(x[-6:]))\n",
    "bhs.to_excel('cleaned/bhs_cleaned.xlsx')"
   ]
  },
  {
   "cell_type": "markdown",
   "metadata": {},
   "source": [
    "##### Fill missing RHU Codes"
   ]
  },
  {
   "cell_type": "code",
   "execution_count": 44,
   "metadata": {
    "ExecuteTime": {
     "end_time": "2020-08-10T18:51:20.683017Z",
     "start_time": "2020-08-10T18:51:13.803276Z"
    }
   },
   "outputs": [],
   "source": [
    "bhs = pd.read_excel('cleaned/bhs_cleaned.xlsx')"
   ]
  },
  {
   "cell_type": "code",
   "execution_count": 45,
   "metadata": {
    "ExecuteTime": {
     "end_time": "2020-08-10T18:51:20.925293Z",
     "start_time": "2020-08-10T18:51:20.827516Z"
    }
   },
   "outputs": [],
   "source": [
    "bhs.loc[bhs['RHU_CODE']==0, 'REF_CODE'] = bhs[bhs['RHU_CODE']==0]['RHU_NAME'].map(HF_dict)"
   ]
  },
  {
   "cell_type": "code",
   "execution_count": 65,
   "metadata": {
    "ExecuteTime": {
     "end_time": "2020-08-10T19:02:20.789476Z",
     "start_time": "2020-08-10T19:02:20.724633Z"
    }
   },
   "outputs": [],
   "source": [
    "temp = bhs[['SHORT_HFCODE', 'REF_CODE']].dropna().copy()\n",
    "temp_dict = pd.DataFrame(temp.apply(lambda x: min([(vincenty((latlong_dict['LAT'][x['SHORT_HFCODE']] if latlong_dict['LAT'][x['SHORT_HFCODE']]==latlong_dict['LAT'][x['SHORT_HFCODE']] else lat_min-10,\n",
    "                                                  latlong_dict['LONG'][x['SHORT_HFCODE']] if latlong_dict['LONG'][x['SHORT_HFCODE']]==latlong_dict['LONG'][x['SHORT_HFCODE']] else long_min-20), \n",
    "                                                 (latlong_dict['LAT'][i] if latlong_dict['LAT'][i]==latlong_dict['LAT'][i] else lat_max+10,\n",
    "                                                  latlong_dict['LONG'][i] if latlong_dict['LONG'][i]==latlong_dict['LONG'][i] else long_max+20)).km, i, x['SHORT_HFCODE']) for i in x['REF_CODE']], key=lambda x: x[0]), axis=1).tolist()).set_index(2).to_dict()\n",
    "\n",
    "bhs['REF_CODE'] = bhs['SHORT_HFCODE'].map(temp_dict[1])"
   ]
  },
  {
   "cell_type": "code",
   "execution_count": 66,
   "metadata": {
    "ExecuteTime": {
     "end_time": "2020-08-10T19:02:21.865066Z",
     "start_time": "2020-08-10T19:02:21.859115Z"
    }
   },
   "outputs": [],
   "source": [
    "bhs.dropna(subset=['REF_CODE'], inplace=True)"
   ]
  },
  {
   "cell_type": "code",
   "execution_count": 67,
   "metadata": {
    "ExecuteTime": {
     "end_time": "2020-08-10T19:02:22.334020Z",
     "start_time": "2020-08-10T19:02:22.331028Z"
    }
   },
   "outputs": [],
   "source": [
    "cols = ['SHORT_HFCODE', 'REF_CODE']"
   ]
  },
  {
   "cell_type": "code",
   "execution_count": 68,
   "metadata": {
    "ExecuteTime": {
     "end_time": "2020-08-10T19:02:22.680157Z",
     "start_time": "2020-08-10T19:02:22.675170Z"
    }
   },
   "outputs": [],
   "source": [
    "bhs = bhs[cols]\n",
    "bhs['HF_TYPE'] = 'BHS'"
   ]
  },
  {
   "cell_type": "code",
   "execution_count": 69,
   "metadata": {
    "ExecuteTime": {
     "end_time": "2020-08-10T19:02:23.379285Z",
     "start_time": "2020-08-10T19:02:23.227554Z"
    }
   },
   "outputs": [],
   "source": [
    "bhs['source_lat'] = bhs['SHORT_HFCODE'].map(latlong_dict['LAT'])\n",
    "bhs['source_long'] = bhs['SHORT_HFCODE'].map(latlong_dict['LONG'])\n",
    "bhs['target_lat'] = bhs['REF_CODE'].map(latlong_dict['LAT'])\n",
    "bhs['target_long'] = bhs['REF_CODE'].map(latlong_dict['LONG'])"
   ]
  },
  {
   "cell_type": "code",
   "execution_count": 70,
   "metadata": {
    "ExecuteTime": {
     "end_time": "2020-08-10T19:02:24.574132Z",
     "start_time": "2020-08-10T19:02:24.557179Z"
    }
   },
   "outputs": [],
   "source": [
    "bhs.loc[~((bhs['source_lat'].between(lat_min, lat_max)) & (bhs['source_long'].between(\n",
    "    long_min, long_max))), ['source_lat', 'source_long']] = np.nan\n",
    "bhs.loc[~((bhs['target_lat'].between(lat_min, lat_max)) & (bhs['target_long'].between(\n",
    "    long_min, long_max))), ['target_lat', 'target_long']] = np.nan"
   ]
  },
  {
   "cell_type": "code",
   "execution_count": 71,
   "metadata": {
    "ExecuteTime": {
     "end_time": "2020-08-10T19:02:25.823250Z",
     "start_time": "2020-08-10T19:02:25.784322Z"
    }
   },
   "outputs": [],
   "source": [
    "missing_latlong = ~bhs[['source_lat', 'source_long', 'target_lat', 'target_long']].isnull().sum(axis=1).astype(bool)\n",
    "bhs.loc[missing_latlong, 'DIST'] = bhs.loc[missing_latlong, ['source_lat', 'source_long', 'target_lat', 'target_long']].apply(lambda x: vincenty((x['source_lat'], x['source_long']), (x['target_lat'], x['target_long'])).km, axis=1)"
   ]
  },
  {
   "cell_type": "code",
   "execution_count": 72,
   "metadata": {
    "ExecuteTime": {
     "end_time": "2020-08-10T19:02:26.913271Z",
     "start_time": "2020-08-10T19:02:26.905289Z"
    }
   },
   "outputs": [],
   "source": [
    "bhs.loc[bhs['DIST']==0, 'DIST'] = 1"
   ]
  },
  {
   "cell_type": "code",
   "execution_count": 73,
   "metadata": {
    "ExecuteTime": {
     "end_time": "2020-08-10T19:02:27.444692Z",
     "start_time": "2020-08-10T19:02:27.355434Z"
    }
   },
   "outputs": [
    {
     "data": {
      "image/png": "[encoded data removed]",
      "text/plain": [
       "<Figure size 432x288 with 1 Axes>"
      ]
     },
     "metadata": {
      "needs_background": "light"
     },
     "output_type": "display_data"
    }
   ],
   "source": [
    "B = bhs.boxplot('DIST', return_type='both')"
   ]
  },
  {
   "cell_type": "code",
   "execution_count": 74,
   "metadata": {
    "ExecuteTime": {
     "end_time": "2020-08-10T19:02:27.764566Z",
     "start_time": "2020-08-10T19:02:27.760577Z"
    }
   },
   "outputs": [],
   "source": [
    "outliers = [i.get_ydata()[1] for i in B.lines['whiskers']]"
   ]
  },
  {
   "cell_type": "code",
   "execution_count": 75,
   "metadata": {
    "ExecuteTime": {
     "end_time": "2020-08-10T19:02:28.264561Z",
     "start_time": "2020-08-10T19:02:28.260572Z"
    }
   },
   "outputs": [
    {
     "data": {
      "text/plain": [
       "[0.0024470114519412256, 16.988283224538524]"
      ]
     },
     "execution_count": 75,
     "metadata": {},
     "output_type": "execute_result"
    }
   ],
   "source": [
    "outliers"
   ]
  },
  {
   "cell_type": "code",
   "execution_count": 76,
   "metadata": {
    "ExecuteTime": {
     "end_time": "2020-08-10T19:02:28.624570Z",
     "start_time": "2020-08-10T19:02:28.616592Z"
    }
   },
   "outputs": [],
   "source": [
    "outliers = [i.get_ydata()[1] for i in B.lines['whiskers']]\n",
    "bhs.loc[bhs['DIST'] > outliers[1], 'DIST'] = np.nan"
   ]
  },
  {
   "cell_type": "code",
   "execution_count": 77,
   "metadata": {
    "ExecuteTime": {
     "end_time": "2020-08-10T19:02:28.917558Z",
     "start_time": "2020-08-10T19:02:28.898608Z"
    }
   },
   "outputs": [],
   "source": [
    "muni_dict = HF_list[['SHORT_HFCODE', 'MUNI_CITY', 'PROVINCE']].set_index('SHORT_HFCODE').to_dict()"
   ]
  },
  {
   "cell_type": "code",
   "execution_count": 78,
   "metadata": {
    "ExecuteTime": {
     "end_time": "2020-08-10T19:02:31.109115Z",
     "start_time": "2020-08-10T19:02:31.075036Z"
    }
   },
   "outputs": [],
   "source": [
    "bhs['muni_city'] = bhs['SHORT_HFCODE'].map(muni_dict['MUNI_CITY'])\n",
    "mean_dist_city = bhs.groupby('muni_city')['DIST'].mean().to_dict()\n",
    "\n",
    "imputed_muni = ~(bhs.loc[bhs['DIST'].isnull(), 'muni_city'].map(mean_dist_city).isnull())\n",
    "imputed_muni = imputed_muni[imputed_muni].index\n",
    "bhs.loc[imputed_muni, \"IMPUTED\"] = \"MUNI\" \n",
    "bhs.loc[bhs['DIST'].isnull(), 'DIST'] = bhs.loc[bhs['DIST'].isnull(), 'muni_city'].map(mean_dist_city)"
   ]
  },
  {
   "cell_type": "code",
   "execution_count": 79,
   "metadata": {
    "ExecuteTime": {
     "end_time": "2020-08-10T19:02:31.330394Z",
     "start_time": "2020-08-10T19:02:31.307416Z"
    }
   },
   "outputs": [],
   "source": [
    "bhs['province'] = bhs['SHORT_HFCODE'].map(muni_dict['PROVINCE'])\n",
    "mean_dist_prov = bhs.groupby('province')['DIST'].mean().to_dict()\n",
    "\n",
    "imputed_prov = ~(bhs.loc[bhs['DIST'].isnull(), 'province'].map(mean_dist_prov).isnull())\n",
    "imputed_prov = imputed_prov[imputed_prov].index\n",
    "\n",
    "bhs.loc[imputed_prov, \"IMPUTED\"] = \"PROV\"\n",
    "bhs.loc[bhs['DIST'].isnull(), 'DIST'] = bhs.loc[bhs['DIST'].isnull(), 'province'].map(mean_dist_prov)"
   ]
  },
  {
   "cell_type": "code",
   "execution_count": 80,
   "metadata": {
    "ExecuteTime": {
     "end_time": "2020-08-10T19:02:31.536804Z",
     "start_time": "2020-08-10T19:02:31.531817Z"
    }
   },
   "outputs": [
    {
     "data": {
      "text/plain": [
       "6"
      ]
     },
     "execution_count": 80,
     "metadata": {},
     "output_type": "execute_result"
    }
   ],
   "source": [
    "bhs['DIST'].isnull().sum()"
   ]
  },
  {
   "cell_type": "code",
   "execution_count": 81,
   "metadata": {
    "ExecuteTime": {
     "end_time": "2020-08-10T19:02:31.742252Z",
     "start_time": "2020-08-10T19:02:31.737267Z"
    }
   },
   "outputs": [],
   "source": [
    "bhs.dropna(subset=['DIST'], inplace=True)"
   ]
  },
  {
   "cell_type": "code",
   "execution_count": 82,
   "metadata": {
    "ExecuteTime": {
     "end_time": "2020-08-10T19:02:31.948701Z",
     "start_time": "2020-08-10T19:02:31.943715Z"
    }
   },
   "outputs": [],
   "source": [
    "bhs = bhs[['SHORT_HFCODE', 'REF_CODE', 'DIST', 'IMPUTED']]"
   ]
  },
  {
   "cell_type": "code",
   "execution_count": 83,
   "metadata": {
    "ExecuteTime": {
     "end_time": "2020-08-10T19:02:32.134205Z",
     "start_time": "2020-08-10T19:02:32.130217Z"
    }
   },
   "outputs": [],
   "source": [
    "bhs = bhs[bhs['REF_CODE'] != bhs['SHORT_HFCODE']]"
   ]
  },
  {
   "cell_type": "code",
   "execution_count": 84,
   "metadata": {
    "ExecuteTime": {
     "end_time": "2020-08-10T19:02:32.330716Z",
     "start_time": "2020-08-10T19:02:32.317717Z"
    }
   },
   "outputs": [
    {
     "data": {
      "text/html": [
       "<div>\n",
       "<style scoped>\n",
       "    .dataframe tbody tr th:only-of-type {\n",
       "        vertical-align: middle;\n",
       "    }\n",
       "\n",
       "    .dataframe tbody tr th {\n",
       "        vertical-align: top;\n",
       "    }\n",
       "\n",
       "    .dataframe thead th {\n",
       "        text-align: right;\n",
       "    }\n",
       "</style>\n",
       "<table border=\"1\" class=\"dataframe\">\n",
       "  <thead>\n",
       "    <tr style=\"text-align: right;\">\n",
       "      <th></th>\n",
       "      <th>DIST</th>\n",
       "      <th>IMPUTED</th>\n",
       "      <th>REF_CODE</th>\n",
       "      <th>SHORT_HFCODE</th>\n",
       "    </tr>\n",
       "  </thead>\n",
       "  <tbody>\n",
       "    <tr>\n",
       "      <th>0</th>\n",
       "      <td>0.00</td>\n",
       "      <td>NaN</td>\n",
       "      <td>32,170.00</td>\n",
       "      <td>25</td>\n",
       "    </tr>\n",
       "    <tr>\n",
       "      <th>1</th>\n",
       "      <td>0.41</td>\n",
       "      <td>NaN</td>\n",
       "      <td>5,940.00</td>\n",
       "      <td>105</td>\n",
       "    </tr>\n",
       "    <tr>\n",
       "      <th>2</th>\n",
       "      <td>11.13</td>\n",
       "      <td>NaN</td>\n",
       "      <td>3,313.00</td>\n",
       "      <td>106</td>\n",
       "    </tr>\n",
       "    <tr>\n",
       "      <th>4</th>\n",
       "      <td>11.29</td>\n",
       "      <td>NaN</td>\n",
       "      <td>3,313.00</td>\n",
       "      <td>137</td>\n",
       "    </tr>\n",
       "    <tr>\n",
       "      <th>5</th>\n",
       "      <td>5.98</td>\n",
       "      <td>NaN</td>\n",
       "      <td>6,513.00</td>\n",
       "      <td>1760</td>\n",
       "    </tr>\n",
       "    <tr>\n",
       "      <th>...</th>\n",
       "      <td>...</td>\n",
       "      <td>...</td>\n",
       "      <td>...</td>\n",
       "      <td>...</td>\n",
       "    </tr>\n",
       "    <tr>\n",
       "      <th>19297</th>\n",
       "      <td>8.88</td>\n",
       "      <td>NaN</td>\n",
       "      <td>7,207.00</td>\n",
       "      <td>17805</td>\n",
       "    </tr>\n",
       "    <tr>\n",
       "      <th>19325</th>\n",
       "      <td>3.56</td>\n",
       "      <td>NaN</td>\n",
       "      <td>79.00</td>\n",
       "      <td>17893</td>\n",
       "    </tr>\n",
       "    <tr>\n",
       "      <th>19345</th>\n",
       "      <td>0.65</td>\n",
       "      <td>NaN</td>\n",
       "      <td>27,529.00</td>\n",
       "      <td>27530</td>\n",
       "    </tr>\n",
       "    <tr>\n",
       "      <th>19367</th>\n",
       "      <td>1.68</td>\n",
       "      <td>NaN</td>\n",
       "      <td>169.00</td>\n",
       "      <td>29236</td>\n",
       "    </tr>\n",
       "    <tr>\n",
       "      <th>19368</th>\n",
       "      <td>12.67</td>\n",
       "      <td>NaN</td>\n",
       "      <td>169.00</td>\n",
       "      <td>29238</td>\n",
       "    </tr>\n",
       "  </tbody>\n",
       "</table>\n",
       "<p>12793 rows × 4 columns</p>\n",
       "</div>"
      ],
      "text/plain": [
       "       DIST IMPUTED  REF_CODE  SHORT_HFCODE\n",
       "0      0.00     NaN 32,170.00            25\n",
       "1      0.41     NaN  5,940.00           105\n",
       "2     11.13     NaN  3,313.00           106\n",
       "4     11.29     NaN  3,313.00           137\n",
       "5      5.98     NaN  6,513.00          1760\n",
       "...     ...     ...       ...           ...\n",
       "19297  8.88     NaN  7,207.00         17805\n",
       "19325  3.56     NaN     79.00         17893\n",
       "19345  0.65     NaN 27,529.00         27530\n",
       "19367  1.68     NaN    169.00         29236\n",
       "19368 12.67     NaN    169.00         29238\n",
       "\n",
       "[12793 rows x 4 columns]"
      ]
     },
     "execution_count": 84,
     "metadata": {},
     "output_type": "execute_result"
    }
   ],
   "source": [
    "edge_list = rhu_edges.append(bhs)\n",
    "edge_list"
   ]
  },
  {
   "cell_type": "code",
   "execution_count": 85,
   "metadata": {
    "ExecuteTime": {
     "end_time": "2020-08-10T19:02:35.098781Z",
     "start_time": "2020-08-10T19:02:35.077802Z"
    }
   },
   "outputs": [],
   "source": [
    "edge_list = edge_list.groupby(['REF_CODE', 'SHORT_HFCODE'])[['IMPUTED', 'DIST']].agg({'DIST':'mean', 'IMPUTED':'first'}).reset_index()"
   ]
  },
  {
   "cell_type": "code",
   "execution_count": 86,
   "metadata": {
    "ExecuteTime": {
     "end_time": "2020-08-10T19:02:39.737440Z",
     "start_time": "2020-08-10T19:02:39.182223Z"
    }
   },
   "outputs": [],
   "source": [
    "edge_list.to_excel('edge_list.xlsx', index=False)"
   ]
  },
  {
   "cell_type": "markdown",
   "metadata": {},
   "source": [
    "## Network Analysis\n",
    "\n",
    "Using the facilities as nodes and the referral as edges, a tripartite network of BHS, RHU, and hospitals is created. The characteristics of the healthcare provider network for different regions are characterized and explored in this section. The main metric used in the analysis is degree and path length. "
   ]
  },
  {
   "cell_type": "code",
   "execution_count": 87,
   "metadata": {
    "ExecuteTime": {
     "end_time": "2020-08-10T19:02:40.940396Z",
     "start_time": "2020-08-10T19:02:40.935410Z"
    }
   },
   "outputs": [],
   "source": [
    "import pandas as pd\n",
    "import networkx as nx\n",
    "%matplotlib inline\n",
    "import matplotlib.pyplot as plt\n",
    "import numpy as np\n",
    "import itertools\n",
    "import random"
   ]
  },
  {
   "cell_type": "code",
   "execution_count": 88,
   "metadata": {
    "ExecuteTime": {
     "end_time": "2020-08-10T19:02:44.867836Z",
     "start_time": "2020-08-10T19:02:42.247832Z"
    }
   },
   "outputs": [],
   "source": [
    "nodes = pd.read_excel(\"nodeslist.xlsx\")\n",
    "edges = pd.read_excel(\"edge_list.xlsx\")"
   ]
  },
  {
   "cell_type": "markdown",
   "metadata": {},
   "source": [
    "For the succeeding analysis, the imputed distances using the nearest neighbors are not included."
   ]
  },
  {
   "cell_type": "code",
   "execution_count": 89,
   "metadata": {
    "ExecuteTime": {
     "end_time": "2020-08-10T19:02:45.780011Z",
     "start_time": "2020-08-10T19:02:45.774029Z"
    }
   },
   "outputs": [],
   "source": [
    "edges = edges[(edges['IMPUTED']!='NEAREST_NEIGHBOR') | (edges['SHORT_HFCODE']!=6108)]"
   ]
  },
  {
   "cell_type": "code",
   "execution_count": 90,
   "metadata": {
    "ExecuteTime": {
     "end_time": "2020-08-10T19:02:46.101564Z",
     "start_time": "2020-08-10T19:02:46.095581Z"
    }
   },
   "outputs": [],
   "source": [
    "nodes.drop(['LAT', 'LONG'], axis=1, inplace=True)"
   ]
  },
  {
   "cell_type": "code",
   "execution_count": 91,
   "metadata": {
    "ExecuteTime": {
     "end_time": "2020-08-10T19:02:46.463478Z",
     "start_time": "2020-08-10T19:02:46.419596Z"
    }
   },
   "outputs": [],
   "source": [
    "G = nx.from_pandas_edgelist(edges, source='SHORT_HFCODE', target='REF_CODE', edge_attr='DIST', create_using=nx.DiGraph)"
   ]
  },
  {
   "cell_type": "code",
   "execution_count": 92,
   "metadata": {
    "ExecuteTime": {
     "end_time": "2020-08-10T19:02:46.779765Z",
     "start_time": "2020-08-10T19:02:46.776807Z"
    }
   },
   "outputs": [],
   "source": [
    "nodes.index = nodes['SHORT_HFCODE']"
   ]
  },
  {
   "cell_type": "code",
   "execution_count": 93,
   "metadata": {
    "ExecuteTime": {
     "end_time": "2020-08-10T19:02:47.353234Z",
     "start_time": "2020-08-10T19:02:47.297384Z"
    }
   },
   "outputs": [],
   "source": [
    "node_attrib = nodes.to_dict()"
   ]
  },
  {
   "cell_type": "code",
   "execution_count": 94,
   "metadata": {
    "ExecuteTime": {
     "end_time": "2020-08-10T19:02:48.018797Z",
     "start_time": "2020-08-10T19:02:47.818175Z"
    }
   },
   "outputs": [],
   "source": [
    "for col in nodes.columns:\n",
    "    nx.set_node_attributes(G, node_attrib[col], col)"
   ]
  },
  {
   "cell_type": "code",
   "execution_count": 95,
   "metadata": {
    "ExecuteTime": {
     "end_time": "2020-08-10T19:02:48.273956Z",
     "start_time": "2020-08-10T19:02:48.265976Z"
    }
   },
   "outputs": [],
   "source": [
    "bhs_nodes = [i for i, j in G.nodes(data=True) if j.get('HF_TYPE')=='BARANGAY HEALTH STATION']\n",
    "rhu_nodes = [i for i, j in G.nodes(data=True) if j.get('HF_TYPE')=='RURAL HEALTH UNIT']\n",
    "hosp_nodes = [i for i, j in G.nodes(data=True) if ((j.get('HF_TYPE')=='HOSPITAL') or (j.get('HF_TYPE')=='INFIRMARY'))]"
   ]
  },
  {
   "cell_type": "markdown",
   "metadata": {},
   "source": [
    "### Degree (Hospital)"
   ]
  },
  {
   "cell_type": "code",
   "execution_count": 96,
   "metadata": {
    "ExecuteTime": {
     "end_time": "2020-08-10T19:02:50.919286Z",
     "start_time": "2020-08-10T19:02:48.967089Z"
    }
   },
   "outputs": [],
   "source": [
    "import seaborn as sns"
   ]
  },
  {
   "cell_type": "code",
   "execution_count": 97,
   "metadata": {
    "ExecuteTime": {
     "end_time": "2020-08-10T19:02:51.244458Z",
     "start_time": "2020-08-10T19:02:51.165629Z"
    }
   },
   "outputs": [],
   "source": [
    "region_deg = {}\n",
    "for region in nodes['REGION'].unique():\n",
    "    deg = list(dict(G.in_degree(nodes[((nodes['HF_TYPE']=='INFIRMARY') | (nodes['HF_TYPE']=='HOSPITAL')) & (nodes['REGION']==region)]['SHORT_HFCODE'])).values())\n",
    "    region_deg[region] = deg"
   ]
  },
  {
   "cell_type": "code",
   "execution_count": 98,
   "metadata": {
    "ExecuteTime": {
     "end_time": "2020-08-10T19:02:51.491991Z",
     "start_time": "2020-08-10T19:02:51.487004Z"
    }
   },
   "outputs": [],
   "source": [
    "df_deg = pd.DataFrame(list(itertools.chain(*[list(zip(len(j) * [i], j)) for i, j in region_deg.items()]))).rename({0:'Region', 1:'Degree'}, axis=1)#.boxplot(by=0)"
   ]
  },
  {
   "cell_type": "code",
   "execution_count": 99,
   "metadata": {
    "ExecuteTime": {
     "end_time": "2020-08-10T19:02:51.751267Z",
     "start_time": "2020-08-10T19:02:51.747324Z"
    }
   },
   "outputs": [],
   "source": [
    "region_map = {'AUTONOMOUS REGION IN MUSLIM MINDANAO (ARMM)':'ARMM',\n",
    "       'CORDILLERA ADMINISTRA TIVE REGION (CAR)':'CAR',\n",
    "       'REGION IV-B (MIMAROPA)':'IV-B', 'NATIONAL CAPITAL REGION (NCR)':'NCR',\n",
    "       'REGION X (NORTHERN MINDANAO)':'X', 'REGION XI (DAVAO REGION)':'XI',\n",
    "       'REGION XII (SOCCSKSA RGEN)':'XII', 'REGION XIII (CARAGA)':'XIII',\n",
    "       'REGION I (ILOCOS REGION)':'I', 'REGION II (CAGAYAN VALLEY)':'II',\n",
    "       'REGION III (CENTRAL LUZON)':'III', 'REGION IV-A (CALABAR ZON)':'IV-A',\n",
    "       'REGION V (BICOL REGION)':'V', 'REGION VI (WESTERN VISAYAS)':'VI',\n",
    "       'REGION VII (CENTRAL VISAYAS)':'VII', 'REGION VIII (EASTERN VISAYAS)':'VIII',\n",
    "       'REGION IX (ZAMBOANGA PENINSULA)':'IX'}"
   ]
  },
  {
   "cell_type": "code",
   "execution_count": 100,
   "metadata": {
    "ExecuteTime": {
     "end_time": "2020-08-10T19:02:52.007614Z",
     "start_time": "2020-08-10T19:02:52.003619Z"
    }
   },
   "outputs": [],
   "source": [
    "df_deg['Region'] = df_deg['Region'].map(region_map)"
   ]
  },
  {
   "cell_type": "code",
   "execution_count": 101,
   "metadata": {
    "ExecuteTime": {
     "end_time": "2020-08-10T19:02:58.360982Z",
     "start_time": "2020-08-10T19:02:58.346030Z"
    }
   },
   "outputs": [
    {
     "data": {
      "text/html": [
       "<div>\n",
       "<style scoped>\n",
       "    .dataframe tbody tr th:only-of-type {\n",
       "        vertical-align: middle;\n",
       "    }\n",
       "\n",
       "    .dataframe tbody tr th {\n",
       "        vertical-align: top;\n",
       "    }\n",
       "\n",
       "    .dataframe thead th {\n",
       "        text-align: right;\n",
       "    }\n",
       "</style>\n",
       "<table border=\"1\" class=\"dataframe\">\n",
       "  <thead>\n",
       "    <tr style=\"text-align: right;\">\n",
       "      <th></th>\n",
       "      <th>max</th>\n",
       "      <th>mean</th>\n",
       "      <th>median</th>\n",
       "      <th>count</th>\n",
       "    </tr>\n",
       "    <tr>\n",
       "      <th>Region</th>\n",
       "      <th></th>\n",
       "      <th></th>\n",
       "      <th></th>\n",
       "      <th></th>\n",
       "    </tr>\n",
       "  </thead>\n",
       "  <tbody>\n",
       "    <tr>\n",
       "      <th>ARMM</th>\n",
       "      <td>24</td>\n",
       "      <td>6.89</td>\n",
       "      <td>4.50</td>\n",
       "      <td>18</td>\n",
       "    </tr>\n",
       "    <tr>\n",
       "      <th>CAR</th>\n",
       "      <td>32</td>\n",
       "      <td>9.42</td>\n",
       "      <td>6.50</td>\n",
       "      <td>36</td>\n",
       "    </tr>\n",
       "    <tr>\n",
       "      <th>I</th>\n",
       "      <td>68</td>\n",
       "      <td>15.97</td>\n",
       "      <td>10.00</td>\n",
       "      <td>36</td>\n",
       "    </tr>\n",
       "    <tr>\n",
       "      <th>II</th>\n",
       "      <td>58</td>\n",
       "      <td>10.26</td>\n",
       "      <td>7.00</td>\n",
       "      <td>34</td>\n",
       "    </tr>\n",
       "    <tr>\n",
       "      <th>III</th>\n",
       "      <td>153</td>\n",
       "      <td>18.53</td>\n",
       "      <td>13.00</td>\n",
       "      <td>57</td>\n",
       "    </tr>\n",
       "    <tr>\n",
       "      <th>IV-A</th>\n",
       "      <td>144</td>\n",
       "      <td>12.16</td>\n",
       "      <td>8.00</td>\n",
       "      <td>57</td>\n",
       "    </tr>\n",
       "    <tr>\n",
       "      <th>IV-B</th>\n",
       "      <td>59</td>\n",
       "      <td>8.52</td>\n",
       "      <td>6.00</td>\n",
       "      <td>33</td>\n",
       "    </tr>\n",
       "    <tr>\n",
       "      <th>IX</th>\n",
       "      <td>53</td>\n",
       "      <td>14.33</td>\n",
       "      <td>11.00</td>\n",
       "      <td>21</td>\n",
       "    </tr>\n",
       "    <tr>\n",
       "      <th>NCR</th>\n",
       "      <td>73</td>\n",
       "      <td>31.84</td>\n",
       "      <td>29.00</td>\n",
       "      <td>45</td>\n",
       "    </tr>\n",
       "    <tr>\n",
       "      <th>V</th>\n",
       "      <td>62</td>\n",
       "      <td>11.69</td>\n",
       "      <td>8.00</td>\n",
       "      <td>39</td>\n",
       "    </tr>\n",
       "    <tr>\n",
       "      <th>VI</th>\n",
       "      <td>96</td>\n",
       "      <td>10.76</td>\n",
       "      <td>7.00</td>\n",
       "      <td>50</td>\n",
       "    </tr>\n",
       "    <tr>\n",
       "      <th>VII</th>\n",
       "      <td>59</td>\n",
       "      <td>10.47</td>\n",
       "      <td>8.00</td>\n",
       "      <td>45</td>\n",
       "    </tr>\n",
       "    <tr>\n",
       "      <th>VIII</th>\n",
       "      <td>146</td>\n",
       "      <td>15.79</td>\n",
       "      <td>11.00</td>\n",
       "      <td>39</td>\n",
       "    </tr>\n",
       "    <tr>\n",
       "      <th>X</th>\n",
       "      <td>47</td>\n",
       "      <td>8.50</td>\n",
       "      <td>6.00</td>\n",
       "      <td>36</td>\n",
       "    </tr>\n",
       "    <tr>\n",
       "      <th>XI</th>\n",
       "      <td>30</td>\n",
       "      <td>7.90</td>\n",
       "      <td>6.00</td>\n",
       "      <td>21</td>\n",
       "    </tr>\n",
       "    <tr>\n",
       "      <th>XII</th>\n",
       "      <td>46</td>\n",
       "      <td>9.17</td>\n",
       "      <td>5.50</td>\n",
       "      <td>18</td>\n",
       "    </tr>\n",
       "    <tr>\n",
       "      <th>XIII</th>\n",
       "      <td>37</td>\n",
       "      <td>7.72</td>\n",
       "      <td>6.00</td>\n",
       "      <td>25</td>\n",
       "    </tr>\n",
       "  </tbody>\n",
       "</table>\n",
       "</div>"
      ],
      "text/plain": [
       "        max  mean  median  count\n",
       "Region                          \n",
       "ARMM     24  6.89    4.50     18\n",
       "CAR      32  9.42    6.50     36\n",
       "I        68 15.97   10.00     36\n",
       "II       58 10.26    7.00     34\n",
       "III     153 18.53   13.00     57\n",
       "IV-A    144 12.16    8.00     57\n",
       "IV-B     59  8.52    6.00     33\n",
       "IX       53 14.33   11.00     21\n",
       "NCR      73 31.84   29.00     45\n",
       "V        62 11.69    8.00     39\n",
       "VI       96 10.76    7.00     50\n",
       "VII      59 10.47    8.00     45\n",
       "VIII    146 15.79   11.00     39\n",
       "X        47  8.50    6.00     36\n",
       "XI       30  7.90    6.00     21\n",
       "XII      46  9.17    5.50     18\n",
       "XIII     37  7.72    6.00     25"
      ]
     },
     "execution_count": 101,
     "metadata": {},
     "output_type": "execute_result"
    }
   ],
   "source": [
    "(df_deg.groupby('Region')['Degree']\n",
    " .agg(['min', 'max', 'mean', 'median', 'count']).sort_values(by='Region')\n",
    " [['max', 'mean', 'median', 'count']])"
   ]
  },
  {
   "cell_type": "markdown",
   "metadata": {},
   "source": [
    "### Degree Outliers (Hospital)"
   ]
  },
  {
   "cell_type": "code",
   "execution_count": 103,
   "metadata": {
    "ExecuteTime": {
     "end_time": "2020-08-10T19:03:54.195964Z",
     "start_time": "2020-08-10T19:03:54.156065Z"
    }
   },
   "outputs": [],
   "source": [
    "upper_fence = df_deg.groupby('Region')['Degree'].quantile(0.75) + 1.5 * (df_deg.groupby('Region')['Degree'].quantile(0.75) - df_deg.groupby('Region')['Degree'].quantile(0.25))"
   ]
  },
  {
   "cell_type": "code",
   "execution_count": 104,
   "metadata": {
    "ExecuteTime": {
     "end_time": "2020-08-10T19:03:55.077650Z",
     "start_time": "2020-08-10T19:03:54.752517Z"
    }
   },
   "outputs": [
    {
     "data": {
      "image/png": "[encoded data removed]",
      "text/plain": [
       "<Figure size 720x576 with 1 Axes>"
      ]
     },
     "metadata": {
      "needs_background": "light"
     },
     "output_type": "display_data"
    }
   ],
   "source": [
    "fig, ax = plt.subplots(figsize=(10,8))\n",
    "\n",
    "# fig = plt.figure()\n",
    "sns.boxplot(data=df_deg, x='Region', y='Degree', palette='Blues',\n",
    "            order=upper_fence.sort_values(ascending=False).index)\n",
    "labels = [l.get_text() for l in ax.get_xticklabels()]\n",
    "ax.set_xticklabels(labels, ha='right');"
   ]
  },
  {
   "cell_type": "code",
   "execution_count": 106,
   "metadata": {
    "ExecuteTime": {
     "end_time": "2020-08-10T19:04:00.227833Z",
     "start_time": "2020-08-10T19:04:00.213871Z"
    }
   },
   "outputs": [
    {
     "data": {
      "text/html": [
       "<div>\n",
       "<style scoped>\n",
       "    .dataframe tbody tr th:only-of-type {\n",
       "        vertical-align: middle;\n",
       "    }\n",
       "\n",
       "    .dataframe tbody tr th {\n",
       "        vertical-align: top;\n",
       "    }\n",
       "\n",
       "    .dataframe thead th {\n",
       "        text-align: right;\n",
       "    }\n",
       "</style>\n",
       "<table border=\"1\" class=\"dataframe\">\n",
       "  <thead>\n",
       "    <tr style=\"text-align: right;\">\n",
       "      <th></th>\n",
       "      <th>min</th>\n",
       "      <th>max</th>\n",
       "      <th>mean</th>\n",
       "      <th>median</th>\n",
       "      <th>count</th>\n",
       "    </tr>\n",
       "    <tr>\n",
       "      <th>Region</th>\n",
       "      <th></th>\n",
       "      <th></th>\n",
       "      <th></th>\n",
       "      <th></th>\n",
       "      <th></th>\n",
       "    </tr>\n",
       "  </thead>\n",
       "  <tbody>\n",
       "    <tr>\n",
       "      <th>ARMM</th>\n",
       "      <td>4.88</td>\n",
       "      <td>4.88</td>\n",
       "      <td>4.88</td>\n",
       "      <td>4.88</td>\n",
       "      <td>1</td>\n",
       "    </tr>\n",
       "    <tr>\n",
       "      <th>CAR</th>\n",
       "      <td>1.62</td>\n",
       "      <td>12.62</td>\n",
       "      <td>7.38</td>\n",
       "      <td>7.62</td>\n",
       "      <td>4</td>\n",
       "    </tr>\n",
       "    <tr>\n",
       "      <th>I</th>\n",
       "      <td>1.38</td>\n",
       "      <td>39.38</td>\n",
       "      <td>26.62</td>\n",
       "      <td>32.88</td>\n",
       "      <td>4</td>\n",
       "    </tr>\n",
       "    <tr>\n",
       "      <th>II</th>\n",
       "      <td>3.75</td>\n",
       "      <td>37.75</td>\n",
       "      <td>16.75</td>\n",
       "      <td>8.75</td>\n",
       "      <td>3</td>\n",
       "    </tr>\n",
       "    <tr>\n",
       "      <th>III</th>\n",
       "      <td>6.50</td>\n",
       "      <td>125.50</td>\n",
       "      <td>40.17</td>\n",
       "      <td>28.00</td>\n",
       "      <td>6</td>\n",
       "    </tr>\n",
       "    <tr>\n",
       "      <th>IV-A</th>\n",
       "      <td>8.00</td>\n",
       "      <td>123.00</td>\n",
       "      <td>39.50</td>\n",
       "      <td>13.50</td>\n",
       "      <td>4</td>\n",
       "    </tr>\n",
       "    <tr>\n",
       "      <th>IV-B</th>\n",
       "      <td>2.00</td>\n",
       "      <td>45.00</td>\n",
       "      <td>14.25</td>\n",
       "      <td>5.00</td>\n",
       "      <td>4</td>\n",
       "    </tr>\n",
       "    <tr>\n",
       "      <th>IX</th>\n",
       "      <td>17.00</td>\n",
       "      <td>17.00</td>\n",
       "      <td>17.00</td>\n",
       "      <td>17.00</td>\n",
       "      <td>1</td>\n",
       "    </tr>\n",
       "    <tr>\n",
       "      <th>NCR</th>\n",
       "      <td>4.50</td>\n",
       "      <td>4.50</td>\n",
       "      <td>4.50</td>\n",
       "      <td>4.50</td>\n",
       "      <td>1</td>\n",
       "    </tr>\n",
       "    <tr>\n",
       "      <th>V</th>\n",
       "      <td>12.75</td>\n",
       "      <td>42.75</td>\n",
       "      <td>32.75</td>\n",
       "      <td>42.75</td>\n",
       "      <td>3</td>\n",
       "    </tr>\n",
       "    <tr>\n",
       "      <th>VI</th>\n",
       "      <td>7.62</td>\n",
       "      <td>76.62</td>\n",
       "      <td>27.38</td>\n",
       "      <td>12.62</td>\n",
       "      <td>4</td>\n",
       "    </tr>\n",
       "    <tr>\n",
       "      <th>VII</th>\n",
       "      <td>2.00</td>\n",
       "      <td>38.00</td>\n",
       "      <td>14.00</td>\n",
       "      <td>8.00</td>\n",
       "      <td>4</td>\n",
       "    </tr>\n",
       "    <tr>\n",
       "      <th>VIII</th>\n",
       "      <td>0.75</td>\n",
       "      <td>123.75</td>\n",
       "      <td>29.95</td>\n",
       "      <td>4.75</td>\n",
       "      <td>5</td>\n",
       "    </tr>\n",
       "    <tr>\n",
       "      <th>X</th>\n",
       "      <td>17.00</td>\n",
       "      <td>32.00</td>\n",
       "      <td>24.50</td>\n",
       "      <td>24.50</td>\n",
       "      <td>2</td>\n",
       "    </tr>\n",
       "    <tr>\n",
       "      <th>XI</th>\n",
       "      <td>11.50</td>\n",
       "      <td>13.50</td>\n",
       "      <td>12.50</td>\n",
       "      <td>12.50</td>\n",
       "      <td>2</td>\n",
       "    </tr>\n",
       "    <tr>\n",
       "      <th>XII</th>\n",
       "      <td>25.12</td>\n",
       "      <td>25.12</td>\n",
       "      <td>25.12</td>\n",
       "      <td>25.12</td>\n",
       "      <td>1</td>\n",
       "    </tr>\n",
       "    <tr>\n",
       "      <th>XIII</th>\n",
       "      <td>2.00</td>\n",
       "      <td>23.00</td>\n",
       "      <td>12.50</td>\n",
       "      <td>12.50</td>\n",
       "      <td>2</td>\n",
       "    </tr>\n",
       "  </tbody>\n",
       "</table>\n",
       "</div>"
      ],
      "text/plain": [
       "         min    max  mean  median  count\n",
       "Region                                  \n",
       "ARMM    4.88   4.88  4.88    4.88      1\n",
       "CAR     1.62  12.62  7.38    7.62      4\n",
       "I       1.38  39.38 26.62   32.88      4\n",
       "II      3.75  37.75 16.75    8.75      3\n",
       "III     6.50 125.50 40.17   28.00      6\n",
       "IV-A    8.00 123.00 39.50   13.50      4\n",
       "IV-B    2.00  45.00 14.25    5.00      4\n",
       "IX     17.00  17.00 17.00   17.00      1\n",
       "NCR     4.50   4.50  4.50    4.50      1\n",
       "V      12.75  42.75 32.75   42.75      3\n",
       "VI      7.62  76.62 27.38   12.62      4\n",
       "VII     2.00  38.00 14.00    8.00      4\n",
       "VIII    0.75 123.75 29.95    4.75      5\n",
       "X      17.00  32.00 24.50   24.50      2\n",
       "XI     11.50  13.50 12.50   12.50      2\n",
       "XII    25.12  25.12 25.12   25.12      1\n",
       "XIII    2.00  23.00 12.50   12.50      2"
      ]
     },
     "execution_count": 106,
     "metadata": {},
     "output_type": "execute_result"
    }
   ],
   "source": [
    "df_deg['Outlierness'] = df_deg['Degree'] - df_deg['Region'].map(upper_fence)\n",
    "deg_outlier = df_deg[df_deg['Outlierness'] > 0].groupby('Region')['Outlierness'].agg(['min', 'max', 'mean', 'median', 'count'])\n",
    "deg_outlier"
   ]
  },
  {
   "cell_type": "markdown",
   "metadata": {},
   "source": [
    "### Degree (RHU)"
   ]
  },
  {
   "cell_type": "code",
   "execution_count": 107,
   "metadata": {
    "ExecuteTime": {
     "end_time": "2020-08-10T19:04:10.845169Z",
     "start_time": "2020-08-10T19:04:10.841146Z"
    }
   },
   "outputs": [],
   "source": [
    "import seaborn as sns"
   ]
  },
  {
   "cell_type": "code",
   "execution_count": 108,
   "metadata": {
    "ExecuteTime": {
     "end_time": "2020-08-10T19:04:11.214150Z",
     "start_time": "2020-08-10T19:04:11.156304Z"
    }
   },
   "outputs": [],
   "source": [
    "region_deg = {}\n",
    "for region in nodes['REGION'].unique():\n",
    "    deg = list(dict(G.in_degree(nodes[(nodes['HF_TYPE']=='RURAL HEALTH UNIT') & (nodes['REGION']==region)]['SHORT_HFCODE'])).values())\n",
    "    region_deg[region] = deg"
   ]
  },
  {
   "cell_type": "code",
   "execution_count": 109,
   "metadata": {
    "ExecuteTime": {
     "end_time": "2020-08-10T19:04:11.477479Z",
     "start_time": "2020-08-10T19:04:11.471461Z"
    }
   },
   "outputs": [],
   "source": [
    "df_deg = pd.DataFrame(list(itertools.chain(*[list(zip(len(j) * [i], j)) for i, j in region_deg.items()]))).rename({0:'Region', 1:'Degree'}, axis=1)#.boxplot(by=0)"
   ]
  },
  {
   "cell_type": "code",
   "execution_count": 110,
   "metadata": {
    "ExecuteTime": {
     "end_time": "2020-08-10T19:04:11.731799Z",
     "start_time": "2020-08-10T19:04:11.726779Z"
    }
   },
   "outputs": [],
   "source": [
    "region_map = {'AUTONOMOUS REGION IN MUSLIM MINDANAO (ARMM)':'ARMM',\n",
    "       'CORDILLERA ADMINISTRA TIVE REGION (CAR)':'CAR',\n",
    "       'REGION IV-B (MIMAROPA)':'IV-B', 'NATIONAL CAPITAL REGION (NCR)':'NCR',\n",
    "       'REGION X (NORTHERN MINDANAO)':'X', 'REGION XI (DAVAO REGION)':'XI',\n",
    "       'REGION XII (SOCCSKSA RGEN)':'XII', 'REGION XIII (CARAGA)':'XIII',\n",
    "       'REGION I (ILOCOS REGION)':'I', 'REGION II (CAGAYAN VALLEY)':'II',\n",
    "       'REGION III (CENTRAL LUZON)':'III', 'REGION IV-A (CALABAR ZON)':'IV-A',\n",
    "       'REGION V (BICOL REGION)':'V', 'REGION VI (WESTERN VISAYAS)':'VI',\n",
    "       'REGION VII (CENTRAL VISAYAS)':'VII', 'REGION VIII (EASTERN VISAYAS)':'VIII',\n",
    "       'REGION IX (ZAMBOANGA PENINSULA)':'IX'}"
   ]
  },
  {
   "cell_type": "code",
   "execution_count": 111,
   "metadata": {
    "ExecuteTime": {
     "end_time": "2020-08-10T19:04:11.986085Z",
     "start_time": "2020-08-10T19:04:11.981100Z"
    }
   },
   "outputs": [],
   "source": [
    "df_deg['Region'] = df_deg['Region'].map(region_map)"
   ]
  },
  {
   "cell_type": "code",
   "execution_count": 112,
   "metadata": {
    "ExecuteTime": {
     "end_time": "2020-08-10T19:04:17.063478Z",
     "start_time": "2020-08-10T19:04:17.049516Z"
    }
   },
   "outputs": [
    {
     "data": {
      "text/html": [
       "<div>\n",
       "<style scoped>\n",
       "    .dataframe tbody tr th:only-of-type {\n",
       "        vertical-align: middle;\n",
       "    }\n",
       "\n",
       "    .dataframe tbody tr th {\n",
       "        vertical-align: top;\n",
       "    }\n",
       "\n",
       "    .dataframe thead th {\n",
       "        text-align: right;\n",
       "    }\n",
       "</style>\n",
       "<table border=\"1\" class=\"dataframe\">\n",
       "  <thead>\n",
       "    <tr style=\"text-align: right;\">\n",
       "      <th></th>\n",
       "      <th>max</th>\n",
       "      <th>mean</th>\n",
       "      <th>median</th>\n",
       "      <th>count</th>\n",
       "    </tr>\n",
       "    <tr>\n",
       "      <th>Region</th>\n",
       "      <th></th>\n",
       "      <th></th>\n",
       "      <th></th>\n",
       "      <th></th>\n",
       "    </tr>\n",
       "  </thead>\n",
       "  <tbody>\n",
       "    <tr>\n",
       "      <th>ARMM</th>\n",
       "      <td>8</td>\n",
       "      <td>0.13</td>\n",
       "      <td>0</td>\n",
       "      <td>75</td>\n",
       "    </tr>\n",
       "    <tr>\n",
       "      <th>CAR</th>\n",
       "      <td>13</td>\n",
       "      <td>0.40</td>\n",
       "      <td>0</td>\n",
       "      <td>96</td>\n",
       "    </tr>\n",
       "    <tr>\n",
       "      <th>I</th>\n",
       "      <td>13</td>\n",
       "      <td>0.35</td>\n",
       "      <td>0</td>\n",
       "      <td>144</td>\n",
       "    </tr>\n",
       "    <tr>\n",
       "      <th>II</th>\n",
       "      <td>5</td>\n",
       "      <td>0.24</td>\n",
       "      <td>0</td>\n",
       "      <td>82</td>\n",
       "    </tr>\n",
       "    <tr>\n",
       "      <th>III</th>\n",
       "      <td>15</td>\n",
       "      <td>0.15</td>\n",
       "      <td>0</td>\n",
       "      <td>260</td>\n",
       "    </tr>\n",
       "    <tr>\n",
       "      <th>IV-A</th>\n",
       "      <td>24</td>\n",
       "      <td>0.65</td>\n",
       "      <td>0</td>\n",
       "      <td>164</td>\n",
       "    </tr>\n",
       "    <tr>\n",
       "      <th>IV-B</th>\n",
       "      <td>6</td>\n",
       "      <td>0.38</td>\n",
       "      <td>0</td>\n",
       "      <td>79</td>\n",
       "    </tr>\n",
       "    <tr>\n",
       "      <th>IX</th>\n",
       "      <td>22</td>\n",
       "      <td>0.89</td>\n",
       "      <td>0</td>\n",
       "      <td>95</td>\n",
       "    </tr>\n",
       "    <tr>\n",
       "      <th>NCR</th>\n",
       "      <td>25</td>\n",
       "      <td>0.25</td>\n",
       "      <td>0</td>\n",
       "      <td>382</td>\n",
       "    </tr>\n",
       "    <tr>\n",
       "      <th>V</th>\n",
       "      <td>13</td>\n",
       "      <td>0.82</td>\n",
       "      <td>0</td>\n",
       "      <td>129</td>\n",
       "    </tr>\n",
       "    <tr>\n",
       "      <th>VI</th>\n",
       "      <td>11</td>\n",
       "      <td>0.56</td>\n",
       "      <td>0</td>\n",
       "      <td>141</td>\n",
       "    </tr>\n",
       "    <tr>\n",
       "      <th>VII</th>\n",
       "      <td>18</td>\n",
       "      <td>0.90</td>\n",
       "      <td>0</td>\n",
       "      <td>129</td>\n",
       "    </tr>\n",
       "    <tr>\n",
       "      <th>VIII</th>\n",
       "      <td>16</td>\n",
       "      <td>0.54</td>\n",
       "      <td>0</td>\n",
       "      <td>160</td>\n",
       "    </tr>\n",
       "    <tr>\n",
       "      <th>X</th>\n",
       "      <td>13</td>\n",
       "      <td>0.62</td>\n",
       "      <td>0</td>\n",
       "      <td>81</td>\n",
       "    </tr>\n",
       "    <tr>\n",
       "      <th>XI</th>\n",
       "      <td>11</td>\n",
       "      <td>0.44</td>\n",
       "      <td>0</td>\n",
       "      <td>54</td>\n",
       "    </tr>\n",
       "    <tr>\n",
       "      <th>XII</th>\n",
       "      <td>25</td>\n",
       "      <td>1.34</td>\n",
       "      <td>0</td>\n",
       "      <td>35</td>\n",
       "    </tr>\n",
       "    <tr>\n",
       "      <th>XIII</th>\n",
       "      <td>8</td>\n",
       "      <td>0.73</td>\n",
       "      <td>0</td>\n",
       "      <td>56</td>\n",
       "    </tr>\n",
       "  </tbody>\n",
       "</table>\n",
       "</div>"
      ],
      "text/plain": [
       "        max  mean  median  count\n",
       "Region                          \n",
       "ARMM      8  0.13       0     75\n",
       "CAR      13  0.40       0     96\n",
       "I        13  0.35       0    144\n",
       "II        5  0.24       0     82\n",
       "III      15  0.15       0    260\n",
       "IV-A     24  0.65       0    164\n",
       "IV-B      6  0.38       0     79\n",
       "IX       22  0.89       0     95\n",
       "NCR      25  0.25       0    382\n",
       "V        13  0.82       0    129\n",
       "VI       11  0.56       0    141\n",
       "VII      18  0.90       0    129\n",
       "VIII     16  0.54       0    160\n",
       "X        13  0.62       0     81\n",
       "XI       11  0.44       0     54\n",
       "XII      25  1.34       0     35\n",
       "XIII      8  0.73       0     56"
      ]
     },
     "execution_count": 112,
     "metadata": {},
     "output_type": "execute_result"
    }
   ],
   "source": [
    "(df_deg.groupby('Region')['Degree']\n",
    " .agg(['min', 'max', 'mean', 'median', 'count']).sort_values(by='Region')\n",
    " [['max', 'mean', 'median', 'count']])"
   ]
  },
  {
   "cell_type": "markdown",
   "metadata": {},
   "source": [
    "### Degree Outliers (RHU)"
   ]
  },
  {
   "cell_type": "code",
   "execution_count": 113,
   "metadata": {
    "ExecuteTime": {
     "end_time": "2020-08-10T19:04:18.537702Z",
     "start_time": "2020-08-10T19:04:18.529755Z"
    }
   },
   "outputs": [],
   "source": [
    "upper_fence = df_deg.groupby('Region')['Degree'].quantile(0.75) + 1.5 * (df_deg.groupby('Region')['Degree'].quantile(0.75) - df_deg.groupby('Region')['Degree'].quantile(0.25))"
   ]
  },
  {
   "cell_type": "code",
   "execution_count": 114,
   "metadata": {
    "ExecuteTime": {
     "end_time": "2020-08-10T19:04:18.848904Z",
     "start_time": "2020-08-10T19:04:18.838932Z"
    }
   },
   "outputs": [
    {
     "data": {
      "text/html": [
       "<div>\n",
       "<style scoped>\n",
       "    .dataframe tbody tr th:only-of-type {\n",
       "        vertical-align: middle;\n",
       "    }\n",
       "\n",
       "    .dataframe tbody tr th {\n",
       "        vertical-align: top;\n",
       "    }\n",
       "\n",
       "    .dataframe thead th {\n",
       "        text-align: right;\n",
       "    }\n",
       "</style>\n",
       "<table border=\"1\" class=\"dataframe\">\n",
       "  <thead>\n",
       "    <tr style=\"text-align: right;\">\n",
       "      <th></th>\n",
       "      <th>Region</th>\n",
       "      <th>Degree</th>\n",
       "    </tr>\n",
       "  </thead>\n",
       "  <tbody>\n",
       "    <tr>\n",
       "      <th>75</th>\n",
       "      <td>CAR</td>\n",
       "      <td>1</td>\n",
       "    </tr>\n",
       "    <tr>\n",
       "      <th>76</th>\n",
       "      <td>CAR</td>\n",
       "      <td>0</td>\n",
       "    </tr>\n",
       "    <tr>\n",
       "      <th>77</th>\n",
       "      <td>CAR</td>\n",
       "      <td>0</td>\n",
       "    </tr>\n",
       "    <tr>\n",
       "      <th>78</th>\n",
       "      <td>CAR</td>\n",
       "      <td>0</td>\n",
       "    </tr>\n",
       "    <tr>\n",
       "      <th>79</th>\n",
       "      <td>CAR</td>\n",
       "      <td>0</td>\n",
       "    </tr>\n",
       "    <tr>\n",
       "      <th>80</th>\n",
       "      <td>CAR</td>\n",
       "      <td>0</td>\n",
       "    </tr>\n",
       "    <tr>\n",
       "      <th>81</th>\n",
       "      <td>CAR</td>\n",
       "      <td>3</td>\n",
       "    </tr>\n",
       "    <tr>\n",
       "      <th>82</th>\n",
       "      <td>CAR</td>\n",
       "      <td>0</td>\n",
       "    </tr>\n",
       "    <tr>\n",
       "      <th>83</th>\n",
       "      <td>CAR</td>\n",
       "      <td>0</td>\n",
       "    </tr>\n",
       "    <tr>\n",
       "      <th>84</th>\n",
       "      <td>CAR</td>\n",
       "      <td>0</td>\n",
       "    </tr>\n",
       "    <tr>\n",
       "      <th>85</th>\n",
       "      <td>CAR</td>\n",
       "      <td>1</td>\n",
       "    </tr>\n",
       "    <tr>\n",
       "      <th>86</th>\n",
       "      <td>CAR</td>\n",
       "      <td>0</td>\n",
       "    </tr>\n",
       "    <tr>\n",
       "      <th>87</th>\n",
       "      <td>CAR</td>\n",
       "      <td>0</td>\n",
       "    </tr>\n",
       "    <tr>\n",
       "      <th>88</th>\n",
       "      <td>CAR</td>\n",
       "      <td>0</td>\n",
       "    </tr>\n",
       "    <tr>\n",
       "      <th>89</th>\n",
       "      <td>CAR</td>\n",
       "      <td>0</td>\n",
       "    </tr>\n",
       "    <tr>\n",
       "      <th>90</th>\n",
       "      <td>CAR</td>\n",
       "      <td>0</td>\n",
       "    </tr>\n",
       "    <tr>\n",
       "      <th>91</th>\n",
       "      <td>CAR</td>\n",
       "      <td>0</td>\n",
       "    </tr>\n",
       "    <tr>\n",
       "      <th>92</th>\n",
       "      <td>CAR</td>\n",
       "      <td>0</td>\n",
       "    </tr>\n",
       "    <tr>\n",
       "      <th>93</th>\n",
       "      <td>CAR</td>\n",
       "      <td>5</td>\n",
       "    </tr>\n",
       "    <tr>\n",
       "      <th>94</th>\n",
       "      <td>CAR</td>\n",
       "      <td>0</td>\n",
       "    </tr>\n",
       "    <tr>\n",
       "      <th>95</th>\n",
       "      <td>CAR</td>\n",
       "      <td>0</td>\n",
       "    </tr>\n",
       "    <tr>\n",
       "      <th>96</th>\n",
       "      <td>CAR</td>\n",
       "      <td>0</td>\n",
       "    </tr>\n",
       "    <tr>\n",
       "      <th>97</th>\n",
       "      <td>CAR</td>\n",
       "      <td>0</td>\n",
       "    </tr>\n",
       "    <tr>\n",
       "      <th>98</th>\n",
       "      <td>CAR</td>\n",
       "      <td>0</td>\n",
       "    </tr>\n",
       "    <tr>\n",
       "      <th>99</th>\n",
       "      <td>CAR</td>\n",
       "      <td>0</td>\n",
       "    </tr>\n",
       "    <tr>\n",
       "      <th>100</th>\n",
       "      <td>CAR</td>\n",
       "      <td>0</td>\n",
       "    </tr>\n",
       "    <tr>\n",
       "      <th>101</th>\n",
       "      <td>CAR</td>\n",
       "      <td>0</td>\n",
       "    </tr>\n",
       "    <tr>\n",
       "      <th>102</th>\n",
       "      <td>CAR</td>\n",
       "      <td>0</td>\n",
       "    </tr>\n",
       "    <tr>\n",
       "      <th>103</th>\n",
       "      <td>CAR</td>\n",
       "      <td>0</td>\n",
       "    </tr>\n",
       "    <tr>\n",
       "      <th>104</th>\n",
       "      <td>CAR</td>\n",
       "      <td>0</td>\n",
       "    </tr>\n",
       "    <tr>\n",
       "      <th>105</th>\n",
       "      <td>CAR</td>\n",
       "      <td>0</td>\n",
       "    </tr>\n",
       "    <tr>\n",
       "      <th>106</th>\n",
       "      <td>CAR</td>\n",
       "      <td>0</td>\n",
       "    </tr>\n",
       "    <tr>\n",
       "      <th>107</th>\n",
       "      <td>CAR</td>\n",
       "      <td>0</td>\n",
       "    </tr>\n",
       "    <tr>\n",
       "      <th>108</th>\n",
       "      <td>CAR</td>\n",
       "      <td>0</td>\n",
       "    </tr>\n",
       "    <tr>\n",
       "      <th>109</th>\n",
       "      <td>CAR</td>\n",
       "      <td>0</td>\n",
       "    </tr>\n",
       "    <tr>\n",
       "      <th>110</th>\n",
       "      <td>CAR</td>\n",
       "      <td>0</td>\n",
       "    </tr>\n",
       "    <tr>\n",
       "      <th>111</th>\n",
       "      <td>CAR</td>\n",
       "      <td>0</td>\n",
       "    </tr>\n",
       "    <tr>\n",
       "      <th>112</th>\n",
       "      <td>CAR</td>\n",
       "      <td>0</td>\n",
       "    </tr>\n",
       "    <tr>\n",
       "      <th>113</th>\n",
       "      <td>CAR</td>\n",
       "      <td>0</td>\n",
       "    </tr>\n",
       "    <tr>\n",
       "      <th>114</th>\n",
       "      <td>CAR</td>\n",
       "      <td>0</td>\n",
       "    </tr>\n",
       "    <tr>\n",
       "      <th>115</th>\n",
       "      <td>CAR</td>\n",
       "      <td>0</td>\n",
       "    </tr>\n",
       "    <tr>\n",
       "      <th>116</th>\n",
       "      <td>CAR</td>\n",
       "      <td>0</td>\n",
       "    </tr>\n",
       "    <tr>\n",
       "      <th>117</th>\n",
       "      <td>CAR</td>\n",
       "      <td>0</td>\n",
       "    </tr>\n",
       "    <tr>\n",
       "      <th>118</th>\n",
       "      <td>CAR</td>\n",
       "      <td>0</td>\n",
       "    </tr>\n",
       "    <tr>\n",
       "      <th>119</th>\n",
       "      <td>CAR</td>\n",
       "      <td>1</td>\n",
       "    </tr>\n",
       "    <tr>\n",
       "      <th>120</th>\n",
       "      <td>CAR</td>\n",
       "      <td>0</td>\n",
       "    </tr>\n",
       "    <tr>\n",
       "      <th>121</th>\n",
       "      <td>CAR</td>\n",
       "      <td>1</td>\n",
       "    </tr>\n",
       "    <tr>\n",
       "      <th>122</th>\n",
       "      <td>CAR</td>\n",
       "      <td>0</td>\n",
       "    </tr>\n",
       "    <tr>\n",
       "      <th>123</th>\n",
       "      <td>CAR</td>\n",
       "      <td>0</td>\n",
       "    </tr>\n",
       "    <tr>\n",
       "      <th>124</th>\n",
       "      <td>CAR</td>\n",
       "      <td>0</td>\n",
       "    </tr>\n",
       "    <tr>\n",
       "      <th>125</th>\n",
       "      <td>CAR</td>\n",
       "      <td>0</td>\n",
       "    </tr>\n",
       "    <tr>\n",
       "      <th>126</th>\n",
       "      <td>CAR</td>\n",
       "      <td>0</td>\n",
       "    </tr>\n",
       "    <tr>\n",
       "      <th>127</th>\n",
       "      <td>CAR</td>\n",
       "      <td>0</td>\n",
       "    </tr>\n",
       "    <tr>\n",
       "      <th>128</th>\n",
       "      <td>CAR</td>\n",
       "      <td>13</td>\n",
       "    </tr>\n",
       "    <tr>\n",
       "      <th>129</th>\n",
       "      <td>CAR</td>\n",
       "      <td>0</td>\n",
       "    </tr>\n",
       "    <tr>\n",
       "      <th>130</th>\n",
       "      <td>CAR</td>\n",
       "      <td>1</td>\n",
       "    </tr>\n",
       "    <tr>\n",
       "      <th>131</th>\n",
       "      <td>CAR</td>\n",
       "      <td>0</td>\n",
       "    </tr>\n",
       "    <tr>\n",
       "      <th>132</th>\n",
       "      <td>CAR</td>\n",
       "      <td>0</td>\n",
       "    </tr>\n",
       "    <tr>\n",
       "      <th>133</th>\n",
       "      <td>CAR</td>\n",
       "      <td>0</td>\n",
       "    </tr>\n",
       "    <tr>\n",
       "      <th>134</th>\n",
       "      <td>CAR</td>\n",
       "      <td>0</td>\n",
       "    </tr>\n",
       "    <tr>\n",
       "      <th>135</th>\n",
       "      <td>CAR</td>\n",
       "      <td>0</td>\n",
       "    </tr>\n",
       "    <tr>\n",
       "      <th>136</th>\n",
       "      <td>CAR</td>\n",
       "      <td>0</td>\n",
       "    </tr>\n",
       "    <tr>\n",
       "      <th>137</th>\n",
       "      <td>CAR</td>\n",
       "      <td>0</td>\n",
       "    </tr>\n",
       "    <tr>\n",
       "      <th>138</th>\n",
       "      <td>CAR</td>\n",
       "      <td>0</td>\n",
       "    </tr>\n",
       "    <tr>\n",
       "      <th>139</th>\n",
       "      <td>CAR</td>\n",
       "      <td>0</td>\n",
       "    </tr>\n",
       "    <tr>\n",
       "      <th>140</th>\n",
       "      <td>CAR</td>\n",
       "      <td>0</td>\n",
       "    </tr>\n",
       "    <tr>\n",
       "      <th>141</th>\n",
       "      <td>CAR</td>\n",
       "      <td>0</td>\n",
       "    </tr>\n",
       "    <tr>\n",
       "      <th>142</th>\n",
       "      <td>CAR</td>\n",
       "      <td>0</td>\n",
       "    </tr>\n",
       "    <tr>\n",
       "      <th>143</th>\n",
       "      <td>CAR</td>\n",
       "      <td>0</td>\n",
       "    </tr>\n",
       "    <tr>\n",
       "      <th>144</th>\n",
       "      <td>CAR</td>\n",
       "      <td>0</td>\n",
       "    </tr>\n",
       "    <tr>\n",
       "      <th>145</th>\n",
       "      <td>CAR</td>\n",
       "      <td>0</td>\n",
       "    </tr>\n",
       "    <tr>\n",
       "      <th>146</th>\n",
       "      <td>CAR</td>\n",
       "      <td>0</td>\n",
       "    </tr>\n",
       "    <tr>\n",
       "      <th>147</th>\n",
       "      <td>CAR</td>\n",
       "      <td>0</td>\n",
       "    </tr>\n",
       "    <tr>\n",
       "      <th>148</th>\n",
       "      <td>CAR</td>\n",
       "      <td>7</td>\n",
       "    </tr>\n",
       "    <tr>\n",
       "      <th>149</th>\n",
       "      <td>CAR</td>\n",
       "      <td>0</td>\n",
       "    </tr>\n",
       "    <tr>\n",
       "      <th>150</th>\n",
       "      <td>CAR</td>\n",
       "      <td>0</td>\n",
       "    </tr>\n",
       "    <tr>\n",
       "      <th>151</th>\n",
       "      <td>CAR</td>\n",
       "      <td>0</td>\n",
       "    </tr>\n",
       "    <tr>\n",
       "      <th>152</th>\n",
       "      <td>CAR</td>\n",
       "      <td>0</td>\n",
       "    </tr>\n",
       "    <tr>\n",
       "      <th>153</th>\n",
       "      <td>CAR</td>\n",
       "      <td>0</td>\n",
       "    </tr>\n",
       "    <tr>\n",
       "      <th>154</th>\n",
       "      <td>CAR</td>\n",
       "      <td>0</td>\n",
       "    </tr>\n",
       "    <tr>\n",
       "      <th>155</th>\n",
       "      <td>CAR</td>\n",
       "      <td>0</td>\n",
       "    </tr>\n",
       "    <tr>\n",
       "      <th>156</th>\n",
       "      <td>CAR</td>\n",
       "      <td>0</td>\n",
       "    </tr>\n",
       "    <tr>\n",
       "      <th>157</th>\n",
       "      <td>CAR</td>\n",
       "      <td>0</td>\n",
       "    </tr>\n",
       "    <tr>\n",
       "      <th>158</th>\n",
       "      <td>CAR</td>\n",
       "      <td>0</td>\n",
       "    </tr>\n",
       "    <tr>\n",
       "      <th>159</th>\n",
       "      <td>CAR</td>\n",
       "      <td>0</td>\n",
       "    </tr>\n",
       "    <tr>\n",
       "      <th>160</th>\n",
       "      <td>CAR</td>\n",
       "      <td>0</td>\n",
       "    </tr>\n",
       "    <tr>\n",
       "      <th>161</th>\n",
       "      <td>CAR</td>\n",
       "      <td>0</td>\n",
       "    </tr>\n",
       "    <tr>\n",
       "      <th>162</th>\n",
       "      <td>CAR</td>\n",
       "      <td>0</td>\n",
       "    </tr>\n",
       "    <tr>\n",
       "      <th>163</th>\n",
       "      <td>CAR</td>\n",
       "      <td>0</td>\n",
       "    </tr>\n",
       "    <tr>\n",
       "      <th>164</th>\n",
       "      <td>CAR</td>\n",
       "      <td>5</td>\n",
       "    </tr>\n",
       "    <tr>\n",
       "      <th>165</th>\n",
       "      <td>CAR</td>\n",
       "      <td>0</td>\n",
       "    </tr>\n",
       "    <tr>\n",
       "      <th>166</th>\n",
       "      <td>CAR</td>\n",
       "      <td>0</td>\n",
       "    </tr>\n",
       "    <tr>\n",
       "      <th>167</th>\n",
       "      <td>CAR</td>\n",
       "      <td>0</td>\n",
       "    </tr>\n",
       "    <tr>\n",
       "      <th>168</th>\n",
       "      <td>CAR</td>\n",
       "      <td>0</td>\n",
       "    </tr>\n",
       "    <tr>\n",
       "      <th>169</th>\n",
       "      <td>CAR</td>\n",
       "      <td>0</td>\n",
       "    </tr>\n",
       "    <tr>\n",
       "      <th>170</th>\n",
       "      <td>CAR</td>\n",
       "      <td>0</td>\n",
       "    </tr>\n",
       "  </tbody>\n",
       "</table>\n",
       "</div>"
      ],
      "text/plain": [
       "    Region  Degree\n",
       "75     CAR       1\n",
       "76     CAR       0\n",
       "77     CAR       0\n",
       "78     CAR       0\n",
       "79     CAR       0\n",
       "80     CAR       0\n",
       "81     CAR       3\n",
       "82     CAR       0\n",
       "83     CAR       0\n",
       "84     CAR       0\n",
       "85     CAR       1\n",
       "86     CAR       0\n",
       "87     CAR       0\n",
       "88     CAR       0\n",
       "89     CAR       0\n",
       "90     CAR       0\n",
       "91     CAR       0\n",
       "92     CAR       0\n",
       "93     CAR       5\n",
       "94     CAR       0\n",
       "95     CAR       0\n",
       "96     CAR       0\n",
       "97     CAR       0\n",
       "98     CAR       0\n",
       "99     CAR       0\n",
       "100    CAR       0\n",
       "101    CAR       0\n",
       "102    CAR       0\n",
       "103    CAR       0\n",
       "104    CAR       0\n",
       "105    CAR       0\n",
       "106    CAR       0\n",
       "107    CAR       0\n",
       "108    CAR       0\n",
       "109    CAR       0\n",
       "110    CAR       0\n",
       "111    CAR       0\n",
       "112    CAR       0\n",
       "113    CAR       0\n",
       "114    CAR       0\n",
       "115    CAR       0\n",
       "116    CAR       0\n",
       "117    CAR       0\n",
       "118    CAR       0\n",
       "119    CAR       1\n",
       "120    CAR       0\n",
       "121    CAR       1\n",
       "122    CAR       0\n",
       "123    CAR       0\n",
       "124    CAR       0\n",
       "125    CAR       0\n",
       "126    CAR       0\n",
       "127    CAR       0\n",
       "128    CAR      13\n",
       "129    CAR       0\n",
       "130    CAR       1\n",
       "131    CAR       0\n",
       "132    CAR       0\n",
       "133    CAR       0\n",
       "134    CAR       0\n",
       "135    CAR       0\n",
       "136    CAR       0\n",
       "137    CAR       0\n",
       "138    CAR       0\n",
       "139    CAR       0\n",
       "140    CAR       0\n",
       "141    CAR       0\n",
       "142    CAR       0\n",
       "143    CAR       0\n",
       "144    CAR       0\n",
       "145    CAR       0\n",
       "146    CAR       0\n",
       "147    CAR       0\n",
       "148    CAR       7\n",
       "149    CAR       0\n",
       "150    CAR       0\n",
       "151    CAR       0\n",
       "152    CAR       0\n",
       "153    CAR       0\n",
       "154    CAR       0\n",
       "155    CAR       0\n",
       "156    CAR       0\n",
       "157    CAR       0\n",
       "158    CAR       0\n",
       "159    CAR       0\n",
       "160    CAR       0\n",
       "161    CAR       0\n",
       "162    CAR       0\n",
       "163    CAR       0\n",
       "164    CAR       5\n",
       "165    CAR       0\n",
       "166    CAR       0\n",
       "167    CAR       0\n",
       "168    CAR       0\n",
       "169    CAR       0\n",
       "170    CAR       0"
      ]
     },
     "execution_count": 114,
     "metadata": {},
     "output_type": "execute_result"
    }
   ],
   "source": [
    "df_deg[df_deg['Region']=='CAR']"
   ]
  },
  {
   "cell_type": "code",
   "execution_count": 115,
   "metadata": {
    "ExecuteTime": {
     "end_time": "2020-08-10T19:04:19.407854Z",
     "start_time": "2020-08-10T19:04:19.096257Z"
    }
   },
   "outputs": [
    {
     "data": {
      "image/png": "[encoded data removed]",
      "text/plain": [
       "<Figure size 720x576 with 1 Axes>"
      ]
     },
     "metadata": {
      "needs_background": "light"
     },
     "output_type": "display_data"
    }
   ],
   "source": [
    "fig, ax = plt.subplots(figsize=(10,8))\n",
    "\n",
    "# fig = plt.figure()\n",
    "sns.boxplot(data=df_deg, x='Region', y='Degree', palette='Blues',\n",
    "            order=upper_fence.sort_values(ascending=False).index)\n",
    "labels = [l.get_text() for l in ax.get_xticklabels()]\n",
    "ax.set_xticklabels(labels, ha='right');"
   ]
  },
  {
   "cell_type": "code",
   "execution_count": 116,
   "metadata": {
    "ExecuteTime": {
     "end_time": "2020-08-10T19:04:19.666166Z",
     "start_time": "2020-08-10T19:04:19.656192Z"
    }
   },
   "outputs": [],
   "source": [
    "df_deg['Outlierness'] = df_deg['Degree'] - df_deg['Region'].map(upper_fence)\n",
    "deg_outlier_rhu = df_deg[df_deg['Outlierness'] > 0].groupby('Region')['Outlierness'].agg(['min', 'max', 'mean', 'median', 'count'])\n",
    "deg_outlier_rhu.loc['CAR'] = 0"
   ]
  },
  {
   "cell_type": "markdown",
   "metadata": {},
   "source": [
    "### Average path length"
   ]
  },
  {
   "cell_type": "code",
   "execution_count": 117,
   "metadata": {
    "ExecuteTime": {
     "end_time": "2020-08-10T19:04:38.783864Z",
     "start_time": "2020-08-10T19:04:38.758929Z"
    }
   },
   "outputs": [],
   "source": [
    "sp = list(nx.all_pairs_dijkstra_path_length(G, weight='DIST'))"
   ]
  },
  {
   "cell_type": "code",
   "execution_count": 118,
   "metadata": {
    "ExecuteTime": {
     "end_time": "2020-08-10T19:04:39.236762Z",
     "start_time": "2020-08-10T19:04:39.229782Z"
    }
   },
   "outputs": [],
   "source": [
    "sp = pd.DataFrame(sp).set_index(0)[1].to_dict()"
   ]
  },
  {
   "cell_type": "markdown",
   "metadata": {},
   "source": [
    "##### BHS -> RHU path"
   ]
  },
  {
   "cell_type": "code",
   "execution_count": 119,
   "metadata": {
    "ExecuteTime": {
     "end_time": "2020-08-10T19:04:39.982576Z",
     "start_time": "2020-08-10T19:04:39.661430Z"
    }
   },
   "outputs": [],
   "source": [
    "bhs_rhu_ave_sp = {}\n",
    "for rhu_node in rhu_nodes:\n",
    "    ave_sp = 0\n",
    "    N = 0\n",
    "    for bhs_node in bhs_nodes:\n",
    "        if sp.get(bhs_node) and sp.get(bhs_node, {}).get(rhu_node):\n",
    "            ave_sp += sp[bhs_node][rhu_node]\n",
    "            N += 1\n",
    "    if N:\n",
    "        ave_sp /= N\n",
    "        bhs_rhu_ave_sp[rhu_node] = ave_sp"
   ]
  },
  {
   "cell_type": "code",
   "execution_count": 120,
   "metadata": {
    "ExecuteTime": {
     "end_time": "2020-08-10T19:04:40.250826Z",
     "start_time": "2020-08-10T19:04:40.244860Z"
    }
   },
   "outputs": [],
   "source": [
    "df_bhs_rhu = pd.DataFrame(bhs_rhu_ave_sp.items(), columns=['HF_CODE', 'AVE_SPL'])\n",
    "df_bhs_rhu['REGION'] = df_bhs_rhu['HF_CODE'].map(nodes['REGION']).map(region_map)"
   ]
  },
  {
   "cell_type": "code",
   "execution_count": 121,
   "metadata": {
    "ExecuteTime": {
     "end_time": "2020-08-10T19:04:40.524816Z",
     "start_time": "2020-08-10T19:04:40.517835Z"
    }
   },
   "outputs": [],
   "source": [
    "bhs_rhu_spl = df_bhs_rhu.groupby('REGION')['AVE_SPL'].agg(['min', 'max', 'mean', 'median', 'count'])"
   ]
  },
  {
   "cell_type": "code",
   "execution_count": 122,
   "metadata": {
    "ExecuteTime": {
     "end_time": "2020-08-10T19:04:40.800080Z",
     "start_time": "2020-08-10T19:04:40.792102Z"
    }
   },
   "outputs": [
    {
     "data": {
      "text/html": [
       "<div>\n",
       "<style scoped>\n",
       "    .dataframe tbody tr th:only-of-type {\n",
       "        vertical-align: middle;\n",
       "    }\n",
       "\n",
       "    .dataframe tbody tr th {\n",
       "        vertical-align: top;\n",
       "    }\n",
       "\n",
       "    .dataframe thead th {\n",
       "        text-align: right;\n",
       "    }\n",
       "</style>\n",
       "<table border=\"1\" class=\"dataframe\">\n",
       "  <thead>\n",
       "    <tr style=\"text-align: right;\">\n",
       "      <th></th>\n",
       "      <th>min</th>\n",
       "      <th>max</th>\n",
       "      <th>mean</th>\n",
       "      <th>median</th>\n",
       "      <th>count</th>\n",
       "    </tr>\n",
       "    <tr>\n",
       "      <th>REGION</th>\n",
       "      <th></th>\n",
       "      <th></th>\n",
       "      <th></th>\n",
       "      <th></th>\n",
       "      <th></th>\n",
       "    </tr>\n",
       "  </thead>\n",
       "  <tbody>\n",
       "    <tr>\n",
       "      <th>ARMM</th>\n",
       "      <td>4.29</td>\n",
       "      <td>4.29</td>\n",
       "      <td>4.29</td>\n",
       "      <td>4.29</td>\n",
       "      <td>1</td>\n",
       "    </tr>\n",
       "    <tr>\n",
       "      <th>CAR</th>\n",
       "      <td>2.61</td>\n",
       "      <td>12.68</td>\n",
       "      <td>7.60</td>\n",
       "      <td>8.42</td>\n",
       "      <td>6</td>\n",
       "    </tr>\n",
       "    <tr>\n",
       "      <th>I</th>\n",
       "      <td>0.98</td>\n",
       "      <td>20.15</td>\n",
       "      <td>5.96</td>\n",
       "      <td>3.36</td>\n",
       "      <td>8</td>\n",
       "    </tr>\n",
       "    <tr>\n",
       "      <th>II</th>\n",
       "      <td>2.36</td>\n",
       "      <td>16.81</td>\n",
       "      <td>10.96</td>\n",
       "      <td>10.32</td>\n",
       "      <td>10</td>\n",
       "    </tr>\n",
       "    <tr>\n",
       "      <th>III</th>\n",
       "      <td>0.35</td>\n",
       "      <td>9.25</td>\n",
       "      <td>3.64</td>\n",
       "      <td>3.11</td>\n",
       "      <td>5</td>\n",
       "    </tr>\n",
       "    <tr>\n",
       "      <th>IV-A</th>\n",
       "      <td>0.83</td>\n",
       "      <td>15.99</td>\n",
       "      <td>4.22</td>\n",
       "      <td>4.24</td>\n",
       "      <td>15</td>\n",
       "    </tr>\n",
       "    <tr>\n",
       "      <th>IV-B</th>\n",
       "      <td>6.16</td>\n",
       "      <td>21.42</td>\n",
       "      <td>13.79</td>\n",
       "      <td>13.79</td>\n",
       "      <td>2</td>\n",
       "    </tr>\n",
       "    <tr>\n",
       "      <th>IX</th>\n",
       "      <td>3.83</td>\n",
       "      <td>42.95</td>\n",
       "      <td>16.33</td>\n",
       "      <td>8.21</td>\n",
       "      <td>6</td>\n",
       "    </tr>\n",
       "    <tr>\n",
       "      <th>NCR</th>\n",
       "      <td>1.52</td>\n",
       "      <td>83.05</td>\n",
       "      <td>53.08</td>\n",
       "      <td>63.88</td>\n",
       "      <td>4</td>\n",
       "    </tr>\n",
       "    <tr>\n",
       "      <th>V</th>\n",
       "      <td>1.22</td>\n",
       "      <td>57.83</td>\n",
       "      <td>16.51</td>\n",
       "      <td>7.84</td>\n",
       "      <td>14</td>\n",
       "    </tr>\n",
       "    <tr>\n",
       "      <th>VI</th>\n",
       "      <td>0.00</td>\n",
       "      <td>32.29</td>\n",
       "      <td>8.31</td>\n",
       "      <td>5.91</td>\n",
       "      <td>17</td>\n",
       "    </tr>\n",
       "    <tr>\n",
       "      <th>VII</th>\n",
       "      <td>0.37</td>\n",
       "      <td>12.33</td>\n",
       "      <td>4.32</td>\n",
       "      <td>3.99</td>\n",
       "      <td>21</td>\n",
       "    </tr>\n",
       "    <tr>\n",
       "      <th>VIII</th>\n",
       "      <td>0.00</td>\n",
       "      <td>49.12</td>\n",
       "      <td>13.45</td>\n",
       "      <td>5.65</td>\n",
       "      <td>10</td>\n",
       "    </tr>\n",
       "    <tr>\n",
       "      <th>X</th>\n",
       "      <td>3.17</td>\n",
       "      <td>22.97</td>\n",
       "      <td>9.34</td>\n",
       "      <td>7.30</td>\n",
       "      <td>9</td>\n",
       "    </tr>\n",
       "    <tr>\n",
       "      <th>XI</th>\n",
       "      <td>3.79</td>\n",
       "      <td>12.32</td>\n",
       "      <td>6.77</td>\n",
       "      <td>4.19</td>\n",
       "      <td>3</td>\n",
       "    </tr>\n",
       "    <tr>\n",
       "      <th>XII</th>\n",
       "      <td>4.33</td>\n",
       "      <td>33.07</td>\n",
       "      <td>10.53</td>\n",
       "      <td>5.78</td>\n",
       "      <td>6</td>\n",
       "    </tr>\n",
       "    <tr>\n",
       "      <th>XIII</th>\n",
       "      <td>0.65</td>\n",
       "      <td>24.45</td>\n",
       "      <td>7.07</td>\n",
       "      <td>5.99</td>\n",
       "      <td>13</td>\n",
       "    </tr>\n",
       "  </tbody>\n",
       "</table>\n",
       "</div>"
      ],
      "text/plain": [
       "        min   max  mean  median  count\n",
       "REGION                                \n",
       "ARMM   4.29  4.29  4.29    4.29      1\n",
       "CAR    2.61 12.68  7.60    8.42      6\n",
       "I      0.98 20.15  5.96    3.36      8\n",
       "II     2.36 16.81 10.96   10.32     10\n",
       "III    0.35  9.25  3.64    3.11      5\n",
       "IV-A   0.83 15.99  4.22    4.24     15\n",
       "IV-B   6.16 21.42 13.79   13.79      2\n",
       "IX     3.83 42.95 16.33    8.21      6\n",
       "NCR    1.52 83.05 53.08   63.88      4\n",
       "V      1.22 57.83 16.51    7.84     14\n",
       "VI     0.00 32.29  8.31    5.91     17\n",
       "VII    0.37 12.33  4.32    3.99     21\n",
       "VIII   0.00 49.12 13.45    5.65     10\n",
       "X      3.17 22.97  9.34    7.30      9\n",
       "XI     3.79 12.32  6.77    4.19      3\n",
       "XII    4.33 33.07 10.53    5.78      6\n",
       "XIII   0.65 24.45  7.07    5.99     13"
      ]
     },
     "execution_count": 122,
     "metadata": {},
     "output_type": "execute_result"
    }
   ],
   "source": [
    "bhs_rhu_spl"
   ]
  },
  {
   "cell_type": "markdown",
   "metadata": {},
   "source": [
    "##### Comparison with Degree Outliers"
   ]
  },
  {
   "cell_type": "code",
   "execution_count": 123,
   "metadata": {
    "ExecuteTime": {
     "end_time": "2020-08-10T19:04:41.216575Z",
     "start_time": "2020-08-10T19:04:41.065947Z"
    }
   },
   "outputs": [
    {
     "data": {
      "image/png": "[encoded data removed]",
      "text/plain": [
       "<Figure size 720x576 with 1 Axes>"
      ]
     },
     "metadata": {
      "needs_background": "light"
     },
     "output_type": "display_data"
    }
   ],
   "source": [
    "fig, ax = plt.subplots(figsize=(10,8))\n",
    "ax.plot(deg_outlier_rhu['mean'], bhs_rhu_spl['mean'], 'o', color='deepskyblue', \n",
    "        markersize='15')\n",
    "for i,j,k in zip(deg_outlier_rhu['mean'].values, bhs_rhu_spl['mean'].values, list(deg_outlier_rhu.index)):\n",
    "    ax.text(i,j,k, fontsize=14)\n",
    "ax.set_xlabel(\"Degree Outlierness (RHU)\", fontsize=14)\n",
    "ax.set_ylabel(\"Average shortest path length (BHS->RHU)\", fontsize=14);"
   ]
  },
  {
   "cell_type": "markdown",
   "metadata": {},
   "source": [
    "##### RHU -> HOSP path"
   ]
  },
  {
   "cell_type": "code",
   "execution_count": 124,
   "metadata": {
    "ExecuteTime": {
     "end_time": "2020-08-10T19:04:41.857972Z",
     "start_time": "2020-08-10T19:04:41.484827Z"
    }
   },
   "outputs": [],
   "source": [
    "rhu_hosp_ave_sp = {}\n",
    "for hosp_node in hosp_nodes:\n",
    "    ave_sp = 0\n",
    "    N = 0\n",
    "    for rhu_node in rhu_nodes:\n",
    "        if sp.get(rhu_node) and sp.get(rhu_node, {}).get(hosp_node):\n",
    "            ave_sp += sp[rhu_node][hosp_node]\n",
    "            N += 1\n",
    "    if N:\n",
    "        ave_sp /= N\n",
    "        rhu_hosp_ave_sp[hosp_node] = ave_sp"
   ]
  },
  {
   "cell_type": "code",
   "execution_count": 125,
   "metadata": {
    "ExecuteTime": {
     "end_time": "2020-08-10T19:04:42.131201Z",
     "start_time": "2020-08-10T19:04:42.125216Z"
    }
   },
   "outputs": [],
   "source": [
    "df_rhu_hosp = pd.DataFrame(rhu_hosp_ave_sp.items(), columns=['HF_CODE', 'AVE_SPL'])\n",
    "df_rhu_hosp['REGION'] = df_rhu_hosp['HF_CODE'].map(nodes['REGION']).map(region_map)"
   ]
  },
  {
   "cell_type": "code",
   "execution_count": 126,
   "metadata": {
    "ExecuteTime": {
     "end_time": "2020-08-10T19:04:42.417459Z",
     "start_time": "2020-08-10T19:04:42.406464Z"
    }
   },
   "outputs": [
    {
     "data": {
      "text/html": [
       "<div>\n",
       "<style scoped>\n",
       "    .dataframe tbody tr th:only-of-type {\n",
       "        vertical-align: middle;\n",
       "    }\n",
       "\n",
       "    .dataframe tbody tr th {\n",
       "        vertical-align: top;\n",
       "    }\n",
       "\n",
       "    .dataframe thead th {\n",
       "        text-align: right;\n",
       "    }\n",
       "</style>\n",
       "<table border=\"1\" class=\"dataframe\">\n",
       "  <thead>\n",
       "    <tr style=\"text-align: right;\">\n",
       "      <th></th>\n",
       "      <th>min</th>\n",
       "      <th>max</th>\n",
       "      <th>mean</th>\n",
       "      <th>median</th>\n",
       "      <th>count</th>\n",
       "    </tr>\n",
       "    <tr>\n",
       "      <th>REGION</th>\n",
       "      <th></th>\n",
       "      <th></th>\n",
       "      <th></th>\n",
       "      <th></th>\n",
       "      <th></th>\n",
       "    </tr>\n",
       "  </thead>\n",
       "  <tbody>\n",
       "    <tr>\n",
       "      <th>ARMM</th>\n",
       "      <td>13.96</td>\n",
       "      <td>41.71</td>\n",
       "      <td>27.51</td>\n",
       "      <td>25.55</td>\n",
       "      <td>18</td>\n",
       "    </tr>\n",
       "    <tr>\n",
       "      <th>CAR</th>\n",
       "      <td>6.52</td>\n",
       "      <td>30.51</td>\n",
       "      <td>15.63</td>\n",
       "      <td>14.41</td>\n",
       "      <td>35</td>\n",
       "    </tr>\n",
       "    <tr>\n",
       "      <th>I</th>\n",
       "      <td>5.73</td>\n",
       "      <td>32.67</td>\n",
       "      <td>16.12</td>\n",
       "      <td>12.81</td>\n",
       "      <td>36</td>\n",
       "    </tr>\n",
       "    <tr>\n",
       "      <th>II</th>\n",
       "      <td>0.22</td>\n",
       "      <td>43.62</td>\n",
       "      <td>18.39</td>\n",
       "      <td>14.65</td>\n",
       "      <td>32</td>\n",
       "    </tr>\n",
       "    <tr>\n",
       "      <th>III</th>\n",
       "      <td>3.53</td>\n",
       "      <td>33.86</td>\n",
       "      <td>12.97</td>\n",
       "      <td>10.79</td>\n",
       "      <td>57</td>\n",
       "    </tr>\n",
       "    <tr>\n",
       "      <th>IV-A</th>\n",
       "      <td>3.13</td>\n",
       "      <td>72.94</td>\n",
       "      <td>15.79</td>\n",
       "      <td>14.95</td>\n",
       "      <td>57</td>\n",
       "    </tr>\n",
       "    <tr>\n",
       "      <th>IV-B</th>\n",
       "      <td>5.94</td>\n",
       "      <td>54.63</td>\n",
       "      <td>27.00</td>\n",
       "      <td>25.51</td>\n",
       "      <td>27</td>\n",
       "    </tr>\n",
       "    <tr>\n",
       "      <th>IX</th>\n",
       "      <td>0.42</td>\n",
       "      <td>56.19</td>\n",
       "      <td>23.47</td>\n",
       "      <td>21.24</td>\n",
       "      <td>21</td>\n",
       "    </tr>\n",
       "    <tr>\n",
       "      <th>NCR</th>\n",
       "      <td>1.20</td>\n",
       "      <td>33.93</td>\n",
       "      <td>7.21</td>\n",
       "      <td>3.62</td>\n",
       "      <td>45</td>\n",
       "    </tr>\n",
       "    <tr>\n",
       "      <th>V</th>\n",
       "      <td>10.95</td>\n",
       "      <td>52.01</td>\n",
       "      <td>22.81</td>\n",
       "      <td>19.48</td>\n",
       "      <td>39</td>\n",
       "    </tr>\n",
       "    <tr>\n",
       "      <th>VI</th>\n",
       "      <td>7.50</td>\n",
       "      <td>40.18</td>\n",
       "      <td>16.84</td>\n",
       "      <td>15.35</td>\n",
       "      <td>47</td>\n",
       "    </tr>\n",
       "    <tr>\n",
       "      <th>VII</th>\n",
       "      <td>5.43</td>\n",
       "      <td>45.77</td>\n",
       "      <td>20.58</td>\n",
       "      <td>18.71</td>\n",
       "      <td>45</td>\n",
       "    </tr>\n",
       "    <tr>\n",
       "      <th>VIII</th>\n",
       "      <td>7.55</td>\n",
       "      <td>55.53</td>\n",
       "      <td>25.25</td>\n",
       "      <td>23.95</td>\n",
       "      <td>39</td>\n",
       "    </tr>\n",
       "    <tr>\n",
       "      <th>X</th>\n",
       "      <td>1.53</td>\n",
       "      <td>53.28</td>\n",
       "      <td>20.09</td>\n",
       "      <td>16.63</td>\n",
       "      <td>36</td>\n",
       "    </tr>\n",
       "    <tr>\n",
       "      <th>XI</th>\n",
       "      <td>7.14</td>\n",
       "      <td>48.44</td>\n",
       "      <td>26.17</td>\n",
       "      <td>23.32</td>\n",
       "      <td>21</td>\n",
       "    </tr>\n",
       "    <tr>\n",
       "      <th>XII</th>\n",
       "      <td>13.03</td>\n",
       "      <td>41.43</td>\n",
       "      <td>20.74</td>\n",
       "      <td>17.68</td>\n",
       "      <td>17</td>\n",
       "    </tr>\n",
       "    <tr>\n",
       "      <th>XIII</th>\n",
       "      <td>7.66</td>\n",
       "      <td>40.07</td>\n",
       "      <td>19.27</td>\n",
       "      <td>18.85</td>\n",
       "      <td>25</td>\n",
       "    </tr>\n",
       "  </tbody>\n",
       "</table>\n",
       "</div>"
      ],
      "text/plain": [
       "         min   max  mean  median  count\n",
       "REGION                                 \n",
       "ARMM   13.96 41.71 27.51   25.55     18\n",
       "CAR     6.52 30.51 15.63   14.41     35\n",
       "I       5.73 32.67 16.12   12.81     36\n",
       "II      0.22 43.62 18.39   14.65     32\n",
       "III     3.53 33.86 12.97   10.79     57\n",
       "IV-A    3.13 72.94 15.79   14.95     57\n",
       "IV-B    5.94 54.63 27.00   25.51     27\n",
       "IX      0.42 56.19 23.47   21.24     21\n",
       "NCR     1.20 33.93  7.21    3.62     45\n",
       "V      10.95 52.01 22.81   19.48     39\n",
       "VI      7.50 40.18 16.84   15.35     47\n",
       "VII     5.43 45.77 20.58   18.71     45\n",
       "VIII    7.55 55.53 25.25   23.95     39\n",
       "X       1.53 53.28 20.09   16.63     36\n",
       "XI      7.14 48.44 26.17   23.32     21\n",
       "XII    13.03 41.43 20.74   17.68     17\n",
       "XIII    7.66 40.07 19.27   18.85     25"
      ]
     },
     "execution_count": 126,
     "metadata": {},
     "output_type": "execute_result"
    }
   ],
   "source": [
    "rhu_hosp_spl = df_rhu_hosp.groupby('REGION')['AVE_SPL'].agg(['min', 'max', 'mean', 'median', 'count'])\n",
    "rhu_hosp_spl"
   ]
  },
  {
   "cell_type": "markdown",
   "metadata": {},
   "source": [
    "##### Comparison with Degree Outliers"
   ]
  },
  {
   "cell_type": "code",
   "execution_count": 127,
   "metadata": {
    "ExecuteTime": {
     "end_time": "2020-08-10T19:04:42.853315Z",
     "start_time": "2020-08-10T19:04:42.696689Z"
    }
   },
   "outputs": [
    {
     "data": {
      "image/png": "[encoded data removed]",
      "text/plain": [
       "<Figure size 720x576 with 1 Axes>"
      ]
     },
     "metadata": {
      "needs_background": "light"
     },
     "output_type": "display_data"
    }
   ],
   "source": [
    "fig, ax = plt.subplots(figsize=(10,8))\n",
    "ax.plot(deg_outlier['mean'], rhu_hosp_spl['mean'], 'o', color='deepskyblue', \n",
    "        markersize='15')\n",
    "for i,j,k in zip(deg_outlier['mean'].values, rhu_hosp_spl['mean'].values, \n",
    "                 list(deg_outlier.index)):\n",
    "    ax.text(i,j,k, fontsize=14)\n",
    "ax.set_xlabel(\"Degree Outlierness (Hosp)\", fontsize=14)\n",
    "ax.set_ylabel(\"Average shortest path length (RHU->Hosp)\", fontsize=14);\n",
    "\n",
    "#I changed the ylabel to RHU->Hosp"
   ]
  },
  {
   "cell_type": "markdown",
   "metadata": {},
   "source": [
    "##### BHS -> HOSP path"
   ]
  },
  {
   "cell_type": "code",
   "execution_count": 128,
   "metadata": {
    "ExecuteTime": {
     "end_time": "2020-08-10T19:04:44.210699Z",
     "start_time": "2020-08-10T19:04:44.111807Z"
    }
   },
   "outputs": [],
   "source": [
    "bhs_hosp_ave_sp = {}\n",
    "for hosp_node in hosp_nodes:\n",
    "    ave_sp = 0\n",
    "    N = 0\n",
    "    for bhs_node in bhs_nodes:\n",
    "        if sp.get(bhs_node) and sp.get(bhs_node, {}).get(hosp_node):\n",
    "            ave_sp += sp[bhs_node][hosp_node]\n",
    "            N += 1\n",
    "    if N:\n",
    "        ave_sp /= N\n",
    "        bhs_hosp_ave_sp[hosp_node] = ave_sp"
   ]
  },
  {
   "cell_type": "code",
   "execution_count": 129,
   "metadata": {
    "ExecuteTime": {
     "end_time": "2020-08-10T19:04:44.555621Z",
     "start_time": "2020-08-10T19:04:44.549637Z"
    }
   },
   "outputs": [],
   "source": [
    "df_bhs_hosp = pd.DataFrame(bhs_hosp_ave_sp.items(), columns=['HF_CODE', 'AVE_SPL'])\n",
    "df_bhs_hosp['REGION'] = df_bhs_hosp['HF_CODE'].map(nodes['REGION']).map(region_map)"
   ]
  },
  {
   "cell_type": "code",
   "execution_count": 130,
   "metadata": {
    "ExecuteTime": {
     "end_time": "2020-08-10T19:04:44.876762Z",
     "start_time": "2020-08-10T19:04:44.862799Z"
    }
   },
   "outputs": [
    {
     "data": {
      "text/html": [
       "<div>\n",
       "<style scoped>\n",
       "    .dataframe tbody tr th:only-of-type {\n",
       "        vertical-align: middle;\n",
       "    }\n",
       "\n",
       "    .dataframe tbody tr th {\n",
       "        vertical-align: top;\n",
       "    }\n",
       "\n",
       "    .dataframe thead th {\n",
       "        text-align: right;\n",
       "    }\n",
       "</style>\n",
       "<table border=\"1\" class=\"dataframe\">\n",
       "  <thead>\n",
       "    <tr style=\"text-align: right;\">\n",
       "      <th></th>\n",
       "      <th>min</th>\n",
       "      <th>max</th>\n",
       "      <th>mean</th>\n",
       "      <th>median</th>\n",
       "      <th>count</th>\n",
       "    </tr>\n",
       "    <tr>\n",
       "      <th>REGION</th>\n",
       "      <th></th>\n",
       "      <th></th>\n",
       "      <th></th>\n",
       "      <th></th>\n",
       "      <th></th>\n",
       "    </tr>\n",
       "  </thead>\n",
       "  <tbody>\n",
       "    <tr>\n",
       "      <th>ARMM</th>\n",
       "      <td>12.17</td>\n",
       "      <td>38.93</td>\n",
       "      <td>25.24</td>\n",
       "      <td>24.61</td>\n",
       "      <td>3</td>\n",
       "    </tr>\n",
       "    <tr>\n",
       "      <th>CAR</th>\n",
       "      <td>15.29</td>\n",
       "      <td>62.75</td>\n",
       "      <td>27.42</td>\n",
       "      <td>22.69</td>\n",
       "      <td>16</td>\n",
       "    </tr>\n",
       "    <tr>\n",
       "      <th>I</th>\n",
       "      <td>1.74</td>\n",
       "      <td>69.47</td>\n",
       "      <td>22.28</td>\n",
       "      <td>17.81</td>\n",
       "      <td>18</td>\n",
       "    </tr>\n",
       "    <tr>\n",
       "      <th>II</th>\n",
       "      <td>9.06</td>\n",
       "      <td>75.55</td>\n",
       "      <td>39.42</td>\n",
       "      <td>36.04</td>\n",
       "      <td>19</td>\n",
       "    </tr>\n",
       "    <tr>\n",
       "      <th>III</th>\n",
       "      <td>1.13</td>\n",
       "      <td>63.65</td>\n",
       "      <td>18.09</td>\n",
       "      <td>13.53</td>\n",
       "      <td>15</td>\n",
       "    </tr>\n",
       "    <tr>\n",
       "      <th>IV-A</th>\n",
       "      <td>1.45</td>\n",
       "      <td>49.21</td>\n",
       "      <td>18.65</td>\n",
       "      <td>17.41</td>\n",
       "      <td>25</td>\n",
       "    </tr>\n",
       "    <tr>\n",
       "      <th>IV-B</th>\n",
       "      <td>11.32</td>\n",
       "      <td>23.08</td>\n",
       "      <td>17.20</td>\n",
       "      <td>17.20</td>\n",
       "      <td>2</td>\n",
       "    </tr>\n",
       "    <tr>\n",
       "      <th>IX</th>\n",
       "      <td>10.07</td>\n",
       "      <td>52.89</td>\n",
       "      <td>33.75</td>\n",
       "      <td>39.08</td>\n",
       "      <td>9</td>\n",
       "    </tr>\n",
       "    <tr>\n",
       "      <th>NCR</th>\n",
       "      <td>3.09</td>\n",
       "      <td>86.34</td>\n",
       "      <td>53.10</td>\n",
       "      <td>65.95</td>\n",
       "      <td>10</td>\n",
       "    </tr>\n",
       "    <tr>\n",
       "      <th>V</th>\n",
       "      <td>16.30</td>\n",
       "      <td>63.85</td>\n",
       "      <td>35.28</td>\n",
       "      <td>31.63</td>\n",
       "      <td>18</td>\n",
       "    </tr>\n",
       "    <tr>\n",
       "      <th>VI</th>\n",
       "      <td>7.13</td>\n",
       "      <td>60.55</td>\n",
       "      <td>25.50</td>\n",
       "      <td>22.54</td>\n",
       "      <td>28</td>\n",
       "    </tr>\n",
       "    <tr>\n",
       "      <th>VII</th>\n",
       "      <td>2.91</td>\n",
       "      <td>64.14</td>\n",
       "      <td>20.35</td>\n",
       "      <td>20.19</td>\n",
       "      <td>27</td>\n",
       "    </tr>\n",
       "    <tr>\n",
       "      <th>VIII</th>\n",
       "      <td>13.70</td>\n",
       "      <td>73.88</td>\n",
       "      <td>38.24</td>\n",
       "      <td>35.28</td>\n",
       "      <td>17</td>\n",
       "    </tr>\n",
       "    <tr>\n",
       "      <th>X</th>\n",
       "      <td>15.62</td>\n",
       "      <td>41.22</td>\n",
       "      <td>25.33</td>\n",
       "      <td>21.74</td>\n",
       "      <td>14</td>\n",
       "    </tr>\n",
       "    <tr>\n",
       "      <th>XI</th>\n",
       "      <td>8.32</td>\n",
       "      <td>55.47</td>\n",
       "      <td>28.33</td>\n",
       "      <td>26.42</td>\n",
       "      <td>6</td>\n",
       "    </tr>\n",
       "    <tr>\n",
       "      <th>XII</th>\n",
       "      <td>10.54</td>\n",
       "      <td>41.89</td>\n",
       "      <td>26.88</td>\n",
       "      <td>25.69</td>\n",
       "      <td>7</td>\n",
       "    </tr>\n",
       "    <tr>\n",
       "      <th>XIII</th>\n",
       "      <td>7.16</td>\n",
       "      <td>44.44</td>\n",
       "      <td>23.76</td>\n",
       "      <td>22.36</td>\n",
       "      <td>18</td>\n",
       "    </tr>\n",
       "  </tbody>\n",
       "</table>\n",
       "</div>"
      ],
      "text/plain": [
       "         min   max  mean  median  count\n",
       "REGION                                 \n",
       "ARMM   12.17 38.93 25.24   24.61      3\n",
       "CAR    15.29 62.75 27.42   22.69     16\n",
       "I       1.74 69.47 22.28   17.81     18\n",
       "II      9.06 75.55 39.42   36.04     19\n",
       "III     1.13 63.65 18.09   13.53     15\n",
       "IV-A    1.45 49.21 18.65   17.41     25\n",
       "IV-B   11.32 23.08 17.20   17.20      2\n",
       "IX     10.07 52.89 33.75   39.08      9\n",
       "NCR     3.09 86.34 53.10   65.95     10\n",
       "V      16.30 63.85 35.28   31.63     18\n",
       "VI      7.13 60.55 25.50   22.54     28\n",
       "VII     2.91 64.14 20.35   20.19     27\n",
       "VIII   13.70 73.88 38.24   35.28     17\n",
       "X      15.62 41.22 25.33   21.74     14\n",
       "XI      8.32 55.47 28.33   26.42      6\n",
       "XII    10.54 41.89 26.88   25.69      7\n",
       "XIII    7.16 44.44 23.76   22.36     18"
      ]
     },
     "execution_count": 130,
     "metadata": {},
     "output_type": "execute_result"
    }
   ],
   "source": [
    "bhs_hosp_spl = df_bhs_hosp.groupby('REGION')['AVE_SPL'].agg(['min', 'max', 'mean', 'median', 'count'])\n",
    "bhs_hosp_spl"
   ]
  },
  {
   "cell_type": "markdown",
   "metadata": {},
   "source": [
    "##### Comparison with Degree Outliers"
   ]
  },
  {
   "cell_type": "code",
   "execution_count": 131,
   "metadata": {
    "ExecuteTime": {
     "end_time": "2020-08-10T19:04:45.321573Z",
     "start_time": "2020-08-10T19:04:45.166988Z"
    }
   },
   "outputs": [
    {
     "data": {
      "image/png": "[encoded data removed]",
      "text/plain": [
       "<Figure size 720x576 with 1 Axes>"
      ]
     },
     "metadata": {
      "needs_background": "light"
     },
     "output_type": "display_data"
    }
   ],
   "source": [
    "fig, ax = plt.subplots(figsize=(10,8))\n",
    "ax.plot(deg_outlier['mean'], bhs_hosp_spl['mean'], 'o', color='deepskyblue', \n",
    "        markersize='15')\n",
    "for i,j,k in zip(deg_outlier['mean'].values, bhs_hosp_spl['mean'].values, list(deg_outlier.index)):\n",
    "    ax.text(i,j,k, fontsize=14)\n",
    "ax.set_xlabel(\"Degree Outlierness (Hosp)\", fontsize=14)\n",
    "ax.set_ylabel(\"Average shortest path length (BHS->Hosp)\", fontsize=14);\n",
    "\n",
    "\n",
    "## I changed the ylabel to BHS -> Hosp"
   ]
  },
  {
   "cell_type": "markdown",
   "metadata": {},
   "source": [
    "## Simulations\n",
    "After characterizing the network, further analysis were performed by simulating what would happen to the network as higher percentages of the population enters the system. That is, the facilities that would overload are identified based on the bed capacity."
   ]
  },
  {
   "cell_type": "code",
   "execution_count": 132,
   "metadata": {
    "ExecuteTime": {
     "end_time": "2020-08-10T19:04:45.630747Z",
     "start_time": "2020-08-10T19:04:45.612795Z"
    }
   },
   "outputs": [
    {
     "data": {
      "text/html": [
       "<div>\n",
       "<style scoped>\n",
       "    .dataframe tbody tr th:only-of-type {\n",
       "        vertical-align: middle;\n",
       "    }\n",
       "\n",
       "    .dataframe tbody tr th {\n",
       "        vertical-align: top;\n",
       "    }\n",
       "\n",
       "    .dataframe thead th {\n",
       "        text-align: right;\n",
       "    }\n",
       "</style>\n",
       "<table border=\"1\" class=\"dataframe\">\n",
       "  <thead>\n",
       "    <tr style=\"text-align: right;\">\n",
       "      <th></th>\n",
       "      <th>count</th>\n",
       "      <th>mean</th>\n",
       "      <th>std</th>\n",
       "      <th>min</th>\n",
       "      <th>25%</th>\n",
       "      <th>50%</th>\n",
       "      <th>75%</th>\n",
       "      <th>max</th>\n",
       "    </tr>\n",
       "    <tr>\n",
       "      <th>HF_TYPE</th>\n",
       "      <th></th>\n",
       "      <th></th>\n",
       "      <th></th>\n",
       "      <th></th>\n",
       "      <th></th>\n",
       "      <th></th>\n",
       "      <th></th>\n",
       "      <th></th>\n",
       "    </tr>\n",
       "  </thead>\n",
       "  <tbody>\n",
       "    <tr>\n",
       "      <th>BARANGAY HEALTH STATION</th>\n",
       "      <td>17,435.00</td>\n",
       "      <td>3,800.18</td>\n",
       "      <td>6,013.85</td>\n",
       "      <td>0.00</td>\n",
       "      <td>1,302.00</td>\n",
       "      <td>2,444.00</td>\n",
       "      <td>4,408.50</td>\n",
       "      <td>123,708.00</td>\n",
       "    </tr>\n",
       "    <tr>\n",
       "      <th>HOSPITAL</th>\n",
       "      <td>0.00</td>\n",
       "      <td>nan</td>\n",
       "      <td>nan</td>\n",
       "      <td>nan</td>\n",
       "      <td>nan</td>\n",
       "      <td>nan</td>\n",
       "      <td>nan</td>\n",
       "      <td>nan</td>\n",
       "    </tr>\n",
       "    <tr>\n",
       "      <th>INFIRMARY</th>\n",
       "      <td>0.00</td>\n",
       "      <td>nan</td>\n",
       "      <td>nan</td>\n",
       "      <td>nan</td>\n",
       "      <td>nan</td>\n",
       "      <td>nan</td>\n",
       "      <td>nan</td>\n",
       "      <td>nan</td>\n",
       "    </tr>\n",
       "    <tr>\n",
       "      <th>RURAL HEALTH UNIT</th>\n",
       "      <td>2,172.00</td>\n",
       "      <td>38,663.14</td>\n",
       "      <td>44,947.38</td>\n",
       "      <td>0.00</td>\n",
       "      <td>16,981.75</td>\n",
       "      <td>30,224.00</td>\n",
       "      <td>46,929.25</td>\n",
       "      <td>903,309.00</td>\n",
       "    </tr>\n",
       "  </tbody>\n",
       "</table>\n",
       "</div>"
      ],
      "text/plain": [
       "                            count      mean       std  min       25%  \\\n",
       "HF_TYPE                                                                \n",
       "BARANGAY HEALTH STATION 17,435.00  3,800.18  6,013.85 0.00  1,302.00   \n",
       "HOSPITAL                     0.00       nan       nan  nan       nan   \n",
       "INFIRMARY                    0.00       nan       nan  nan       nan   \n",
       "RURAL HEALTH UNIT        2,172.00 38,663.14 44,947.38 0.00 16,981.75   \n",
       "\n",
       "                              50%       75%        max  \n",
       "HF_TYPE                                                 \n",
       "BARANGAY HEALTH STATION  2,444.00  4,408.50 123,708.00  \n",
       "HOSPITAL                      nan       nan        nan  \n",
       "INFIRMARY                     nan       nan        nan  \n",
       "RURAL HEALTH UNIT       30,224.00 46,929.25 903,309.00  "
      ]
     },
     "execution_count": 132,
     "metadata": {},
     "output_type": "execute_result"
    }
   ],
   "source": [
    "nodes.groupby('HF_TYPE')['CATCHMENT'].describe()"
   ]
  },
  {
   "cell_type": "code",
   "execution_count": 133,
   "metadata": {
    "ExecuteTime": {
     "end_time": "2020-08-10T19:04:45.927986Z",
     "start_time": "2020-08-10T19:04:45.918978Z"
    }
   },
   "outputs": [],
   "source": [
    "intake = nodes.loc[(nodes['HF_TYPE']=='RURAL HEALTH UNIT') | (nodes['HF_TYPE']=='BARANGAY HEALTH STATION'), ['REGION', 'CATCHMENT', 'HF_TYPE']]"
   ]
  },
  {
   "cell_type": "code",
   "execution_count": 134,
   "metadata": {
    "ExecuteTime": {
     "end_time": "2020-08-10T19:04:46.233177Z",
     "start_time": "2020-08-10T19:04:46.221211Z"
    }
   },
   "outputs": [
    {
     "data": {
      "text/html": [
       "<div>\n",
       "<style scoped>\n",
       "    .dataframe tbody tr th:only-of-type {\n",
       "        vertical-align: middle;\n",
       "    }\n",
       "\n",
       "    .dataframe tbody tr th {\n",
       "        vertical-align: top;\n",
       "    }\n",
       "\n",
       "    .dataframe thead th {\n",
       "        text-align: right;\n",
       "    }\n",
       "</style>\n",
       "<table border=\"1\" class=\"dataframe\">\n",
       "  <thead>\n",
       "    <tr style=\"text-align: right;\">\n",
       "      <th></th>\n",
       "      <th>mean</th>\n",
       "      <th>median</th>\n",
       "      <th>min</th>\n",
       "      <th>max</th>\n",
       "    </tr>\n",
       "    <tr>\n",
       "      <th>REGION</th>\n",
       "      <th></th>\n",
       "      <th></th>\n",
       "      <th></th>\n",
       "      <th></th>\n",
       "    </tr>\n",
       "  </thead>\n",
       "  <tbody>\n",
       "    <tr>\n",
       "      <th>AUTONOMOUS REGION IN MUSLIM MINDANAO (ARMM)</th>\n",
       "      <td>9,252.73</td>\n",
       "      <td>2,682.00</td>\n",
       "      <td>0.00</td>\n",
       "      <td>222,885.00</td>\n",
       "    </tr>\n",
       "    <tr>\n",
       "      <th>CORDILLERA ADMINISTRA TIVE REGION (CAR)</th>\n",
       "      <td>3,688.14</td>\n",
       "      <td>1,187.00</td>\n",
       "      <td>0.00</td>\n",
       "      <td>134,461.00</td>\n",
       "    </tr>\n",
       "    <tr>\n",
       "      <th>NATIONAL CAPITAL REGION (NCR)</th>\n",
       "      <td>30,745.29</td>\n",
       "      <td>25,084.00</td>\n",
       "      <td>0.00</td>\n",
       "      <td>290,977.00</td>\n",
       "    </tr>\n",
       "    <tr>\n",
       "      <th>REGION I (ILOCOS REGION)</th>\n",
       "      <td>6,133.94</td>\n",
       "      <td>2,556.00</td>\n",
       "      <td>0.00</td>\n",
       "      <td>204,135.00</td>\n",
       "    </tr>\n",
       "    <tr>\n",
       "      <th>REGION II (CAGAYAN VALLEY)</th>\n",
       "      <td>4,528.67</td>\n",
       "      <td>1,826.00</td>\n",
       "      <td>0.00</td>\n",
       "      <td>158,245.00</td>\n",
       "    </tr>\n",
       "    <tr>\n",
       "      <th>REGION III (CENTRAL LUZON)</th>\n",
       "      <td>9,866.27</td>\n",
       "      <td>3,700.50</td>\n",
       "      <td>0.00</td>\n",
       "      <td>260,691.00</td>\n",
       "    </tr>\n",
       "    <tr>\n",
       "      <th>REGION IV-A (CALABAR ZON)</th>\n",
       "      <td>9,040.42</td>\n",
       "      <td>3,122.50</td>\n",
       "      <td>0.00</td>\n",
       "      <td>463,727.00</td>\n",
       "    </tr>\n",
       "    <tr>\n",
       "      <th>REGION IV-B (MIMAROPA)</th>\n",
       "      <td>5,363.06</td>\n",
       "      <td>2,104.50</td>\n",
       "      <td>0.00</td>\n",
       "      <td>272,190.00</td>\n",
       "    </tr>\n",
       "    <tr>\n",
       "      <th>REGION IX (ZAMBOANGA PENINSULA)</th>\n",
       "      <td>9,427.20</td>\n",
       "      <td>3,773.50</td>\n",
       "      <td>0.00</td>\n",
       "      <td>903,309.00</td>\n",
       "    </tr>\n",
       "    <tr>\n",
       "      <th>REGION V (BICOL REGION)</th>\n",
       "      <td>7,685.29</td>\n",
       "      <td>3,480.50</td>\n",
       "      <td>0.00</td>\n",
       "      <td>210,047.00</td>\n",
       "    </tr>\n",
       "    <tr>\n",
       "      <th>REGION VI (WESTERN VISAYAS)</th>\n",
       "      <td>7,620.31</td>\n",
       "      <td>3,293.00</td>\n",
       "      <td>0.00</td>\n",
       "      <td>597,740.00</td>\n",
       "    </tr>\n",
       "    <tr>\n",
       "      <th>REGION VII (CENTRAL VISAYAS)</th>\n",
       "      <td>5,827.44</td>\n",
       "      <td>2,131.00</td>\n",
       "      <td>0.00</td>\n",
       "      <td>414,265.00</td>\n",
       "    </tr>\n",
       "    <tr>\n",
       "      <th>REGION VIII (EASTERN VISAYAS)</th>\n",
       "      <td>9,092.89</td>\n",
       "      <td>4,577.00</td>\n",
       "      <td>0.00</td>\n",
       "      <td>387,813.00</td>\n",
       "    </tr>\n",
       "    <tr>\n",
       "      <th>REGION X (NORTHERN MINDANAO)</th>\n",
       "      <td>6,047.59</td>\n",
       "      <td>2,369.00</td>\n",
       "      <td>0.00</td>\n",
       "      <td>197,890.00</td>\n",
       "    </tr>\n",
       "    <tr>\n",
       "      <th>REGION XI (DAVAO REGION)</th>\n",
       "      <td>5,155.10</td>\n",
       "      <td>1,818.50</td>\n",
       "      <td>0.00</td>\n",
       "      <td>175,935.00</td>\n",
       "    </tr>\n",
       "    <tr>\n",
       "      <th>REGION XII (SOCCSKSA RGEN)</th>\n",
       "      <td>8,722.27</td>\n",
       "      <td>2,168.00</td>\n",
       "      <td>0.00</td>\n",
       "      <td>453,585.00</td>\n",
       "    </tr>\n",
       "    <tr>\n",
       "      <th>REGION XIII (CARAGA)</th>\n",
       "      <td>7,212.89</td>\n",
       "      <td>2,530.00</td>\n",
       "      <td>0.00</td>\n",
       "      <td>137,527.00</td>\n",
       "    </tr>\n",
       "  </tbody>\n",
       "</table>\n",
       "</div>"
      ],
      "text/plain": [
       "                                                 mean    median  min  \\\n",
       "REGION                                                                 \n",
       "AUTONOMOUS REGION IN MUSLIM MINDANAO (ARMM)  9,252.73  2,682.00 0.00   \n",
       "CORDILLERA ADMINISTRA TIVE REGION (CAR)      3,688.14  1,187.00 0.00   \n",
       "NATIONAL CAPITAL REGION (NCR)               30,745.29 25,084.00 0.00   \n",
       "REGION I (ILOCOS REGION)                     6,133.94  2,556.00 0.00   \n",
       "REGION II (CAGAYAN VALLEY)                   4,528.67  1,826.00 0.00   \n",
       "REGION III (CENTRAL LUZON)                   9,866.27  3,700.50 0.00   \n",
       "REGION IV-A (CALABAR ZON)                    9,040.42  3,122.50 0.00   \n",
       "REGION IV-B (MIMAROPA)                       5,363.06  2,104.50 0.00   \n",
       "REGION IX (ZAMBOANGA PENINSULA)              9,427.20  3,773.50 0.00   \n",
       "REGION V (BICOL REGION)                      7,685.29  3,480.50 0.00   \n",
       "REGION VI (WESTERN VISAYAS)                  7,620.31  3,293.00 0.00   \n",
       "REGION VII (CENTRAL VISAYAS)                 5,827.44  2,131.00 0.00   \n",
       "REGION VIII (EASTERN VISAYAS)                9,092.89  4,577.00 0.00   \n",
       "REGION X (NORTHERN MINDANAO)                 6,047.59  2,369.00 0.00   \n",
       "REGION XI (DAVAO REGION)                     5,155.10  1,818.50 0.00   \n",
       "REGION XII (SOCCSKSA RGEN)                   8,722.27  2,168.00 0.00   \n",
       "REGION XIII (CARAGA)                         7,212.89  2,530.00 0.00   \n",
       "\n",
       "                                                   max  \n",
       "REGION                                                  \n",
       "AUTONOMOUS REGION IN MUSLIM MINDANAO (ARMM) 222,885.00  \n",
       "CORDILLERA ADMINISTRA TIVE REGION (CAR)     134,461.00  \n",
       "NATIONAL CAPITAL REGION (NCR)               290,977.00  \n",
       "REGION I (ILOCOS REGION)                    204,135.00  \n",
       "REGION II (CAGAYAN VALLEY)                  158,245.00  \n",
       "REGION III (CENTRAL LUZON)                  260,691.00  \n",
       "REGION IV-A (CALABAR ZON)                   463,727.00  \n",
       "REGION IV-B (MIMAROPA)                      272,190.00  \n",
       "REGION IX (ZAMBOANGA PENINSULA)             903,309.00  \n",
       "REGION V (BICOL REGION)                     210,047.00  \n",
       "REGION VI (WESTERN VISAYAS)                 597,740.00  \n",
       "REGION VII (CENTRAL VISAYAS)                414,265.00  \n",
       "REGION VIII (EASTERN VISAYAS)               387,813.00  \n",
       "REGION X (NORTHERN MINDANAO)                197,890.00  \n",
       "REGION XI (DAVAO REGION)                    175,935.00  \n",
       "REGION XII (SOCCSKSA RGEN)                  453,585.00  \n",
       "REGION XIII (CARAGA)                        137,527.00  "
      ]
     },
     "execution_count": 134,
     "metadata": {},
     "output_type": "execute_result"
    }
   ],
   "source": [
    "intake.groupby('REGION')['CATCHMENT'].agg(['mean','median', 'min', 'max'])"
   ]
  },
  {
   "cell_type": "code",
   "execution_count": 135,
   "metadata": {
    "ExecuteTime": {
     "end_time": "2020-08-10T19:04:46.531380Z",
     "start_time": "2020-08-10T19:04:46.523403Z"
    }
   },
   "outputs": [],
   "source": [
    "num_iter=1000\n",
    "#check changes in the system if 0.001% to 1% of population enters the HCPN;\n",
    "pop_prop = 0.00001\n",
    "hosp_zero_cap = nodes[((nodes['HF_TYPE']=='HOSPITAL') | (nodes['HF_TYPE']=='INFIRMARY')) & (nodes['BED_CAP']==0)].SHORT_HFCODE.values"
   ]
  },
  {
   "cell_type": "code",
   "execution_count": 136,
   "metadata": {
    "ExecuteTime": {
     "end_time": "2020-08-10T19:04:46.826593Z",
     "start_time": "2020-08-10T19:04:46.822603Z"
    }
   },
   "outputs": [
    {
     "data": {
      "text/plain": [
       "0"
      ]
     },
     "execution_count": 136,
     "metadata": {},
     "output_type": "execute_result"
    }
   ],
   "source": [
    "len(hosp_zero_cap)"
   ]
  },
  {
   "cell_type": "code",
   "execution_count": 55,
   "metadata": {
    "ExecuteTime": {
     "end_time": "2020-03-24T13:26:35.935534Z",
     "start_time": "2020-03-24T13:26:24.144049Z"
    }
   },
   "outputs": [
    {
     "data": {
      "text/plain": [
       "Text(0, 0.5, 'Percentage of isolated RHUs')"
      ]
     },
     "execution_count": 55,
     "metadata": {},
     "output_type": "execute_result"
    },
    {
     "data": {
      "image/png": "[encoded data removed]",
      "text/plain": [
       "<Figure size 648x432 with 2 Axes>"
      ]
     },
     "metadata": {
      "needs_background": "light"
     },
     "output_type": "display_data"
    }
   ],
   "source": [
    "fig, [ax1, ax2] = plt.subplots(1, 2, figsize=(9, 6))\n",
    "\n",
    "intake_t = intake['CATCHMENT'] * pop_prop\n",
    "df_isolates = pd.DataFrame()\n",
    "df_rem_hosps = pd.DataFrame()\n",
    "# ax2 = ax1.twinx()\n",
    "for region in ['NATIONAL CAPITAL REGION (NCR)', 'REGION VIII (EASTERN VISAYAS)']:\n",
    "    rhu_reg = nodes[(nodes['REGION']==region) & (nodes['HF_TYPE']=='RURAL HEALTH UNIT')]['SHORT_HFCODE']\n",
    "    hosp_reg = nodes[(nodes['REGION']==region) & ((nodes['HF_TYPE']=='HOSPITAL') | (nodes['HF_TYPE']=='INFIRMARY'))]['SHORT_HFCODE']\n",
    "    G_reg = G.subgraph(rhu_reg.tolist() + hosp_reg.tolist()).copy()\n",
    "    hosp_reg_connected = [i for i in hosp_reg if ((i not in nx.isolates(G_reg)) and (i not in hosp_zero_cap))]\n",
    "    remaining_hosps = [len(hosp_reg_connected)]\n",
    "    G_reg.remove_nodes_from(list(nx.isolates(G_reg)))\n",
    "    G_reg.remove_nodes_from(hosp_zero_cap)\n",
    "    num_isolates = [0]\n",
    "    remaining_hosp = [i for i, j in G_reg.nodes(data=True) if ((j['HF_TYPE']=='HOSPITAL') or (j['HF_TYPE']=='INFIRMARY'))]\n",
    "    # t=0\n",
    "    # while remaining_hosp:\n",
    "    for t in range(num_iter):\n",
    "        removed_hosps = []\n",
    "        for rhu in rhu_reg:\n",
    "            try:\n",
    "                N = len(list(G_reg.neighbors(rhu)))\n",
    "            except nx.NetworkXError:\n",
    "                continue\n",
    "            nearby_hosps = list(G_reg.neighbors(rhu))\n",
    "#             dist_sum = G_reg.out_degree(rhu, weight='DIST')\n",
    "            dist_sum = sum([G_reg[rhu][i]['DIST'] for i in nearby_hosps if G_reg[rhu][i]['DIST']==G_reg[rhu][i]['DIST']])\n",
    "            for hosp in nearby_hosps:\n",
    "                if len(nearby_hosps)==1:\n",
    "                    prob_hosp = 1\n",
    "                else:\n",
    "                    prob_hosp = (1 - G_reg[rhu][hosp]['DIST'] / dist_sum) if G_reg[rhu][hosp]['DIST']==G_reg[rhu][hosp]['DIST'] else 0\n",
    "                new_patient = intake_t[rhu] * prob_hosp if intake_t[rhu]==intake_t[rhu] else 0\n",
    "                add_one = 1 if random.random()<new_patient%1 else 0\n",
    "                if (G_reg.nodes()[hosp].get('patients', 0) + int(new_patient) + add_one) > G_reg.nodes()[hosp]['BED_CAP']:\n",
    "                    G_reg.remove_node(hosp)\n",
    "                    removed_hosps.append(hosp)\n",
    "                else:\n",
    "                    nx.set_node_attributes(G_reg, {hosp: G_reg.nodes()[hosp].get('patients', 0) + int(new_patient) + add_one}, 'patients')\n",
    "        remaining_hosp = [i for i, j in G_reg.nodes(data=True) if ((j['HF_TYPE']=='HOSPITAL') or (j['HF_TYPE']=='INFIRMARY'))]\n",
    "        remaining_hosps.append(len(remaining_hosp))\n",
    "        num_isolates.append(len(list(nx.isolates(G_reg))))\n",
    "    #     print(t, removed_hosps)\n",
    "    df_rem_hosps.loc[region, \"0.05%\"] = remaining_hosps[np.where(pop_prop * np.arange(num_iter+1)==0.0005)[0][0]] / remaining_hosps[0]\n",
    "    df_rem_hosps.loc[region, \"0.5%\"] = remaining_hosps[np.where(pop_prop * np.arange(num_iter+1)==0.005)[0][0]] / remaining_hosps[0]\n",
    "    df_isolates.loc[region, \"0.05%\"] = num_isolates[np.where(pop_prop * np.arange(num_iter+1)==0.0005)[0][0]] / num_isolates[-1]\n",
    "    df_isolates.loc[region, \"0.5%\"] = num_isolates[np.where(pop_prop * np.arange(num_iter+1)==0.005)[0][0]] / num_isolates[-1]\n",
    "    \n",
    "#     print(\"At 0.05%, remaining hosps are\", remaining_hosps[np.where(pop_prop * np.arange(num_iter+1)==0.0005)[0][0]] / remaining_hosps[0], region)\n",
    "#     print(\"At 0.5%, remaining hosps are\", remaining_hosps[np.where(pop_prop * np.arange(num_iter+1)==0.005)[0][0]] / remaining_hosps[0], region)\n",
    "#     print(\"At 0.05%, the isolated RHUs are\", num_isolates[np.where(pop_prop * np.arange(num_iter+1)==0.0005)[0][0]] / num_isolates[-1], region)\n",
    "#     print(\"At 0.5%, the isolated RHUs are\", num_isolates[np.where(pop_prop * np.arange(num_iter+1)==0.005)[0][0]] / num_isolates[-1], region)\n",
    "    ax1.plot(pop_prop * np.arange(num_iter+1), [i/remaining_hosps[0] for i in remaining_hosps], label=region)\n",
    "    ax2.plot(pop_prop * np.arange(num_iter+1), [i/num_isolates[-1] for i in num_isolates])\n",
    "fig.legend()\n",
    "ax1.set_xlabel('Percent of population in HCPN')\n",
    "ax2.set_xlabel('Percent of population in HCPN')\n",
    "\n",
    "ax1.set_xticklabels(['-0.2%', '0.0%', '0.2%', '0.4%', '0.6%', '0.8%', '1.0%'])\n",
    "ax2.set_xticklabels(['-0.2%', '0.0%', '0.2%', '0.4%', '0.6%', '0.8%', '1.0%'])\n",
    "ax1.set_ylabel('Percentage of remaining hospitals')\n",
    "ax2.set_ylabel('Percentage of isolated RHUs')\n",
    "    #     t+=1\n",
    "    #     break"
   ]
  },
  {
   "cell_type": "code",
   "execution_count": 138,
   "metadata": {
    "ExecuteTime": {
     "end_time": "2020-08-10T19:05:51.050154Z",
     "start_time": "2020-08-10T19:05:14.246808Z"
    }
   },
   "outputs": [
    {
     "data": {
      "text/plain": [
       "Text(0, 0.5, 'Percentage of isolated RHUs')"
      ]
     },
     "execution_count": 138,
     "metadata": {},
     "output_type": "execute_result"
    },
    {
     "data": {
      "image/png": "[encoded data removed]",
      "text/plain": [
       "<Figure size 648x432 with 2 Axes>"
      ]
     },
     "metadata": {
      "needs_background": "light"
     },
     "output_type": "display_data"
    }
   ],
   "source": [
    "fig, [ax1, ax2] = plt.subplots(1, 2, figsize=(9, 6))\n",
    "\n",
    "intake_t = intake['CATCHMENT'] * pop_prop\n",
    "df_isolates = pd.DataFrame()\n",
    "df_rem_hosps = pd.DataFrame()\n",
    "# ax2 = ax1.twinx()\n",
    "for region in nodes['REGION'].unique():\n",
    "    rhu_reg = nodes[(nodes['REGION']==region) & (nodes['HF_TYPE']=='RURAL HEALTH UNIT')]['SHORT_HFCODE']\n",
    "    hosp_reg = nodes[(nodes['REGION']==region) & ((nodes['HF_TYPE']=='HOSPITAL') | (nodes['HF_TYPE']=='INFIRMARY'))]['SHORT_HFCODE']\n",
    "    G_reg = G.subgraph(rhu_reg.tolist() + hosp_reg.tolist()).copy()\n",
    "    hosp_reg_connected = [i for i in hosp_reg if ((i not in nx.isolates(G_reg)) and (i not in hosp_zero_cap))]\n",
    "    remaining_hosps = [len(hosp_reg_connected)]\n",
    "    G_reg.remove_nodes_from(list(nx.isolates(G_reg)))\n",
    "    G_reg.remove_nodes_from(hosp_zero_cap)\n",
    "    num_isolates = [0]\n",
    "    remaining_hosp = [i for i, j in G_reg.nodes(data=True) if ((j['HF_TYPE']=='HOSPITAL') or (j['HF_TYPE']=='INFIRMARY'))]\n",
    "    # t=0\n",
    "    # while remaining_hosp:\n",
    "    for t in range(num_iter):\n",
    "        removed_hosps = []\n",
    "        for rhu in rhu_reg:\n",
    "            try:\n",
    "                N = len(list(G_reg.neighbors(rhu)))\n",
    "            except nx.NetworkXError:\n",
    "                continue\n",
    "            nearby_hosps = list(G_reg.neighbors(rhu))\n",
    "#             dist_sum = G_reg.out_degree(rhu, weight='DIST')\n",
    "            dist_sum = sum([G_reg[rhu][i]['DIST'] for i in nearby_hosps if G_reg[rhu][i]['DIST']==G_reg[rhu][i]['DIST']])\n",
    "            for hosp in nearby_hosps:\n",
    "                if len(nearby_hosps)==1:\n",
    "                    prob_hosp = 1\n",
    "                else:\n",
    "                    prob_hosp = (1 - G_reg[rhu][hosp]['DIST'] / dist_sum) if G_reg[rhu][hosp]['DIST']==G_reg[rhu][hosp]['DIST'] else 0\n",
    "                new_patient = intake_t[rhu] * prob_hosp if intake_t[rhu]==intake_t[rhu] else 0\n",
    "                add_one = 1 if random.random()<new_patient%1 else 0\n",
    "                if (G_reg.nodes()[hosp].get('patients', 0) + int(new_patient) + add_one) > G_reg.nodes()[hosp]['BED_CAP']:\n",
    "                    G_reg.remove_node(hosp)\n",
    "                    removed_hosps.append(hosp)\n",
    "                else:\n",
    "                    nx.set_node_attributes(G_reg, {hosp: G_reg.nodes()[hosp].get('patients', 0) + int(new_patient) + add_one}, 'patients')\n",
    "        remaining_hosp = [i for i, j in G_reg.nodes(data=True) if ((j['HF_TYPE']=='HOSPITAL') or (j['HF_TYPE']=='INFIRMARY'))]\n",
    "        remaining_hosps.append(len(remaining_hosp))\n",
    "        num_isolates.append(len(list(nx.isolates(G_reg))))\n",
    "    #     print(t, removed_hosps)\n",
    "    df_rem_hosps.loc[region, \"0.05%\"] = remaining_hosps[np.where(pop_prop * np.arange(num_iter+1)==0.0005)[0][0]] / remaining_hosps[0]\n",
    "    df_rem_hosps.loc[region, \"0.5%\"] = remaining_hosps[np.where(pop_prop * np.arange(num_iter+1)==0.005)[0][0]] / remaining_hosps[0]\n",
    "    df_isolates.loc[region, \"0.05%\"] = num_isolates[np.where(pop_prop * np.arange(num_iter+1)==0.0005)[0][0]] / num_isolates[-1]\n",
    "    df_isolates.loc[region, \"0.5%\"] = num_isolates[np.where(pop_prop * np.arange(num_iter+1)==0.005)[0][0]] / num_isolates[-1]\n",
    "    \n",
    "#     print(\"At 0.05%, remaining hosps are\", remaining_hosps[np.where(pop_prop * np.arange(num_iter+1)==0.0005)[0][0]] / remaining_hosps[0], region)\n",
    "#     print(\"At 0.5%, remaining hosps are\", remaining_hosps[np.where(pop_prop * np.arange(num_iter+1)==0.005)[0][0]] / remaining_hosps[0], region)\n",
    "#     print(\"At 0.05%, the isolated RHUs are\", num_isolates[np.where(pop_prop * np.arange(num_iter+1)==0.0005)[0][0]] / num_isolates[-1], region)\n",
    "#     print(\"At 0.5%, the isolated RHUs are\", num_isolates[np.where(pop_prop * np.arange(num_iter+1)==0.005)[0][0]] / num_isolates[-1], region)\n",
    "    ax1.plot(pop_prop * np.arange(num_iter+1), [i/remaining_hosps[0] for i in remaining_hosps], label=region)\n",
    "    ax2.plot(pop_prop * np.arange(num_iter+1), [i/num_isolates[-1] for i in num_isolates])\n",
    "fig.legend()\n",
    "ax1.set_xlabel('Percent of population in HCPN')\n",
    "ax2.set_xlabel('Percent of population in HCPN')\n",
    "\n",
    "ax1.set_xticklabels(['-0.2%', '0.0%', '0.2%', '0.4%', '0.6%', '0.8%', '1.0%'])\n",
    "ax2.set_xticklabels(['-0.2%', '0.0%', '0.2%', '0.4%', '0.6%', '0.8%', '1.0%'])\n",
    "ax1.set_ylabel('Percentage of remaining hospitals')\n",
    "ax2.set_ylabel('Percentage of isolated RHUs')\n",
    "    #     t+=1\n",
    "    #     break"
   ]
  },
  {
   "cell_type": "code",
   "execution_count": 139,
   "metadata": {
    "ExecuteTime": {
     "end_time": "2020-08-10T19:05:51.334361Z",
     "start_time": "2020-08-10T19:05:51.326433Z"
    }
   },
   "outputs": [
    {
     "name": "stdout",
     "output_type": "stream",
     "text": [
      "Remaining hospitals\n"
     ]
    },
    {
     "data": {
      "text/html": [
       "<div>\n",
       "<style scoped>\n",
       "    .dataframe tbody tr th:only-of-type {\n",
       "        vertical-align: middle;\n",
       "    }\n",
       "\n",
       "    .dataframe tbody tr th {\n",
       "        vertical-align: top;\n",
       "    }\n",
       "\n",
       "    .dataframe thead th {\n",
       "        text-align: right;\n",
       "    }\n",
       "</style>\n",
       "<table border=\"1\" class=\"dataframe\">\n",
       "  <thead>\n",
       "    <tr style=\"text-align: right;\">\n",
       "      <th></th>\n",
       "      <th>0.05%</th>\n",
       "      <th>0.5%</th>\n",
       "    </tr>\n",
       "  </thead>\n",
       "  <tbody>\n",
       "    <tr>\n",
       "      <th>AUTONOMOUS REGION IN MUSLIM MINDANAO (ARMM)</th>\n",
       "      <td>22.22</td>\n",
       "      <td>0.00</td>\n",
       "    </tr>\n",
       "    <tr>\n",
       "      <th>CORDILLERA ADMINISTRA TIVE REGION (CAR)</th>\n",
       "      <td>38.89</td>\n",
       "      <td>2.78</td>\n",
       "    </tr>\n",
       "    <tr>\n",
       "      <th>REGION IV-B (MIMAROPA)</th>\n",
       "      <td>26.47</td>\n",
       "      <td>2.94</td>\n",
       "    </tr>\n",
       "    <tr>\n",
       "      <th>NATIONAL CAPITAL REGION (NCR)</th>\n",
       "      <td>27.08</td>\n",
       "      <td>8.33</td>\n",
       "    </tr>\n",
       "    <tr>\n",
       "      <th>REGION X (NORTHERN MINDANAO)</th>\n",
       "      <td>22.22</td>\n",
       "      <td>5.56</td>\n",
       "    </tr>\n",
       "    <tr>\n",
       "      <th>REGION XI (DAVAO REGION)</th>\n",
       "      <td>26.92</td>\n",
       "      <td>19.23</td>\n",
       "    </tr>\n",
       "    <tr>\n",
       "      <th>REGION XII (SOCCSKSA RGEN)</th>\n",
       "      <td>28.57</td>\n",
       "      <td>19.05</td>\n",
       "    </tr>\n",
       "    <tr>\n",
       "      <th>REGION XIII (CARAGA)</th>\n",
       "      <td>26.92</td>\n",
       "      <td>11.54</td>\n",
       "    </tr>\n",
       "    <tr>\n",
       "      <th>REGION I (ILOCOS REGION)</th>\n",
       "      <td>12.82</td>\n",
       "      <td>5.13</td>\n",
       "    </tr>\n",
       "    <tr>\n",
       "      <th>REGION II (CAGAYAN VALLEY)</th>\n",
       "      <td>8.11</td>\n",
       "      <td>0.00</td>\n",
       "    </tr>\n",
       "    <tr>\n",
       "      <th>REGION III (CENTRAL LUZON)</th>\n",
       "      <td>4.84</td>\n",
       "      <td>1.61</td>\n",
       "    </tr>\n",
       "    <tr>\n",
       "      <th>REGION IV-A (CALABAR ZON)</th>\n",
       "      <td>8.20</td>\n",
       "      <td>1.64</td>\n",
       "    </tr>\n",
       "    <tr>\n",
       "      <th>REGION V (BICOL REGION)</th>\n",
       "      <td>4.88</td>\n",
       "      <td>2.44</td>\n",
       "    </tr>\n",
       "    <tr>\n",
       "      <th>REGION VI (WESTERN VISAYAS)</th>\n",
       "      <td>6.00</td>\n",
       "      <td>2.00</td>\n",
       "    </tr>\n",
       "    <tr>\n",
       "      <th>REGION VII (CENTRAL VISAYAS)</th>\n",
       "      <td>10.42</td>\n",
       "      <td>4.17</td>\n",
       "    </tr>\n",
       "    <tr>\n",
       "      <th>REGION VIII (EASTERN VISAYAS)</th>\n",
       "      <td>12.82</td>\n",
       "      <td>5.13</td>\n",
       "    </tr>\n",
       "    <tr>\n",
       "      <th>REGION IX (ZAMBOANGA PENINSULA)</th>\n",
       "      <td>17.39</td>\n",
       "      <td>13.04</td>\n",
       "    </tr>\n",
       "  </tbody>\n",
       "</table>\n",
       "</div>"
      ],
      "text/plain": [
       "                                             0.05%  0.5%\n",
       "AUTONOMOUS REGION IN MUSLIM MINDANAO (ARMM)  22.22  0.00\n",
       "CORDILLERA ADMINISTRA TIVE REGION (CAR)      38.89  2.78\n",
       "REGION IV-B (MIMAROPA)                       26.47  2.94\n",
       "NATIONAL CAPITAL REGION (NCR)                27.08  8.33\n",
       "REGION X (NORTHERN MINDANAO)                 22.22  5.56\n",
       "REGION XI (DAVAO REGION)                     26.92 19.23\n",
       "REGION XII (SOCCSKSA RGEN)                   28.57 19.05\n",
       "REGION XIII (CARAGA)                         26.92 11.54\n",
       "REGION I (ILOCOS REGION)                     12.82  5.13\n",
       "REGION II (CAGAYAN VALLEY)                    8.11  0.00\n",
       "REGION III (CENTRAL LUZON)                    4.84  1.61\n",
       "REGION IV-A (CALABAR ZON)                     8.20  1.64\n",
       "REGION V (BICOL REGION)                       4.88  2.44\n",
       "REGION VI (WESTERN VISAYAS)                   6.00  2.00\n",
       "REGION VII (CENTRAL VISAYAS)                 10.42  4.17\n",
       "REGION VIII (EASTERN VISAYAS)                12.82  5.13\n",
       "REGION IX (ZAMBOANGA PENINSULA)              17.39 13.04"
      ]
     },
     "execution_count": 139,
     "metadata": {},
     "output_type": "execute_result"
    }
   ],
   "source": [
    "print(\"Remaining hospitals\")\n",
    "(df_rem_hosps*100)"
   ]
  },
  {
   "cell_type": "code",
   "execution_count": 140,
   "metadata": {
    "ExecuteTime": {
     "end_time": "2020-08-10T19:05:51.620595Z",
     "start_time": "2020-08-10T19:05:51.612689Z"
    }
   },
   "outputs": [
    {
     "name": "stdout",
     "output_type": "stream",
     "text": [
      "RHU isolates\n"
     ]
    },
    {
     "data": {
      "text/html": [
       "<div>\n",
       "<style scoped>\n",
       "    .dataframe tbody tr th:only-of-type {\n",
       "        vertical-align: middle;\n",
       "    }\n",
       "\n",
       "    .dataframe tbody tr th {\n",
       "        vertical-align: top;\n",
       "    }\n",
       "\n",
       "    .dataframe thead th {\n",
       "        text-align: right;\n",
       "    }\n",
       "</style>\n",
       "<table border=\"1\" class=\"dataframe\">\n",
       "  <thead>\n",
       "    <tr style=\"text-align: right;\">\n",
       "      <th></th>\n",
       "      <th>0.05%</th>\n",
       "      <th>0.5%</th>\n",
       "    </tr>\n",
       "  </thead>\n",
       "  <tbody>\n",
       "    <tr>\n",
       "      <th>AUTONOMOUS REGION IN MUSLIM MINDANAO (ARMM)</th>\n",
       "      <td>67.92</td>\n",
       "      <td>100.00</td>\n",
       "    </tr>\n",
       "    <tr>\n",
       "      <th>CORDILLERA ADMINISTRA TIVE REGION (CAR)</th>\n",
       "      <td>12.33</td>\n",
       "      <td>100.00</td>\n",
       "    </tr>\n",
       "    <tr>\n",
       "      <th>REGION IV-B (MIMAROPA)</th>\n",
       "      <td>58.70</td>\n",
       "      <td>100.00</td>\n",
       "    </tr>\n",
       "    <tr>\n",
       "      <th>NATIONAL CAPITAL REGION (NCR)</th>\n",
       "      <td>45.27</td>\n",
       "      <td>92.59</td>\n",
       "    </tr>\n",
       "    <tr>\n",
       "      <th>REGION X (NORTHERN MINDANAO)</th>\n",
       "      <td>52.63</td>\n",
       "      <td>100.00</td>\n",
       "    </tr>\n",
       "    <tr>\n",
       "      <th>REGION XI (DAVAO REGION)</th>\n",
       "      <td>10.53</td>\n",
       "      <td>100.00</td>\n",
       "    </tr>\n",
       "    <tr>\n",
       "      <th>REGION XII (SOCCSKSA RGEN)</th>\n",
       "      <td>46.67</td>\n",
       "      <td>100.00</td>\n",
       "    </tr>\n",
       "    <tr>\n",
       "      <th>REGION XIII (CARAGA)</th>\n",
       "      <td>68.57</td>\n",
       "      <td>100.00</td>\n",
       "    </tr>\n",
       "    <tr>\n",
       "      <th>REGION I (ILOCOS REGION)</th>\n",
       "      <td>96.12</td>\n",
       "      <td>100.00</td>\n",
       "    </tr>\n",
       "    <tr>\n",
       "      <th>REGION II (CAGAYAN VALLEY)</th>\n",
       "      <td>82.05</td>\n",
       "      <td>100.00</td>\n",
       "    </tr>\n",
       "    <tr>\n",
       "      <th>REGION III (CENTRAL LUZON)</th>\n",
       "      <td>94.42</td>\n",
       "      <td>100.00</td>\n",
       "    </tr>\n",
       "    <tr>\n",
       "      <th>REGION IV-A (CALABAR ZON)</th>\n",
       "      <td>91.11</td>\n",
       "      <td>100.00</td>\n",
       "    </tr>\n",
       "    <tr>\n",
       "      <th>REGION V (BICOL REGION)</th>\n",
       "      <td>82.35</td>\n",
       "      <td>100.00</td>\n",
       "    </tr>\n",
       "    <tr>\n",
       "      <th>REGION VI (WESTERN VISAYAS)</th>\n",
       "      <td>79.79</td>\n",
       "      <td>100.00</td>\n",
       "    </tr>\n",
       "    <tr>\n",
       "      <th>REGION VII (CENTRAL VISAYAS)</th>\n",
       "      <td>97.47</td>\n",
       "      <td>100.00</td>\n",
       "    </tr>\n",
       "    <tr>\n",
       "      <th>REGION VIII (EASTERN VISAYAS)</th>\n",
       "      <td>92.59</td>\n",
       "      <td>100.00</td>\n",
       "    </tr>\n",
       "    <tr>\n",
       "      <th>REGION IX (ZAMBOANGA PENINSULA)</th>\n",
       "      <td>100.00</td>\n",
       "      <td>100.00</td>\n",
       "    </tr>\n",
       "  </tbody>\n",
       "</table>\n",
       "</div>"
      ],
      "text/plain": [
       "                                             0.05%   0.5%\n",
       "AUTONOMOUS REGION IN MUSLIM MINDANAO (ARMM)  67.92 100.00\n",
       "CORDILLERA ADMINISTRA TIVE REGION (CAR)      12.33 100.00\n",
       "REGION IV-B (MIMAROPA)                       58.70 100.00\n",
       "NATIONAL CAPITAL REGION (NCR)                45.27  92.59\n",
       "REGION X (NORTHERN MINDANAO)                 52.63 100.00\n",
       "REGION XI (DAVAO REGION)                     10.53 100.00\n",
       "REGION XII (SOCCSKSA RGEN)                   46.67 100.00\n",
       "REGION XIII (CARAGA)                         68.57 100.00\n",
       "REGION I (ILOCOS REGION)                     96.12 100.00\n",
       "REGION II (CAGAYAN VALLEY)                   82.05 100.00\n",
       "REGION III (CENTRAL LUZON)                   94.42 100.00\n",
       "REGION IV-A (CALABAR ZON)                    91.11 100.00\n",
       "REGION V (BICOL REGION)                      82.35 100.00\n",
       "REGION VI (WESTERN VISAYAS)                  79.79 100.00\n",
       "REGION VII (CENTRAL VISAYAS)                 97.47 100.00\n",
       "REGION VIII (EASTERN VISAYAS)                92.59 100.00\n",
       "REGION IX (ZAMBOANGA PENINSULA)             100.00 100.00"
      ]
     },
     "execution_count": 140,
     "metadata": {},
     "output_type": "execute_result"
    }
   ],
   "source": [
    "print(\"RHU isolates\")\n",
    "(df_isolates*100)"
   ]
  }
 ],
 "metadata": {
  "kernelspec": {
   "display_name": "Python 3",
   "language": "python",
   "name": "python3"
  },
  "language_info": {
   "codemirror_mode": {
    "name": "ipython",
    "version": 3
   },
   "file_extension": ".py",
   "mimetype": "text/x-python",
   "name": "python",
   "nbconvert_exporter": "python",
   "pygments_lexer": "ipython3",
   "version": "3.7.5"
  },
  "toc": {
   "base_numbering": 1,
   "nav_menu": {},
   "number_sections": false,
   "sideBar": true,
   "skip_h1_title": false,
   "title_cell": "Table of Contents",
   "title_sidebar": "Contents",
   "toc_cell": false,
   "toc_position": {},
   "toc_section_display": true,
   "toc_window_display": true
  },
  "varInspector": {
   "cols": {
    "lenName": 16,
    "lenType": 16,
    "lenVar": 40
   },
   "kernels_config": {
    "python": {
     "delete_cmd_postfix": "",
     "delete_cmd_prefix": "del ",
     "library": "var_list.py",
     "varRefreshCmd": "print(var_dic_list())"
    },
    "r": {
     "delete_cmd_postfix": ") ",
     "delete_cmd_prefix": "rm(",
     "library": "var_list.r",
     "varRefreshCmd": "cat(var_dic_list()) "
    }
   },
   "types_to_exclude": [
    "module",
    "function",
    "builtin_function_or_method",
    "instance",
    "_Feature"
   ],
   "window_display": false
  }
 },
 "nbformat": 4,
 "nbformat_minor": 2
}
